{
  "nbformat": 4,
  "nbformat_minor": 0,
  "metadata": {
    "colab": {
      "provenance": []
    },
    "kernelspec": {
      "name": "python3",
      "display_name": "Python 3"
    },
    "language_info": {
      "name": "python"
    }
  },
  "cells": [
    {
      "cell_type": "code",
      "source": [
        "pip install ucimlrepo"
      ],
      "metadata": {
        "colab": {
          "base_uri": "https://localhost:8080/"
        },
        "id": "YYtxTX4L7CiC",
        "outputId": "9e7bbd20-c4f5-4772-de5e-dcf22be94ea2"
      },
      "execution_count": null,
      "outputs": [
        {
          "output_type": "stream",
          "name": "stdout",
          "text": [
            "Collecting ucimlrepo\n",
            "  Downloading ucimlrepo-0.0.7-py3-none-any.whl.metadata (5.5 kB)\n",
            "Requirement already satisfied: pandas>=1.0.0 in /usr/local/lib/python3.11/dist-packages (from ucimlrepo) (2.2.2)\n",
            "Requirement already satisfied: certifi>=2020.12.5 in /usr/local/lib/python3.11/dist-packages (from ucimlrepo) (2025.1.31)\n",
            "Requirement already satisfied: numpy>=1.23.2 in /usr/local/lib/python3.11/dist-packages (from pandas>=1.0.0->ucimlrepo) (1.26.4)\n",
            "Requirement already satisfied: python-dateutil>=2.8.2 in /usr/local/lib/python3.11/dist-packages (from pandas>=1.0.0->ucimlrepo) (2.8.2)\n",
            "Requirement already satisfied: pytz>=2020.1 in /usr/local/lib/python3.11/dist-packages (from pandas>=1.0.0->ucimlrepo) (2025.1)\n",
            "Requirement already satisfied: tzdata>=2022.7 in /usr/local/lib/python3.11/dist-packages (from pandas>=1.0.0->ucimlrepo) (2025.1)\n",
            "Requirement already satisfied: six>=1.5 in /usr/local/lib/python3.11/dist-packages (from python-dateutil>=2.8.2->pandas>=1.0.0->ucimlrepo) (1.17.0)\n",
            "Downloading ucimlrepo-0.0.7-py3-none-any.whl (8.0 kB)\n",
            "Installing collected packages: ucimlrepo\n",
            "Successfully installed ucimlrepo-0.0.7\n"
          ]
        }
      ]
    },
    {
      "cell_type": "code",
      "source": [
        "import torch\n",
        "import torch.nn as nn\n",
        "import torch.optim as optim\n",
        "from torch.utils.data import DataLoader, TensorDataset\n",
        "from torch.utils.tensorboard import SummaryWriter\n",
        "from tqdm import tqdm\n",
        "from sklearn.datasets import load_breast_cancer, fetch_openml, fetch_california_housing, load_iris\n",
        "from sklearn.model_selection import train_test_split\n",
        "from sklearn.preprocessing import StandardScaler, LabelEncoder\n",
        "from sklearn.metrics import f1_score, precision_score, recall_score, roc_auc_score, mean_squared_error, r2_score\n",
        "import pandas as pd\n",
        "import numpy as np\n",
        "import copy\n",
        "import matplotlib.pyplot as plt\n",
        "from ucimlrepo import fetch_ucirepo\n",
        "import time\n",
        "\n",
        "#*********************************************************** MODELS ***********************************************************#\n",
        "\n",
        "# ===== LAYERS =====\n",
        "\n",
        "class linear_BE(nn.Module):\n",
        "    def __init__(self, in_features: int, out_features: int, k=32, dropout_rate=0.1, initialize_to_1=False):\n",
        "        super().__init__()\n",
        "        self.in_features = in_features\n",
        "        self.out_features = out_features\n",
        "        self.k = k\n",
        "\n",
        "        if initialize_to_1:  # For TabM\n",
        "            self.R = nn.Parameter(torch.ones(k, in_features))\n",
        "            self.S = nn.Parameter(torch.ones(k, out_features))\n",
        "        else:\n",
        "            # Paper generates randomly with +-1\n",
        "            self.R = nn.Parameter(torch.zeros((k, in_features)))\n",
        "            nn.init.uniform_(self.R, -1, 1)\n",
        "            self.S = nn.Parameter(torch.zeros((k, out_features)))\n",
        "            nn.init.uniform_(self.S, -1, 1)\n",
        "\n",
        "        self.W = nn.Parameter(torch.zeros((in_features, out_features)))\n",
        "        nn.init.uniform_(self.W, -1, 1)\n",
        "        self.B = nn.Parameter(torch.zeros((k, out_features)))\n",
        "        nn.init.uniform_(self.B, -1, 1)\n",
        "\n",
        "        self.relu = nn.ReLU()\n",
        "        self.dropout = nn.Dropout(dropout_rate)\n",
        "\n",
        "    def forward(self, X: torch.Tensor):\n",
        "        \"\"\"\n",
        "        Shapes:\n",
        "\n",
        "        X: (batch_size, k, in_features)\n",
        "        R: (k, in_features)\n",
        "        W: (in_features, out_features)\n",
        "        S: (k, out_features)\n",
        "        B: (k, out_features)\n",
        "        output: (batch_size, k, out_features)\n",
        "\n",
        "        Formula:\n",
        "        output = ( (X * R) W) * S + B\n",
        "        \"\"\"\n",
        "        output = X * self.R\n",
        "\n",
        "        output = torch.einsum(\"bki,io->bko\", output, self.W)\n",
        "        output = output * self.S + self.B\n",
        "        output = self.relu(output)\n",
        "        output = self.dropout(output)\n",
        "\n",
        "        return output\n",
        "\n",
        "    def extra_repr(self):\n",
        "        \"\"\"\n",
        "        Adds information about the layer to its string representation (useful when printing the model)\n",
        "        \"\"\"\n",
        "        return f\"in_features={self.in_features}, out_features={self.out_features}\"\n",
        "\n",
        "\n",
        "class MLP_layer(nn.Module):\n",
        "    def __init__(self, in_features: int, out_features: int, dropout_rate=0.1):\n",
        "        super().__init__()\n",
        "        self.in_features = in_features\n",
        "        self.out_features = out_features\n",
        "\n",
        "        self.linear = nn.Linear(in_features, out_features)\n",
        "        self.relu = nn.ReLU()\n",
        "        self.dropout = nn.Dropout(dropout_rate)\n",
        "\n",
        "    def forward(self, X: torch.Tensor):\n",
        "        output = self.linear(X)\n",
        "        output = self.relu(output)\n",
        "        output = self.dropout(output)\n",
        "\n",
        "        return output\n",
        "\n",
        "    def extra_repr(self):\n",
        "        return f\"in_features={self.in_features}, out_features={self.out_features}\"\n",
        "\n",
        "\n",
        "class MLPk_layer(nn.Module):\n",
        "    def __init__(self, in_features: int, out_features: int, k=32, dropout_rate=0.1):\n",
        "        super().__init__()\n",
        "        self.in_features = in_features\n",
        "        self.out_features = out_features\n",
        "\n",
        "        self.W = nn.Parameter(torch.zeros((k, in_features, out_features)))\n",
        "        nn.init.uniform_(self.W, -1, 1)\n",
        "        self.B = nn.Parameter(torch.zeros((k, out_features)))\n",
        "        nn.init.uniform_(self.B, -1, 1)\n",
        "\n",
        "        self.relu = nn.ReLU()\n",
        "        self.dropout = nn.Dropout(dropout_rate)\n",
        "\n",
        "    def forward(self, X: torch.Tensor):\n",
        "        \"\"\"\n",
        "        Shapes:\n",
        "\n",
        "        X: (batch_size, k, in_features)\n",
        "        W: (k, in_features, out_features)\n",
        "        B: (k, out_features)\n",
        "        output: (batch_size, k, out_features)\n",
        "\n",
        "        Formula:\n",
        "        output = X @ W + B\n",
        "        \"\"\"\n",
        "        output = torch.einsum(\"bki,kio->bko\", X, self.W)\n",
        "        output = output + self.B\n",
        "\n",
        "        output = self.relu(output)\n",
        "        output = self.dropout(output)\n",
        "\n",
        "        return output\n",
        "\n",
        "    def extra_repr(self):\n",
        "        return f\"in_features={self.in_features}, out_features={self.out_features}\"\n",
        "\n",
        "\n",
        "# ===== BACKBONES =====\n",
        "\n",
        "\n",
        "class TabM_naive(nn.Module):\n",
        "    def __init__(self, in_features: int, hidden_sizes: int, k=32, dropout_rate=0.1):\n",
        "        super().__init__()\n",
        "\n",
        "        self.in_features = in_features\n",
        "        self.hidden_sizes = hidden_sizes\n",
        "        self.k = k\n",
        "\n",
        "        layer_sizes = [in_features] + hidden_sizes\n",
        "\n",
        "        layers = [linear_BE(layer_sizes[i], layer_sizes[i+1], k, dropout_rate) for i in range(len(layer_sizes)-1)]\n",
        "\n",
        "        self.layers = nn.Sequential(*layers)\n",
        "\n",
        "    def forward(self, X: torch.Tensor):\n",
        "        return self.layers(X)\n",
        "\n",
        "\n",
        "class TabM_mini(nn.Module):\n",
        "    def __init__(self, in_features: int, hidden_sizes: int, k=32, dropout_rate=0.1):\n",
        "        super().__init__()\n",
        "\n",
        "        self.k = k\n",
        "\n",
        "        self.R = nn.Parameter(torch.randn(k, in_features))\n",
        "\n",
        "        layer_sizes = [in_features] + hidden_sizes\n",
        "\n",
        "        layers = [MLP_layer(layer_sizes[i], layer_sizes[i+1], dropout_rate) for i in range(len(layer_sizes)-1)]\n",
        "\n",
        "        self.layers = nn.Sequential(*layers)\n",
        "\n",
        "    def forward(self, X: torch.Tensor):\n",
        "        output = X * self.R\n",
        "        return self.layers(output)\n",
        "\n",
        "\n",
        "class TabM(nn.Module):\n",
        "    def __init__(self, in_features: int, hidden_sizes: int, k=32, dropout_rate=0.1):\n",
        "        super().__init__()\n",
        "\n",
        "        self.k = k\n",
        "\n",
        "        layer_sizes = [in_features] + hidden_sizes\n",
        "\n",
        "        layers = [linear_BE(layer_sizes[i], layer_sizes[i+1], k, dropout_rate, initialize_to_1=True) for i in range(len(layer_sizes)-1)]\n",
        "\n",
        "        self.layers = nn.Sequential(*layers)\n",
        "\n",
        "    def forward(self, X: torch.Tensor):\n",
        "        return self.layers(X)\n",
        "\n",
        "\n",
        "class MLPk(nn.Module):\n",
        "    def __init__(self, in_features: int, hidden_sizes: int, k=32, dropout_rate=0.1):\n",
        "        super().__init__()\n",
        "\n",
        "        layer_sizes = [in_features] + hidden_sizes\n",
        "\n",
        "        layers = [MLPk_layer(layer_sizes[i], layer_sizes[i+1], k, dropout_rate) for i in range(len(layer_sizes)-1)]\n",
        "\n",
        "        self.layers = nn.Sequential(*layers)\n",
        "\n",
        "    def forward(self, X: torch.Tensor):\n",
        "        return self.layers(X)\n",
        "\n",
        "# ===== MODELS =====\n",
        "\n",
        "\n",
        "class MLP(nn.Module):\n",
        "    \"\"\"\n",
        "    Simple MLP model\n",
        "    \"\"\"\n",
        "\n",
        "    def __init__(self, in_features: int, hidden_sizes: int, out_features: int, dropout_rate=0.1):\n",
        "        super().__init__()\n",
        "\n",
        "        self.in_features = in_features\n",
        "        self.out_features = out_features\n",
        "\n",
        "        layer_sizes = [in_features] + hidden_sizes + [out_features]\n",
        "\n",
        "        layers = [*[MLP_layer(layer_sizes[i], layer_sizes[i+1], dropout_rate) for i in range(len(layer_sizes)-1)],\n",
        "                  nn.Linear(layer_sizes[-1], out_features)\n",
        "                  ]\n",
        "\n",
        "        self.layers = nn.Sequential(*layers)\n",
        "\n",
        "    def forward(self, X: torch.Tensor):\n",
        "        return self.layers(X)\n",
        "\n",
        "\n",
        "class EnsembleModel(nn.Module):\n",
        "    \"\"\"\n",
        "    Global ensemble model that :\n",
        "    - takes batched input (batch, in_features)\n",
        "    - clones it k times (batch, k, in_features)\n",
        "    - passes it through a backbone (which model you want e.g TabM, MLPk, etc.) (batch, k, hidden_sizes[-1])\n",
        "    - passes the output through k prediction heads, mean over heads (batch, out_features)\n",
        "    \"\"\"\n",
        "\n",
        "    def __init__(self, backbone: nn.Module, in_features: int, hidden_sizes: int, out_features: int, k=32, dropout_rate=0.1, mean_over_heads=True):\n",
        "        super().__init__()\n",
        "\n",
        "        self.backbone = backbone(in_features, hidden_sizes, k, dropout_rate)\n",
        "        self.in_features = in_features\n",
        "        self.k = k\n",
        "\n",
        "        self.mean_over_heads = mean_over_heads\n",
        "\n",
        "        self.pred_heads = nn.ModuleList([nn.Linear(hidden_sizes[-1], out_features) for _ in range(k)])\n",
        "\n",
        "    def forward(self, X: torch.Tensor):\n",
        "        # clone X to shape (batch, k, dim)\n",
        "        X = X.unsqueeze(1).repeat(1, self.k, 1)\n",
        "\n",
        "        # pass through backbone\n",
        "        X = self.backbone(X)\n",
        "\n",
        "        # pass through prediction heads\n",
        "        preds = [head(X[:, i]) for i, head in enumerate(self.pred_heads)]\n",
        "\n",
        "        # concatenate head predictions\n",
        "        preds = torch.stack(preds, dim=1)\n",
        "\n",
        "        if self.mean_over_heads:\n",
        "            preds = preds.mean(dim=1)\n",
        "\n",
        "        return preds\n",
        "\n",
        "\n",
        "#=========== PRUNING ===========#\n",
        "\n",
        "class PrunableEnsembleModel(nn.Module):\n",
        "    \"\"\"\n",
        "    Ensemble model with pruning mechanism:\n",
        "    - Measures the individual contribution of each sub-model.\n",
        "    - Allows for progressively removing the least performing sub-models.\n",
        "    \"\"\"\n",
        "    def __init__(self, backbone: nn.Module, in_features: int, hidden_sizes: int, out_features: int, k=32, dropout_rate=0.1):\n",
        "        super().__init__()\n",
        "        self.backbone = backbone(in_features, hidden_sizes, k, dropout_rate)\n",
        "        self.in_features = in_features\n",
        "        self.hidden_sizes = hidden_sizes\n",
        "        self.k = k\n",
        "        self.out_features = out_features\n",
        "\n",
        "        # Sub-model prediction (we do not average like in the EnsembleModel class)\n",
        "        self.pred_heads = nn.ModuleList([nn.Linear(hidden_sizes[-1], out_features) for _ in range(k)])\n",
        "\n",
        "    def forward(self, X: torch.Tensor):\n",
        "        \"\"\"\n",
        "        Forward pass:\n",
        "        - The predictions of each sub-model are concatenated.\n",
        "        \"\"\"\n",
        "        # Replicate X for each sub-model\n",
        "        X = X.unsqueeze(1).repeat(1, self.k, 1)\n",
        "\n",
        "        # Pass through the backbone\n",
        "        X = self.backbone(X)  # (batch, k, hidden_sizes[-1])\n",
        "\n",
        "        # Predictions from each sub-model\n",
        "        preds = [head(X[:, i]) for i, head in enumerate(self.pred_heads)]\n",
        "        preds = torch.stack(preds, dim=1)  # (batch, k, out_features)\n",
        "\n",
        "        return preds\n",
        "\n",
        "    def prune(self, X: torch.Tensor, y: torch.Tensor, keep_ratio=0.5, task_type=\"binary\", verbose=False):\n",
        "        \"\"\"\n",
        "        Pruning the sub-models:\n",
        "        - Keeps a given ratio of the best performing sub-models.\n",
        "        - Removes less performing sub-models.\n",
        "        - Adapts to binary classification, multiclass, or regression tasks.\n",
        "\n",
        "        Args:\n",
        "            X : Input data.\n",
        "            y : Labels or target values.\n",
        "            keep_ratio : Ratio of sub-models to keep.\n",
        "            task_type : Task type ('binary', 'multiclass', or 'regression').\n",
        "        \"\"\"\n",
        "        if not (0 < keep_ratio <= 1):\n",
        "            raise ValueError(\"keep_ratio must be a float between 0 and 1.\")\n",
        "\n",
        "        with torch.no_grad():\n",
        "\n",
        "            if task_type == \"binary\":\n",
        "                criterion = nn.BCEWithLogitsLoss(reduction=\"none\")\n",
        "                y = y.float().view(-1, 1)\n",
        "            elif task_type == \"multiclass\":\n",
        "                criterion = nn.CrossEntropyLoss(reduction=\"none\")\n",
        "            elif task_type == \"regression\":\n",
        "                criterion = nn.MSELoss(reduction=\"none\")\n",
        "            else:\n",
        "                raise ValueError(\"task_type must be one of 'binary', 'multiclass', or 'regression'.\")\n",
        "\n",
        "            # Loss\n",
        "            losses = []\n",
        "            preds = self.forward(X)  # (batch, k, out_features)\n",
        "            if self.k > 1 :\n",
        "              for i in range(self.k):\n",
        "                  if task_type == \"multiclass\":\n",
        "                      loss = criterion(preds[:, i, :], y)\n",
        "                  else:\n",
        "                      loss = criterion(preds[:, i, :].reshape(-1, 1), y.reshape(-1, 1))\n",
        "                  losses.append(loss.mean().item())  # Mean loss for each sub-model\n",
        "\n",
        "              # Sort the sub-models by loss (increasing loss)\n",
        "              sorted_indices = sorted(range(self.k), key=lambda i: losses[i])\n",
        "              keep_count = max(1, int(self.k * keep_ratio))\n",
        "              keep_indices = sorted_indices[:keep_count]\n",
        "\n",
        "              # Update the sub-models and their parameters\n",
        "              self.pred_heads = nn.ModuleList([self.pred_heads[i] for i in keep_indices])\n",
        "              self.k = keep_count\n",
        "\n",
        "              # Prune the backbone parameters\n",
        "              for layer in self.backbone.layers:\n",
        "                  if hasattr(layer, \"R\") and hasattr(layer, \"S\") and hasattr(layer, \"B\"):\n",
        "                      layer.R = nn.Parameter(layer.R[keep_indices])\n",
        "                      layer.S = nn.Parameter(layer.S[keep_indices])\n",
        "                      layer.B = nn.Parameter(layer.B[keep_indices])\n",
        "              if verbose :\n",
        "                print(f\"Pruning performed: {len(sorted_indices) - keep_count} sub-models removed. {self.k} remaining.\")\n",
        "            else :\n",
        "              if verbose :\n",
        "                print(f\"Only {self.k} sub-model remaining.\")\n",
        "\n",
        "\n",
        "#*********************************************************** TRANING (with pruning) ***********************************************************#\n",
        "\n",
        "# Function to prune the model\n",
        "def test_pruning(model, train_loader, keep_ratios, task_type=\"binary\", verbose=False):\n",
        "    \"\"\"\n",
        "    Test the pruning mechanism.\n",
        "    - Gradually reduce the sub-models.\n",
        "    - Measure overall accuracy after each step.\n",
        "\n",
        "    Args:\n",
        "        model (nn.Module): The prunable model.\n",
        "        train_loader (DataLoader): DataLoader for test data.\n",
        "        keep_ratios (list): List of model retention ratios.\n",
        "        task_type (str): Task type ('binary', 'multiclass', or 'regression').\n",
        "\n",
        "    Returns:\n",
        "        None\n",
        "    \"\"\"\n",
        "    for keep_ratio in keep_ratios:\n",
        "        print(f\"\\nPruning with keep_ratio = {keep_ratio}\")\n",
        "\n",
        "        # Prune the model (using one batch to select sub-models)\n",
        "        for X_batch, y_batch in train_loader:\n",
        "            model.prune(X_batch, y_batch, keep_ratio, task_type=task_type, verbose=verbose)\n",
        "            break\n",
        "\n",
        "        # Evaluate performance after pruning\n",
        "        total_correct, total_samples, total_loss = 0, 0, 0.0\n",
        "        with torch.no_grad():\n",
        "            for X_batch, y_batch in train_loader:\n",
        "                preds = model.forward(X_batch)\n",
        "\n",
        "                if task_type == \"binary\":\n",
        "                    preds = preds.mean(dim=1)\n",
        "                    preds_binary = torch.sigmoid(preds)\n",
        "                    preds_binary = (preds_binary > 0.5)\n",
        "                    total_correct += (preds_binary == y_batch.reshape(-1, 1)).sum().item()\n",
        "\n",
        "                elif task_type == \"multiclass\":\n",
        "                    preds = preds.mean(dim=1)\n",
        "                    preds_class = preds.argmax(dim=1)\n",
        "                    total_correct += (preds_class == y_batch).sum().item()\n",
        "\n",
        "                elif task_type == \"regression\":\n",
        "                    preds = preds.mean(dim=1)\n",
        "                    total_loss += nn.functional.mse_loss(preds.reshape(-1,1), y_batch.reshape(-1,1)).item()\n",
        "\n",
        "                total_samples += y_batch.size(0)\n",
        "\n",
        "        if task_type in [\"binary\", \"multiclass\"]:\n",
        "            accuracy = total_correct / total_samples\n",
        "            print(f\"Overall accuracy after pruning: {accuracy:.4f}\")\n",
        "        elif task_type == \"regression\":\n",
        "            avg_loss = total_loss / total_samples\n",
        "            print(f\"Average loss after pruning: {avg_loss:.4f}\")\n",
        "\n",
        "# Training function with pruning\n",
        "def train_with_pruning(\n",
        "    model, train_loader, test_loader, optimizer, criterion,\n",
        "    epochs=10, keep_ratios=[1.0, 0.75, 0.5, 0.25], filepath=\"best_model.pth\",\n",
        "    dataset_name=\"\", task_type=\"binary\", verbose=False\n",
        "):\n",
        "    start_time = time.time()\n",
        "\n",
        "    best_loss = float('inf')\n",
        "    best_model = None\n",
        "    best_config = {}\n",
        "\n",
        "    # Lists to store metrics (for plotting)\n",
        "    train_losses = []\n",
        "    test_losses = []\n",
        "    accuracies = []\n",
        "\n",
        "    # Lists to store predictions and labels (for metric calculation)\n",
        "    all_preds = []\n",
        "    all_labels = []\n",
        "\n",
        "    for epoch in range(epochs):\n",
        "        model.train()\n",
        "        epoch_loss, total_samples = 0.0, 0\n",
        "\n",
        "        for X_batch, y_batch in tqdm(train_loader, desc=f\"Epoch {epoch + 1}/{epochs}\"):\n",
        "            optimizer.zero_grad()\n",
        "            outputs = model(X_batch)\n",
        "\n",
        "            if task_type == 'binary':\n",
        "                preds = outputs.mean(dim=1)\n",
        "                loss = criterion(preds, y_batch.unsqueeze(1).float())\n",
        "\n",
        "            elif task_type == 'multiclass':\n",
        "                preds = outputs.mean(dim=1)\n",
        "                loss = criterion(preds, y_batch)\n",
        "\n",
        "            elif task_type == 'regression':\n",
        "                preds = outputs.mean(dim=1)\n",
        "                loss = criterion(preds.reshape(-1,1), y_batch.reshape(-1,1).float())\n",
        "\n",
        "            loss.backward()\n",
        "            optimizer.step()\n",
        "            epoch_loss += loss.item()\n",
        "            total_samples += y_batch.size(0)\n",
        "\n",
        "        avg_epoch_loss = epoch_loss / total_samples\n",
        "        print(f\"Epoch {epoch + 1}, Loss: {avg_epoch_loss}\")\n",
        "\n",
        "        # Test pruning at different keep ratios\n",
        "        for keep_ratio in keep_ratios:\n",
        "            model_copy = copy.deepcopy(model)\n",
        "            model_copy.prune(X_batch, y_batch, keep_ratio=keep_ratio, task_type=task_type, verbose=verbose)\n",
        "\n",
        "            model_copy.eval()\n",
        "            total_loss, total_correct, total_samples = 0.0, 0, 0\n",
        "\n",
        "            with torch.no_grad():\n",
        "                for X_batch, y_batch in train_loader:\n",
        "                    outputs = model_copy(X_batch)\n",
        "\n",
        "                    if task_type == \"binary\":\n",
        "                        preds = outputs.mean(dim=1)\n",
        "                        loss = criterion(preds, y_batch.unsqueeze(1).float())\n",
        "                        probs = torch.sigmoid(preds)\n",
        "                        predictions = (probs >= 0.5).float()\n",
        "                        total_correct += (predictions == y_batch.unsqueeze(1)).float().sum()\n",
        "\n",
        "                    elif task_type == \"multiclass\":\n",
        "                        preds = outputs.mean(dim=1)\n",
        "                        preds_class = preds.argmax(dim=1)\n",
        "                        loss = criterion(preds, y_batch)\n",
        "                        total_correct += (preds_class == y_batch).sum().item()\n",
        "\n",
        "                    elif task_type == \"regression\":\n",
        "                        preds = outputs.mean(dim=1)\n",
        "                        loss += criterion(preds.reshape(-1,1), y_batch.reshape(-1,1).float())\n",
        "\n",
        "                    total_loss += loss.item()\n",
        "                    total_samples += y_batch.size(0)\n",
        "\n",
        "            avg_loss = total_loss / total_samples\n",
        "            accuracy = total_correct / total_samples\n",
        "\n",
        "            if task_type in [\"binary\", \"multiclass\"]:\n",
        "                print(f\"Pruning with keep_ratio={keep_ratio}, Accuracy: {accuracy:.4f}\")\n",
        "            elif task_type == \"regression\":\n",
        "                print(f\"Pruning with keep_ratio={keep_ratio}, Train Loss: {avg_loss:.4f}\")\n",
        "\n",
        "            if avg_loss < best_loss:\n",
        "                best_loss = avg_loss\n",
        "                best_model = model_copy\n",
        "                best_config = {\"k\": model_copy.k}\n",
        "\n",
        "            if (model.k == 1):  # Stop the pruning only if there is only one sub-models left\n",
        "                break\n",
        "\n",
        "        model = best_model\n",
        "        train_losses.append(best_loss)\n",
        "\n",
        "        # Evaluate on test set after each epoch\n",
        "        model.eval()\n",
        "        test_loss, test_correct, test_samples = 0.0, 0, 0\n",
        "        with torch.no_grad():\n",
        "            for X_batch, y_batch in test_loader:\n",
        "                outputs = model(X_batch)\n",
        "\n",
        "                if task_type == \"binary\":\n",
        "                    preds = outputs.mean(dim=1)\n",
        "                    loss = criterion(preds, y_batch.unsqueeze(1).float())\n",
        "                    probs = torch.sigmoid(preds)\n",
        "                    predictions = (probs >= 0.5).float()\n",
        "                    test_correct += (predictions == y_batch.unsqueeze(1)).float().sum()\n",
        "                    all_preds.extend(predictions.cpu().numpy())\n",
        "                    all_labels.extend(y_batch.cpu().numpy())\n",
        "\n",
        "                elif task_type == \"multiclass\":\n",
        "                    preds = outputs.mean(dim=1)\n",
        "                    preds_class = preds.argmax(dim=1)\n",
        "                    loss = criterion(preds, y_batch)\n",
        "                    test_correct += (preds_class == y_batch).sum().item()\n",
        "                    all_preds.extend(preds_class.cpu().numpy())\n",
        "                    all_labels.extend(y_batch.cpu().numpy())\n",
        "\n",
        "                elif task_type == \"regression\":\n",
        "                    preds = outputs.mean(dim=1)\n",
        "                    loss += criterion(preds.reshape(-1,1), y_batch.reshape(-1,1).float())\n",
        "                    all_preds.extend(preds.cpu().numpy())\n",
        "                    all_labels.extend(y_batch.cpu().numpy())\n",
        "\n",
        "                test_loss += loss.item()\n",
        "                test_samples += y_batch.size(0)\n",
        "\n",
        "        avg_test_loss = test_loss / test_samples\n",
        "        test_losses.append(avg_test_loss)\n",
        "        accuracy = test_correct / test_samples\n",
        "        accuracies.append(accuracy)\n",
        "\n",
        "        if verbose:\n",
        "            if task_type == \"binary\" or task_type == \"multiclass\":\n",
        "                print(f\"Epoch {epoch + 1}, Test Loss: {avg_test_loss:.4f}, Accuracy: {accuracy:.4f}\")\n",
        "            elif task_type == \"regression\":\n",
        "                print(f\"Epoch {epoch + 1}, Test Loss: {avg_test_loss:.4f}\")\n",
        "\n",
        "    execution_time = time.time() - start_time  # Calculate total execution time\n",
        "\n",
        "    # Calculate metrics\n",
        "    if task_type != \"regression\":\n",
        "        precision = precision_score(all_labels, all_preds, average='macro' if task_type == \"multiclass\" else 'binary')\n",
        "        recall = recall_score(all_labels, all_preds, average='macro' if task_type == \"multiclass\" else 'binary')\n",
        "        auc = roc_auc_score(all_labels, all_preds) if task_type == \"binary\" else None\n",
        "        rmse = None\n",
        "        r2 = None\n",
        "    else:\n",
        "        precision = None\n",
        "        recall = None\n",
        "        auc = None\n",
        "        rmse = np.sqrt(mean_squared_error(all_labels, all_preds))\n",
        "        r2 = r2_score(all_labels, all_preds)\n",
        "\n",
        "    results = {\n",
        "        \"accuracy\": accuracy if task_type != \"regression\" else None,\n",
        "        \"loss\": avg_test_loss,\n",
        "        \"f1_score\": f1_score(all_labels, all_preds, average='macro' if task_type == \"multiclass\" else 'binary') if task_type != \"regression\" else None,\n",
        "        \"precision\": precision,\n",
        "        \"recall\": recall,\n",
        "        \"auc_score\": auc,\n",
        "        \"rmse\": rmse,\n",
        "        \"r2\": r2,\n",
        "        \"execution_time\": execution_time\n",
        "    }\n",
        "\n",
        "    # Plot the training and test loss curves\n",
        "    plt.figure(figsize=(12, 5))\n",
        "\n",
        "    plt.subplot(1, 2, 1)\n",
        "    plt.plot(range(1, epochs + 1), train_losses, label=\"Train Loss\")\n",
        "    plt.plot(range(1, epochs + 1), test_losses, label=\"Test Loss\")\n",
        "    plt.xlabel(\"Epoch\")\n",
        "    plt.ylabel(\"Loss\")\n",
        "    plt.title(\"Training and Test Loss\")\n",
        "    plt.legend()\n",
        "\n",
        "    if task_type in [\"binary\", \"multiclass\"]:\n",
        "        plt.subplot(1, 2, 2)\n",
        "        plt.plot(range(1, epochs + 1), accuracies, label=\"Accuracy\", color=\"green\")\n",
        "        plt.xlabel(\"Epoch\")\n",
        "        plt.ylabel(\"Accuracy\")\n",
        "        plt.title(\"Test Accuracy\")\n",
        "        plt.legend()\n",
        "\n",
        "    plt.tight_layout()\n",
        "    plt.show()\n",
        "\n",
        "    if verbose:\n",
        "        print(f\"Best configuration of the model {best_config}\")\n",
        "\n",
        "    return model, best_config, results\n",
        "\n",
        "# Save /load the model functions\n",
        "def save_model(model, filepath, config):\n",
        "    \"\"\"\n",
        "    Save the PyTorch model and its configuration.\n",
        "\n",
        "    Args:\n",
        "        model (nn.Module): The model to save.\n",
        "        filepath (str): Path to save the model.\n",
        "        config (dict): Configuration (e.g., k after pruning).\n",
        "\n",
        "    Returns:\n",
        "        None\n",
        "    \"\"\"\n",
        "    config.update({\n",
        "        \"backbone\": model.backbone.__class__,\n",
        "        \"in_features\": model.in_features,\n",
        "        \"hidden_sizes\": model.hidden_sizes,\n",
        "        \"out_features\": model.out_features,\n",
        "        \"k\": model.k\n",
        "    })\n",
        "\n",
        "    torch.save({\n",
        "        \"state_dict\": model.state_dict(),\n",
        "        \"config\": config\n",
        "    }, filepath)\n",
        "    print(f\"Model and configuration saved to {filepath}\")\n",
        "\n",
        "def load_model(filepath, model_class, default_config):\n",
        "    \"\"\"\n",
        "    Load a PyTorch model from a file.\n",
        "\n",
        "    Args:\n",
        "        filepath (str): Path to the saved model file.\n",
        "        model_class (nn.Module): The class of the model to load.\n",
        "        default_config (dict): Default configuration of the model.\n",
        "\n",
        "    Returns:\n",
        "        nn.Module: The loaded model, ready to be used.\n",
        "    \"\"\"\n",
        "    # Load the file\n",
        "    checkpoint = torch.load(filepath)\n",
        "    state_dict = checkpoint[\"state_dict\"]\n",
        "    config = checkpoint.get(\"config\", default_config)  # Use the saved configuration or the default one\n",
        "\n",
        "    # Reinitialize the model with the correct configuration\n",
        "    model = model_class(**config)\n",
        "\n",
        "    # Load the model parameters\n",
        "    model.load_state_dict(state_dict)\n",
        "\n",
        "    model.eval()\n",
        "\n",
        "    print(f\"Model loaded from {filepath}\")\n",
        "    return model\n",
        "\n",
        "#========== Dataset functions ==========#\n",
        "def get_breast_cancer_data(split=0.2, batch_size=32, seed=42):\n",
        "    \"\"\"\n",
        "    Loads the Breast Cancer dataset into dataloaders.\n",
        "    \"\"\"\n",
        "    data = load_breast_cancer()\n",
        "    X = data.data\n",
        "    y = data.target\n",
        "    scaler = StandardScaler()\n",
        "    X = scaler.fit_transform(X)\n",
        "    X_train, X_test, y_train, y_test = train_test_split(X, y, test_size=split, random_state=seed)\n",
        "    train_loader = DataLoader(TensorDataset(torch.tensor(X_train).float(), torch.tensor(y_train).long()), batch_size=batch_size, shuffle=True)\n",
        "    test_loader = DataLoader(TensorDataset(torch.tensor(X_test).float(), torch.tensor(y_test).long()), batch_size=batch_size, shuffle=False)\n",
        "    shape_x = X_train.shape[1]\n",
        "    shape_y = len(set(y))\n",
        "    return train_loader, test_loader, shape_x, shape_y\n",
        "\n",
        "def get_adult_income_data(split=0.2, batch_size=32, seed=42):\n",
        "    \"\"\"\n",
        "    Loads the Adult Income dataset into dataloaders.\n",
        "    \"\"\"\n",
        "    data = pd.read_csv(\"adult.csv\")\n",
        "    X = data.drop(columns='income')\n",
        "    y = data['income']\n",
        "    X = pd.get_dummies(X)\n",
        "    le = LabelEncoder()\n",
        "    y = le.fit_transform(y)\n",
        "    scaler = StandardScaler()\n",
        "    X = scaler.fit_transform(X)\n",
        "    X_train, X_test, y_train, y_test = train_test_split(X, y, test_size=split, random_state=seed)\n",
        "    train_loader = DataLoader(TensorDataset(torch.tensor(X_train).float(), torch.tensor(y_train).long()), batch_size=batch_size, shuffle=True)\n",
        "    test_loader = DataLoader(TensorDataset(torch.tensor(X_test).float(), torch.tensor(y_test).long()), batch_size=batch_size, shuffle=False)\n",
        "    shape_x = X_train.shape[1]\n",
        "    shape_y = len(set(y))\n",
        "\n",
        "    return train_loader, test_loader, shape_x, shape_y\n",
        "\n",
        "def get_california_housing_data(split=0.2, batch_size=32, seed=42):\n",
        "    \"\"\"\n",
        "    Loads the California Housing dataset into dataloaders.\n",
        "    \"\"\"\n",
        "    data = fetch_california_housing()\n",
        "    X = data.data\n",
        "    y = data.target\n",
        "    scaler = StandardScaler()\n",
        "    X = scaler.fit_transform(X)\n",
        "    X_train, X_test, y_train, y_test = train_test_split(X, y, test_size=split, random_state=seed)\n",
        "    train_loader = DataLoader(TensorDataset(torch.tensor(X_train).float(), torch.tensor(y_train).float()), batch_size=batch_size, shuffle=True)\n",
        "    test_loader = DataLoader(TensorDataset(torch.tensor(X_test).float(), torch.tensor(y_test).float()), batch_size=batch_size, shuffle=False)\n",
        "    shape_x = X_train.shape[1]\n",
        "    shape_y = 1  # Regression problem\n",
        "    return train_loader, test_loader, shape_x, shape_y\n",
        "\n",
        "def get_iris_data(split=0.2, batch_size=32, seed=42):\n",
        "    \"\"\"\n",
        "    Loads the Iris dataset into dataloaders.\n",
        "    \"\"\"\n",
        "    data = load_iris()\n",
        "    X = data.data\n",
        "    y = data.target\n",
        "    scaler = StandardScaler()\n",
        "    X = scaler.fit_transform(X)\n",
        "    X_train, X_test, y_train, y_test = train_test_split(X, y, test_size=split, random_state=seed)\n",
        "    train_loader = DataLoader(TensorDataset(torch.tensor(X_train).float(), torch.tensor(y_train).long()), batch_size=batch_size, shuffle=True)\n",
        "    test_loader = DataLoader(TensorDataset(torch.tensor(X_test).float(), torch.tensor(y_test).long()), batch_size=batch_size, shuffle=False)\n",
        "    shape_x = X_train.shape[1]\n",
        "    shape_y = len(set(y))\n",
        "    return train_loader, test_loader, shape_x, shape_y\n",
        "\n",
        "\n",
        "def get_quality_wine_data(split=.2, batch_size=32, seed=42):\n",
        "    \"\"\"\n",
        "    Loads the Wine Quality dataset into dataloaders.\n",
        "    \"\"\"\n",
        "\n",
        "    wine_quality = fetch_ucirepo(id=186)\n",
        "\n",
        "    X = wine_quality.data.features\n",
        "    y = wine_quality.data.targets\n",
        "\n",
        "    # Normalize\n",
        "    X = (X - X.mean(axis=0)) / X.std(axis=0)\n",
        "\n",
        "    X_train, X_test, y_train, y_test = train_test_split(X, y, test_size=split, random_state=seed, stratify=y)\n",
        "\n",
        "    # Remap the labels to be in the range [0, num_classes - 1]\n",
        "    unique_labels = np.unique(y)\n",
        "    label_mapping = {label: i for i, label in enumerate(unique_labels)}\n",
        "\n",
        "    # Convert y_train and y_test to Series if they are DataFrames\n",
        "    if isinstance(y_train, pd.DataFrame):\n",
        "        y_train = y_train.squeeze()\n",
        "    if isinstance(y_test, pd.DataFrame):\n",
        "        y_test = y_test.squeeze()\n",
        "\n",
        "    y_train = y_train.map(label_mapping)\n",
        "    y_test = y_test.map(label_mapping)\n",
        "\n",
        "    # Dataloaders\n",
        "    train_loader = torch.utils.data.DataLoader(\n",
        "        torch.utils.data.TensorDataset(torch.tensor(X_train.to_numpy()).float(), torch.tensor(y_train.to_numpy()).long().squeeze()),\n",
        "        batch_size=batch_size, shuffle=True\n",
        "    )\n",
        "    test_loader = torch.utils.data.DataLoader(\n",
        "        torch.utils.data.TensorDataset(torch.tensor(X_test.to_numpy()).float(), torch.tensor(y_test.to_numpy()).long().squeeze()),\n",
        "        batch_size=batch_size, shuffle=False\n",
        "    )\n",
        "\n",
        "    shape_x = X_train.shape[1]\n",
        "    shape_y = len(np.unique(y))  # Number of classes\n",
        "\n",
        "    return train_loader, test_loader, shape_x, shape_y\n",
        "\n",
        "\n",
        "#========== Main function ==========#\n",
        "if __name__ == \"__main__\":\n",
        "    BATCH_SIZE = 32\n",
        "\n",
        "    # Load datasets and perform pruning and training for each\n",
        "    datasets = [\n",
        "        (\"breast_cancer\", get_breast_cancer_data, \"binary\", 1e-4, 35),\n",
        "        (\"adult_income\", get_adult_income_data, \"binary\", 1e-4, 18),\n",
        "        (\"california_housing\", get_california_housing_data, \"regression\", 1e-4, 15),\n",
        "        (\"iris\", get_iris_data, \"multiclass\", 1e-4, 75),\n",
        "        (\"wine_quality\", get_quality_wine_data, \"multiclass\", 1e-4, 35)\n",
        "    ]\n",
        "\n",
        "    for dataset_name, loader_func, task_type, lr, nb_epochs in datasets:\n",
        "        print(f\"\\n\\n *** Processing {dataset_name} dataset...\")\n",
        "        train_loader, test_loader, shape_x, shape_y = loader_func(split=0.2, batch_size=BATCH_SIZE, seed=42)\n",
        "\n",
        "        # Set hidden layers based on task type (multiclass, binary, regression)\n",
        "        if task_type == \"multiclass\":\n",
        "            layers = [64, 32, 16]\n",
        "            criterion = nn.CrossEntropyLoss()\n",
        "            out_features = shape_y\n",
        "        elif task_type == \"binary\":\n",
        "            layers = [64, 32]\n",
        "            criterion = nn.BCEWithLogitsLoss()\n",
        "            out_features = 1\n",
        "        else:\n",
        "            layers = [64, 32]\n",
        "            criterion = nn.MSELoss()\n",
        "            out_features = 1\n",
        "\n",
        "\n",
        "        # Initialize the model\n",
        "        prunable_model = PrunableEnsembleModel(TabM, in_features=shape_x, hidden_sizes=layers, out_features=out_features, k=32)\n",
        "\n",
        "        # Test pruning (adjust this for task_type)\n",
        "        keep_ratios = [1, 0.75, 0.5, 0.25, 0.1]\n",
        "        test_pruning(prunable_model, train_loader, keep_ratios, task_type, verbose=True)\n",
        "\n",
        "        # Train the model with pruning\n",
        "        prunable_model = PrunableEnsembleModel(TabM, in_features=shape_x, hidden_sizes=layers, out_features=out_features, k=32)\n",
        "\n",
        "        optimizer = optim.Adam(prunable_model.parameters(), lr=lr)\n",
        "\n",
        "        trained_model, best_config, results = train_with_pruning(\n",
        "            prunable_model, train_loader, test_loader, optimizer, criterion, epochs=nb_epochs, task_type=task_type, verbose=True\n",
        "        )\n",
        "\n",
        "        display(results)\n",
        "\n",
        "        # Save the best model\n",
        "        model_name = f\"{dataset_name}_best_model.pth\"\n",
        "        save_model(trained_model, model_name, best_config)\n",
        "\n",
        "\n",
        "        # Test loading the model\n",
        "        default_config = {\n",
        "            \"backbone\": TabM,\n",
        "            \"in_features\": shape_x,\n",
        "            \"hidden_sizes\": layers,\n",
        "            \"out_features\": out_features,\n",
        "            \"dropout_rate\": 0.1\n",
        "        }\n",
        "\n",
        "        default_config.update(best_config)\n",
        "\n",
        "        loaded_model = load_model(model_name, PrunableEnsembleModel, default_config)\n",
        "\n",
        "        print(\"Loading the model ...\")\n",
        "\n",
        "        loaded_model.eval()\n",
        "        test_loss, test_correct, test_samples = 0.0, 0, 0\n",
        "        with torch.no_grad():\n",
        "            for X_batch, y_batch in test_loader:\n",
        "                outputs = loaded_model(X_batch)\n",
        "\n",
        "                if task_type == \"binary\":\n",
        "                    preds = outputs.mean(dim=1)\n",
        "                    loss = criterion(preds, y_batch.unsqueeze(1).float())\n",
        "                    probs = torch.sigmoid(preds)\n",
        "                    predictions = (probs >= 0.5).float()\n",
        "                    test_correct += (predictions == y_batch.unsqueeze(1)).float().sum()\n",
        "\n",
        "                elif task_type == \"multiclass\":\n",
        "                    preds = outputs.mean(dim=1)\n",
        "                    preds_class = preds.argmax(dim=1)\n",
        "                    loss = criterion(preds, y_batch)\n",
        "                    test_correct += (preds_class == y_batch).sum().item()\n",
        "\n",
        "                elif task_type == \"regression\":\n",
        "                    preds = outputs.mean(dim=1)\n",
        "                    loss += criterion(preds.reshape(-1,1), y_batch.reshape(-1,1).float())\n",
        "\n",
        "                test_loss += loss.item()\n",
        "                test_samples += y_batch.size(0)\n",
        "\n",
        "        avg_test_loss = test_loss / test_samples\n",
        "        accuracy = test_correct / test_samples\n",
        "\n",
        "        if task_type == \"binary\" or task_type == \"multiclass\":\n",
        "            print(f\"Test Loss: {avg_test_loss:.4f}, Accuracy: {accuracy:.4f}\")\n",
        "        elif task_type == \"regression\":\n",
        "            print(f\"Test Loss: {avg_test_loss:.4f}\")\n",
        "\n",
        "\n",
        "\n",
        "\n"
      ],
      "metadata": {
        "id": "5-mO81ebnkUs",
        "colab": {
          "base_uri": "https://localhost:8080/",
          "height": 1000
        },
        "outputId": "87bd64d9-0144-4a16-de72-9f4fec77af4b"
      },
      "execution_count": null,
      "outputs": [
        {
          "output_type": "stream",
          "name": "stdout",
          "text": [
            "\n",
            "\n",
            " *** Processing breast_cancer dataset...\n",
            "\n",
            "Pruning with keep_ratio = 1\n",
            "Pruning performed: 0 sub-models removed. 32 remaining.\n",
            "Overall accuracy after pruning: 0.4879\n",
            "\n",
            "Pruning with keep_ratio = 0.75\n",
            "Pruning performed: 8 sub-models removed. 24 remaining.\n",
            "Overall accuracy after pruning: 0.6484\n",
            "\n",
            "Pruning with keep_ratio = 0.5\n",
            "Pruning performed: 12 sub-models removed. 12 remaining.\n",
            "Overall accuracy after pruning: 0.7560\n",
            "\n",
            "Pruning with keep_ratio = 0.25\n",
            "Pruning performed: 9 sub-models removed. 3 remaining.\n",
            "Overall accuracy after pruning: 0.7582\n",
            "\n",
            "Pruning with keep_ratio = 0.1\n",
            "Pruning performed: 2 sub-models removed. 1 remaining.\n",
            "Overall accuracy after pruning: 0.8132\n"
          ]
        },
        {
          "output_type": "stream",
          "name": "stderr",
          "text": [
            "Epoch 1/35: 100%|██████████| 15/15 [00:00<00:00, 73.13it/s]\n"
          ]
        },
        {
          "output_type": "stream",
          "name": "stdout",
          "text": [
            "Epoch 1, Loss: 0.029699030551281605\n",
            "Pruning performed: 0 sub-models removed. 32 remaining.\n",
            "Pruning with keep_ratio=1.0, Accuracy: 0.6088\n",
            "Pruning performed: 8 sub-models removed. 24 remaining.\n",
            "Pruning with keep_ratio=0.75, Accuracy: 0.4725\n",
            "Pruning performed: 16 sub-models removed. 16 remaining.\n",
            "Pruning with keep_ratio=0.5, Accuracy: 0.7473\n",
            "Pruning performed: 24 sub-models removed. 8 remaining.\n",
            "Pruning with keep_ratio=0.25, Accuracy: 0.6198\n",
            "Epoch 1, Test Loss: 0.0166, Accuracy: 0.7544\n"
          ]
        },
        {
          "output_type": "stream",
          "name": "stderr",
          "text": [
            "Epoch 2/35: 100%|██████████| 15/15 [00:00<00:00, 205.21it/s]\n"
          ]
        },
        {
          "output_type": "stream",
          "name": "stdout",
          "text": [
            "Epoch 2, Loss: 0.017980469845153474\n",
            "Pruning performed: 0 sub-models removed. 16 remaining.\n",
            "Pruning with keep_ratio=1.0, Accuracy: 0.7473\n",
            "Pruning performed: 4 sub-models removed. 12 remaining.\n",
            "Pruning with keep_ratio=0.75, Accuracy: 0.6396\n",
            "Pruning performed: 8 sub-models removed. 8 remaining.\n",
            "Pruning with keep_ratio=0.5, Accuracy: 0.6945\n",
            "Pruning performed: 12 sub-models removed. 4 remaining.\n",
            "Pruning with keep_ratio=0.25, Accuracy: 0.8066\n",
            "Epoch 2, Test Loss: 0.0166, Accuracy: 0.7544\n"
          ]
        },
        {
          "output_type": "stream",
          "name": "stderr",
          "text": [
            "Epoch 3/35: 100%|██████████| 15/15 [00:00<00:00, 202.51it/s]\n"
          ]
        },
        {
          "output_type": "stream",
          "name": "stdout",
          "text": [
            "Epoch 3, Loss: 0.01709645865382729\n",
            "Pruning performed: 0 sub-models removed. 16 remaining.\n",
            "Pruning with keep_ratio=1.0, Accuracy: 0.7473\n",
            "Pruning performed: 4 sub-models removed. 12 remaining.\n",
            "Pruning with keep_ratio=0.75, Accuracy: 0.7604\n",
            "Pruning performed: 8 sub-models removed. 8 remaining.\n",
            "Pruning with keep_ratio=0.5, Accuracy: 0.6374\n",
            "Pruning performed: 12 sub-models removed. 4 remaining.\n",
            "Pruning with keep_ratio=0.25, Accuracy: 0.4637\n",
            "Epoch 3, Test Loss: 0.0147, Accuracy: 0.7895\n"
          ]
        },
        {
          "output_type": "stream",
          "name": "stderr",
          "text": [
            "Epoch 4/35: 100%|██████████| 15/15 [00:00<00:00, 235.59it/s]\n"
          ]
        },
        {
          "output_type": "stream",
          "name": "stdout",
          "text": [
            "Epoch 4, Loss: 0.01633566575390952\n",
            "Pruning performed: 0 sub-models removed. 12 remaining.\n",
            "Pruning with keep_ratio=1.0, Accuracy: 0.7604\n",
            "Pruning performed: 3 sub-models removed. 9 remaining.\n",
            "Pruning with keep_ratio=0.75, Accuracy: 0.8176\n",
            "Pruning performed: 6 sub-models removed. 6 remaining.\n",
            "Pruning with keep_ratio=0.5, Accuracy: 0.8615\n",
            "Pruning performed: 9 sub-models removed. 3 remaining.\n",
            "Pruning with keep_ratio=0.25, Accuracy: 0.8000\n",
            "Epoch 4, Test Loss: 0.0125, Accuracy: 0.8947\n"
          ]
        },
        {
          "output_type": "stream",
          "name": "stderr",
          "text": [
            "Epoch 5/35: 100%|██████████| 15/15 [00:00<00:00, 327.65it/s]\n"
          ]
        },
        {
          "output_type": "stream",
          "name": "stdout",
          "text": [
            "Epoch 5, Loss: 0.015488600403397949\n",
            "Pruning performed: 0 sub-models removed. 6 remaining.\n",
            "Pruning with keep_ratio=1.0, Accuracy: 0.8615\n",
            "Pruning performed: 2 sub-models removed. 4 remaining.\n",
            "Pruning with keep_ratio=0.75, Accuracy: 0.8396\n",
            "Pruning performed: 3 sub-models removed. 3 remaining.\n",
            "Pruning with keep_ratio=0.5, Accuracy: 0.8484\n",
            "Pruning performed: 5 sub-models removed. 1 remaining.\n",
            "Pruning with keep_ratio=0.25, Accuracy: 0.8484\n",
            "Epoch 5, Test Loss: 0.0125, Accuracy: 0.8947\n"
          ]
        },
        {
          "output_type": "stream",
          "name": "stderr",
          "text": [
            "Epoch 6/35: 100%|██████████| 15/15 [00:00<00:00, 308.72it/s]\n"
          ]
        },
        {
          "output_type": "stream",
          "name": "stdout",
          "text": [
            "Epoch 6, Loss: 0.014986777174603809\n",
            "Pruning performed: 0 sub-models removed. 6 remaining.\n",
            "Pruning with keep_ratio=1.0, Accuracy: 0.8615\n",
            "Pruning performed: 2 sub-models removed. 4 remaining.\n",
            "Pruning with keep_ratio=0.75, Accuracy: 0.8396\n",
            "Pruning performed: 3 sub-models removed. 3 remaining.\n",
            "Pruning with keep_ratio=0.5, Accuracy: 0.8308\n",
            "Pruning performed: 5 sub-models removed. 1 remaining.\n",
            "Pruning with keep_ratio=0.25, Accuracy: 0.8484\n",
            "Epoch 6, Test Loss: 0.0125, Accuracy: 0.8947\n"
          ]
        },
        {
          "output_type": "stream",
          "name": "stderr",
          "text": [
            "Epoch 7/35: 100%|██████████| 15/15 [00:00<00:00, 306.71it/s]\n"
          ]
        },
        {
          "output_type": "stream",
          "name": "stdout",
          "text": [
            "Epoch 7, Loss: 0.013646801552929721\n",
            "Pruning performed: 0 sub-models removed. 6 remaining.\n",
            "Pruning with keep_ratio=1.0, Accuracy: 0.8615\n",
            "Pruning performed: 2 sub-models removed. 4 remaining.\n",
            "Pruning with keep_ratio=0.75, Accuracy: 0.8022\n",
            "Pruning performed: 3 sub-models removed. 3 remaining.\n",
            "Pruning with keep_ratio=0.5, Accuracy: 0.8484\n",
            "Pruning performed: 5 sub-models removed. 1 remaining.\n",
            "Pruning with keep_ratio=0.25, Accuracy: 0.7714\n",
            "Epoch 7, Test Loss: 0.0125, Accuracy: 0.8947\n"
          ]
        },
        {
          "output_type": "stream",
          "name": "stderr",
          "text": [
            "Epoch 8/35: 100%|██████████| 15/15 [00:00<00:00, 311.14it/s]\n"
          ]
        },
        {
          "output_type": "stream",
          "name": "stdout",
          "text": [
            "Epoch 8, Loss: 0.014400880120612762\n",
            "Pruning performed: 0 sub-models removed. 6 remaining.\n",
            "Pruning with keep_ratio=1.0, Accuracy: 0.8615\n",
            "Pruning performed: 2 sub-models removed. 4 remaining.\n",
            "Pruning with keep_ratio=0.75, Accuracy: 0.8769\n",
            "Pruning performed: 3 sub-models removed. 3 remaining.\n",
            "Pruning with keep_ratio=0.5, Accuracy: 0.8308\n",
            "Pruning performed: 5 sub-models removed. 1 remaining.\n",
            "Pruning with keep_ratio=0.25, Accuracy: 0.8484\n",
            "Epoch 8, Test Loss: 0.0101, Accuracy: 0.9123\n"
          ]
        },
        {
          "output_type": "stream",
          "name": "stderr",
          "text": [
            "Epoch 9/35: 100%|██████████| 15/15 [00:00<00:00, 354.68it/s]\n"
          ]
        },
        {
          "output_type": "stream",
          "name": "stdout",
          "text": [
            "Epoch 9, Loss: 0.012049734101190672\n",
            "Pruning performed: 0 sub-models removed. 4 remaining.\n",
            "Pruning with keep_ratio=1.0, Accuracy: 0.8769\n",
            "Pruning performed: 1 sub-models removed. 3 remaining.\n",
            "Pruning with keep_ratio=0.75, Accuracy: 0.7868\n",
            "Pruning performed: 2 sub-models removed. 2 remaining.\n",
            "Pruning with keep_ratio=0.5, Accuracy: 0.7670\n",
            "Pruning performed: 3 sub-models removed. 1 remaining.\n",
            "Pruning with keep_ratio=0.25, Accuracy: 0.6374\n",
            "Epoch 9, Test Loss: 0.0101, Accuracy: 0.9123\n"
          ]
        },
        {
          "output_type": "stream",
          "name": "stderr",
          "text": [
            "Epoch 10/35: 100%|██████████| 15/15 [00:00<00:00, 339.17it/s]\n"
          ]
        },
        {
          "output_type": "stream",
          "name": "stdout",
          "text": [
            "Epoch 10, Loss: 0.012380491704731197\n",
            "Pruning performed: 0 sub-models removed. 4 remaining.\n",
            "Pruning with keep_ratio=1.0, Accuracy: 0.8769\n",
            "Pruning performed: 1 sub-models removed. 3 remaining.\n",
            "Pruning with keep_ratio=0.75, Accuracy: 0.7868\n",
            "Pruning performed: 2 sub-models removed. 2 remaining.\n",
            "Pruning with keep_ratio=0.5, Accuracy: 0.7670\n",
            "Pruning performed: 3 sub-models removed. 1 remaining.\n",
            "Pruning with keep_ratio=0.25, Accuracy: 0.8484\n",
            "Epoch 10, Test Loss: 0.0101, Accuracy: 0.9123\n"
          ]
        },
        {
          "output_type": "stream",
          "name": "stderr",
          "text": [
            "Epoch 11/35: 100%|██████████| 15/15 [00:00<00:00, 332.05it/s]\n"
          ]
        },
        {
          "output_type": "stream",
          "name": "stdout",
          "text": [
            "Epoch 11, Loss: 0.011865398386022546\n",
            "Pruning performed: 0 sub-models removed. 4 remaining.\n",
            "Pruning with keep_ratio=1.0, Accuracy: 0.8769\n",
            "Pruning performed: 1 sub-models removed. 3 remaining.\n",
            "Pruning with keep_ratio=0.75, Accuracy: 0.7868\n",
            "Pruning performed: 2 sub-models removed. 2 remaining.\n",
            "Pruning with keep_ratio=0.5, Accuracy: 0.8132\n",
            "Pruning performed: 3 sub-models removed. 1 remaining.\n",
            "Pruning with keep_ratio=0.25, Accuracy: 0.6374\n",
            "Epoch 11, Test Loss: 0.0101, Accuracy: 0.9123\n"
          ]
        },
        {
          "output_type": "stream",
          "name": "stderr",
          "text": [
            "Epoch 12/35: 100%|██████████| 15/15 [00:00<00:00, 371.77it/s]\n"
          ]
        },
        {
          "output_type": "stream",
          "name": "stdout",
          "text": [
            "Epoch 12, Loss: 0.014077338510817224\n",
            "Pruning performed: 0 sub-models removed. 4 remaining.\n",
            "Pruning with keep_ratio=1.0, Accuracy: 0.8769\n",
            "Pruning performed: 1 sub-models removed. 3 remaining.\n",
            "Pruning with keep_ratio=0.75, Accuracy: 0.8484\n",
            "Pruning performed: 2 sub-models removed. 2 remaining.\n",
            "Pruning with keep_ratio=0.5, Accuracy: 0.8637\n",
            "Pruning performed: 3 sub-models removed. 1 remaining.\n",
            "Pruning with keep_ratio=0.25, Accuracy: 0.8484\n",
            "Epoch 12, Test Loss: 0.0101, Accuracy: 0.9123\n"
          ]
        },
        {
          "output_type": "stream",
          "name": "stderr",
          "text": [
            "Epoch 13/35: 100%|██████████| 15/15 [00:00<00:00, 344.02it/s]\n"
          ]
        },
        {
          "output_type": "stream",
          "name": "stdout",
          "text": [
            "Epoch 13, Loss: 0.01377720112329001\n",
            "Pruning performed: 0 sub-models removed. 4 remaining.\n",
            "Pruning with keep_ratio=1.0, Accuracy: 0.8769\n",
            "Pruning performed: 1 sub-models removed. 3 remaining.\n",
            "Pruning with keep_ratio=0.75, Accuracy: 0.8484\n",
            "Pruning performed: 2 sub-models removed. 2 remaining.\n",
            "Pruning with keep_ratio=0.5, Accuracy: 0.8396\n",
            "Pruning performed: 3 sub-models removed. 1 remaining.\n",
            "Pruning with keep_ratio=0.25, Accuracy: 0.7714\n",
            "Epoch 13, Test Loss: 0.0101, Accuracy: 0.9123\n"
          ]
        },
        {
          "output_type": "stream",
          "name": "stderr",
          "text": [
            "Epoch 14/35: 100%|██████████| 15/15 [00:00<00:00, 353.43it/s]\n"
          ]
        },
        {
          "output_type": "stream",
          "name": "stdout",
          "text": [
            "Epoch 14, Loss: 0.012125708572157137\n",
            "Pruning performed: 0 sub-models removed. 4 remaining.\n",
            "Pruning with keep_ratio=1.0, Accuracy: 0.8769\n",
            "Pruning performed: 1 sub-models removed. 3 remaining.\n",
            "Pruning with keep_ratio=0.75, Accuracy: 0.8484\n",
            "Pruning performed: 2 sub-models removed. 2 remaining.\n",
            "Pruning with keep_ratio=0.5, Accuracy: 0.8637\n",
            "Pruning performed: 3 sub-models removed. 1 remaining.\n",
            "Pruning with keep_ratio=0.25, Accuracy: 0.8484\n",
            "Epoch 14, Test Loss: 0.0101, Accuracy: 0.9123\n"
          ]
        },
        {
          "output_type": "stream",
          "name": "stderr",
          "text": [
            "Epoch 15/35: 100%|██████████| 15/15 [00:00<00:00, 351.00it/s]\n"
          ]
        },
        {
          "output_type": "stream",
          "name": "stdout",
          "text": [
            "Epoch 15, Loss: 0.011889348482037638\n",
            "Pruning performed: 0 sub-models removed. 4 remaining.\n",
            "Pruning with keep_ratio=1.0, Accuracy: 0.8769\n",
            "Pruning performed: 1 sub-models removed. 3 remaining.\n",
            "Pruning with keep_ratio=0.75, Accuracy: 0.8484\n",
            "Pruning performed: 2 sub-models removed. 2 remaining.\n",
            "Pruning with keep_ratio=0.5, Accuracy: 0.8396\n",
            "Pruning performed: 3 sub-models removed. 1 remaining.\n",
            "Pruning with keep_ratio=0.25, Accuracy: 0.6374\n",
            "Epoch 15, Test Loss: 0.0101, Accuracy: 0.9123\n"
          ]
        },
        {
          "output_type": "stream",
          "name": "stderr",
          "text": [
            "Epoch 16/35: 100%|██████████| 15/15 [00:00<00:00, 358.04it/s]\n"
          ]
        },
        {
          "output_type": "stream",
          "name": "stdout",
          "text": [
            "Epoch 16, Loss: 0.014384775600590548\n",
            "Pruning performed: 0 sub-models removed. 4 remaining.\n",
            "Pruning with keep_ratio=1.0, Accuracy: 0.8769\n",
            "Pruning performed: 1 sub-models removed. 3 remaining.\n",
            "Pruning with keep_ratio=0.75, Accuracy: 0.8484\n",
            "Pruning performed: 2 sub-models removed. 2 remaining.\n",
            "Pruning with keep_ratio=0.5, Accuracy: 0.8396\n",
            "Pruning performed: 3 sub-models removed. 1 remaining.\n",
            "Pruning with keep_ratio=0.25, Accuracy: 0.8484\n",
            "Epoch 16, Test Loss: 0.0101, Accuracy: 0.9123\n"
          ]
        },
        {
          "output_type": "stream",
          "name": "stderr",
          "text": [
            "Epoch 17/35: 100%|██████████| 15/15 [00:00<00:00, 368.02it/s]\n"
          ]
        },
        {
          "output_type": "stream",
          "name": "stdout",
          "text": [
            "Epoch 17, Loss: 0.013282193980374179\n",
            "Pruning performed: 0 sub-models removed. 4 remaining.\n",
            "Pruning with keep_ratio=1.0, Accuracy: 0.8769\n",
            "Pruning performed: 1 sub-models removed. 3 remaining.\n",
            "Pruning with keep_ratio=0.75, Accuracy: 0.8484\n",
            "Pruning performed: 2 sub-models removed. 2 remaining.\n",
            "Pruning with keep_ratio=0.5, Accuracy: 0.8396\n",
            "Pruning performed: 3 sub-models removed. 1 remaining.\n",
            "Pruning with keep_ratio=0.25, Accuracy: 0.8484\n",
            "Epoch 17, Test Loss: 0.0101, Accuracy: 0.9123\n"
          ]
        },
        {
          "output_type": "stream",
          "name": "stderr",
          "text": [
            "Epoch 18/35: 100%|██████████| 15/15 [00:00<00:00, 341.41it/s]\n"
          ]
        },
        {
          "output_type": "stream",
          "name": "stdout",
          "text": [
            "Epoch 18, Loss: 0.01298083531987536\n",
            "Pruning performed: 0 sub-models removed. 4 remaining.\n",
            "Pruning with keep_ratio=1.0, Accuracy: 0.8769\n",
            "Pruning performed: 1 sub-models removed. 3 remaining.\n",
            "Pruning with keep_ratio=0.75, Accuracy: 0.8484\n",
            "Pruning performed: 2 sub-models removed. 2 remaining.\n",
            "Pruning with keep_ratio=0.5, Accuracy: 0.8132\n",
            "Pruning performed: 3 sub-models removed. 1 remaining.\n",
            "Pruning with keep_ratio=0.25, Accuracy: 0.7714\n",
            "Epoch 18, Test Loss: 0.0101, Accuracy: 0.9123\n"
          ]
        },
        {
          "output_type": "stream",
          "name": "stderr",
          "text": [
            "Epoch 19/35: 100%|██████████| 15/15 [00:00<00:00, 362.94it/s]\n"
          ]
        },
        {
          "output_type": "stream",
          "name": "stdout",
          "text": [
            "Epoch 19, Loss: 0.014228390533845503\n",
            "Pruning performed: 0 sub-models removed. 4 remaining.\n",
            "Pruning with keep_ratio=1.0, Accuracy: 0.8769\n",
            "Pruning performed: 1 sub-models removed. 3 remaining.\n",
            "Pruning with keep_ratio=0.75, Accuracy: 0.8484\n",
            "Pruning performed: 2 sub-models removed. 2 remaining.\n",
            "Pruning with keep_ratio=0.5, Accuracy: 0.8132\n",
            "Pruning performed: 3 sub-models removed. 1 remaining.\n",
            "Pruning with keep_ratio=0.25, Accuracy: 0.7714\n",
            "Epoch 19, Test Loss: 0.0101, Accuracy: 0.9123\n"
          ]
        },
        {
          "output_type": "stream",
          "name": "stderr",
          "text": [
            "Epoch 20/35: 100%|██████████| 15/15 [00:00<00:00, 323.87it/s]\n"
          ]
        },
        {
          "output_type": "stream",
          "name": "stdout",
          "text": [
            "Epoch 20, Loss: 0.01220302951859904\n",
            "Pruning performed: 0 sub-models removed. 4 remaining.\n",
            "Pruning with keep_ratio=1.0, Accuracy: 0.8769\n",
            "Pruning performed: 1 sub-models removed. 3 remaining.\n",
            "Pruning with keep_ratio=0.75, Accuracy: 0.7868\n",
            "Pruning performed: 2 sub-models removed. 2 remaining.\n",
            "Pruning with keep_ratio=0.5, Accuracy: 0.8396\n",
            "Pruning performed: 3 sub-models removed. 1 remaining.\n",
            "Pruning with keep_ratio=0.25, Accuracy: 0.6066\n",
            "Epoch 20, Test Loss: 0.0101, Accuracy: 0.9123\n"
          ]
        },
        {
          "output_type": "stream",
          "name": "stderr",
          "text": [
            "Epoch 21/35: 100%|██████████| 15/15 [00:00<00:00, 363.10it/s]\n"
          ]
        },
        {
          "output_type": "stream",
          "name": "stdout",
          "text": [
            "Epoch 21, Loss: 0.014403989976579016\n",
            "Pruning performed: 0 sub-models removed. 4 remaining.\n",
            "Pruning with keep_ratio=1.0, Accuracy: 0.8769\n",
            "Pruning performed: 1 sub-models removed. 3 remaining.\n",
            "Pruning with keep_ratio=0.75, Accuracy: 0.7868\n",
            "Pruning performed: 2 sub-models removed. 2 remaining.\n",
            "Pruning with keep_ratio=0.5, Accuracy: 0.7670\n",
            "Pruning performed: 3 sub-models removed. 1 remaining.\n",
            "Pruning with keep_ratio=0.25, Accuracy: 0.8484\n",
            "Epoch 21, Test Loss: 0.0101, Accuracy: 0.9123\n"
          ]
        },
        {
          "output_type": "stream",
          "name": "stderr",
          "text": [
            "Epoch 22/35: 100%|██████████| 15/15 [00:00<00:00, 365.10it/s]\n"
          ]
        },
        {
          "output_type": "stream",
          "name": "stdout",
          "text": [
            "Epoch 22, Loss: 0.013007506498923668\n",
            "Pruning performed: 0 sub-models removed. 4 remaining.\n",
            "Pruning with keep_ratio=1.0, Accuracy: 0.8769\n",
            "Pruning performed: 1 sub-models removed. 3 remaining.\n",
            "Pruning with keep_ratio=0.75, Accuracy: 0.8484\n",
            "Pruning performed: 2 sub-models removed. 2 remaining.\n",
            "Pruning with keep_ratio=0.5, Accuracy: 0.7670\n",
            "Pruning performed: 3 sub-models removed. 1 remaining.\n",
            "Pruning with keep_ratio=0.25, Accuracy: 0.8484\n",
            "Epoch 22, Test Loss: 0.0101, Accuracy: 0.9123\n"
          ]
        },
        {
          "output_type": "stream",
          "name": "stderr",
          "text": [
            "Epoch 23/35: 100%|██████████| 15/15 [00:00<00:00, 374.24it/s]\n"
          ]
        },
        {
          "output_type": "stream",
          "name": "stdout",
          "text": [
            "Epoch 23, Loss: 0.012236318155959412\n",
            "Pruning performed: 0 sub-models removed. 4 remaining.\n",
            "Pruning with keep_ratio=1.0, Accuracy: 0.8769\n",
            "Pruning performed: 1 sub-models removed. 3 remaining.\n",
            "Pruning with keep_ratio=0.75, Accuracy: 0.8484\n",
            "Pruning performed: 2 sub-models removed. 2 remaining.\n",
            "Pruning with keep_ratio=0.5, Accuracy: 0.7670\n",
            "Pruning performed: 3 sub-models removed. 1 remaining.\n",
            "Pruning with keep_ratio=0.25, Accuracy: 0.6374\n",
            "Epoch 23, Test Loss: 0.0101, Accuracy: 0.9123\n"
          ]
        },
        {
          "output_type": "stream",
          "name": "stderr",
          "text": [
            "Epoch 24/35: 100%|██████████| 15/15 [00:00<00:00, 371.99it/s]"
          ]
        },
        {
          "output_type": "stream",
          "name": "stdout",
          "text": [
            "Epoch 24, Loss: 0.013474351134929029\n",
            "Pruning performed: 0 sub-models removed. 4 remaining.\n"
          ]
        },
        {
          "output_type": "stream",
          "name": "stderr",
          "text": [
            "\n"
          ]
        },
        {
          "output_type": "stream",
          "name": "stdout",
          "text": [
            "Pruning with keep_ratio=1.0, Accuracy: 0.8769\n",
            "Pruning performed: 1 sub-models removed. 3 remaining.\n",
            "Pruning with keep_ratio=0.75, Accuracy: 0.8484\n",
            "Pruning performed: 2 sub-models removed. 2 remaining.\n",
            "Pruning with keep_ratio=0.5, Accuracy: 0.8396\n",
            "Pruning performed: 3 sub-models removed. 1 remaining.\n",
            "Pruning with keep_ratio=0.25, Accuracy: 0.8484\n",
            "Epoch 24, Test Loss: 0.0101, Accuracy: 0.9123\n"
          ]
        },
        {
          "output_type": "stream",
          "name": "stderr",
          "text": [
            "Epoch 25/35: 100%|██████████| 15/15 [00:00<00:00, 349.03it/s]\n"
          ]
        },
        {
          "output_type": "stream",
          "name": "stdout",
          "text": [
            "Epoch 25, Loss: 0.012630813134895577\n",
            "Pruning performed: 0 sub-models removed. 4 remaining.\n",
            "Pruning with keep_ratio=1.0, Accuracy: 0.8769\n",
            "Pruning performed: 1 sub-models removed. 3 remaining.\n",
            "Pruning with keep_ratio=0.75, Accuracy: 0.8484\n",
            "Pruning performed: 2 sub-models removed. 2 remaining.\n",
            "Pruning with keep_ratio=0.5, Accuracy: 0.8396\n",
            "Pruning performed: 3 sub-models removed. 1 remaining.\n",
            "Pruning with keep_ratio=0.25, Accuracy: 0.8484\n",
            "Epoch 25, Test Loss: 0.0101, Accuracy: 0.9123\n"
          ]
        },
        {
          "output_type": "stream",
          "name": "stderr",
          "text": [
            "Epoch 26/35: 100%|██████████| 15/15 [00:00<00:00, 377.73it/s]\n"
          ]
        },
        {
          "output_type": "stream",
          "name": "stdout",
          "text": [
            "Epoch 26, Loss: 0.013031399381029736\n",
            "Pruning performed: 0 sub-models removed. 4 remaining.\n",
            "Pruning with keep_ratio=1.0, Accuracy: 0.8769\n",
            "Pruning performed: 1 sub-models removed. 3 remaining.\n",
            "Pruning with keep_ratio=0.75, Accuracy: 0.8484\n",
            "Pruning performed: 2 sub-models removed. 2 remaining.\n",
            "Pruning with keep_ratio=0.5, Accuracy: 0.8396\n",
            "Pruning performed: 3 sub-models removed. 1 remaining.\n",
            "Pruning with keep_ratio=0.25, Accuracy: 0.8484\n",
            "Epoch 26, Test Loss: 0.0101, Accuracy: 0.9123\n"
          ]
        },
        {
          "output_type": "stream",
          "name": "stderr",
          "text": [
            "Epoch 27/35: 100%|██████████| 15/15 [00:00<00:00, 290.58it/s]\n"
          ]
        },
        {
          "output_type": "stream",
          "name": "stdout",
          "text": [
            "Epoch 27, Loss: 0.012383280317861955\n",
            "Pruning performed: 0 sub-models removed. 4 remaining.\n",
            "Pruning with keep_ratio=1.0, Accuracy: 0.8769\n",
            "Pruning performed: 1 sub-models removed. 3 remaining.\n",
            "Pruning with keep_ratio=0.75, Accuracy: 0.7868\n",
            "Pruning performed: 2 sub-models removed. 2 remaining.\n",
            "Pruning with keep_ratio=0.5, Accuracy: 0.7736\n",
            "Pruning performed: 3 sub-models removed. 1 remaining.\n",
            "Pruning with keep_ratio=0.25, Accuracy: 0.7714\n",
            "Epoch 27, Test Loss: 0.0101, Accuracy: 0.9123\n"
          ]
        },
        {
          "output_type": "stream",
          "name": "stderr",
          "text": [
            "Epoch 28/35: 100%|██████████| 15/15 [00:00<00:00, 368.35it/s]\n"
          ]
        },
        {
          "output_type": "stream",
          "name": "stdout",
          "text": [
            "Epoch 28, Loss: 0.01269049978518224\n",
            "Pruning performed: 0 sub-models removed. 4 remaining.\n",
            "Pruning with keep_ratio=1.0, Accuracy: 0.8769\n",
            "Pruning performed: 1 sub-models removed. 3 remaining.\n",
            "Pruning with keep_ratio=0.75, Accuracy: 0.7868\n",
            "Pruning performed: 2 sub-models removed. 2 remaining.\n",
            "Pruning with keep_ratio=0.5, Accuracy: 0.8396\n",
            "Pruning performed: 3 sub-models removed. 1 remaining.\n",
            "Pruning with keep_ratio=0.25, Accuracy: 0.8484\n",
            "Epoch 28, Test Loss: 0.0101, Accuracy: 0.9123\n"
          ]
        },
        {
          "output_type": "stream",
          "name": "stderr",
          "text": [
            "Epoch 29/35: 100%|██████████| 15/15 [00:00<00:00, 348.73it/s]\n"
          ]
        },
        {
          "output_type": "stream",
          "name": "stdout",
          "text": [
            "Epoch 29, Loss: 0.01268532335103213\n",
            "Pruning performed: 0 sub-models removed. 4 remaining.\n",
            "Pruning with keep_ratio=1.0, Accuracy: 0.8769\n",
            "Pruning performed: 1 sub-models removed. 3 remaining.\n",
            "Pruning with keep_ratio=0.75, Accuracy: 0.8484\n",
            "Pruning performed: 2 sub-models removed. 2 remaining.\n",
            "Pruning with keep_ratio=0.5, Accuracy: 0.8396\n",
            "Pruning performed: 3 sub-models removed. 1 remaining.\n",
            "Pruning with keep_ratio=0.25, Accuracy: 0.7714\n",
            "Epoch 29, Test Loss: 0.0101, Accuracy: 0.9123\n"
          ]
        },
        {
          "output_type": "stream",
          "name": "stderr",
          "text": [
            "Epoch 30/35: 100%|██████████| 15/15 [00:00<00:00, 362.18it/s]\n"
          ]
        },
        {
          "output_type": "stream",
          "name": "stdout",
          "text": [
            "Epoch 30, Loss: 0.01263538834812877\n",
            "Pruning performed: 0 sub-models removed. 4 remaining.\n",
            "Pruning with keep_ratio=1.0, Accuracy: 0.8769\n",
            "Pruning performed: 1 sub-models removed. 3 remaining.\n",
            "Pruning with keep_ratio=0.75, Accuracy: 0.8484\n",
            "Pruning performed: 2 sub-models removed. 2 remaining.\n",
            "Pruning with keep_ratio=0.5, Accuracy: 0.8396\n",
            "Pruning performed: 3 sub-models removed. 1 remaining.\n",
            "Pruning with keep_ratio=0.25, Accuracy: 0.8484\n",
            "Epoch 30, Test Loss: 0.0101, Accuracy: 0.9123\n"
          ]
        },
        {
          "output_type": "stream",
          "name": "stderr",
          "text": [
            "Epoch 31/35: 100%|██████████| 15/15 [00:00<00:00, 342.37it/s]\n"
          ]
        },
        {
          "output_type": "stream",
          "name": "stdout",
          "text": [
            "Epoch 31, Loss: 0.01182885209282676\n",
            "Pruning performed: 0 sub-models removed. 4 remaining.\n",
            "Pruning with keep_ratio=1.0, Accuracy: 0.8769\n",
            "Pruning performed: 1 sub-models removed. 3 remaining.\n",
            "Pruning with keep_ratio=0.75, Accuracy: 0.8484\n",
            "Pruning performed: 2 sub-models removed. 2 remaining.\n",
            "Pruning with keep_ratio=0.5, Accuracy: 0.8396\n",
            "Pruning performed: 3 sub-models removed. 1 remaining.\n",
            "Pruning with keep_ratio=0.25, Accuracy: 0.7714\n",
            "Epoch 31, Test Loss: 0.0101, Accuracy: 0.9123\n"
          ]
        },
        {
          "output_type": "stream",
          "name": "stderr",
          "text": [
            "Epoch 32/35: 100%|██████████| 15/15 [00:00<00:00, 356.85it/s]"
          ]
        },
        {
          "output_type": "stream",
          "name": "stdout",
          "text": [
            "Epoch 32, Loss: 0.01370882125018717\n"
          ]
        },
        {
          "output_type": "stream",
          "name": "stderr",
          "text": [
            "\n"
          ]
        },
        {
          "output_type": "stream",
          "name": "stdout",
          "text": [
            "Pruning performed: 0 sub-models removed. 4 remaining.\n",
            "Pruning with keep_ratio=1.0, Accuracy: 0.8769\n",
            "Pruning performed: 1 sub-models removed. 3 remaining.\n",
            "Pruning with keep_ratio=0.75, Accuracy: 0.8484\n",
            "Pruning performed: 2 sub-models removed. 2 remaining.\n",
            "Pruning with keep_ratio=0.5, Accuracy: 0.8132\n",
            "Pruning performed: 3 sub-models removed. 1 remaining.\n",
            "Pruning with keep_ratio=0.25, Accuracy: 0.7714\n",
            "Epoch 32, Test Loss: 0.0101, Accuracy: 0.9123\n"
          ]
        },
        {
          "output_type": "stream",
          "name": "stderr",
          "text": [
            "Epoch 33/35: 100%|██████████| 15/15 [00:00<00:00, 292.88it/s]\n"
          ]
        },
        {
          "output_type": "stream",
          "name": "stdout",
          "text": [
            "Epoch 33, Loss: 0.01448016847882952\n",
            "Pruning performed: 0 sub-models removed. 4 remaining.\n",
            "Pruning with keep_ratio=1.0, Accuracy: 0.8769\n",
            "Pruning performed: 1 sub-models removed. 3 remaining.\n",
            "Pruning with keep_ratio=0.75, Accuracy: 0.8484\n",
            "Pruning performed: 2 sub-models removed. 2 remaining.\n",
            "Pruning with keep_ratio=0.5, Accuracy: 0.8132\n",
            "Pruning performed: 3 sub-models removed. 1 remaining.\n",
            "Pruning with keep_ratio=0.25, Accuracy: 0.8484\n",
            "Epoch 33, Test Loss: 0.0101, Accuracy: 0.9123\n"
          ]
        },
        {
          "output_type": "stream",
          "name": "stderr",
          "text": [
            "Epoch 34/35: 100%|██████████| 15/15 [00:00<00:00, 273.97it/s]\n"
          ]
        },
        {
          "output_type": "stream",
          "name": "stdout",
          "text": [
            "Epoch 34, Loss: 0.013182648426883823\n",
            "Pruning performed: 0 sub-models removed. 4 remaining.\n",
            "Pruning with keep_ratio=1.0, Accuracy: 0.8769\n",
            "Pruning performed: 1 sub-models removed. 3 remaining.\n",
            "Pruning with keep_ratio=0.75, Accuracy: 0.8484\n",
            "Pruning performed: 2 sub-models removed. 2 remaining.\n",
            "Pruning with keep_ratio=0.5, Accuracy: 0.8132\n",
            "Pruning performed: 3 sub-models removed. 1 remaining.\n",
            "Pruning with keep_ratio=0.25, Accuracy: 0.8484\n",
            "Epoch 34, Test Loss: 0.0101, Accuracy: 0.9123\n"
          ]
        },
        {
          "output_type": "stream",
          "name": "stderr",
          "text": [
            "Epoch 35/35: 100%|██████████| 15/15 [00:00<00:00, 363.81it/s]\n"
          ]
        },
        {
          "output_type": "stream",
          "name": "stdout",
          "text": [
            "Epoch 35, Loss: 0.011912210220163996\n",
            "Pruning performed: 0 sub-models removed. 4 remaining.\n",
            "Pruning with keep_ratio=1.0, Accuracy: 0.8769\n",
            "Pruning performed: 1 sub-models removed. 3 remaining.\n",
            "Pruning with keep_ratio=0.75, Accuracy: 0.8484\n",
            "Pruning performed: 2 sub-models removed. 2 remaining.\n",
            "Pruning with keep_ratio=0.5, Accuracy: 0.8396\n",
            "Pruning performed: 3 sub-models removed. 1 remaining.\n",
            "Pruning with keep_ratio=0.25, Accuracy: 0.8484\n",
            "Epoch 35, Test Loss: 0.0101, Accuracy: 0.9123\n"
          ]
        },
        {
          "output_type": "display_data",
          "data": {
            "text/plain": [
              "<Figure size 1200x500 with 2 Axes>"
            ],
            "image/png": "[encoded data removed]"
          },
          "metadata": {}
        },
        {
          "output_type": "stream",
          "name": "stdout",
          "text": [
            "Best configuration of the model {'k': 4}\n"
          ]
        },
        {
          "output_type": "display_data",
          "data": {
            "text/plain": [
              "{'accuracy': tensor(0.9123),\n",
              " 'loss': 0.010065078996775443,\n",
              " 'f1_score': 0.923105917828873,\n",
              " 'precision': 0.8681318681318682,\n",
              " 'recall': 0.9855130784708249,\n",
              " 'auc_score': 0.8691684993683029,\n",
              " 'rmse': None,\n",
              " 'r2': None,\n",
              " 'execution_time': 5.460657119750977}"
            ]
          },
          "metadata": {}
        },
        {
          "output_type": "stream",
          "name": "stdout",
          "text": [
            "Model and configuration saved to breast_cancer_best_model.pth\n",
            "Model loaded from breast_cancer_best_model.pth\n",
            "Loading the model ...\n",
            "Test Loss: 0.0101, Accuracy: 0.9123\n",
            "\n",
            "\n",
            " *** Processing adult_income dataset...\n"
          ]
        },
        {
          "output_type": "stream",
          "name": "stderr",
          "text": [
            "<ipython-input-3-bc070156fd1c>:671: FutureWarning: You are using `torch.load` with `weights_only=False` (the current default value), which uses the default pickle module implicitly. It is possible to construct malicious pickle data which will execute arbitrary code during unpickling (See https://github.com/pytorch/pytorch/blob/main/SECURITY.md#untrusted-models for more details). In a future release, the default value for `weights_only` will be flipped to `True`. This limits the functions that could be executed during unpickling. Arbitrary objects will no longer be allowed to be loaded via this mode unless they are explicitly allowlisted by the user via `torch.serialization.add_safe_globals`. We recommend you start setting `weights_only=True` for any use case where you don't have full control of the loaded file. Please open an issue on GitHub for any issues related to this experimental feature.\n",
            "  checkpoint = torch.load(filepath)\n"
          ]
        },
        {
          "output_type": "stream",
          "name": "stdout",
          "text": [
            "\n",
            "Pruning with keep_ratio = 1\n",
            "Pruning performed: 0 sub-models removed. 32 remaining.\n",
            "Overall accuracy after pruning: 0.4288\n",
            "\n",
            "Pruning with keep_ratio = 0.75\n",
            "Pruning performed: 8 sub-models removed. 24 remaining.\n",
            "Overall accuracy after pruning: 0.7270\n",
            "\n",
            "Pruning with keep_ratio = 0.5\n",
            "Pruning performed: 12 sub-models removed. 12 remaining.\n",
            "Overall accuracy after pruning: 0.5977\n",
            "\n",
            "Pruning with keep_ratio = 0.25\n",
            "Pruning performed: 9 sub-models removed. 3 remaining.\n",
            "Overall accuracy after pruning: 0.6566\n",
            "\n",
            "Pruning with keep_ratio = 0.1\n",
            "Pruning performed: 2 sub-models removed. 1 remaining.\n",
            "Overall accuracy after pruning: 0.6415\n"
          ]
        },
        {
          "output_type": "stream",
          "name": "stderr",
          "text": [
            "Epoch 1/18: 100%|██████████| 1222/1222 [00:19<00:00, 62.34it/s]\n"
          ]
        },
        {
          "output_type": "stream",
          "name": "stdout",
          "text": [
            "Epoch 1, Loss: 0.016090189921243604\n",
            "Pruning performed: 0 sub-models removed. 32 remaining.\n",
            "Pruning with keep_ratio=1.0, Accuracy: 0.8173\n",
            "Pruning performed: 8 sub-models removed. 24 remaining.\n",
            "Pruning with keep_ratio=0.75, Accuracy: 0.7347\n",
            "Pruning performed: 16 sub-models removed. 16 remaining.\n",
            "Pruning with keep_ratio=0.5, Accuracy: 0.7702\n",
            "Pruning performed: 24 sub-models removed. 8 remaining.\n",
            "Pruning with keep_ratio=0.25, Accuracy: 0.3582\n",
            "Epoch 1, Test Loss: 0.0123, Accuracy: 0.8266\n"
          ]
        },
        {
          "output_type": "stream",
          "name": "stderr",
          "text": [
            "Epoch 2/18: 100%|██████████| 1222/1222 [00:13<00:00, 90.32it/s]\n"
          ]
        },
        {
          "output_type": "stream",
          "name": "stdout",
          "text": [
            "Epoch 2, Loss: 0.013371545936124489\n",
            "Pruning performed: 0 sub-models removed. 32 remaining.\n",
            "Pruning with keep_ratio=1.0, Accuracy: 0.8173\n",
            "Pruning performed: 8 sub-models removed. 24 remaining.\n",
            "Pruning with keep_ratio=0.75, Accuracy: 0.8003\n",
            "Pruning performed: 16 sub-models removed. 16 remaining.\n",
            "Pruning with keep_ratio=0.5, Accuracy: 0.6326\n",
            "Pruning performed: 24 sub-models removed. 8 remaining.\n",
            "Pruning with keep_ratio=0.25, Accuracy: 0.7839\n",
            "Epoch 2, Test Loss: 0.0123, Accuracy: 0.8266\n"
          ]
        },
        {
          "output_type": "stream",
          "name": "stderr",
          "text": [
            "Epoch 3/18: 100%|██████████| 1222/1222 [00:15<00:00, 79.41it/s] \n"
          ]
        },
        {
          "output_type": "stream",
          "name": "stdout",
          "text": [
            "Epoch 3, Loss: 0.01344246298621603\n",
            "Pruning performed: 0 sub-models removed. 32 remaining.\n",
            "Pruning with keep_ratio=1.0, Accuracy: 0.8173\n",
            "Pruning performed: 8 sub-models removed. 24 remaining.\n",
            "Pruning with keep_ratio=0.75, Accuracy: 0.7954\n",
            "Pruning performed: 16 sub-models removed. 16 remaining.\n",
            "Pruning with keep_ratio=0.5, Accuracy: 0.7723\n",
            "Pruning performed: 24 sub-models removed. 8 remaining.\n",
            "Pruning with keep_ratio=0.25, Accuracy: 0.7589\n",
            "Epoch 3, Test Loss: 0.0123, Accuracy: 0.8266\n"
          ]
        },
        {
          "output_type": "stream",
          "name": "stderr",
          "text": [
            "Epoch 4/18: 100%|██████████| 1222/1222 [00:13<00:00, 90.54it/s] \n"
          ]
        },
        {
          "output_type": "stream",
          "name": "stdout",
          "text": [
            "Epoch 4, Loss: 0.01341767000609887\n",
            "Pruning performed: 0 sub-models removed. 32 remaining.\n",
            "Pruning with keep_ratio=1.0, Accuracy: 0.8173\n",
            "Pruning performed: 8 sub-models removed. 24 remaining.\n",
            "Pruning with keep_ratio=0.75, Accuracy: 0.7439\n",
            "Pruning performed: 16 sub-models removed. 16 remaining.\n",
            "Pruning with keep_ratio=0.5, Accuracy: 0.7596\n",
            "Pruning performed: 24 sub-models removed. 8 remaining.\n",
            "Pruning with keep_ratio=0.25, Accuracy: 0.4586\n",
            "Epoch 4, Test Loss: 0.0123, Accuracy: 0.8266\n"
          ]
        },
        {
          "output_type": "stream",
          "name": "stderr",
          "text": [
            "Epoch 5/18: 100%|██████████| 1222/1222 [00:13<00:00, 93.02it/s]\n"
          ]
        },
        {
          "output_type": "stream",
          "name": "stdout",
          "text": [
            "Epoch 5, Loss: 0.013416209031011121\n",
            "Pruning performed: 0 sub-models removed. 32 remaining.\n",
            "Pruning with keep_ratio=1.0, Accuracy: 0.8173\n",
            "Pruning performed: 8 sub-models removed. 24 remaining.\n",
            "Pruning with keep_ratio=0.75, Accuracy: 0.7588\n",
            "Pruning performed: 16 sub-models removed. 16 remaining.\n",
            "Pruning with keep_ratio=0.5, Accuracy: 0.7822\n",
            "Pruning performed: 24 sub-models removed. 8 remaining.\n",
            "Pruning with keep_ratio=0.25, Accuracy: 0.7664\n",
            "Epoch 5, Test Loss: 0.0123, Accuracy: 0.8266\n"
          ]
        },
        {
          "output_type": "stream",
          "name": "stderr",
          "text": [
            "Epoch 6/18: 100%|██████████| 1222/1222 [00:28<00:00, 43.33it/s] \n"
          ]
        },
        {
          "output_type": "stream",
          "name": "stdout",
          "text": [
            "Epoch 6, Loss: 0.013437353862264611\n",
            "Pruning performed: 0 sub-models removed. 32 remaining.\n",
            "Pruning with keep_ratio=1.0, Accuracy: 0.8173\n",
            "Pruning performed: 8 sub-models removed. 24 remaining.\n",
            "Pruning with keep_ratio=0.75, Accuracy: 0.7542\n",
            "Pruning performed: 16 sub-models removed. 16 remaining.\n",
            "Pruning with keep_ratio=0.5, Accuracy: 0.7786\n",
            "Pruning performed: 24 sub-models removed. 8 remaining.\n",
            "Pruning with keep_ratio=0.25, Accuracy: 0.7937\n",
            "Epoch 6, Test Loss: 0.0123, Accuracy: 0.8266\n"
          ]
        },
        {
          "output_type": "stream",
          "name": "stderr",
          "text": [
            "Epoch 7/18: 100%|██████████| 1222/1222 [00:18<00:00, 67.05it/s] \n"
          ]
        },
        {
          "output_type": "stream",
          "name": "stdout",
          "text": [
            "Epoch 7, Loss: 0.013396231203648162\n",
            "Pruning performed: 0 sub-models removed. 32 remaining.\n",
            "Pruning with keep_ratio=1.0, Accuracy: 0.8173\n",
            "Pruning performed: 8 sub-models removed. 24 remaining.\n",
            "Pruning with keep_ratio=0.75, Accuracy: 0.7821\n",
            "Pruning performed: 16 sub-models removed. 16 remaining.\n",
            "Pruning with keep_ratio=0.5, Accuracy: 0.7601\n",
            "Pruning performed: 24 sub-models removed. 8 remaining.\n",
            "Pruning with keep_ratio=0.25, Accuracy: 0.7599\n",
            "Epoch 7, Test Loss: 0.0123, Accuracy: 0.8266\n"
          ]
        },
        {
          "output_type": "stream",
          "name": "stderr",
          "text": [
            "Epoch 8/18: 100%|██████████| 1222/1222 [00:18<00:00, 66.97it/s] \n"
          ]
        },
        {
          "output_type": "stream",
          "name": "stdout",
          "text": [
            "Epoch 8, Loss: 0.01334816049315817\n",
            "Pruning performed: 0 sub-models removed. 32 remaining.\n",
            "Pruning with keep_ratio=1.0, Accuracy: 0.8173\n",
            "Pruning performed: 8 sub-models removed. 24 remaining.\n",
            "Pruning with keep_ratio=0.75, Accuracy: 0.7925\n",
            "Pruning performed: 16 sub-models removed. 16 remaining.\n",
            "Pruning with keep_ratio=0.5, Accuracy: 0.5742\n",
            "Pruning performed: 24 sub-models removed. 8 remaining.\n",
            "Pruning with keep_ratio=0.25, Accuracy: 0.5847\n",
            "Epoch 8, Test Loss: 0.0123, Accuracy: 0.8266\n"
          ]
        },
        {
          "output_type": "stream",
          "name": "stderr",
          "text": [
            "Epoch 9/18: 100%|██████████| 1222/1222 [00:12<00:00, 94.23it/s] \n"
          ]
        },
        {
          "output_type": "stream",
          "name": "stdout",
          "text": [
            "Epoch 9, Loss: 0.013418096555794729\n",
            "Pruning performed: 0 sub-models removed. 32 remaining.\n",
            "Pruning with keep_ratio=1.0, Accuracy: 0.8173\n",
            "Pruning performed: 8 sub-models removed. 24 remaining.\n",
            "Pruning with keep_ratio=0.75, Accuracy: 0.8057\n",
            "Pruning performed: 16 sub-models removed. 16 remaining.\n",
            "Pruning with keep_ratio=0.5, Accuracy: 0.7910\n",
            "Pruning performed: 24 sub-models removed. 8 remaining.\n",
            "Pruning with keep_ratio=0.25, Accuracy: 0.7603\n",
            "Epoch 9, Test Loss: 0.0123, Accuracy: 0.8266\n"
          ]
        },
        {
          "output_type": "stream",
          "name": "stderr",
          "text": [
            "Epoch 10/18: 100%|██████████| 1222/1222 [00:13<00:00, 93.69it/s]\n"
          ]
        },
        {
          "output_type": "stream",
          "name": "stdout",
          "text": [
            "Epoch 10, Loss: 0.013443612420900329\n",
            "Pruning performed: 0 sub-models removed. 32 remaining.\n",
            "Pruning with keep_ratio=1.0, Accuracy: 0.8173\n",
            "Pruning performed: 8 sub-models removed. 24 remaining.\n",
            "Pruning with keep_ratio=0.75, Accuracy: 0.7926\n",
            "Pruning performed: 16 sub-models removed. 16 remaining.\n",
            "Pruning with keep_ratio=0.5, Accuracy: 0.6865\n",
            "Pruning performed: 24 sub-models removed. 8 remaining.\n",
            "Pruning with keep_ratio=0.25, Accuracy: 0.5328\n",
            "Epoch 10, Test Loss: 0.0123, Accuracy: 0.8266\n"
          ]
        },
        {
          "output_type": "stream",
          "name": "stderr",
          "text": [
            "Epoch 11/18: 100%|██████████| 1222/1222 [00:13<00:00, 93.83it/s] \n"
          ]
        },
        {
          "output_type": "stream",
          "name": "stdout",
          "text": [
            "Epoch 11, Loss: 0.013395143156500368\n",
            "Pruning performed: 0 sub-models removed. 32 remaining.\n",
            "Pruning with keep_ratio=1.0, Accuracy: 0.8173\n",
            "Pruning performed: 8 sub-models removed. 24 remaining.\n",
            "Pruning with keep_ratio=0.75, Accuracy: 0.8010\n",
            "Pruning performed: 16 sub-models removed. 16 remaining.\n",
            "Pruning with keep_ratio=0.5, Accuracy: 0.7795\n",
            "Pruning performed: 24 sub-models removed. 8 remaining.\n",
            "Pruning with keep_ratio=0.25, Accuracy: 0.7839\n",
            "Epoch 11, Test Loss: 0.0123, Accuracy: 0.8266\n"
          ]
        },
        {
          "output_type": "stream",
          "name": "stderr",
          "text": [
            "Epoch 12/18: 100%|██████████| 1222/1222 [00:12<00:00, 94.91it/s] \n"
          ]
        },
        {
          "output_type": "stream",
          "name": "stdout",
          "text": [
            "Epoch 12, Loss: 0.013427435348780348\n",
            "Pruning performed: 0 sub-models removed. 32 remaining.\n",
            "Pruning with keep_ratio=1.0, Accuracy: 0.8173\n",
            "Pruning performed: 8 sub-models removed. 24 remaining.\n",
            "Pruning with keep_ratio=0.75, Accuracy: 0.8059\n",
            "Pruning performed: 16 sub-models removed. 16 remaining.\n",
            "Pruning with keep_ratio=0.5, Accuracy: 0.7999\n",
            "Pruning performed: 24 sub-models removed. 8 remaining.\n",
            "Pruning with keep_ratio=0.25, Accuracy: 0.6883\n",
            "Epoch 12, Test Loss: 0.0123, Accuracy: 0.8266\n"
          ]
        },
        {
          "output_type": "stream",
          "name": "stderr",
          "text": [
            "Epoch 13/18: 100%|██████████| 1222/1222 [00:14<00:00, 85.42it/s] \n"
          ]
        },
        {
          "output_type": "stream",
          "name": "stdout",
          "text": [
            "Epoch 13, Loss: 0.013426205951306598\n",
            "Pruning performed: 0 sub-models removed. 32 remaining.\n",
            "Pruning with keep_ratio=1.0, Accuracy: 0.8173\n",
            "Pruning performed: 8 sub-models removed. 24 remaining.\n",
            "Pruning with keep_ratio=0.75, Accuracy: 0.7984\n",
            "Pruning performed: 16 sub-models removed. 16 remaining.\n",
            "Pruning with keep_ratio=0.5, Accuracy: 0.7977\n",
            "Pruning performed: 24 sub-models removed. 8 remaining.\n",
            "Pruning with keep_ratio=0.25, Accuracy: 0.7597\n",
            "Epoch 13, Test Loss: 0.0123, Accuracy: 0.8266\n"
          ]
        },
        {
          "output_type": "stream",
          "name": "stderr",
          "text": [
            "Epoch 14/18: 100%|██████████| 1222/1222 [00:12<00:00, 95.44it/s]\n"
          ]
        },
        {
          "output_type": "stream",
          "name": "stdout",
          "text": [
            "Epoch 14, Loss: 0.01333775117379735\n",
            "Pruning performed: 0 sub-models removed. 32 remaining.\n",
            "Pruning with keep_ratio=1.0, Accuracy: 0.8173\n",
            "Pruning performed: 8 sub-models removed. 24 remaining.\n",
            "Pruning with keep_ratio=0.75, Accuracy: 0.7876\n",
            "Pruning performed: 16 sub-models removed. 16 remaining.\n",
            "Pruning with keep_ratio=0.5, Accuracy: 0.7727\n",
            "Pruning performed: 24 sub-models removed. 8 remaining.\n",
            "Pruning with keep_ratio=0.25, Accuracy: 0.7624\n",
            "Epoch 14, Test Loss: 0.0123, Accuracy: 0.8266\n"
          ]
        },
        {
          "output_type": "stream",
          "name": "stderr",
          "text": [
            "Epoch 15/18: 100%|██████████| 1222/1222 [00:12<00:00, 94.33it/s] \n"
          ]
        },
        {
          "output_type": "stream",
          "name": "stdout",
          "text": [
            "Epoch 15, Loss: 0.013416865690438567\n",
            "Pruning performed: 0 sub-models removed. 32 remaining.\n",
            "Pruning with keep_ratio=1.0, Accuracy: 0.8173\n",
            "Pruning performed: 8 sub-models removed. 24 remaining.\n",
            "Pruning with keep_ratio=0.75, Accuracy: 0.8009\n",
            "Pruning performed: 16 sub-models removed. 16 remaining.\n",
            "Pruning with keep_ratio=0.5, Accuracy: 0.7757\n",
            "Pruning performed: 24 sub-models removed. 8 remaining.\n",
            "Pruning with keep_ratio=0.25, Accuracy: 0.7973\n",
            "Epoch 15, Test Loss: 0.0123, Accuracy: 0.8266\n"
          ]
        },
        {
          "output_type": "stream",
          "name": "stderr",
          "text": [
            "Epoch 16/18: 100%|██████████| 1222/1222 [00:13<00:00, 92.81it/s] \n"
          ]
        },
        {
          "output_type": "stream",
          "name": "stdout",
          "text": [
            "Epoch 16, Loss: 0.01341382086374638\n",
            "Pruning performed: 0 sub-models removed. 32 remaining.\n",
            "Pruning with keep_ratio=1.0, Accuracy: 0.8173\n",
            "Pruning performed: 8 sub-models removed. 24 remaining.\n",
            "Pruning with keep_ratio=0.75, Accuracy: 0.8073\n",
            "Pruning performed: 16 sub-models removed. 16 remaining.\n",
            "Pruning with keep_ratio=0.5, Accuracy: 0.7734\n",
            "Pruning performed: 24 sub-models removed. 8 remaining.\n",
            "Pruning with keep_ratio=0.25, Accuracy: 0.5652\n",
            "Epoch 16, Test Loss: 0.0123, Accuracy: 0.8266\n"
          ]
        },
        {
          "output_type": "stream",
          "name": "stderr",
          "text": [
            "Epoch 17/18: 100%|██████████| 1222/1222 [00:13<00:00, 93.11it/s]\n"
          ]
        },
        {
          "output_type": "stream",
          "name": "stdout",
          "text": [
            "Epoch 17, Loss: 0.013338129326849517\n",
            "Pruning performed: 0 sub-models removed. 32 remaining.\n",
            "Pruning with keep_ratio=1.0, Accuracy: 0.8173\n",
            "Pruning performed: 8 sub-models removed. 24 remaining.\n",
            "Pruning with keep_ratio=0.75, Accuracy: 0.7507\n",
            "Pruning performed: 16 sub-models removed. 16 remaining.\n",
            "Pruning with keep_ratio=0.5, Accuracy: 0.7597\n",
            "Pruning performed: 24 sub-models removed. 8 remaining.\n",
            "Pruning with keep_ratio=0.25, Accuracy: 0.8013\n",
            "Epoch 17, Test Loss: 0.0123, Accuracy: 0.8266\n"
          ]
        },
        {
          "output_type": "stream",
          "name": "stderr",
          "text": [
            "Epoch 18/18: 100%|██████████| 1222/1222 [00:12<00:00, 94.07it/s] \n"
          ]
        },
        {
          "output_type": "stream",
          "name": "stdout",
          "text": [
            "Epoch 18, Loss: 0.013465456781832644\n",
            "Pruning performed: 0 sub-models removed. 32 remaining.\n",
            "Pruning with keep_ratio=1.0, Accuracy: 0.8173\n",
            "Pruning performed: 8 sub-models removed. 24 remaining.\n",
            "Pruning with keep_ratio=0.75, Accuracy: 0.7506\n",
            "Pruning performed: 16 sub-models removed. 16 remaining.\n",
            "Pruning with keep_ratio=0.5, Accuracy: 0.5590\n",
            "Pruning performed: 24 sub-models removed. 8 remaining.\n",
            "Pruning with keep_ratio=0.25, Accuracy: 0.7728\n",
            "Epoch 18, Test Loss: 0.0123, Accuracy: 0.8266\n"
          ]
        },
        {
          "output_type": "display_data",
          "data": {
            "text/plain": [
              "<Figure size 1200x500 with 2 Axes>"
            ],
            "image/png": "[encoded data removed]"
          },
          "metadata": {}
        },
        {
          "output_type": "stream",
          "name": "stdout",
          "text": [
            "Best configuration of the model {'k': 32}\n"
          ]
        },
        {
          "output_type": "display_data",
          "data": {
            "text/plain": [
              "{'accuracy': tensor(0.8266),\n",
              " 'loss': 0.012332033093308265,\n",
              " 'f1_score': 0.569175991861648,\n",
              " 'precision': 0.6814859926918392,\n",
              " 'recall': 0.488646288209607,\n",
              " 'auc_score': 0.7093585766492614,\n",
              " 'rmse': None,\n",
              " 'r2': None,\n",
              " 'execution_time': 460.2349967956543}"
            ]
          },
          "metadata": {}
        },
        {
          "output_type": "stream",
          "name": "stdout",
          "text": [
            "Model and configuration saved to adult_income_best_model.pth\n",
            "Model loaded from adult_income_best_model.pth\n",
            "Loading the model ...\n"
          ]
        },
        {
          "output_type": "stream",
          "name": "stderr",
          "text": [
            "<ipython-input-3-bc070156fd1c>:671: FutureWarning: You are using `torch.load` with `weights_only=False` (the current default value), which uses the default pickle module implicitly. It is possible to construct malicious pickle data which will execute arbitrary code during unpickling (See https://github.com/pytorch/pytorch/blob/main/SECURITY.md#untrusted-models for more details). In a future release, the default value for `weights_only` will be flipped to `True`. This limits the functions that could be executed during unpickling. Arbitrary objects will no longer be allowed to be loaded via this mode unless they are explicitly allowlisted by the user via `torch.serialization.add_safe_globals`. We recommend you start setting `weights_only=True` for any use case where you don't have full control of the loaded file. Please open an issue on GitHub for any issues related to this experimental feature.\n",
            "  checkpoint = torch.load(filepath)\n"
          ]
        },
        {
          "output_type": "stream",
          "name": "stdout",
          "text": [
            "Test Loss: 0.0123, Accuracy: 0.8266\n",
            "\n",
            "\n",
            " *** Processing california_housing dataset...\n",
            "\n",
            "Pruning with keep_ratio = 1\n",
            "Pruning performed: 0 sub-models removed. 32 remaining.\n",
            "Average loss after pruning: 0.1433\n",
            "\n",
            "Pruning with keep_ratio = 0.75\n",
            "Pruning performed: 8 sub-models removed. 24 remaining.\n",
            "Average loss after pruning: 0.1125\n",
            "\n",
            "Pruning with keep_ratio = 0.5\n",
            "Pruning performed: 12 sub-models removed. 12 remaining.\n",
            "Average loss after pruning: 0.0583\n",
            "\n",
            "Pruning with keep_ratio = 0.25\n",
            "Pruning performed: 9 sub-models removed. 3 remaining.\n",
            "Average loss after pruning: 0.1000\n",
            "\n",
            "Pruning with keep_ratio = 0.1\n",
            "Pruning performed: 2 sub-models removed. 1 remaining.\n",
            "Average loss after pruning: 0.1626\n"
          ]
        },
        {
          "output_type": "stream",
          "name": "stderr",
          "text": [
            "Epoch 1/15: 100%|██████████| 516/516 [00:07<00:00, 71.41it/s]\n"
          ]
        },
        {
          "output_type": "stream",
          "name": "stdout",
          "text": [
            "Epoch 1, Loss: 0.07728078804888525\n",
            "Pruning performed: 0 sub-models removed. 32 remaining.\n",
            "Pruning with keep_ratio=1.0, Train Loss: 11.3895\n",
            "Pruning performed: 8 sub-models removed. 24 remaining.\n",
            "Pruning with keep_ratio=0.75, Train Loss: 37.0188\n",
            "Pruning performed: 16 sub-models removed. 16 remaining.\n",
            "Pruning with keep_ratio=0.5, Train Loss: 62.1353\n",
            "Pruning performed: 24 sub-models removed. 8 remaining.\n",
            "Pruning with keep_ratio=0.25, Train Loss: 85.5341\n",
            "Epoch 1, Test Loss: 98.2747\n"
          ]
        },
        {
          "output_type": "stream",
          "name": "stderr",
          "text": [
            "Epoch 2/15: 100%|██████████| 516/516 [00:04<00:00, 108.80it/s]\n"
          ]
        },
        {
          "output_type": "stream",
          "name": "stdout",
          "text": [
            "Epoch 2, Loss: 0.05119218363592676\n",
            "Pruning performed: 0 sub-models removed. 32 remaining.\n",
            "Pruning with keep_ratio=1.0, Train Loss: 12.6984\n",
            "Pruning performed: 8 sub-models removed. 24 remaining.\n",
            "Pruning with keep_ratio=0.75, Train Loss: 35.7433\n",
            "Pruning performed: 16 sub-models removed. 16 remaining.\n",
            "Pruning with keep_ratio=0.5, Train Loss: 58.7090\n",
            "Pruning performed: 24 sub-models removed. 8 remaining.\n",
            "Pruning with keep_ratio=0.25, Train Loss: 82.0218\n",
            "Epoch 2, Test Loss: 94.7838\n"
          ]
        },
        {
          "output_type": "stream",
          "name": "stderr",
          "text": [
            "Epoch 3/15: 100%|██████████| 516/516 [00:05<00:00, 91.53it/s]\n"
          ]
        },
        {
          "output_type": "stream",
          "name": "stdout",
          "text": [
            "Epoch 3, Loss: 0.05508556664026119\n",
            "Pruning performed: 0 sub-models removed. 32 remaining.\n",
            "Pruning with keep_ratio=1.0, Train Loss: 13.8050\n",
            "Pruning performed: 8 sub-models removed. 24 remaining.\n",
            "Pruning with keep_ratio=0.75, Train Loss: 35.2605\n",
            "Pruning performed: 16 sub-models removed. 16 remaining.\n",
            "Pruning with keep_ratio=0.5, Train Loss: 63.5631\n",
            "Pruning performed: 24 sub-models removed. 8 remaining.\n",
            "Pruning with keep_ratio=0.25, Train Loss: 88.1866\n",
            "Epoch 3, Test Loss: 102.5591\n"
          ]
        },
        {
          "output_type": "stream",
          "name": "stderr",
          "text": [
            "Epoch 4/15: 100%|██████████| 516/516 [00:04<00:00, 114.21it/s]\n"
          ]
        },
        {
          "output_type": "stream",
          "name": "stdout",
          "text": [
            "Epoch 4, Loss: 0.049804179196412016\n",
            "Pruning performed: 0 sub-models removed. 32 remaining.\n",
            "Pruning with keep_ratio=1.0, Train Loss: 11.3397\n",
            "Pruning performed: 8 sub-models removed. 24 remaining.\n",
            "Pruning with keep_ratio=0.75, Train Loss: 35.9621\n",
            "Pruning performed: 16 sub-models removed. 16 remaining.\n",
            "Pruning with keep_ratio=0.5, Train Loss: 62.8239\n",
            "Pruning performed: 24 sub-models removed. 8 remaining.\n",
            "Pruning with keep_ratio=0.25, Train Loss: 85.9934\n",
            "Epoch 4, Test Loss: 98.5465\n"
          ]
        },
        {
          "output_type": "stream",
          "name": "stderr",
          "text": [
            "Epoch 5/15: 100%|██████████| 516/516 [00:05<00:00, 97.98it/s] \n"
          ]
        },
        {
          "output_type": "stream",
          "name": "stdout",
          "text": [
            "Epoch 5, Loss: 0.05244518225550536\n",
            "Pruning performed: 0 sub-models removed. 32 remaining.\n",
            "Pruning with keep_ratio=1.0, Train Loss: 12.9150\n",
            "Pruning performed: 8 sub-models removed. 24 remaining.\n",
            "Pruning with keep_ratio=0.75, Train Loss: 36.2911\n",
            "Pruning performed: 16 sub-models removed. 16 remaining.\n",
            "Pruning with keep_ratio=0.5, Train Loss: 61.6893\n",
            "Pruning performed: 24 sub-models removed. 8 remaining.\n",
            "Pruning with keep_ratio=0.25, Train Loss: 85.9475\n",
            "Epoch 5, Test Loss: 100.8410\n"
          ]
        },
        {
          "output_type": "stream",
          "name": "stderr",
          "text": [
            "Epoch 6/15: 100%|██████████| 516/516 [00:04<00:00, 105.10it/s]\n"
          ]
        },
        {
          "output_type": "stream",
          "name": "stdout",
          "text": [
            "Epoch 6, Loss: 0.047650388828226066\n",
            "Pruning performed: 0 sub-models removed. 32 remaining.\n",
            "Pruning with keep_ratio=1.0, Train Loss: 12.4685\n",
            "Pruning performed: 8 sub-models removed. 24 remaining.\n",
            "Pruning with keep_ratio=0.75, Train Loss: 36.4848\n",
            "Pruning performed: 16 sub-models removed. 16 remaining.\n",
            "Pruning with keep_ratio=0.5, Train Loss: 58.6759\n",
            "Pruning performed: 24 sub-models removed. 8 remaining.\n",
            "Pruning with keep_ratio=0.25, Train Loss: 81.3679\n",
            "Epoch 6, Test Loss: 95.4125\n"
          ]
        },
        {
          "output_type": "stream",
          "name": "stderr",
          "text": [
            "Epoch 7/15: 100%|██████████| 516/516 [00:04<00:00, 115.33it/s]\n"
          ]
        },
        {
          "output_type": "stream",
          "name": "stdout",
          "text": [
            "Epoch 7, Loss: 0.04647323234880329\n",
            "Pruning performed: 0 sub-models removed. 32 remaining.\n",
            "Pruning with keep_ratio=1.0, Train Loss: 11.6494\n",
            "Pruning performed: 8 sub-models removed. 24 remaining.\n",
            "Pruning with keep_ratio=0.75, Train Loss: 37.6073\n",
            "Pruning performed: 16 sub-models removed. 16 remaining.\n",
            "Pruning with keep_ratio=0.5, Train Loss: 60.9196\n",
            "Pruning performed: 24 sub-models removed. 8 remaining.\n",
            "Pruning with keep_ratio=0.25, Train Loss: 86.7515\n",
            "Epoch 7, Test Loss: 100.5728\n"
          ]
        },
        {
          "output_type": "stream",
          "name": "stderr",
          "text": [
            "Epoch 8/15: 100%|██████████| 516/516 [00:05<00:00, 94.59it/s] \n"
          ]
        },
        {
          "output_type": "stream",
          "name": "stdout",
          "text": [
            "Epoch 8, Loss: 0.053962919368343645\n",
            "Pruning performed: 0 sub-models removed. 32 remaining.\n",
            "Pruning with keep_ratio=1.0, Train Loss: 13.6949\n",
            "Pruning performed: 8 sub-models removed. 24 remaining.\n",
            "Pruning with keep_ratio=0.75, Train Loss: 33.8548\n",
            "Pruning performed: 16 sub-models removed. 16 remaining.\n",
            "Pruning with keep_ratio=0.5, Train Loss: 58.0160\n",
            "Pruning performed: 24 sub-models removed. 8 remaining.\n",
            "Pruning with keep_ratio=0.25, Train Loss: 83.7252\n",
            "Epoch 8, Test Loss: 94.8455\n"
          ]
        },
        {
          "output_type": "stream",
          "name": "stderr",
          "text": [
            "Epoch 9/15: 100%|██████████| 516/516 [00:04<00:00, 109.08it/s]\n"
          ]
        },
        {
          "output_type": "stream",
          "name": "stdout",
          "text": [
            "Epoch 9, Loss: 0.05122683374680463\n",
            "Pruning performed: 0 sub-models removed. 32 remaining.\n",
            "Pruning with keep_ratio=1.0, Train Loss: 13.7786\n",
            "Pruning performed: 8 sub-models removed. 24 remaining.\n",
            "Pruning with keep_ratio=0.75, Train Loss: 36.3829\n",
            "Pruning performed: 16 sub-models removed. 16 remaining.\n",
            "Pruning with keep_ratio=0.5, Train Loss: 64.7553\n",
            "Pruning performed: 24 sub-models removed. 8 remaining.\n",
            "Pruning with keep_ratio=0.25, Train Loss: 90.0119\n",
            "Epoch 9, Test Loss: 104.7088\n"
          ]
        },
        {
          "output_type": "stream",
          "name": "stderr",
          "text": [
            "Epoch 10/15: 100%|██████████| 516/516 [00:04<00:00, 113.90it/s]\n"
          ]
        },
        {
          "output_type": "stream",
          "name": "stdout",
          "text": [
            "Epoch 10, Loss: 0.04888569868653435\n",
            "Pruning performed: 0 sub-models removed. 32 remaining.\n",
            "Pruning with keep_ratio=1.0, Train Loss: 12.4106\n",
            "Pruning performed: 8 sub-models removed. 24 remaining.\n",
            "Pruning with keep_ratio=0.75, Train Loss: 37.0229\n",
            "Pruning performed: 16 sub-models removed. 16 remaining.\n",
            "Pruning with keep_ratio=0.5, Train Loss: 63.4572\n",
            "Pruning performed: 24 sub-models removed. 8 remaining.\n",
            "Pruning with keep_ratio=0.25, Train Loss: 89.1860\n",
            "Epoch 10, Test Loss: 102.4940\n"
          ]
        },
        {
          "output_type": "stream",
          "name": "stderr",
          "text": [
            "Epoch 11/15: 100%|██████████| 516/516 [00:05<00:00, 91.11it/s] \n"
          ]
        },
        {
          "output_type": "stream",
          "name": "stdout",
          "text": [
            "Epoch 11, Loss: 0.04913554166970673\n",
            "Pruning performed: 0 sub-models removed. 32 remaining.\n",
            "Pruning with keep_ratio=1.0, Train Loss: 9.5926\n",
            "Pruning performed: 8 sub-models removed. 24 remaining.\n",
            "Pruning with keep_ratio=0.75, Train Loss: 36.3944\n",
            "Pruning performed: 16 sub-models removed. 16 remaining.\n",
            "Pruning with keep_ratio=0.5, Train Loss: 59.5490\n",
            "Pruning performed: 24 sub-models removed. 8 remaining.\n",
            "Pruning with keep_ratio=0.25, Train Loss: 80.1460\n",
            "Epoch 11, Test Loss: 93.1618\n"
          ]
        },
        {
          "output_type": "stream",
          "name": "stderr",
          "text": [
            "Epoch 12/15: 100%|██████████| 516/516 [00:04<00:00, 113.08it/s]\n"
          ]
        },
        {
          "output_type": "stream",
          "name": "stdout",
          "text": [
            "Epoch 12, Loss: 0.050225040783325944\n",
            "Pruning performed: 0 sub-models removed. 32 remaining.\n",
            "Pruning with keep_ratio=1.0, Train Loss: 11.2887\n",
            "Pruning performed: 8 sub-models removed. 24 remaining.\n",
            "Pruning with keep_ratio=0.75, Train Loss: 37.0488\n",
            "Pruning performed: 16 sub-models removed. 16 remaining.\n",
            "Pruning with keep_ratio=0.5, Train Loss: 59.2217\n",
            "Pruning performed: 24 sub-models removed. 8 remaining.\n",
            "Pruning with keep_ratio=0.25, Train Loss: 83.4069\n",
            "Epoch 12, Test Loss: 96.9541\n"
          ]
        },
        {
          "output_type": "stream",
          "name": "stderr",
          "text": [
            "Epoch 13/15: 100%|██████████| 516/516 [00:04<00:00, 114.64it/s]\n"
          ]
        },
        {
          "output_type": "stream",
          "name": "stdout",
          "text": [
            "Epoch 13, Loss: 0.04945819850021959\n",
            "Pruning performed: 0 sub-models removed. 32 remaining.\n",
            "Pruning with keep_ratio=1.0, Train Loss: 14.2858\n",
            "Pruning performed: 8 sub-models removed. 24 remaining.\n",
            "Pruning with keep_ratio=0.75, Train Loss: 37.1675\n",
            "Pruning performed: 16 sub-models removed. 16 remaining.\n",
            "Pruning with keep_ratio=0.5, Train Loss: 57.0684\n",
            "Pruning performed: 24 sub-models removed. 8 remaining.\n",
            "Pruning with keep_ratio=0.25, Train Loss: 79.4635\n",
            "Epoch 13, Test Loss: 92.3172\n"
          ]
        },
        {
          "output_type": "stream",
          "name": "stderr",
          "text": [
            "Epoch 14/15: 100%|██████████| 516/516 [00:05<00:00, 92.53it/s] \n"
          ]
        },
        {
          "output_type": "stream",
          "name": "stdout",
          "text": [
            "Epoch 14, Loss: 0.04861742033363255\n",
            "Pruning performed: 0 sub-models removed. 32 remaining.\n",
            "Pruning with keep_ratio=1.0, Train Loss: 14.2152\n",
            "Pruning performed: 8 sub-models removed. 24 remaining.\n",
            "Pruning with keep_ratio=0.75, Train Loss: 35.2845\n",
            "Pruning performed: 16 sub-models removed. 16 remaining.\n",
            "Pruning with keep_ratio=0.5, Train Loss: 58.7215\n",
            "Pruning performed: 24 sub-models removed. 8 remaining.\n",
            "Pruning with keep_ratio=0.25, Train Loss: 82.5591\n",
            "Epoch 14, Test Loss: 99.0395\n"
          ]
        },
        {
          "output_type": "stream",
          "name": "stderr",
          "text": [
            "Epoch 15/15: 100%|██████████| 516/516 [00:04<00:00, 116.24it/s]\n"
          ]
        },
        {
          "output_type": "stream",
          "name": "stdout",
          "text": [
            "Epoch 15, Loss: 0.05069464148390432\n",
            "Pruning performed: 0 sub-models removed. 32 remaining.\n",
            "Pruning with keep_ratio=1.0, Train Loss: 12.6677\n",
            "Pruning performed: 8 sub-models removed. 24 remaining.\n",
            "Pruning with keep_ratio=0.75, Train Loss: 36.7488\n",
            "Pruning performed: 16 sub-models removed. 16 remaining.\n",
            "Pruning with keep_ratio=0.5, Train Loss: 60.8518\n",
            "Pruning performed: 24 sub-models removed. 8 remaining.\n",
            "Pruning with keep_ratio=0.25, Train Loss: 85.1013\n",
            "Epoch 15, Test Loss: 100.0421\n"
          ]
        },
        {
          "output_type": "display_data",
          "data": {
            "text/plain": [
              "<Figure size 1200x500 with 1 Axes>"
            ],
            "image/png": "[encoded data removed]"
          },
          "metadata": {}
        },
        {
          "output_type": "stream",
          "name": "stdout",
          "text": [
            "Best configuration of the model {'k': 32}\n"
          ]
        },
        {
          "output_type": "display_data",
          "data": {
            "text/plain": [
              "{'accuracy': None,\n",
              " 'loss': 100.04210869840874,\n",
              " 'f1_score': None,\n",
              " 'precision': None,\n",
              " 'recall': None,\n",
              " 'auc_score': None,\n",
              " 'rmse': 1.0999678378666633,\n",
              " 'r2': 0.07667814957434416,\n",
              " 'execution_time': 133.39553928375244}"
            ]
          },
          "metadata": {}
        },
        {
          "output_type": "stream",
          "name": "stdout",
          "text": [
            "Model and configuration saved to california_housing_best_model.pth\n",
            "Model loaded from california_housing_best_model.pth\n",
            "Loading the model ...\n"
          ]
        },
        {
          "output_type": "stream",
          "name": "stderr",
          "text": [
            "<ipython-input-3-bc070156fd1c>:671: FutureWarning: You are using `torch.load` with `weights_only=False` (the current default value), which uses the default pickle module implicitly. It is possible to construct malicious pickle data which will execute arbitrary code during unpickling (See https://github.com/pytorch/pytorch/blob/main/SECURITY.md#untrusted-models for more details). In a future release, the default value for `weights_only` will be flipped to `True`. This limits the functions that could be executed during unpickling. Arbitrary objects will no longer be allowed to be loaded via this mode unless they are explicitly allowlisted by the user via `torch.serialization.add_safe_globals`. We recommend you start setting `weights_only=True` for any use case where you don't have full control of the loaded file. Please open an issue on GitHub for any issues related to this experimental feature.\n",
            "  checkpoint = torch.load(filepath)\n"
          ]
        },
        {
          "output_type": "stream",
          "name": "stdout",
          "text": [
            "Test Loss: 2.1795\n",
            "\n",
            "\n",
            " *** Processing iris dataset...\n",
            "\n",
            "Pruning with keep_ratio = 1\n",
            "Pruning performed: 0 sub-models removed. 32 remaining.\n",
            "Overall accuracy after pruning: 0.3500\n",
            "\n",
            "Pruning with keep_ratio = 0.75\n",
            "Pruning performed: 8 sub-models removed. 24 remaining.\n",
            "Overall accuracy after pruning: 0.4167\n",
            "\n",
            "Pruning with keep_ratio = 0.5\n",
            "Pruning performed: 12 sub-models removed. 12 remaining.\n",
            "Overall accuracy after pruning: 0.6833\n",
            "\n",
            "Pruning with keep_ratio = 0.25\n",
            "Pruning performed: 9 sub-models removed. 3 remaining.\n",
            "Overall accuracy after pruning: 0.5833\n",
            "\n",
            "Pruning with keep_ratio = 0.1\n",
            "Pruning performed: 2 sub-models removed. 1 remaining.\n",
            "Overall accuracy after pruning: 0.6083\n"
          ]
        },
        {
          "output_type": "stream",
          "name": "stderr",
          "text": [
            "Epoch 1/75: 100%|██████████| 4/4 [00:00<00:00, 38.82it/s]\n"
          ]
        },
        {
          "output_type": "stream",
          "name": "stdout",
          "text": [
            "Epoch 1, Loss: 0.06194389263788859\n",
            "Pruning performed: 0 sub-models removed. 32 remaining.\n",
            "Pruning with keep_ratio=1.0, Accuracy: 0.3167\n",
            "Pruning performed: 8 sub-models removed. 24 remaining.\n",
            "Pruning with keep_ratio=0.75, Accuracy: 0.2583\n",
            "Pruning performed: 16 sub-models removed. 16 remaining.\n",
            "Pruning with keep_ratio=0.5, Accuracy: 0.3333\n",
            "Pruning performed: 24 sub-models removed. 8 remaining.\n",
            "Pruning with keep_ratio=0.25, Accuracy: 0.3333\n",
            "Epoch 1, Test Loss: 0.0379, Accuracy: 0.3333\n"
          ]
        },
        {
          "output_type": "stream",
          "name": "stderr",
          "text": [
            "Epoch 2/75: 100%|██████████| 4/4 [00:00<00:00, 143.98it/s]\n"
          ]
        },
        {
          "output_type": "stream",
          "name": "stdout",
          "text": [
            "Epoch 2, Loss: 0.04031879802544912\n",
            "Pruning performed: 0 sub-models removed. 16 remaining.\n",
            "Pruning with keep_ratio=1.0, Accuracy: 0.3333\n",
            "Pruning performed: 4 sub-models removed. 12 remaining.\n",
            "Pruning with keep_ratio=0.75, Accuracy: 0.3583\n",
            "Pruning performed: 8 sub-models removed. 8 remaining.\n",
            "Pruning with keep_ratio=0.5, Accuracy: 0.3750\n",
            "Pruning performed: 12 sub-models removed. 4 remaining.\n",
            "Pruning with keep_ratio=0.25, Accuracy: 0.3417\n",
            "Epoch 2, Test Loss: 0.0379, Accuracy: 0.3333\n"
          ]
        },
        {
          "output_type": "stream",
          "name": "stderr",
          "text": [
            "Epoch 3/75: 100%|██████████| 4/4 [00:00<00:00, 143.22it/s]\n"
          ]
        },
        {
          "output_type": "stream",
          "name": "stdout",
          "text": [
            "Epoch 3, Loss: 0.042047515511512756\n",
            "Pruning performed: 0 sub-models removed. 16 remaining.\n",
            "Pruning with keep_ratio=1.0, Accuracy: 0.3333\n",
            "Pruning performed: 4 sub-models removed. 12 remaining.\n",
            "Pruning with keep_ratio=0.75, Accuracy: 0.1333\n",
            "Pruning performed: 8 sub-models removed. 8 remaining.\n",
            "Pruning with keep_ratio=0.5, Accuracy: 0.4167\n",
            "Pruning performed: 12 sub-models removed. 4 remaining.\n",
            "Pruning with keep_ratio=0.25, Accuracy: 0.3417\n",
            "Epoch 3, Test Loss: 0.0379, Accuracy: 0.3333\n"
          ]
        },
        {
          "output_type": "stream",
          "name": "stderr",
          "text": [
            "Epoch 4/75: 100%|██████████| 4/4 [00:00<00:00, 122.52it/s]"
          ]
        },
        {
          "output_type": "stream",
          "name": "stdout",
          "text": [
            "Epoch 4, Loss: 0.04044817487398784\n",
            "Pruning performed: 0 sub-models removed. 16 remaining.\n",
            "Pruning with keep_ratio=1.0, Accuracy: 0.3333\n"
          ]
        },
        {
          "output_type": "stream",
          "name": "stderr",
          "text": [
            "\n"
          ]
        },
        {
          "output_type": "stream",
          "name": "stdout",
          "text": [
            "Pruning performed: 4 sub-models removed. 12 remaining.\n",
            "Pruning with keep_ratio=0.75, Accuracy: 0.3333\n",
            "Pruning performed: 8 sub-models removed. 8 remaining.\n",
            "Pruning with keep_ratio=0.5, Accuracy: 0.5167\n",
            "Pruning performed: 12 sub-models removed. 4 remaining.\n",
            "Pruning with keep_ratio=0.25, Accuracy: 0.3417\n",
            "Epoch 4, Test Loss: 0.0379, Accuracy: 0.3333\n"
          ]
        },
        {
          "output_type": "stream",
          "name": "stderr",
          "text": [
            "Epoch 5/75: 100%|██████████| 4/4 [00:00<00:00, 135.52it/s]\n"
          ]
        },
        {
          "output_type": "stream",
          "name": "stdout",
          "text": [
            "Epoch 5, Loss: 0.04062563677628835\n",
            "Pruning performed: 0 sub-models removed. 16 remaining.\n",
            "Pruning with keep_ratio=1.0, Accuracy: 0.3333\n",
            "Pruning performed: 4 sub-models removed. 12 remaining.\n",
            "Pruning with keep_ratio=0.75, Accuracy: 0.3583\n",
            "Pruning performed: 8 sub-models removed. 8 remaining.\n",
            "Pruning with keep_ratio=0.5, Accuracy: 0.3333\n",
            "Pruning performed: 12 sub-models removed. 4 remaining.\n",
            "Pruning with keep_ratio=0.25, Accuracy: 0.5250\n",
            "Epoch 5, Test Loss: 0.0379, Accuracy: 0.3333\n"
          ]
        },
        {
          "output_type": "stream",
          "name": "stderr",
          "text": [
            "Epoch 6/75: 100%|██████████| 4/4 [00:00<00:00, 123.66it/s]"
          ]
        },
        {
          "output_type": "stream",
          "name": "stdout",
          "text": [
            "Epoch 6, Loss: 0.04067693948745728\n",
            "Pruning performed: 0 sub-models removed. 16 remaining.\n",
            "Pruning with keep_ratio=1.0, Accuracy: 0.3333\n",
            "Pruning performed: 4 sub-models removed. 12 remaining.\n"
          ]
        },
        {
          "output_type": "stream",
          "name": "stderr",
          "text": [
            "\n"
          ]
        },
        {
          "output_type": "stream",
          "name": "stdout",
          "text": [
            "Pruning with keep_ratio=0.75, Accuracy: 0.3333\n",
            "Pruning performed: 8 sub-models removed. 8 remaining.\n",
            "Pruning with keep_ratio=0.5, Accuracy: 0.3333\n",
            "Pruning performed: 12 sub-models removed. 4 remaining.\n",
            "Pruning with keep_ratio=0.25, Accuracy: 0.4167\n",
            "Epoch 6, Test Loss: 0.0379, Accuracy: 0.3333\n"
          ]
        },
        {
          "output_type": "stream",
          "name": "stderr",
          "text": [
            "Epoch 7/75: 100%|██████████| 4/4 [00:00<00:00, 146.41it/s]"
          ]
        },
        {
          "output_type": "stream",
          "name": "stdout",
          "text": [
            "Epoch 7, Loss: 0.03909253378709157\n"
          ]
        },
        {
          "output_type": "stream",
          "name": "stderr",
          "text": [
            "\n"
          ]
        },
        {
          "output_type": "stream",
          "name": "stdout",
          "text": [
            "Pruning performed: 0 sub-models removed. 16 remaining.\n",
            "Pruning with keep_ratio=1.0, Accuracy: 0.3333\n",
            "Pruning performed: 4 sub-models removed. 12 remaining.\n",
            "Pruning with keep_ratio=0.75, Accuracy: 0.3333\n",
            "Pruning performed: 8 sub-models removed. 8 remaining.\n",
            "Pruning with keep_ratio=0.5, Accuracy: 0.3750\n",
            "Pruning performed: 12 sub-models removed. 4 remaining.\n",
            "Pruning with keep_ratio=0.25, Accuracy: 0.5083\n",
            "Epoch 7, Test Loss: 0.0379, Accuracy: 0.3333\n"
          ]
        },
        {
          "output_type": "stream",
          "name": "stderr",
          "text": [
            "Epoch 8/75: 100%|██████████| 4/4 [00:00<00:00, 168.50it/s]\n"
          ]
        },
        {
          "output_type": "stream",
          "name": "stdout",
          "text": [
            "Epoch 8, Loss: 0.041877190272013344\n",
            "Pruning performed: 0 sub-models removed. 16 remaining.\n",
            "Pruning with keep_ratio=1.0, Accuracy: 0.3333\n",
            "Pruning performed: 4 sub-models removed. 12 remaining.\n",
            "Pruning with keep_ratio=0.75, Accuracy: 0.3833\n",
            "Pruning performed: 8 sub-models removed. 8 remaining.\n",
            "Pruning with keep_ratio=0.5, Accuracy: 0.3750\n",
            "Pruning performed: 12 sub-models removed. 4 remaining.\n",
            "Pruning with keep_ratio=0.25, Accuracy: 0.3333\n",
            "Epoch 8, Test Loss: 0.0379, Accuracy: 0.3333\n"
          ]
        },
        {
          "output_type": "stream",
          "name": "stderr",
          "text": [
            "Epoch 9/75: 100%|██████████| 4/4 [00:00<00:00, 136.30it/s]"
          ]
        },
        {
          "output_type": "stream",
          "name": "stdout",
          "text": [
            "Epoch 9, Loss: 0.040526294708251955\n"
          ]
        },
        {
          "output_type": "stream",
          "name": "stderr",
          "text": [
            "\n"
          ]
        },
        {
          "output_type": "stream",
          "name": "stdout",
          "text": [
            "Pruning performed: 0 sub-models removed. 16 remaining.\n",
            "Pruning with keep_ratio=1.0, Accuracy: 0.3333\n",
            "Pruning performed: 4 sub-models removed. 12 remaining.\n",
            "Pruning with keep_ratio=0.75, Accuracy: 0.3000\n",
            "Pruning performed: 8 sub-models removed. 8 remaining.\n",
            "Pruning with keep_ratio=0.5, Accuracy: 0.6250\n",
            "Pruning performed: 12 sub-models removed. 4 remaining.\n",
            "Pruning with keep_ratio=0.25, Accuracy: 0.3333\n",
            "Epoch 9, Test Loss: 0.0379, Accuracy: 0.3333\n"
          ]
        },
        {
          "output_type": "stream",
          "name": "stderr",
          "text": [
            "Epoch 10/75: 100%|██████████| 4/4 [00:00<00:00, 133.38it/s]\n"
          ]
        },
        {
          "output_type": "stream",
          "name": "stdout",
          "text": [
            "Epoch 10, Loss: 0.04009054700533549\n",
            "Pruning performed: 0 sub-models removed. 16 remaining.\n",
            "Pruning with keep_ratio=1.0, Accuracy: 0.3333\n",
            "Pruning performed: 4 sub-models removed. 12 remaining.\n",
            "Pruning with keep_ratio=0.75, Accuracy: 0.3333\n",
            "Pruning performed: 8 sub-models removed. 8 remaining.\n",
            "Pruning with keep_ratio=0.5, Accuracy: 0.3333\n",
            "Pruning performed: 12 sub-models removed. 4 remaining.\n",
            "Pruning with keep_ratio=0.25, Accuracy: 0.5083\n",
            "Epoch 10, Test Loss: 0.0379, Accuracy: 0.3333\n"
          ]
        },
        {
          "output_type": "stream",
          "name": "stderr",
          "text": [
            "Epoch 11/75: 100%|██████████| 4/4 [00:00<00:00, 144.18it/s]"
          ]
        },
        {
          "output_type": "stream",
          "name": "stdout",
          "text": [
            "Epoch 11, Loss: 0.03963756114244461\n"
          ]
        },
        {
          "output_type": "stream",
          "name": "stderr",
          "text": [
            "\n"
          ]
        },
        {
          "output_type": "stream",
          "name": "stdout",
          "text": [
            "Pruning performed: 0 sub-models removed. 16 remaining.\n",
            "Pruning with keep_ratio=1.0, Accuracy: 0.3333\n",
            "Pruning performed: 4 sub-models removed. 12 remaining.\n",
            "Pruning with keep_ratio=0.75, Accuracy: 0.2667\n",
            "Pruning performed: 8 sub-models removed. 8 remaining.\n",
            "Pruning with keep_ratio=0.5, Accuracy: 0.5167\n",
            "Pruning performed: 12 sub-models removed. 4 remaining.\n",
            "Pruning with keep_ratio=0.25, Accuracy: 0.4167\n",
            "Epoch 11, Test Loss: 0.0343, Accuracy: 0.4000\n"
          ]
        },
        {
          "output_type": "stream",
          "name": "stderr",
          "text": [
            "Epoch 12/75: 100%|██████████| 4/4 [00:00<00:00, 117.33it/s]\n"
          ]
        },
        {
          "output_type": "stream",
          "name": "stdout",
          "text": [
            "Epoch 12, Loss: 0.04112520019213359\n",
            "Pruning performed: 0 sub-models removed. 12 remaining.\n",
            "Pruning with keep_ratio=1.0, Accuracy: 0.2667\n",
            "Pruning performed: 3 sub-models removed. 9 remaining.\n",
            "Pruning with keep_ratio=0.75, Accuracy: 0.3333\n",
            "Pruning performed: 6 sub-models removed. 6 remaining.\n",
            "Pruning with keep_ratio=0.5, Accuracy: 0.6167\n",
            "Pruning performed: 9 sub-models removed. 3 remaining.\n",
            "Pruning with keep_ratio=0.25, Accuracy: 0.4417\n",
            "Epoch 12, Test Loss: 0.0356, Accuracy: 0.3333\n"
          ]
        },
        {
          "output_type": "stream",
          "name": "stderr",
          "text": [
            "Epoch 13/75: 100%|██████████| 4/4 [00:00<00:00, 160.23it/s]\n"
          ]
        },
        {
          "output_type": "stream",
          "name": "stdout",
          "text": [
            "Epoch 13, Loss: 0.04076462984085083\n",
            "Pruning performed: 0 sub-models removed. 9 remaining.\n",
            "Pruning with keep_ratio=1.0, Accuracy: 0.3333\n",
            "Pruning performed: 3 sub-models removed. 6 remaining.\n",
            "Pruning with keep_ratio=0.75, Accuracy: 0.4417\n",
            "Pruning performed: 5 sub-models removed. 4 remaining.\n",
            "Pruning with keep_ratio=0.5, Accuracy: 0.4667\n",
            "Pruning performed: 7 sub-models removed. 2 remaining.\n",
            "Pruning with keep_ratio=0.25, Accuracy: 0.3667\n",
            "Epoch 13, Test Loss: 0.0356, Accuracy: 0.3333\n"
          ]
        },
        {
          "output_type": "stream",
          "name": "stderr",
          "text": [
            "Epoch 14/75: 100%|██████████| 4/4 [00:00<00:00, 156.29it/s]\n"
          ]
        },
        {
          "output_type": "stream",
          "name": "stdout",
          "text": [
            "Epoch 14, Loss: 0.039071210225423175\n",
            "Pruning performed: 0 sub-models removed. 9 remaining.\n",
            "Pruning with keep_ratio=1.0, Accuracy: 0.3333\n",
            "Pruning performed: 3 sub-models removed. 6 remaining.\n",
            "Pruning with keep_ratio=0.75, Accuracy: 0.4417\n",
            "Pruning performed: 5 sub-models removed. 4 remaining.\n",
            "Pruning with keep_ratio=0.5, Accuracy: 0.3417\n",
            "Pruning performed: 7 sub-models removed. 2 remaining.\n",
            "Pruning with keep_ratio=0.25, Accuracy: 0.3500\n",
            "Epoch 14, Test Loss: 0.0356, Accuracy: 0.3333\n"
          ]
        },
        {
          "output_type": "stream",
          "name": "stderr",
          "text": [
            "Epoch 15/75: 100%|██████████| 4/4 [00:00<00:00, 181.25it/s]\n"
          ]
        },
        {
          "output_type": "stream",
          "name": "stdout",
          "text": [
            "Epoch 15, Loss: 0.04020443061987559\n",
            "Pruning performed: 0 sub-models removed. 9 remaining.\n",
            "Pruning with keep_ratio=1.0, Accuracy: 0.3333\n",
            "Pruning performed: 3 sub-models removed. 6 remaining.\n",
            "Pruning with keep_ratio=0.75, Accuracy: 0.4167\n",
            "Pruning performed: 5 sub-models removed. 4 remaining.\n",
            "Pruning with keep_ratio=0.5, Accuracy: 0.3417\n",
            "Pruning performed: 7 sub-models removed. 2 remaining.\n",
            "Pruning with keep_ratio=0.25, Accuracy: 0.3417\n",
            "Epoch 15, Test Loss: 0.0356, Accuracy: 0.3333\n"
          ]
        },
        {
          "output_type": "stream",
          "name": "stderr",
          "text": [
            "Epoch 16/75: 100%|██████████| 4/4 [00:00<00:00, 178.66it/s]\n"
          ]
        },
        {
          "output_type": "stream",
          "name": "stdout",
          "text": [
            "Epoch 16, Loss: 0.038529394070307414\n",
            "Pruning performed: 0 sub-models removed. 9 remaining.\n",
            "Pruning with keep_ratio=1.0, Accuracy: 0.3333\n",
            "Pruning performed: 3 sub-models removed. 6 remaining.\n",
            "Pruning with keep_ratio=0.75, Accuracy: 0.4417\n",
            "Pruning performed: 5 sub-models removed. 4 remaining.\n",
            "Pruning with keep_ratio=0.5, Accuracy: 0.3417\n",
            "Pruning performed: 7 sub-models removed. 2 remaining.\n",
            "Pruning with keep_ratio=0.25, Accuracy: 0.4583\n",
            "Epoch 16, Test Loss: 0.0356, Accuracy: 0.3333\n"
          ]
        },
        {
          "output_type": "stream",
          "name": "stderr",
          "text": [
            "Epoch 17/75: 100%|██████████| 4/4 [00:00<00:00, 198.25it/s]\n"
          ]
        },
        {
          "output_type": "stream",
          "name": "stdout",
          "text": [
            "Epoch 17, Loss: 0.042937299609184264\n",
            "Pruning performed: 0 sub-models removed. 9 remaining.\n",
            "Pruning with keep_ratio=1.0, Accuracy: 0.3333\n",
            "Pruning performed: 3 sub-models removed. 6 remaining.\n",
            "Pruning with keep_ratio=0.75, Accuracy: 0.4417\n",
            "Pruning performed: 5 sub-models removed. 4 remaining.\n",
            "Pruning with keep_ratio=0.5, Accuracy: 0.3417\n",
            "Pruning performed: 7 sub-models removed. 2 remaining.\n",
            "Pruning with keep_ratio=0.25, Accuracy: 0.4583\n",
            "Epoch 17, Test Loss: 0.0356, Accuracy: 0.3333\n"
          ]
        },
        {
          "output_type": "stream",
          "name": "stderr",
          "text": [
            "Epoch 18/75: 100%|██████████| 4/4 [00:00<00:00, 178.61it/s]\n"
          ]
        },
        {
          "output_type": "stream",
          "name": "stdout",
          "text": [
            "Epoch 18, Loss: 0.04351734419663747\n",
            "Pruning performed: 0 sub-models removed. 9 remaining.\n",
            "Pruning with keep_ratio=1.0, Accuracy: 0.3333\n",
            "Pruning performed: 3 sub-models removed. 6 remaining.\n",
            "Pruning with keep_ratio=0.75, Accuracy: 0.4417\n",
            "Pruning performed: 5 sub-models removed. 4 remaining.\n",
            "Pruning with keep_ratio=0.5, Accuracy: 0.3750\n",
            "Pruning performed: 7 sub-models removed. 2 remaining.\n",
            "Pruning with keep_ratio=0.25, Accuracy: 0.3500\n",
            "Epoch 18, Test Loss: 0.0356, Accuracy: 0.3333\n"
          ]
        },
        {
          "output_type": "stream",
          "name": "stderr",
          "text": [
            "Epoch 19/75: 100%|██████████| 4/4 [00:00<00:00, 180.52it/s]\n"
          ]
        },
        {
          "output_type": "stream",
          "name": "stdout",
          "text": [
            "Epoch 19, Loss: 0.040893386801083884\n",
            "Pruning performed: 0 sub-models removed. 9 remaining.\n",
            "Pruning with keep_ratio=1.0, Accuracy: 0.3333\n",
            "Pruning performed: 3 sub-models removed. 6 remaining.\n",
            "Pruning with keep_ratio=0.75, Accuracy: 0.4417\n",
            "Pruning performed: 5 sub-models removed. 4 remaining.\n",
            "Pruning with keep_ratio=0.5, Accuracy: 0.3750\n",
            "Pruning performed: 7 sub-models removed. 2 remaining.\n",
            "Pruning with keep_ratio=0.25, Accuracy: 0.5833\n",
            "Epoch 19, Test Loss: 0.0356, Accuracy: 0.3333\n"
          ]
        },
        {
          "output_type": "stream",
          "name": "stderr",
          "text": [
            "Epoch 20/75: 100%|██████████| 4/4 [00:00<00:00, 189.31it/s]\n"
          ]
        },
        {
          "output_type": "stream",
          "name": "stdout",
          "text": [
            "Epoch 20, Loss: 0.041048351923624674\n",
            "Pruning performed: 0 sub-models removed. 9 remaining.\n",
            "Pruning with keep_ratio=1.0, Accuracy: 0.3333\n",
            "Pruning performed: 3 sub-models removed. 6 remaining.\n",
            "Pruning with keep_ratio=0.75, Accuracy: 0.5333\n",
            "Pruning performed: 5 sub-models removed. 4 remaining.\n",
            "Pruning with keep_ratio=0.5, Accuracy: 0.4500\n",
            "Pruning performed: 7 sub-models removed. 2 remaining.\n",
            "Pruning with keep_ratio=0.25, Accuracy: 0.3500\n",
            "Epoch 20, Test Loss: 0.0356, Accuracy: 0.3333\n"
          ]
        },
        {
          "output_type": "stream",
          "name": "stderr",
          "text": [
            "Epoch 21/75: 100%|██████████| 4/4 [00:00<00:00, 164.19it/s]\n"
          ]
        },
        {
          "output_type": "stream",
          "name": "stdout",
          "text": [
            "Epoch 21, Loss: 0.039081959426403044\n",
            "Pruning performed: 0 sub-models removed. 9 remaining.\n",
            "Pruning with keep_ratio=1.0, Accuracy: 0.3333\n",
            "Pruning performed: 3 sub-models removed. 6 remaining.\n",
            "Pruning with keep_ratio=0.75, Accuracy: 0.3333\n",
            "Pruning performed: 5 sub-models removed. 4 remaining.\n",
            "Pruning with keep_ratio=0.5, Accuracy: 0.5083\n",
            "Pruning performed: 7 sub-models removed. 2 remaining.\n",
            "Pruning with keep_ratio=0.25, Accuracy: 0.3833\n",
            "Epoch 21, Test Loss: 0.0356, Accuracy: 0.3333\n"
          ]
        },
        {
          "output_type": "stream",
          "name": "stderr",
          "text": [
            "Epoch 22/75: 100%|██████████| 4/4 [00:00<00:00, 154.05it/s]"
          ]
        },
        {
          "output_type": "stream",
          "name": "stdout",
          "text": [
            "Epoch 22, Loss: 0.04322810967763265\n",
            "Pruning performed: 0 sub-models removed. 9 remaining.\n",
            "Pruning with keep_ratio=1.0, Accuracy: 0.3333\n",
            "Pruning performed: 3 sub-models removed. 6 remaining.\n",
            "Pruning with keep_ratio=0.75, Accuracy: 0.4333"
          ]
        },
        {
          "output_type": "stream",
          "name": "stderr",
          "text": [
            "\n"
          ]
        },
        {
          "output_type": "stream",
          "name": "stdout",
          "text": [
            "\n",
            "Pruning performed: 5 sub-models removed. 4 remaining.\n",
            "Pruning with keep_ratio=0.5, Accuracy: 0.3417\n",
            "Pruning performed: 7 sub-models removed. 2 remaining.\n",
            "Pruning with keep_ratio=0.25, Accuracy: 0.5833\n",
            "Epoch 22, Test Loss: 0.0356, Accuracy: 0.3333\n"
          ]
        },
        {
          "output_type": "stream",
          "name": "stderr",
          "text": [
            "Epoch 23/75: 100%|██████████| 4/4 [00:00<00:00, 157.91it/s]"
          ]
        },
        {
          "output_type": "stream",
          "name": "stdout",
          "text": [
            "Epoch 23, Loss: 0.038762912650903064\n",
            "Pruning performed: 0 sub-models removed. 9 remaining.\n",
            "Pruning with keep_ratio=1.0, Accuracy: 0.3333\n",
            "Pruning performed: 3 sub-models removed. 6 remaining.\n"
          ]
        },
        {
          "output_type": "stream",
          "name": "stderr",
          "text": [
            "\n"
          ]
        },
        {
          "output_type": "stream",
          "name": "stdout",
          "text": [
            "Pruning with keep_ratio=0.75, Accuracy: 0.4417\n",
            "Pruning performed: 5 sub-models removed. 4 remaining.\n",
            "Pruning with keep_ratio=0.5, Accuracy: 0.4167\n",
            "Pruning performed: 7 sub-models removed. 2 remaining.\n",
            "Pruning with keep_ratio=0.25, Accuracy: 0.2583\n",
            "Epoch 23, Test Loss: 0.0356, Accuracy: 0.3333\n"
          ]
        },
        {
          "output_type": "stream",
          "name": "stderr",
          "text": [
            "Epoch 24/75: 100%|██████████| 4/4 [00:00<00:00, 189.80it/s]"
          ]
        },
        {
          "output_type": "stream",
          "name": "stdout",
          "text": [
            "Epoch 24, Loss: 0.042366989453633624\n",
            "Pruning performed: 0 sub-models removed. 9 remaining.\n",
            "Pruning with keep_ratio=1.0, Accuracy: 0.3333\n",
            "Pruning performed: 3 sub-models removed. 6 remaining.\n",
            "Pruning with keep_ratio=0.75, Accuracy: 0.4417\n"
          ]
        },
        {
          "output_type": "stream",
          "name": "stderr",
          "text": [
            "\n"
          ]
        },
        {
          "output_type": "stream",
          "name": "stdout",
          "text": [
            "Pruning performed: 5 sub-models removed. 4 remaining.\n",
            "Pruning with keep_ratio=0.5, Accuracy: 0.3417\n",
            "Pruning performed: 7 sub-models removed. 2 remaining.\n",
            "Pruning with keep_ratio=0.25, Accuracy: 0.5833\n",
            "Epoch 24, Test Loss: 0.0356, Accuracy: 0.3333\n"
          ]
        },
        {
          "output_type": "stream",
          "name": "stderr",
          "text": [
            "Epoch 25/75: 100%|██████████| 4/4 [00:00<00:00, 171.18it/s]\n"
          ]
        },
        {
          "output_type": "stream",
          "name": "stdout",
          "text": [
            "Epoch 25, Loss: 0.04196775754292806\n",
            "Pruning performed: 0 sub-models removed. 9 remaining.\n",
            "Pruning with keep_ratio=1.0, Accuracy: 0.3333\n",
            "Pruning performed: 3 sub-models removed. 6 remaining.\n",
            "Pruning with keep_ratio=0.75, Accuracy: 0.5083\n",
            "Pruning performed: 5 sub-models removed. 4 remaining.\n",
            "Pruning with keep_ratio=0.5, Accuracy: 0.3750\n",
            "Pruning performed: 7 sub-models removed. 2 remaining.\n",
            "Pruning with keep_ratio=0.25, Accuracy: 0.3417\n",
            "Epoch 25, Test Loss: 0.0356, Accuracy: 0.3333\n"
          ]
        },
        {
          "output_type": "stream",
          "name": "stderr",
          "text": [
            "Epoch 26/75: 100%|██████████| 4/4 [00:00<00:00, 196.62it/s]\n"
          ]
        },
        {
          "output_type": "stream",
          "name": "stdout",
          "text": [
            "Epoch 26, Loss: 0.03855442106723785\n",
            "Pruning performed: 0 sub-models removed. 9 remaining.\n",
            "Pruning with keep_ratio=1.0, Accuracy: 0.3333\n",
            "Pruning performed: 3 sub-models removed. 6 remaining.\n",
            "Pruning with keep_ratio=0.75, Accuracy: 0.4417\n",
            "Pruning performed: 5 sub-models removed. 4 remaining.\n",
            "Pruning with keep_ratio=0.5, Accuracy: 0.3417\n",
            "Pruning performed: 7 sub-models removed. 2 remaining.\n",
            "Pruning with keep_ratio=0.25, Accuracy: 0.3417\n",
            "Epoch 26, Test Loss: 0.0356, Accuracy: 0.3333\n"
          ]
        },
        {
          "output_type": "stream",
          "name": "stderr",
          "text": [
            "Epoch 27/75: 100%|██████████| 4/4 [00:00<00:00, 188.32it/s]\n"
          ]
        },
        {
          "output_type": "stream",
          "name": "stdout",
          "text": [
            "Epoch 27, Loss: 0.038517083724339804\n",
            "Pruning performed: 0 sub-models removed. 9 remaining.\n",
            "Pruning with keep_ratio=1.0, Accuracy: 0.3333\n",
            "Pruning performed: 3 sub-models removed. 6 remaining.\n",
            "Pruning with keep_ratio=0.75, Accuracy: 0.4417\n",
            "Pruning performed: 5 sub-models removed. 4 remaining.\n",
            "Pruning with keep_ratio=0.5, Accuracy: 0.5250\n",
            "Pruning performed: 7 sub-models removed. 2 remaining.\n",
            "Pruning with keep_ratio=0.25, Accuracy: 0.5833\n",
            "Epoch 27, Test Loss: 0.0356, Accuracy: 0.3333\n"
          ]
        },
        {
          "output_type": "stream",
          "name": "stderr",
          "text": [
            "Epoch 28/75: 100%|██████████| 4/4 [00:00<00:00, 205.73it/s]\n"
          ]
        },
        {
          "output_type": "stream",
          "name": "stdout",
          "text": [
            "Epoch 28, Loss: 0.04157598416010539\n",
            "Pruning performed: 0 sub-models removed. 9 remaining.\n",
            "Pruning with keep_ratio=1.0, Accuracy: 0.3333\n",
            "Pruning performed: 3 sub-models removed. 6 remaining.\n",
            "Pruning with keep_ratio=0.75, Accuracy: 0.3417\n",
            "Pruning performed: 5 sub-models removed. 4 remaining.\n",
            "Pruning with keep_ratio=0.5, Accuracy: 0.5250\n",
            "Pruning performed: 7 sub-models removed. 2 remaining.\n",
            "Pruning with keep_ratio=0.25, Accuracy: 0.5833\n",
            "Epoch 28, Test Loss: 0.0356, Accuracy: 0.3333\n"
          ]
        },
        {
          "output_type": "stream",
          "name": "stderr",
          "text": [
            "Epoch 29/75: 100%|██████████| 4/4 [00:00<00:00, 192.24it/s]\n"
          ]
        },
        {
          "output_type": "stream",
          "name": "stdout",
          "text": [
            "Epoch 29, Loss: 0.04239231695731481\n",
            "Pruning performed: 0 sub-models removed. 9 remaining.\n",
            "Pruning with keep_ratio=1.0, Accuracy: 0.3333\n",
            "Pruning performed: 3 sub-models removed. 6 remaining.\n",
            "Pruning with keep_ratio=0.75, Accuracy: 0.4417\n",
            "Pruning performed: 5 sub-models removed. 4 remaining.\n",
            "Pruning with keep_ratio=0.5, Accuracy: 0.5250\n",
            "Pruning performed: 7 sub-models removed. 2 remaining.\n",
            "Pruning with keep_ratio=0.25, Accuracy: 0.3500\n",
            "Epoch 29, Test Loss: 0.0356, Accuracy: 0.3333\n"
          ]
        },
        {
          "output_type": "stream",
          "name": "stderr",
          "text": [
            "Epoch 30/75: 100%|██████████| 4/4 [00:00<00:00, 208.15it/s]\n"
          ]
        },
        {
          "output_type": "stream",
          "name": "stdout",
          "text": [
            "Epoch 30, Loss: 0.04243154227733612\n",
            "Pruning performed: 0 sub-models removed. 9 remaining.\n",
            "Pruning with keep_ratio=1.0, Accuracy: 0.3333\n",
            "Pruning performed: 3 sub-models removed. 6 remaining.\n",
            "Pruning with keep_ratio=0.75, Accuracy: 0.4417\n",
            "Pruning performed: 5 sub-models removed. 4 remaining.\n",
            "Pruning with keep_ratio=0.5, Accuracy: 0.5083\n",
            "Pruning performed: 7 sub-models removed. 2 remaining.\n",
            "Pruning with keep_ratio=0.25, Accuracy: 0.3500\n",
            "Epoch 30, Test Loss: 0.0356, Accuracy: 0.3333\n"
          ]
        },
        {
          "output_type": "stream",
          "name": "stderr",
          "text": [
            "Epoch 31/75: 100%|██████████| 4/4 [00:00<00:00, 172.49it/s]\n"
          ]
        },
        {
          "output_type": "stream",
          "name": "stdout",
          "text": [
            "Epoch 31, Loss: 0.03989582856496175\n",
            "Pruning performed: 0 sub-models removed. 9 remaining.\n",
            "Pruning with keep_ratio=1.0, Accuracy: 0.3333\n",
            "Pruning performed: 3 sub-models removed. 6 remaining.\n",
            "Pruning with keep_ratio=0.75, Accuracy: 0.4417\n",
            "Pruning performed: 5 sub-models removed. 4 remaining.\n",
            "Pruning with keep_ratio=0.5, Accuracy: 0.5083\n",
            "Pruning performed: 7 sub-models removed. 2 remaining.\n",
            "Pruning with keep_ratio=0.25, Accuracy: 0.3417\n",
            "Epoch 31, Test Loss: 0.0356, Accuracy: 0.3333\n"
          ]
        },
        {
          "output_type": "stream",
          "name": "stderr",
          "text": [
            "Epoch 32/75: 100%|██████████| 4/4 [00:00<00:00, 179.28it/s]\n"
          ]
        },
        {
          "output_type": "stream",
          "name": "stdout",
          "text": [
            "Epoch 32, Loss: 0.041169705986976626\n",
            "Pruning performed: 0 sub-models removed. 9 remaining.\n",
            "Pruning with keep_ratio=1.0, Accuracy: 0.3333\n",
            "Pruning performed: 3 sub-models removed. 6 remaining.\n",
            "Pruning with keep_ratio=0.75, Accuracy: 0.4417\n",
            "Pruning performed: 5 sub-models removed. 4 remaining.\n",
            "Pruning with keep_ratio=0.5, Accuracy: 0.5250\n",
            "Pruning performed: 7 sub-models removed. 2 remaining.\n",
            "Pruning with keep_ratio=0.25, Accuracy: 0.5833\n",
            "Epoch 32, Test Loss: 0.0356, Accuracy: 0.3333\n"
          ]
        },
        {
          "output_type": "stream",
          "name": "stderr",
          "text": [
            "Epoch 33/75: 100%|██████████| 4/4 [00:00<00:00, 143.15it/s]"
          ]
        },
        {
          "output_type": "stream",
          "name": "stdout",
          "text": [
            "Epoch 33, Loss: 0.04233539402484894\n",
            "Pruning performed: 0 sub-models removed. 9 remaining.\n",
            "Pruning with keep_ratio=1.0, Accuracy: 0.3333\n",
            "Pruning performed: 3 sub-models removed. 6 remaining.\n",
            "Pruning with keep_ratio=0.75, Accuracy: 0.5333\n",
            "Pruning performed: 5 sub-models removed. 4 remaining.\n"
          ]
        },
        {
          "output_type": "stream",
          "name": "stderr",
          "text": [
            "\n"
          ]
        },
        {
          "output_type": "stream",
          "name": "stdout",
          "text": [
            "Pruning with keep_ratio=0.5, Accuracy: 0.5250\n",
            "Pruning performed: 7 sub-models removed. 2 remaining.\n",
            "Pruning with keep_ratio=0.25, Accuracy: 0.5833\n",
            "Epoch 33, Test Loss: 0.0356, Accuracy: 0.3333\n"
          ]
        },
        {
          "output_type": "stream",
          "name": "stderr",
          "text": [
            "Epoch 34/75: 100%|██████████| 4/4 [00:00<00:00, 180.66it/s]"
          ]
        },
        {
          "output_type": "stream",
          "name": "stdout",
          "text": [
            "Epoch 34, Loss: 0.04123250643412272\n",
            "Pruning performed: 0 sub-models removed. 9 remaining.\n",
            "Pruning with keep_ratio=1.0, Accuracy: 0.3333\n",
            "Pruning performed: 3 sub-models removed. 6 remaining.\n",
            "Pruning with keep_ratio=0.75, Accuracy: 0.4417\n",
            "Pruning performed: 5 sub-models removed. 4 remaining.\n",
            "Pruning with keep_ratio=0.5, Accuracy: 0.5250\n",
            "Pruning performed: 7 sub-models removed. 2 remaining.\n"
          ]
        },
        {
          "output_type": "stream",
          "name": "stderr",
          "text": [
            "\n"
          ]
        },
        {
          "output_type": "stream",
          "name": "stdout",
          "text": [
            "Pruning with keep_ratio=0.25, Accuracy: 0.4583\n",
            "Epoch 34, Test Loss: 0.0356, Accuracy: 0.3333\n"
          ]
        },
        {
          "output_type": "stream",
          "name": "stderr",
          "text": [
            "Epoch 35/75: 100%|██████████| 4/4 [00:00<00:00, 166.47it/s]\n"
          ]
        },
        {
          "output_type": "stream",
          "name": "stdout",
          "text": [
            "Epoch 35, Loss: 0.03948247333367665\n",
            "Pruning performed: 0 sub-models removed. 9 remaining.\n",
            "Pruning with keep_ratio=1.0, Accuracy: 0.3333\n",
            "Pruning performed: 3 sub-models removed. 6 remaining.\n",
            "Pruning with keep_ratio=0.75, Accuracy: 0.4417\n",
            "Pruning performed: 5 sub-models removed. 4 remaining.\n",
            "Pruning with keep_ratio=0.5, Accuracy: 0.4167\n",
            "Pruning performed: 7 sub-models removed. 2 remaining.\n",
            "Pruning with keep_ratio=0.25, Accuracy: 0.5750\n",
            "Epoch 35, Test Loss: 0.0356, Accuracy: 0.3333\n"
          ]
        },
        {
          "output_type": "stream",
          "name": "stderr",
          "text": [
            "Epoch 36/75: 100%|██████████| 4/4 [00:00<00:00, 172.15it/s]\n"
          ]
        },
        {
          "output_type": "stream",
          "name": "stdout",
          "text": [
            "Epoch 36, Loss: 0.040385717153549196\n",
            "Pruning performed: 0 sub-models removed. 9 remaining.\n",
            "Pruning with keep_ratio=1.0, Accuracy: 0.3333\n",
            "Pruning performed: 3 sub-models removed. 6 remaining.\n",
            "Pruning with keep_ratio=0.75, Accuracy: 0.4417\n",
            "Pruning performed: 5 sub-models removed. 4 remaining.\n",
            "Pruning with keep_ratio=0.5, Accuracy: 0.3417\n",
            "Pruning performed: 7 sub-models removed. 2 remaining.\n",
            "Pruning with keep_ratio=0.25, Accuracy: 0.3667\n",
            "Epoch 36, Test Loss: 0.0356, Accuracy: 0.3333\n"
          ]
        },
        {
          "output_type": "stream",
          "name": "stderr",
          "text": [
            "Epoch 37/75: 100%|██████████| 4/4 [00:00<00:00, 170.55it/s]\n"
          ]
        },
        {
          "output_type": "stream",
          "name": "stdout",
          "text": [
            "Epoch 37, Loss: 0.04152823487917582\n",
            "Pruning performed: 0 sub-models removed. 9 remaining.\n",
            "Pruning with keep_ratio=1.0, Accuracy: 0.3333\n",
            "Pruning performed: 3 sub-models removed. 6 remaining.\n",
            "Pruning with keep_ratio=0.75, Accuracy: 0.4417\n",
            "Pruning performed: 5 sub-models removed. 4 remaining.\n",
            "Pruning with keep_ratio=0.5, Accuracy: 0.4667\n",
            "Pruning performed: 7 sub-models removed. 2 remaining.\n",
            "Pruning with keep_ratio=0.25, Accuracy: 0.3500\n",
            "Epoch 37, Test Loss: 0.0356, Accuracy: 0.3333\n"
          ]
        },
        {
          "output_type": "stream",
          "name": "stderr",
          "text": [
            "Epoch 38/75: 100%|██████████| 4/4 [00:00<00:00, 168.41it/s]\n"
          ]
        },
        {
          "output_type": "stream",
          "name": "stdout",
          "text": [
            "Epoch 38, Loss: 0.04065404037634532\n",
            "Pruning performed: 0 sub-models removed. 9 remaining.\n",
            "Pruning with keep_ratio=1.0, Accuracy: 0.3333\n",
            "Pruning performed: 3 sub-models removed. 6 remaining.\n",
            "Pruning with keep_ratio=0.75, Accuracy: 0.5333\n",
            "Pruning performed: 5 sub-models removed. 4 remaining.\n",
            "Pruning with keep_ratio=0.5, Accuracy: 0.3417\n",
            "Pruning performed: 7 sub-models removed. 2 remaining.\n",
            "Pruning with keep_ratio=0.25, Accuracy: 0.3500\n",
            "Epoch 38, Test Loss: 0.0356, Accuracy: 0.3333\n"
          ]
        },
        {
          "output_type": "stream",
          "name": "stderr",
          "text": [
            "Epoch 39/75: 100%|██████████| 4/4 [00:00<00:00, 153.48it/s]\n"
          ]
        },
        {
          "output_type": "stream",
          "name": "stdout",
          "text": [
            "Epoch 39, Loss: 0.03990443348884583\n",
            "Pruning performed: 0 sub-models removed. 9 remaining.\n",
            "Pruning with keep_ratio=1.0, Accuracy: 0.3333\n",
            "Pruning performed: 3 sub-models removed. 6 remaining.\n",
            "Pruning with keep_ratio=0.75, Accuracy: 0.3833\n",
            "Pruning performed: 5 sub-models removed. 4 remaining.\n",
            "Pruning with keep_ratio=0.5, Accuracy: 0.4667\n",
            "Pruning performed: 7 sub-models removed. 2 remaining.\n",
            "Pruning with keep_ratio=0.25, Accuracy: 0.5833\n",
            "Epoch 39, Test Loss: 0.0356, Accuracy: 0.3333\n"
          ]
        },
        {
          "output_type": "stream",
          "name": "stderr",
          "text": [
            "Epoch 40/75: 100%|██████████| 4/4 [00:00<00:00, 175.62it/s]\n"
          ]
        },
        {
          "output_type": "stream",
          "name": "stdout",
          "text": [
            "Epoch 40, Loss: 0.03794443309307098\n",
            "Pruning performed: 0 sub-models removed. 9 remaining.\n",
            "Pruning with keep_ratio=1.0, Accuracy: 0.3333\n",
            "Pruning performed: 3 sub-models removed. 6 remaining.\n",
            "Pruning with keep_ratio=0.75, Accuracy: 0.3917\n",
            "Pruning performed: 5 sub-models removed. 4 remaining.\n",
            "Pruning with keep_ratio=0.5, Accuracy: 0.5083\n",
            "Pruning performed: 7 sub-models removed. 2 remaining.\n",
            "Pruning with keep_ratio=0.25, Accuracy: 0.3417\n",
            "Epoch 40, Test Loss: 0.0356, Accuracy: 0.3333\n"
          ]
        },
        {
          "output_type": "stream",
          "name": "stderr",
          "text": [
            "Epoch 41/75: 100%|██████████| 4/4 [00:00<00:00, 174.69it/s]\n"
          ]
        },
        {
          "output_type": "stream",
          "name": "stdout",
          "text": [
            "Epoch 41, Loss: 0.039584380388259885\n",
            "Pruning performed: 0 sub-models removed. 9 remaining.\n",
            "Pruning with keep_ratio=1.0, Accuracy: 0.3333\n",
            "Pruning performed: 3 sub-models removed. 6 remaining.\n",
            "Pruning with keep_ratio=0.75, Accuracy: 0.4417\n",
            "Pruning performed: 5 sub-models removed. 4 remaining.\n",
            "Pruning with keep_ratio=0.5, Accuracy: 0.5083\n",
            "Pruning performed: 7 sub-models removed. 2 remaining.\n",
            "Pruning with keep_ratio=0.25, Accuracy: 0.3500\n",
            "Epoch 41, Test Loss: 0.0356, Accuracy: 0.3333\n"
          ]
        },
        {
          "output_type": "stream",
          "name": "stderr",
          "text": [
            "Epoch 42/75: 100%|██████████| 4/4 [00:00<00:00, 179.02it/s]\n"
          ]
        },
        {
          "output_type": "stream",
          "name": "stdout",
          "text": [
            "Epoch 42, Loss: 0.037666056553522745\n",
            "Pruning performed: 0 sub-models removed. 9 remaining.\n",
            "Pruning with keep_ratio=1.0, Accuracy: 0.3333\n",
            "Pruning performed: 3 sub-models removed. 6 remaining.\n",
            "Pruning with keep_ratio=0.75, Accuracy: 0.4417\n",
            "Pruning performed: 5 sub-models removed. 4 remaining.\n",
            "Pruning with keep_ratio=0.5, Accuracy: 0.5083\n",
            "Pruning performed: 7 sub-models removed. 2 remaining.\n",
            "Pruning with keep_ratio=0.25, Accuracy: 0.3500\n",
            "Epoch 42, Test Loss: 0.0356, Accuracy: 0.3333\n"
          ]
        },
        {
          "output_type": "stream",
          "name": "stderr",
          "text": [
            "Epoch 43/75: 100%|██████████| 4/4 [00:00<00:00, 139.88it/s]"
          ]
        },
        {
          "output_type": "stream",
          "name": "stdout",
          "text": [
            "Epoch 43, Loss: 0.03959697782993317\n",
            "Pruning performed: 0 sub-models removed. 9 remaining.\n",
            "Pruning with keep_ratio=1.0, Accuracy: 0.3333\n",
            "Pruning performed: 3 sub-models removed. 6 remaining.\n",
            "Pruning with keep_ratio=0.75, Accuracy: 0.4417\n",
            "Pruning performed: 5 sub-models removed. 4 remaining.\n"
          ]
        },
        {
          "output_type": "stream",
          "name": "stderr",
          "text": [
            "\n"
          ]
        },
        {
          "output_type": "stream",
          "name": "stdout",
          "text": [
            "Pruning with keep_ratio=0.5, Accuracy: 0.3417\n",
            "Pruning performed: 7 sub-models removed. 2 remaining.\n",
            "Pruning with keep_ratio=0.25, Accuracy: 0.5833\n",
            "Epoch 43, Test Loss: 0.0356, Accuracy: 0.3333\n"
          ]
        },
        {
          "output_type": "stream",
          "name": "stderr",
          "text": [
            "Epoch 44/75: 100%|██████████| 4/4 [00:00<00:00, 141.57it/s]"
          ]
        },
        {
          "output_type": "stream",
          "name": "stdout",
          "text": [
            "Epoch 44, Loss: 0.0382509450117747\n",
            "Pruning performed: 0 sub-models removed. 9 remaining.\n"
          ]
        },
        {
          "output_type": "stream",
          "name": "stderr",
          "text": [
            "\n"
          ]
        },
        {
          "output_type": "stream",
          "name": "stdout",
          "text": [
            "Pruning with keep_ratio=1.0, Accuracy: 0.3333\n",
            "Pruning performed: 3 sub-models removed. 6 remaining.\n",
            "Pruning with keep_ratio=0.75, Accuracy: 0.4417\n",
            "Pruning performed: 5 sub-models removed. 4 remaining.\n",
            "Pruning with keep_ratio=0.5, Accuracy: 0.4167\n",
            "Pruning performed: 7 sub-models removed. 2 remaining.\n",
            "Pruning with keep_ratio=0.25, Accuracy: 0.4333\n",
            "Epoch 44, Test Loss: 0.0356, Accuracy: 0.3333\n"
          ]
        },
        {
          "output_type": "stream",
          "name": "stderr",
          "text": [
            "Epoch 45/75: 100%|██████████| 4/4 [00:00<00:00, 174.07it/s]"
          ]
        },
        {
          "output_type": "stream",
          "name": "stdout",
          "text": [
            "Epoch 45, Loss: 0.041954304774602255\n",
            "Pruning performed: 0 sub-models removed. 9 remaining.\n",
            "Pruning with keep_ratio=1.0, Accuracy: 0.3333\n",
            "Pruning performed: 3 sub-models removed. 6 remaining.\n",
            "Pruning with keep_ratio=0.75, Accuracy: 0.4417\n",
            "Pruning performed: 5 sub-models removed. 4 remaining.\n",
            "Pruning with keep_ratio=0.5, Accuracy: 0.5250\n",
            "Pruning performed: 7 sub-models removed. 2 remaining.\n"
          ]
        },
        {
          "output_type": "stream",
          "name": "stderr",
          "text": [
            "\n"
          ]
        },
        {
          "output_type": "stream",
          "name": "stdout",
          "text": [
            "Pruning with keep_ratio=0.25, Accuracy: 0.5833\n",
            "Epoch 45, Test Loss: 0.0356, Accuracy: 0.3333\n"
          ]
        },
        {
          "output_type": "stream",
          "name": "stderr",
          "text": [
            "Epoch 46/75: 100%|██████████| 4/4 [00:00<00:00, 148.25it/s]\n"
          ]
        },
        {
          "output_type": "stream",
          "name": "stdout",
          "text": [
            "Epoch 46, Loss: 0.03829670051733653\n",
            "Pruning performed: 0 sub-models removed. 9 remaining.\n",
            "Pruning with keep_ratio=1.0, Accuracy: 0.3333\n",
            "Pruning performed: 3 sub-models removed. 6 remaining.\n",
            "Pruning with keep_ratio=0.75, Accuracy: 0.4417\n",
            "Pruning performed: 5 sub-models removed. 4 remaining.\n",
            "Pruning with keep_ratio=0.5, Accuracy: 0.4167\n",
            "Pruning performed: 7 sub-models removed. 2 remaining.\n",
            "Pruning with keep_ratio=0.25, Accuracy: 0.3417\n",
            "Epoch 46, Test Loss: 0.0356, Accuracy: 0.3333\n"
          ]
        },
        {
          "output_type": "stream",
          "name": "stderr",
          "text": [
            "Epoch 47/75: 100%|██████████| 4/4 [00:00<00:00, 178.57it/s]\n"
          ]
        },
        {
          "output_type": "stream",
          "name": "stdout",
          "text": [
            "Epoch 47, Loss: 0.042145879069964094\n",
            "Pruning performed: 0 sub-models removed. 9 remaining.\n",
            "Pruning with keep_ratio=1.0, Accuracy: 0.3333\n",
            "Pruning performed: 3 sub-models removed. 6 remaining.\n",
            "Pruning with keep_ratio=0.75, Accuracy: 0.3500\n",
            "Pruning performed: 5 sub-models removed. 4 remaining.\n",
            "Pruning with keep_ratio=0.5, Accuracy: 0.5083\n",
            "Pruning performed: 7 sub-models removed. 2 remaining.\n",
            "Pruning with keep_ratio=0.25, Accuracy: 0.5750\n",
            "Epoch 47, Test Loss: 0.0356, Accuracy: 0.3333\n"
          ]
        },
        {
          "output_type": "stream",
          "name": "stderr",
          "text": [
            "Epoch 48/75: 100%|██████████| 4/4 [00:00<00:00, 186.55it/s]\n"
          ]
        },
        {
          "output_type": "stream",
          "name": "stdout",
          "text": [
            "Epoch 48, Loss: 0.0368143767118454\n",
            "Pruning performed: 0 sub-models removed. 9 remaining.\n",
            "Pruning with keep_ratio=1.0, Accuracy: 0.3333\n",
            "Pruning performed: 3 sub-models removed. 6 remaining.\n",
            "Pruning with keep_ratio=0.75, Accuracy: 0.3500\n",
            "Pruning performed: 5 sub-models removed. 4 remaining.\n",
            "Pruning with keep_ratio=0.5, Accuracy: 0.5250\n",
            "Pruning performed: 7 sub-models removed. 2 remaining.\n",
            "Pruning with keep_ratio=0.25, Accuracy: 0.5750\n",
            "Epoch 48, Test Loss: 0.0356, Accuracy: 0.3333\n"
          ]
        },
        {
          "output_type": "stream",
          "name": "stderr",
          "text": [
            "Epoch 49/75: 100%|██████████| 4/4 [00:00<00:00, 161.49it/s]\n"
          ]
        },
        {
          "output_type": "stream",
          "name": "stdout",
          "text": [
            "Epoch 49, Loss: 0.04371667206287384\n",
            "Pruning performed: 0 sub-models removed. 9 remaining.\n",
            "Pruning with keep_ratio=1.0, Accuracy: 0.3333\n",
            "Pruning performed: 3 sub-models removed. 6 remaining.\n",
            "Pruning with keep_ratio=0.75, Accuracy: 0.4333\n",
            "Pruning performed: 5 sub-models removed. 4 remaining.\n",
            "Pruning with keep_ratio=0.5, Accuracy: 0.5250\n",
            "Pruning performed: 7 sub-models removed. 2 remaining.\n",
            "Pruning with keep_ratio=0.25, Accuracy: 0.5833\n",
            "Epoch 49, Test Loss: 0.0356, Accuracy: 0.3333\n"
          ]
        },
        {
          "output_type": "stream",
          "name": "stderr",
          "text": [
            "Epoch 50/75: 100%|██████████| 4/4 [00:00<00:00, 169.50it/s]\n"
          ]
        },
        {
          "output_type": "stream",
          "name": "stdout",
          "text": [
            "Epoch 50, Loss: 0.042302481333414715\n",
            "Pruning performed: 0 sub-models removed. 9 remaining.\n",
            "Pruning with keep_ratio=1.0, Accuracy: 0.3333\n",
            "Pruning performed: 3 sub-models removed. 6 remaining.\n",
            "Pruning with keep_ratio=0.75, Accuracy: 0.3917\n",
            "Pruning performed: 5 sub-models removed. 4 remaining.\n",
            "Pruning with keep_ratio=0.5, Accuracy: 0.4167\n",
            "Pruning performed: 7 sub-models removed. 2 remaining.\n",
            "Pruning with keep_ratio=0.25, Accuracy: 0.3250\n",
            "Epoch 50, Test Loss: 0.0356, Accuracy: 0.3333\n"
          ]
        },
        {
          "output_type": "stream",
          "name": "stderr",
          "text": [
            "Epoch 51/75: 100%|██████████| 4/4 [00:00<00:00, 186.70it/s]\n"
          ]
        },
        {
          "output_type": "stream",
          "name": "stdout",
          "text": [
            "Epoch 51, Loss: 0.04084590971469879\n",
            "Pruning performed: 0 sub-models removed. 9 remaining.\n",
            "Pruning with keep_ratio=1.0, Accuracy: 0.3333\n",
            "Pruning performed: 3 sub-models removed. 6 remaining.\n",
            "Pruning with keep_ratio=0.75, Accuracy: 0.4417\n",
            "Pruning performed: 5 sub-models removed. 4 remaining.\n",
            "Pruning with keep_ratio=0.5, Accuracy: 0.5083\n",
            "Pruning performed: 7 sub-models removed. 2 remaining.\n",
            "Pruning with keep_ratio=0.25, Accuracy: 0.5750\n",
            "Epoch 51, Test Loss: 0.0356, Accuracy: 0.3333\n"
          ]
        },
        {
          "output_type": "stream",
          "name": "stderr",
          "text": [
            "Epoch 52/75: 100%|██████████| 4/4 [00:00<00:00, 159.85it/s]\n"
          ]
        },
        {
          "output_type": "stream",
          "name": "stdout",
          "text": [
            "Epoch 52, Loss: 0.0393743356068929\n",
            "Pruning performed: 0 sub-models removed. 9 remaining.\n",
            "Pruning with keep_ratio=1.0, Accuracy: 0.3333\n",
            "Pruning performed: 3 sub-models removed. 6 remaining.\n",
            "Pruning with keep_ratio=0.75, Accuracy: 0.4417\n",
            "Pruning performed: 5 sub-models removed. 4 remaining.\n",
            "Pruning with keep_ratio=0.5, Accuracy: 0.3750\n",
            "Pruning performed: 7 sub-models removed. 2 remaining.\n",
            "Pruning with keep_ratio=0.25, Accuracy: 0.5750\n",
            "Epoch 52, Test Loss: 0.0356, Accuracy: 0.3333\n"
          ]
        },
        {
          "output_type": "stream",
          "name": "stderr",
          "text": [
            "Epoch 53/75: 100%|██████████| 4/4 [00:00<00:00, 132.82it/s]"
          ]
        },
        {
          "output_type": "stream",
          "name": "stdout",
          "text": [
            "Epoch 53, Loss: 0.03880002697308858\n",
            "Pruning performed: 0 sub-models removed. 9 remaining.\n",
            "Pruning with keep_ratio=1.0, Accuracy: 0.3333\n",
            "Pruning performed: 3 sub-models removed. 6 remaining.\n",
            "Pruning with keep_ratio=0.75, Accuracy: 0.3500\n",
            "Pruning performed: 5 sub-models removed. 4 remaining.\n"
          ]
        },
        {
          "output_type": "stream",
          "name": "stderr",
          "text": [
            "\n"
          ]
        },
        {
          "output_type": "stream",
          "name": "stdout",
          "text": [
            "Pruning with keep_ratio=0.5, Accuracy: 0.5250\n",
            "Pruning performed: 7 sub-models removed. 2 remaining.\n",
            "Pruning with keep_ratio=0.25, Accuracy: 0.5833\n",
            "Epoch 53, Test Loss: 0.0356, Accuracy: 0.3333\n"
          ]
        },
        {
          "output_type": "stream",
          "name": "stderr",
          "text": [
            "Epoch 54/75: 100%|██████████| 4/4 [00:00<00:00, 175.92it/s]"
          ]
        },
        {
          "output_type": "stream",
          "name": "stdout",
          "text": [
            "Epoch 54, Loss: 0.04039086798826853\n",
            "Pruning performed: 0 sub-models removed. 9 remaining.\n",
            "Pruning with keep_ratio=1.0, Accuracy: 0.3333\n",
            "Pruning performed: 3 sub-models removed. 6 remaining.\n",
            "Pruning with keep_ratio=0.75, Accuracy: 0.5333\n"
          ]
        },
        {
          "output_type": "stream",
          "name": "stderr",
          "text": [
            "\n"
          ]
        },
        {
          "output_type": "stream",
          "name": "stdout",
          "text": [
            "Pruning performed: 5 sub-models removed. 4 remaining.\n",
            "Pruning with keep_ratio=0.5, Accuracy: 0.4167\n",
            "Pruning performed: 7 sub-models removed. 2 remaining.\n",
            "Pruning with keep_ratio=0.25, Accuracy: 0.5833\n",
            "Epoch 54, Test Loss: 0.0356, Accuracy: 0.3333\n"
          ]
        },
        {
          "output_type": "stream",
          "name": "stderr",
          "text": [
            "Epoch 55/75: 100%|██████████| 4/4 [00:00<00:00, 157.00it/s]\n"
          ]
        },
        {
          "output_type": "stream",
          "name": "stdout",
          "text": [
            "Epoch 55, Loss: 0.03806695242722829\n",
            "Pruning performed: 0 sub-models removed. 9 remaining.\n",
            "Pruning with keep_ratio=1.0, Accuracy: 0.3333\n",
            "Pruning performed: 3 sub-models removed. 6 remaining.\n",
            "Pruning with keep_ratio=0.75, Accuracy: 0.4417\n",
            "Pruning performed: 5 sub-models removed. 4 remaining.\n",
            "Pruning with keep_ratio=0.5, Accuracy: 0.5083\n",
            "Pruning performed: 7 sub-models removed. 2 remaining.\n",
            "Pruning with keep_ratio=0.25, Accuracy: 0.5833\n",
            "Epoch 55, Test Loss: 0.0356, Accuracy: 0.3333\n"
          ]
        },
        {
          "output_type": "stream",
          "name": "stderr",
          "text": [
            "Epoch 56/75: 100%|██████████| 4/4 [00:00<00:00, 182.47it/s]"
          ]
        },
        {
          "output_type": "stream",
          "name": "stdout",
          "text": [
            "Epoch 56, Loss: 0.04151136179765066\n",
            "Pruning performed: 0 sub-models removed. 9 remaining.\n",
            "Pruning with keep_ratio=1.0, Accuracy: 0.3333\n",
            "Pruning performed: 3 sub-models removed. 6 remaining.\n",
            "Pruning with keep_ratio=0.75, Accuracy: 0.4417\n",
            "Pruning performed: 5 sub-models removed. 4 remaining.\n",
            "Pruning with keep_ratio=0.5, Accuracy: 0.5250\n",
            "Pruning performed: 7 sub-models removed. 2 remaining.\n"
          ]
        },
        {
          "output_type": "stream",
          "name": "stderr",
          "text": [
            "\n"
          ]
        },
        {
          "output_type": "stream",
          "name": "stdout",
          "text": [
            "Pruning with keep_ratio=0.25, Accuracy: 0.5833\n",
            "Epoch 56, Test Loss: 0.0356, Accuracy: 0.3333\n"
          ]
        },
        {
          "output_type": "stream",
          "name": "stderr",
          "text": [
            "Epoch 57/75: 100%|██████████| 4/4 [00:00<00:00, 168.15it/s]\n"
          ]
        },
        {
          "output_type": "stream",
          "name": "stdout",
          "text": [
            "Epoch 57, Loss: 0.040706881880760194\n",
            "Pruning performed: 0 sub-models removed. 9 remaining.\n",
            "Pruning with keep_ratio=1.0, Accuracy: 0.3333\n",
            "Pruning performed: 3 sub-models removed. 6 remaining.\n",
            "Pruning with keep_ratio=0.75, Accuracy: 0.5333\n",
            "Pruning performed: 5 sub-models removed. 4 remaining.\n",
            "Pruning with keep_ratio=0.5, Accuracy: 0.4167\n",
            "Pruning performed: 7 sub-models removed. 2 remaining.\n",
            "Pruning with keep_ratio=0.25, Accuracy: 0.5833\n",
            "Epoch 57, Test Loss: 0.0356, Accuracy: 0.3333\n"
          ]
        },
        {
          "output_type": "stream",
          "name": "stderr",
          "text": [
            "Epoch 58/75: 100%|██████████| 4/4 [00:00<00:00, 171.00it/s]\n"
          ]
        },
        {
          "output_type": "stream",
          "name": "stdout",
          "text": [
            "Epoch 58, Loss: 0.040112123886744185\n",
            "Pruning performed: 0 sub-models removed. 9 remaining.\n",
            "Pruning with keep_ratio=1.0, Accuracy: 0.3333\n",
            "Pruning performed: 3 sub-models removed. 6 remaining.\n",
            "Pruning with keep_ratio=0.75, Accuracy: 0.5333\n",
            "Pruning performed: 5 sub-models removed. 4 remaining.\n",
            "Pruning with keep_ratio=0.5, Accuracy: 0.4167\n",
            "Pruning performed: 7 sub-models removed. 2 remaining.\n",
            "Pruning with keep_ratio=0.25, Accuracy: 0.3417\n",
            "Epoch 58, Test Loss: 0.0356, Accuracy: 0.3333\n"
          ]
        },
        {
          "output_type": "stream",
          "name": "stderr",
          "text": [
            "Epoch 59/75: 100%|██████████| 4/4 [00:00<00:00, 202.32it/s]\n"
          ]
        },
        {
          "output_type": "stream",
          "name": "stdout",
          "text": [
            "Epoch 59, Loss: 0.042855291565259294\n",
            "Pruning performed: 0 sub-models removed. 9 remaining.\n",
            "Pruning with keep_ratio=1.0, Accuracy: 0.3333\n",
            "Pruning performed: 3 sub-models removed. 6 remaining.\n",
            "Pruning with keep_ratio=0.75, Accuracy: 0.4417\n",
            "Pruning performed: 5 sub-models removed. 4 remaining.\n",
            "Pruning with keep_ratio=0.5, Accuracy: 0.4167\n",
            "Pruning performed: 7 sub-models removed. 2 remaining.\n",
            "Pruning with keep_ratio=0.25, Accuracy: 0.5833\n",
            "Epoch 59, Test Loss: 0.0356, Accuracy: 0.3333\n"
          ]
        },
        {
          "output_type": "stream",
          "name": "stderr",
          "text": [
            "Epoch 60/75: 100%|██████████| 4/4 [00:00<00:00, 179.75it/s]\n"
          ]
        },
        {
          "output_type": "stream",
          "name": "stdout",
          "text": [
            "Epoch 60, Loss: 0.03874437014261881\n",
            "Pruning performed: 0 sub-models removed. 9 remaining.\n",
            "Pruning with keep_ratio=1.0, Accuracy: 0.3333\n",
            "Pruning performed: 3 sub-models removed. 6 remaining.\n",
            "Pruning with keep_ratio=0.75, Accuracy: 0.4417\n",
            "Pruning performed: 5 sub-models removed. 4 remaining.\n",
            "Pruning with keep_ratio=0.5, Accuracy: 0.5083\n",
            "Pruning performed: 7 sub-models removed. 2 remaining.\n",
            "Pruning with keep_ratio=0.25, Accuracy: 0.3417\n",
            "Epoch 60, Test Loss: 0.0356, Accuracy: 0.3333\n"
          ]
        },
        {
          "output_type": "stream",
          "name": "stderr",
          "text": [
            "Epoch 61/75: 100%|██████████| 4/4 [00:00<00:00, 173.63it/s]\n"
          ]
        },
        {
          "output_type": "stream",
          "name": "stdout",
          "text": [
            "Epoch 61, Loss: 0.040593538681666055\n",
            "Pruning performed: 0 sub-models removed. 9 remaining.\n",
            "Pruning with keep_ratio=1.0, Accuracy: 0.3333\n",
            "Pruning performed: 3 sub-models removed. 6 remaining.\n",
            "Pruning with keep_ratio=0.75, Accuracy: 0.4417\n",
            "Pruning performed: 5 sub-models removed. 4 remaining.\n",
            "Pruning with keep_ratio=0.5, Accuracy: 0.3417\n",
            "Pruning performed: 7 sub-models removed. 2 remaining.\n",
            "Pruning with keep_ratio=0.25, Accuracy: 0.5833\n",
            "Epoch 61, Test Loss: 0.0356, Accuracy: 0.3333\n"
          ]
        },
        {
          "output_type": "stream",
          "name": "stderr",
          "text": [
            "Epoch 62/75: 100%|██████████| 4/4 [00:00<00:00, 183.07it/s]\n"
          ]
        },
        {
          "output_type": "stream",
          "name": "stdout",
          "text": [
            "Epoch 62, Loss: 0.03719470699628194\n",
            "Pruning performed: 0 sub-models removed. 9 remaining.\n",
            "Pruning with keep_ratio=1.0, Accuracy: 0.3333\n",
            "Pruning performed: 3 sub-models removed. 6 remaining.\n",
            "Pruning with keep_ratio=0.75, Accuracy: 0.4417\n",
            "Pruning performed: 5 sub-models removed. 4 remaining.\n",
            "Pruning with keep_ratio=0.5, Accuracy: 0.3417\n",
            "Pruning performed: 7 sub-models removed. 2 remaining.\n",
            "Pruning with keep_ratio=0.25, Accuracy: 0.3500\n",
            "Epoch 62, Test Loss: 0.0356, Accuracy: 0.3333\n"
          ]
        },
        {
          "output_type": "stream",
          "name": "stderr",
          "text": [
            "Epoch 63/75: 100%|██████████| 4/4 [00:00<00:00, 124.40it/s]"
          ]
        },
        {
          "output_type": "stream",
          "name": "stdout",
          "text": [
            "Epoch 63, Loss: 0.04174141784509023\n",
            "Pruning performed: 0 sub-models removed. 9 remaining.\n",
            "Pruning with keep_ratio=1.0, Accuracy: 0.3333\n",
            "Pruning performed: 3 sub-models removed. 6 remaining.\n"
          ]
        },
        {
          "output_type": "stream",
          "name": "stderr",
          "text": [
            "\n"
          ]
        },
        {
          "output_type": "stream",
          "name": "stdout",
          "text": [
            "Pruning with keep_ratio=0.75, Accuracy: 0.4417\n",
            "Pruning performed: 5 sub-models removed. 4 remaining.\n",
            "Pruning with keep_ratio=0.5, Accuracy: 0.3417\n",
            "Pruning performed: 7 sub-models removed. 2 remaining.\n",
            "Pruning with keep_ratio=0.25, Accuracy: 0.5833\n",
            "Epoch 63, Test Loss: 0.0356, Accuracy: 0.3333\n"
          ]
        },
        {
          "output_type": "stream",
          "name": "stderr",
          "text": [
            "Epoch 64/75: 100%|██████████| 4/4 [00:00<00:00, 191.83it/s]"
          ]
        },
        {
          "output_type": "stream",
          "name": "stdout",
          "text": [
            "Epoch 64, Loss: 0.037838636835416155\n",
            "Pruning performed: 0 sub-models removed. 9 remaining.\n",
            "Pruning with keep_ratio=1.0, Accuracy: 0.3333\n",
            "Pruning performed: 3 sub-models removed. 6 remaining.\n"
          ]
        },
        {
          "output_type": "stream",
          "name": "stderr",
          "text": [
            "\n"
          ]
        },
        {
          "output_type": "stream",
          "name": "stdout",
          "text": [
            "Pruning with keep_ratio=0.75, Accuracy: 0.4417\n",
            "Pruning performed: 5 sub-models removed. 4 remaining.\n",
            "Pruning with keep_ratio=0.5, Accuracy: 0.4667\n",
            "Pruning performed: 7 sub-models removed. 2 remaining.\n",
            "Pruning with keep_ratio=0.25, Accuracy: 0.3500\n",
            "Epoch 64, Test Loss: 0.0356, Accuracy: 0.3333\n"
          ]
        },
        {
          "output_type": "stream",
          "name": "stderr",
          "text": [
            "Epoch 65/75: 100%|██████████| 4/4 [00:00<00:00, 173.24it/s]"
          ]
        },
        {
          "output_type": "stream",
          "name": "stdout",
          "text": [
            "Epoch 65, Loss: 0.041907529532909396\n",
            "Pruning performed: 0 sub-models removed. 9 remaining.\n",
            "Pruning with keep_ratio=1.0, Accuracy: 0.3333\n",
            "Pruning performed: 3 sub-models removed. 6 remaining.\n"
          ]
        },
        {
          "output_type": "stream",
          "name": "stderr",
          "text": [
            "\n"
          ]
        },
        {
          "output_type": "stream",
          "name": "stdout",
          "text": [
            "Pruning with keep_ratio=0.75, Accuracy: 0.5333\n",
            "Pruning performed: 5 sub-models removed. 4 remaining.\n",
            "Pruning with keep_ratio=0.5, Accuracy: 0.3417\n",
            "Pruning performed: 7 sub-models removed. 2 remaining.\n",
            "Pruning with keep_ratio=0.25, Accuracy: 0.3500\n",
            "Epoch 65, Test Loss: 0.0356, Accuracy: 0.3333\n"
          ]
        },
        {
          "output_type": "stream",
          "name": "stderr",
          "text": [
            "Epoch 66/75: 100%|██████████| 4/4 [00:00<00:00, 190.03it/s]\n"
          ]
        },
        {
          "output_type": "stream",
          "name": "stdout",
          "text": [
            "Epoch 66, Loss: 0.039570984244346616\n",
            "Pruning performed: 0 sub-models removed. 9 remaining.\n",
            "Pruning with keep_ratio=1.0, Accuracy: 0.3333\n",
            "Pruning performed: 3 sub-models removed. 6 remaining.\n",
            "Pruning with keep_ratio=0.75, Accuracy: 0.3917\n",
            "Pruning performed: 5 sub-models removed. 4 remaining.\n",
            "Pruning with keep_ratio=0.5, Accuracy: 0.3083\n",
            "Pruning performed: 7 sub-models removed. 2 remaining.\n",
            "Pruning with keep_ratio=0.25, Accuracy: 0.3500\n",
            "Epoch 66, Test Loss: 0.0356, Accuracy: 0.3333\n"
          ]
        },
        {
          "output_type": "stream",
          "name": "stderr",
          "text": [
            "Epoch 67/75: 100%|██████████| 4/4 [00:00<00:00, 173.23it/s]\n"
          ]
        },
        {
          "output_type": "stream",
          "name": "stdout",
          "text": [
            "Epoch 67, Loss: 0.04126332600911458\n",
            "Pruning performed: 0 sub-models removed. 9 remaining.\n",
            "Pruning with keep_ratio=1.0, Accuracy: 0.3333\n",
            "Pruning performed: 3 sub-models removed. 6 remaining.\n",
            "Pruning with keep_ratio=0.75, Accuracy: 0.5333\n",
            "Pruning performed: 5 sub-models removed. 4 remaining.\n",
            "Pruning with keep_ratio=0.5, Accuracy: 0.4667\n",
            "Pruning performed: 7 sub-models removed. 2 remaining.\n",
            "Pruning with keep_ratio=0.25, Accuracy: 0.4583\n",
            "Epoch 67, Test Loss: 0.0356, Accuracy: 0.3333\n"
          ]
        },
        {
          "output_type": "stream",
          "name": "stderr",
          "text": [
            "Epoch 68/75: 100%|██████████| 4/4 [00:00<00:00, 182.30it/s]\n"
          ]
        },
        {
          "output_type": "stream",
          "name": "stdout",
          "text": [
            "Epoch 68, Loss: 0.03822171886761983\n",
            "Pruning performed: 0 sub-models removed. 9 remaining.\n",
            "Pruning with keep_ratio=1.0, Accuracy: 0.3333\n",
            "Pruning performed: 3 sub-models removed. 6 remaining.\n",
            "Pruning with keep_ratio=0.75, Accuracy: 0.4417\n",
            "Pruning performed: 5 sub-models removed. 4 remaining.\n",
            "Pruning with keep_ratio=0.5, Accuracy: 0.3417\n",
            "Pruning performed: 7 sub-models removed. 2 remaining.\n",
            "Pruning with keep_ratio=0.25, Accuracy: 0.3500\n",
            "Epoch 68, Test Loss: 0.0356, Accuracy: 0.3333\n"
          ]
        },
        {
          "output_type": "stream",
          "name": "stderr",
          "text": [
            "Epoch 69/75: 100%|██████████| 4/4 [00:00<00:00, 187.88it/s]\n"
          ]
        },
        {
          "output_type": "stream",
          "name": "stdout",
          "text": [
            "Epoch 69, Loss: 0.04159472783406575\n",
            "Pruning performed: 0 sub-models removed. 9 remaining.\n",
            "Pruning with keep_ratio=1.0, Accuracy: 0.3333\n",
            "Pruning performed: 3 sub-models removed. 6 remaining.\n",
            "Pruning with keep_ratio=0.75, Accuracy: 0.3750\n",
            "Pruning performed: 5 sub-models removed. 4 remaining.\n",
            "Pruning with keep_ratio=0.5, Accuracy: 0.5083\n",
            "Pruning performed: 7 sub-models removed. 2 remaining.\n",
            "Pruning with keep_ratio=0.25, Accuracy: 0.5833\n",
            "Epoch 69, Test Loss: 0.0356, Accuracy: 0.3333\n"
          ]
        },
        {
          "output_type": "stream",
          "name": "stderr",
          "text": [
            "Epoch 70/75: 100%|██████████| 4/4 [00:00<00:00, 178.52it/s]\n"
          ]
        },
        {
          "output_type": "stream",
          "name": "stdout",
          "text": [
            "Epoch 70, Loss: 0.03969026108582815\n",
            "Pruning performed: 0 sub-models removed. 9 remaining.\n",
            "Pruning with keep_ratio=1.0, Accuracy: 0.3333\n",
            "Pruning performed: 3 sub-models removed. 6 remaining.\n",
            "Pruning with keep_ratio=0.75, Accuracy: 0.4417\n",
            "Pruning performed: 5 sub-models removed. 4 remaining.\n",
            "Pruning with keep_ratio=0.5, Accuracy: 0.3750\n",
            "Pruning performed: 7 sub-models removed. 2 remaining.\n",
            "Pruning with keep_ratio=0.25, Accuracy: 0.4583\n",
            "Epoch 70, Test Loss: 0.0356, Accuracy: 0.3333\n"
          ]
        },
        {
          "output_type": "stream",
          "name": "stderr",
          "text": [
            "Epoch 71/75: 100%|██████████| 4/4 [00:00<00:00, 191.55it/s]\n"
          ]
        },
        {
          "output_type": "stream",
          "name": "stdout",
          "text": [
            "Epoch 71, Loss: 0.04454348484675089\n",
            "Pruning performed: 0 sub-models removed. 9 remaining.\n",
            "Pruning with keep_ratio=1.0, Accuracy: 0.3333\n",
            "Pruning performed: 3 sub-models removed. 6 remaining.\n",
            "Pruning with keep_ratio=0.75, Accuracy: 0.5333\n",
            "Pruning performed: 5 sub-models removed. 4 remaining.\n",
            "Pruning with keep_ratio=0.5, Accuracy: 0.3417\n",
            "Pruning performed: 7 sub-models removed. 2 remaining.\n",
            "Pruning with keep_ratio=0.25, Accuracy: 0.4583\n",
            "Epoch 71, Test Loss: 0.0356, Accuracy: 0.3333\n"
          ]
        },
        {
          "output_type": "stream",
          "name": "stderr",
          "text": [
            "Epoch 72/75: 100%|██████████| 4/4 [00:00<00:00, 152.46it/s]"
          ]
        },
        {
          "output_type": "stream",
          "name": "stdout",
          "text": [
            "Epoch 72, Loss: 0.03924324909845988\n",
            "Pruning performed: 0 sub-models removed. 9 remaining.\n",
            "Pruning with keep_ratio=1.0, Accuracy: 0.3333\n",
            "Pruning performed: 3 sub-models removed. 6 remaining.\n",
            "Pruning with keep_ratio=0.75, Accuracy: 0.4417\n",
            "Pruning performed: 5 sub-models removed. 4 remaining.\n",
            "Pruning with keep_ratio=0.5, Accuracy: 0.3833\n"
          ]
        },
        {
          "output_type": "stream",
          "name": "stderr",
          "text": [
            "\n"
          ]
        },
        {
          "output_type": "stream",
          "name": "stdout",
          "text": [
            "Pruning performed: 7 sub-models removed. 2 remaining.\n",
            "Pruning with keep_ratio=0.25, Accuracy: 0.3417\n",
            "Epoch 72, Test Loss: 0.0356, Accuracy: 0.3333\n"
          ]
        },
        {
          "output_type": "stream",
          "name": "stderr",
          "text": [
            "Epoch 73/75: 100%|██████████| 4/4 [00:00<00:00, 143.62it/s]"
          ]
        },
        {
          "output_type": "stream",
          "name": "stdout",
          "text": [
            "Epoch 73, Loss: 0.039817708730697635\n",
            "Pruning performed: 0 sub-models removed. 9 remaining.\n",
            "Pruning with keep_ratio=1.0, Accuracy: 0.3333\n",
            "Pruning performed: 3 sub-models removed. 6 remaining.\n",
            "Pruning with keep_ratio=0.75, Accuracy: 0.4417\n",
            "Pruning performed: 5 sub-models removed. 4 remaining.\n"
          ]
        },
        {
          "output_type": "stream",
          "name": "stderr",
          "text": [
            "\n"
          ]
        },
        {
          "output_type": "stream",
          "name": "stdout",
          "text": [
            "Pruning with keep_ratio=0.5, Accuracy: 0.5250\n",
            "Pruning performed: 7 sub-models removed. 2 remaining.\n",
            "Pruning with keep_ratio=0.25, Accuracy: 0.4583\n",
            "Epoch 73, Test Loss: 0.0356, Accuracy: 0.3333\n"
          ]
        },
        {
          "output_type": "stream",
          "name": "stderr",
          "text": [
            "Epoch 74/75: 100%|██████████| 4/4 [00:00<00:00, 173.17it/s]"
          ]
        },
        {
          "output_type": "stream",
          "name": "stdout",
          "text": [
            "Epoch 74, Loss: 0.039031653602917986\n",
            "Pruning performed: 0 sub-models removed. 9 remaining.\n",
            "Pruning with keep_ratio=1.0, Accuracy: 0.3333\n",
            "Pruning performed: 3 sub-models removed. 6 remaining.\n",
            "Pruning with keep_ratio=0.75, Accuracy: 0.4417\n",
            "Pruning performed: 5 sub-models removed. 4 remaining.\n",
            "Pruning with keep_ratio=0.5, Accuracy: 0.5250\n"
          ]
        },
        {
          "output_type": "stream",
          "name": "stderr",
          "text": [
            "\n"
          ]
        },
        {
          "output_type": "stream",
          "name": "stdout",
          "text": [
            "Pruning performed: 7 sub-models removed. 2 remaining.\n",
            "Pruning with keep_ratio=0.25, Accuracy: 0.5833\n",
            "Epoch 74, Test Loss: 0.0356, Accuracy: 0.3333\n"
          ]
        },
        {
          "output_type": "stream",
          "name": "stderr",
          "text": [
            "Epoch 75/75: 100%|██████████| 4/4 [00:00<00:00, 113.13it/s]"
          ]
        },
        {
          "output_type": "stream",
          "name": "stdout",
          "text": [
            "Epoch 75, Loss: 0.04267876744270325\n",
            "Pruning performed: 0 sub-models removed. 9 remaining.\n",
            "Pruning with keep_ratio=1.0, Accuracy: 0.3333\n",
            "Pruning performed: 3 sub-models removed. 6 remaining.\n",
            "Pruning with keep_ratio=0.75, Accuracy: 0.4417\n",
            "Pruning performed: 5 sub-models removed. 4 remaining.\n"
          ]
        },
        {
          "output_type": "stream",
          "name": "stderr",
          "text": [
            "\n",
            "/usr/local/lib/python3.11/dist-packages/sklearn/metrics/_classification.py:1565: UndefinedMetricWarning: Precision is ill-defined and being set to 0.0 in labels with no predicted samples. Use `zero_division` parameter to control this behavior.\n",
            "  _warn_prf(average, modifier, f\"{metric.capitalize()} is\", len(result))\n"
          ]
        },
        {
          "output_type": "stream",
          "name": "stdout",
          "text": [
            "Pruning with keep_ratio=0.5, Accuracy: 0.5083\n",
            "Pruning performed: 7 sub-models removed. 2 remaining.\n",
            "Pruning with keep_ratio=0.25, Accuracy: 0.3417\n",
            "Epoch 75, Test Loss: 0.0356, Accuracy: 0.3333\n"
          ]
        },
        {
          "output_type": "display_data",
          "data": {
            "text/plain": [
              "<Figure size 1200x500 with 2 Axes>"
            ],
            "image/png": "[encoded data removed]"
          },
          "metadata": {}
        },
        {
          "output_type": "stream",
          "name": "stdout",
          "text": [
            "Best configuration of the model {'k': 9}\n"
          ]
        },
        {
          "output_type": "display_data",
          "data": {
            "text/plain": [
              "{'accuracy': 0.3333333333333333,\n",
              " 'loss': 0.035594618320465087,\n",
              " 'f1_score': 0.17251336045305896,\n",
              " 'precision': 0.28873974645786726,\n",
              " 'recall': 0.3338989898989899,\n",
              " 'auc_score': None,\n",
              " 'rmse': None,\n",
              " 'r2': None,\n",
              " 'execution_time': 7.65775728225708}"
            ]
          },
          "metadata": {}
        },
        {
          "output_type": "stream",
          "name": "stdout",
          "text": [
            "Model and configuration saved to iris_best_model.pth\n",
            "Model loaded from iris_best_model.pth\n",
            "Loading the model ...\n",
            "Test Loss: 0.0356, Accuracy: 0.3333\n",
            "\n",
            "\n",
            " *** Processing wine_quality dataset...\n"
          ]
        },
        {
          "output_type": "stream",
          "name": "stderr",
          "text": [
            "<ipython-input-3-bc070156fd1c>:671: FutureWarning: You are using `torch.load` with `weights_only=False` (the current default value), which uses the default pickle module implicitly. It is possible to construct malicious pickle data which will execute arbitrary code during unpickling (See https://github.com/pytorch/pytorch/blob/main/SECURITY.md#untrusted-models for more details). In a future release, the default value for `weights_only` will be flipped to `True`. This limits the functions that could be executed during unpickling. Arbitrary objects will no longer be allowed to be loaded via this mode unless they are explicitly allowlisted by the user via `torch.serialization.add_safe_globals`. We recommend you start setting `weights_only=True` for any use case where you don't have full control of the loaded file. Please open an issue on GitHub for any issues related to this experimental feature.\n",
            "  checkpoint = torch.load(filepath)\n"
          ]
        },
        {
          "output_type": "stream",
          "name": "stdout",
          "text": [
            "\n",
            "Pruning with keep_ratio = 1\n",
            "Pruning performed: 0 sub-models removed. 32 remaining.\n",
            "Overall accuracy after pruning: 0.1187\n",
            "\n",
            "Pruning with keep_ratio = 0.75\n",
            "Pruning performed: 8 sub-models removed. 24 remaining.\n",
            "Overall accuracy after pruning: 0.2224\n",
            "\n",
            "Pruning with keep_ratio = 0.5\n",
            "Pruning performed: 12 sub-models removed. 12 remaining.\n",
            "Overall accuracy after pruning: 0.2344\n",
            "\n",
            "Pruning with keep_ratio = 0.25\n",
            "Pruning performed: 9 sub-models removed. 3 remaining.\n",
            "Overall accuracy after pruning: 0.1899\n",
            "\n",
            "Pruning with keep_ratio = 0.1\n",
            "Pruning performed: 2 sub-models removed. 1 remaining.\n",
            "Overall accuracy after pruning: 0.2723\n"
          ]
        },
        {
          "output_type": "stream",
          "name": "stderr",
          "text": [
            "Epoch 1/35: 100%|██████████| 163/163 [00:03<00:00, 47.94it/s]\n"
          ]
        },
        {
          "output_type": "stream",
          "name": "stdout",
          "text": [
            "Epoch 1, Loss: 0.05335255382105505\n",
            "Pruning performed: 0 sub-models removed. 32 remaining.\n",
            "Pruning with keep_ratio=1.0, Accuracy: 0.4312\n",
            "Pruning performed: 8 sub-models removed. 24 remaining.\n",
            "Pruning with keep_ratio=0.75, Accuracy: 0.4322\n",
            "Pruning performed: 16 sub-models removed. 16 remaining.\n",
            "Pruning with keep_ratio=0.5, Accuracy: 0.4360\n",
            "Pruning performed: 24 sub-models removed. 8 remaining.\n",
            "Pruning with keep_ratio=0.25, Accuracy: 0.4322\n",
            "Epoch 1, Test Loss: 0.0455, Accuracy: 0.4200\n"
          ]
        },
        {
          "output_type": "stream",
          "name": "stderr",
          "text": [
            "Epoch 2/35: 100%|██████████| 163/163 [00:01<00:00, 103.28it/s]\n"
          ]
        },
        {
          "output_type": "stream",
          "name": "stdout",
          "text": [
            "Epoch 2, Loss: 0.046203908219299844\n",
            "Pruning performed: 0 sub-models removed. 32 remaining.\n",
            "Pruning with keep_ratio=1.0, Accuracy: 0.4312\n",
            "Pruning performed: 8 sub-models removed. 24 remaining.\n",
            "Pruning with keep_ratio=0.75, Accuracy: 0.4404\n",
            "Pruning performed: 16 sub-models removed. 16 remaining.\n",
            "Pruning with keep_ratio=0.5, Accuracy: 0.4528\n",
            "Pruning performed: 24 sub-models removed. 8 remaining.\n",
            "Pruning with keep_ratio=0.25, Accuracy: 0.3908\n",
            "Epoch 2, Test Loss: 0.0455, Accuracy: 0.4200\n"
          ]
        },
        {
          "output_type": "stream",
          "name": "stderr",
          "text": [
            "Epoch 3/35: 100%|██████████| 163/163 [00:01<00:00, 102.33it/s]\n"
          ]
        },
        {
          "output_type": "stream",
          "name": "stdout",
          "text": [
            "Epoch 3, Loss: 0.04634640176456342\n",
            "Pruning performed: 0 sub-models removed. 32 remaining.\n",
            "Pruning with keep_ratio=1.0, Accuracy: 0.4312\n",
            "Pruning performed: 8 sub-models removed. 24 remaining.\n",
            "Pruning with keep_ratio=0.75, Accuracy: 0.4364\n",
            "Pruning performed: 16 sub-models removed. 16 remaining.\n",
            "Pruning with keep_ratio=0.5, Accuracy: 0.4139\n",
            "Pruning performed: 24 sub-models removed. 8 remaining.\n",
            "Pruning with keep_ratio=0.25, Accuracy: 0.4093\n",
            "Epoch 3, Test Loss: 0.0455, Accuracy: 0.4200\n"
          ]
        },
        {
          "output_type": "stream",
          "name": "stderr",
          "text": [
            "Epoch 4/35: 100%|██████████| 163/163 [00:01<00:00, 104.45it/s]\n"
          ]
        },
        {
          "output_type": "stream",
          "name": "stdout",
          "text": [
            "Epoch 4, Loss: 0.046501950458859125\n",
            "Pruning performed: 0 sub-models removed. 32 remaining.\n",
            "Pruning with keep_ratio=1.0, Accuracy: 0.4312\n",
            "Pruning performed: 8 sub-models removed. 24 remaining.\n",
            "Pruning with keep_ratio=0.75, Accuracy: 0.4308\n",
            "Pruning performed: 16 sub-models removed. 16 remaining.\n",
            "Pruning with keep_ratio=0.5, Accuracy: 0.4453\n",
            "Pruning performed: 24 sub-models removed. 8 remaining.\n",
            "Pruning with keep_ratio=0.25, Accuracy: 0.4168\n",
            "Epoch 4, Test Loss: 0.0455, Accuracy: 0.4200\n"
          ]
        },
        {
          "output_type": "stream",
          "name": "stderr",
          "text": [
            "Epoch 5/35: 100%|██████████| 163/163 [00:02<00:00, 79.23it/s]\n"
          ]
        },
        {
          "output_type": "stream",
          "name": "stdout",
          "text": [
            "Epoch 5, Loss: 0.04593657848581296\n",
            "Pruning performed: 0 sub-models removed. 32 remaining.\n",
            "Pruning with keep_ratio=1.0, Accuracy: 0.4312\n",
            "Pruning performed: 8 sub-models removed. 24 remaining.\n",
            "Pruning with keep_ratio=0.75, Accuracy: 0.4333\n",
            "Pruning performed: 16 sub-models removed. 16 remaining.\n",
            "Pruning with keep_ratio=0.5, Accuracy: 0.4260\n",
            "Pruning performed: 24 sub-models removed. 8 remaining.\n",
            "Pruning with keep_ratio=0.25, Accuracy: 0.4268\n",
            "Epoch 5, Test Loss: 0.0455, Accuracy: 0.4200\n"
          ]
        },
        {
          "output_type": "stream",
          "name": "stderr",
          "text": [
            "Epoch 6/35: 100%|██████████| 163/163 [00:01<00:00, 104.15it/s]\n"
          ]
        },
        {
          "output_type": "stream",
          "name": "stdout",
          "text": [
            "Epoch 6, Loss: 0.046336875160038184\n",
            "Pruning performed: 0 sub-models removed. 32 remaining.\n",
            "Pruning with keep_ratio=1.0, Accuracy: 0.4312\n",
            "Pruning performed: 8 sub-models removed. 24 remaining.\n",
            "Pruning with keep_ratio=0.75, Accuracy: 0.4366\n",
            "Pruning performed: 16 sub-models removed. 16 remaining.\n",
            "Pruning with keep_ratio=0.5, Accuracy: 0.2765\n",
            "Pruning performed: 24 sub-models removed. 8 remaining.\n",
            "Pruning with keep_ratio=0.25, Accuracy: 0.4362\n",
            "Epoch 6, Test Loss: 0.0455, Accuracy: 0.4200\n"
          ]
        },
        {
          "output_type": "stream",
          "name": "stderr",
          "text": [
            "Epoch 7/35: 100%|██████████| 163/163 [00:01<00:00, 104.31it/s]\n"
          ]
        },
        {
          "output_type": "stream",
          "name": "stdout",
          "text": [
            "Epoch 7, Loss: 0.0464171721014537\n",
            "Pruning performed: 0 sub-models removed. 32 remaining.\n",
            "Pruning with keep_ratio=1.0, Accuracy: 0.4312\n",
            "Pruning performed: 8 sub-models removed. 24 remaining.\n",
            "Pruning with keep_ratio=0.75, Accuracy: 0.4264\n",
            "Pruning performed: 16 sub-models removed. 16 remaining.\n",
            "Pruning with keep_ratio=0.5, Accuracy: 0.4279\n",
            "Pruning performed: 24 sub-models removed. 8 remaining.\n",
            "Pruning with keep_ratio=0.25, Accuracy: 0.2403\n",
            "Epoch 7, Test Loss: 0.0455, Accuracy: 0.4200\n"
          ]
        },
        {
          "output_type": "stream",
          "name": "stderr",
          "text": [
            "Epoch 8/35: 100%|██████████| 163/163 [00:01<00:00, 106.45it/s]\n"
          ]
        },
        {
          "output_type": "stream",
          "name": "stdout",
          "text": [
            "Epoch 8, Loss: 0.046620614716289636\n",
            "Pruning performed: 0 sub-models removed. 32 remaining.\n",
            "Pruning with keep_ratio=1.0, Accuracy: 0.4312\n",
            "Pruning performed: 8 sub-models removed. 24 remaining.\n",
            "Pruning with keep_ratio=0.75, Accuracy: 0.3781\n",
            "Pruning performed: 16 sub-models removed. 16 remaining.\n",
            "Pruning with keep_ratio=0.5, Accuracy: 0.4274\n",
            "Pruning performed: 24 sub-models removed. 8 remaining.\n",
            "Pruning with keep_ratio=0.25, Accuracy: 0.4374\n",
            "Epoch 8, Test Loss: 0.0455, Accuracy: 0.4200\n"
          ]
        },
        {
          "output_type": "stream",
          "name": "stderr",
          "text": [
            "Epoch 9/35: 100%|██████████| 163/163 [00:01<00:00, 93.44it/s]\n"
          ]
        },
        {
          "output_type": "stream",
          "name": "stdout",
          "text": [
            "Epoch 9, Loss: 0.04626719543790276\n",
            "Pruning performed: 0 sub-models removed. 32 remaining.\n",
            "Pruning with keep_ratio=1.0, Accuracy: 0.4312\n",
            "Pruning performed: 8 sub-models removed. 24 remaining.\n",
            "Pruning with keep_ratio=0.75, Accuracy: 0.4368\n",
            "Pruning performed: 16 sub-models removed. 16 remaining.\n",
            "Pruning with keep_ratio=0.5, Accuracy: 0.4412\n",
            "Pruning performed: 24 sub-models removed. 8 remaining.\n",
            "Pruning with keep_ratio=0.25, Accuracy: 0.4270\n",
            "Epoch 9, Test Loss: 0.0455, Accuracy: 0.4200\n"
          ]
        },
        {
          "output_type": "stream",
          "name": "stderr",
          "text": [
            "Epoch 10/35: 100%|██████████| 163/163 [00:02<00:00, 79.40it/s]\n"
          ]
        },
        {
          "output_type": "stream",
          "name": "stdout",
          "text": [
            "Epoch 10, Loss: 0.0464197460999965\n",
            "Pruning performed: 0 sub-models removed. 32 remaining.\n",
            "Pruning with keep_ratio=1.0, Accuracy: 0.4312\n",
            "Pruning performed: 8 sub-models removed. 24 remaining.\n",
            "Pruning with keep_ratio=0.75, Accuracy: 0.4345\n",
            "Pruning performed: 16 sub-models removed. 16 remaining.\n",
            "Pruning with keep_ratio=0.5, Accuracy: 0.3404\n",
            "Pruning performed: 24 sub-models removed. 8 remaining.\n",
            "Pruning with keep_ratio=0.25, Accuracy: 0.3985\n",
            "Epoch 10, Test Loss: 0.0455, Accuracy: 0.4200\n"
          ]
        },
        {
          "output_type": "stream",
          "name": "stderr",
          "text": [
            "Epoch 11/35: 100%|██████████| 163/163 [00:01<00:00, 107.56it/s]\n"
          ]
        },
        {
          "output_type": "stream",
          "name": "stdout",
          "text": [
            "Epoch 11, Loss: 0.046336371737625684\n",
            "Pruning performed: 0 sub-models removed. 32 remaining.\n",
            "Pruning with keep_ratio=1.0, Accuracy: 0.4312\n",
            "Pruning performed: 8 sub-models removed. 24 remaining.\n",
            "Pruning with keep_ratio=0.75, Accuracy: 0.3458\n",
            "Pruning performed: 16 sub-models removed. 16 remaining.\n",
            "Pruning with keep_ratio=0.5, Accuracy: 0.4399\n",
            "Pruning performed: 24 sub-models removed. 8 remaining.\n",
            "Pruning with keep_ratio=0.25, Accuracy: 0.4341\n",
            "Epoch 11, Test Loss: 0.0455, Accuracy: 0.4200\n"
          ]
        },
        {
          "output_type": "stream",
          "name": "stderr",
          "text": [
            "Epoch 12/35: 100%|██████████| 163/163 [00:01<00:00, 106.73it/s]\n"
          ]
        },
        {
          "output_type": "stream",
          "name": "stdout",
          "text": [
            "Epoch 12, Loss: 0.046238655685713274\n",
            "Pruning performed: 0 sub-models removed. 32 remaining.\n",
            "Pruning with keep_ratio=1.0, Accuracy: 0.4312\n",
            "Pruning performed: 8 sub-models removed. 24 remaining.\n",
            "Pruning with keep_ratio=0.75, Accuracy: 0.3591\n",
            "Pruning performed: 16 sub-models removed. 16 remaining.\n",
            "Pruning with keep_ratio=0.5, Accuracy: 0.4264\n",
            "Pruning performed: 24 sub-models removed. 8 remaining.\n",
            "Pruning with keep_ratio=0.25, Accuracy: 0.3881\n",
            "Epoch 12, Test Loss: 0.0455, Accuracy: 0.4200\n"
          ]
        },
        {
          "output_type": "stream",
          "name": "stderr",
          "text": [
            "Epoch 13/35: 100%|██████████| 163/163 [00:01<00:00, 104.71it/s]\n"
          ]
        },
        {
          "output_type": "stream",
          "name": "stdout",
          "text": [
            "Epoch 13, Loss: 0.04668559749607676\n",
            "Pruning performed: 0 sub-models removed. 32 remaining.\n",
            "Pruning with keep_ratio=1.0, Accuracy: 0.4312\n",
            "Pruning performed: 8 sub-models removed. 24 remaining.\n",
            "Pruning with keep_ratio=0.75, Accuracy: 0.4312\n",
            "Pruning performed: 16 sub-models removed. 16 remaining.\n",
            "Pruning with keep_ratio=0.5, Accuracy: 0.4326\n",
            "Pruning performed: 24 sub-models removed. 8 remaining.\n",
            "Pruning with keep_ratio=0.25, Accuracy: 0.4429\n",
            "Epoch 13, Test Loss: 0.0455, Accuracy: 0.4200\n"
          ]
        },
        {
          "output_type": "stream",
          "name": "stderr",
          "text": [
            "Epoch 14/35: 100%|██████████| 163/163 [00:02<00:00, 70.63it/s]\n"
          ]
        },
        {
          "output_type": "stream",
          "name": "stdout",
          "text": [
            "Epoch 14, Loss: 0.04632937504462102\n",
            "Pruning performed: 0 sub-models removed. 32 remaining.\n",
            "Pruning with keep_ratio=1.0, Accuracy: 0.4312\n",
            "Pruning performed: 8 sub-models removed. 24 remaining.\n",
            "Pruning with keep_ratio=0.75, Accuracy: 0.4518\n",
            "Pruning performed: 16 sub-models removed. 16 remaining.\n",
            "Pruning with keep_ratio=0.5, Accuracy: 0.4349\n",
            "Pruning performed: 24 sub-models removed. 8 remaining.\n",
            "Pruning with keep_ratio=0.25, Accuracy: 0.4354\n",
            "Epoch 14, Test Loss: 0.0455, Accuracy: 0.4200\n"
          ]
        },
        {
          "output_type": "stream",
          "name": "stderr",
          "text": [
            "Epoch 15/35: 100%|██████████| 163/163 [00:01<00:00, 103.53it/s]\n"
          ]
        },
        {
          "output_type": "stream",
          "name": "stdout",
          "text": [
            "Epoch 15, Loss: 0.046025897244524445\n",
            "Pruning performed: 0 sub-models removed. 32 remaining.\n",
            "Pruning with keep_ratio=1.0, Accuracy: 0.4312\n",
            "Pruning performed: 8 sub-models removed. 24 remaining.\n",
            "Pruning with keep_ratio=0.75, Accuracy: 0.4381\n",
            "Pruning performed: 16 sub-models removed. 16 remaining.\n",
            "Pruning with keep_ratio=0.5, Accuracy: 0.4320\n",
            "Pruning performed: 24 sub-models removed. 8 remaining.\n",
            "Pruning with keep_ratio=0.25, Accuracy: 0.4149\n",
            "Epoch 15, Test Loss: 0.0455, Accuracy: 0.4200\n"
          ]
        },
        {
          "output_type": "stream",
          "name": "stderr",
          "text": [
            "Epoch 16/35: 100%|██████████| 163/163 [00:01<00:00, 102.68it/s]\n"
          ]
        },
        {
          "output_type": "stream",
          "name": "stdout",
          "text": [
            "Epoch 16, Loss: 0.0465504537987576\n",
            "Pruning performed: 0 sub-models removed. 32 remaining.\n",
            "Pruning with keep_ratio=1.0, Accuracy: 0.4312\n",
            "Pruning performed: 8 sub-models removed. 24 remaining.\n",
            "Pruning with keep_ratio=0.75, Accuracy: 0.4314\n",
            "Pruning performed: 16 sub-models removed. 16 remaining.\n",
            "Pruning with keep_ratio=0.5, Accuracy: 0.4226\n",
            "Pruning performed: 24 sub-models removed. 8 remaining.\n",
            "Pruning with keep_ratio=0.25, Accuracy: 0.4424\n",
            "Epoch 16, Test Loss: 0.0455, Accuracy: 0.4200\n"
          ]
        },
        {
          "output_type": "stream",
          "name": "stderr",
          "text": [
            "Epoch 17/35: 100%|██████████| 163/163 [00:01<00:00, 104.96it/s]\n"
          ]
        },
        {
          "output_type": "stream",
          "name": "stdout",
          "text": [
            "Epoch 17, Loss: 0.04668102905294724\n",
            "Pruning performed: 0 sub-models removed. 32 remaining.\n",
            "Pruning with keep_ratio=1.0, Accuracy: 0.4312\n",
            "Pruning performed: 8 sub-models removed. 24 remaining.\n",
            "Pruning with keep_ratio=0.75, Accuracy: 0.4337\n",
            "Pruning performed: 16 sub-models removed. 16 remaining.\n",
            "Pruning with keep_ratio=0.5, Accuracy: 0.4378\n",
            "Pruning performed: 24 sub-models removed. 8 remaining.\n",
            "Pruning with keep_ratio=0.25, Accuracy: 0.4102\n",
            "Epoch 17, Test Loss: 0.0455, Accuracy: 0.4200\n"
          ]
        },
        {
          "output_type": "stream",
          "name": "stderr",
          "text": [
            "Epoch 18/35: 100%|██████████| 163/163 [00:02<00:00, 79.78it/s]\n"
          ]
        },
        {
          "output_type": "stream",
          "name": "stdout",
          "text": [
            "Epoch 18, Loss: 0.046322660604898626\n",
            "Pruning performed: 0 sub-models removed. 32 remaining.\n",
            "Pruning with keep_ratio=1.0, Accuracy: 0.4312\n",
            "Pruning performed: 8 sub-models removed. 24 remaining.\n",
            "Pruning with keep_ratio=0.75, Accuracy: 0.4366\n",
            "Pruning performed: 16 sub-models removed. 16 remaining.\n",
            "Pruning with keep_ratio=0.5, Accuracy: 0.4343\n",
            "Pruning performed: 24 sub-models removed. 8 remaining.\n",
            "Pruning with keep_ratio=0.25, Accuracy: 0.4310\n",
            "Epoch 18, Test Loss: 0.0455, Accuracy: 0.4200\n"
          ]
        },
        {
          "output_type": "stream",
          "name": "stderr",
          "text": [
            "Epoch 19/35: 100%|██████████| 163/163 [00:01<00:00, 107.25it/s]\n"
          ]
        },
        {
          "output_type": "stream",
          "name": "stdout",
          "text": [
            "Epoch 19, Loss: 0.046511005456112246\n",
            "Pruning performed: 0 sub-models removed. 32 remaining.\n",
            "Pruning with keep_ratio=1.0, Accuracy: 0.4312\n",
            "Pruning performed: 8 sub-models removed. 24 remaining.\n",
            "Pruning with keep_ratio=0.75, Accuracy: 0.4349\n",
            "Pruning performed: 16 sub-models removed. 16 remaining.\n",
            "Pruning with keep_ratio=0.5, Accuracy: 0.4308\n",
            "Pruning performed: 24 sub-models removed. 8 remaining.\n",
            "Pruning with keep_ratio=0.25, Accuracy: 0.4360\n",
            "Epoch 19, Test Loss: 0.0455, Accuracy: 0.4200\n"
          ]
        },
        {
          "output_type": "stream",
          "name": "stderr",
          "text": [
            "Epoch 20/35: 100%|██████████| 163/163 [00:01<00:00, 104.89it/s]\n"
          ]
        },
        {
          "output_type": "stream",
          "name": "stdout",
          "text": [
            "Epoch 20, Loss: 0.046574957306072626\n",
            "Pruning performed: 0 sub-models removed. 32 remaining.\n",
            "Pruning with keep_ratio=1.0, Accuracy: 0.4312\n",
            "Pruning performed: 8 sub-models removed. 24 remaining.\n",
            "Pruning with keep_ratio=0.75, Accuracy: 0.4358\n",
            "Pruning performed: 16 sub-models removed. 16 remaining.\n",
            "Pruning with keep_ratio=0.5, Accuracy: 0.4210\n",
            "Pruning performed: 24 sub-models removed. 8 remaining.\n",
            "Pruning with keep_ratio=0.25, Accuracy: 0.3512\n",
            "Epoch 20, Test Loss: 0.0455, Accuracy: 0.4200\n"
          ]
        },
        {
          "output_type": "stream",
          "name": "stderr",
          "text": [
            "Epoch 21/35: 100%|██████████| 163/163 [00:01<00:00, 103.17it/s]\n"
          ]
        },
        {
          "output_type": "stream",
          "name": "stdout",
          "text": [
            "Epoch 21, Loss: 0.04629001403877959\n",
            "Pruning performed: 0 sub-models removed. 32 remaining.\n",
            "Pruning with keep_ratio=1.0, Accuracy: 0.4312\n",
            "Pruning performed: 8 sub-models removed. 24 remaining.\n",
            "Pruning with keep_ratio=0.75, Accuracy: 0.3440\n",
            "Pruning performed: 16 sub-models removed. 16 remaining.\n",
            "Pruning with keep_ratio=0.5, Accuracy: 0.4385\n",
            "Pruning performed: 24 sub-models removed. 8 remaining.\n",
            "Pruning with keep_ratio=0.25, Accuracy: 0.3490\n",
            "Epoch 21, Test Loss: 0.0455, Accuracy: 0.4200\n"
          ]
        },
        {
          "output_type": "stream",
          "name": "stderr",
          "text": [
            "Epoch 22/35: 100%|██████████| 163/163 [00:01<00:00, 90.12it/s]\n"
          ]
        },
        {
          "output_type": "stream",
          "name": "stdout",
          "text": [
            "Epoch 22, Loss: 0.046689235202986755\n",
            "Pruning performed: 0 sub-models removed. 32 remaining.\n",
            "Pruning with keep_ratio=1.0, Accuracy: 0.4312\n",
            "Pruning performed: 8 sub-models removed. 24 remaining.\n",
            "Pruning with keep_ratio=0.75, Accuracy: 0.4229\n",
            "Pruning performed: 16 sub-models removed. 16 remaining.\n",
            "Pruning with keep_ratio=0.5, Accuracy: 0.4366\n",
            "Pruning performed: 24 sub-models removed. 8 remaining.\n",
            "Pruning with keep_ratio=0.25, Accuracy: 0.4322\n",
            "Epoch 22, Test Loss: 0.0455, Accuracy: 0.4200\n"
          ]
        },
        {
          "output_type": "stream",
          "name": "stderr",
          "text": [
            "Epoch 23/35: 100%|██████████| 163/163 [00:02<00:00, 78.65it/s] \n"
          ]
        },
        {
          "output_type": "stream",
          "name": "stdout",
          "text": [
            "Epoch 23, Loss: 0.04611682421614717\n",
            "Pruning performed: 0 sub-models removed. 32 remaining.\n",
            "Pruning with keep_ratio=1.0, Accuracy: 0.4312\n",
            "Pruning performed: 8 sub-models removed. 24 remaining.\n",
            "Pruning with keep_ratio=0.75, Accuracy: 0.4149\n",
            "Pruning performed: 16 sub-models removed. 16 remaining.\n",
            "Pruning with keep_ratio=0.5, Accuracy: 0.4047\n",
            "Pruning performed: 24 sub-models removed. 8 remaining.\n",
            "Pruning with keep_ratio=0.25, Accuracy: 0.4137\n",
            "Epoch 23, Test Loss: 0.0455, Accuracy: 0.4200\n"
          ]
        },
        {
          "output_type": "stream",
          "name": "stderr",
          "text": [
            "Epoch 24/35: 100%|██████████| 163/163 [00:01<00:00, 105.11it/s]\n"
          ]
        },
        {
          "output_type": "stream",
          "name": "stdout",
          "text": [
            "Epoch 24, Loss: 0.046240935032932445\n",
            "Pruning performed: 0 sub-models removed. 32 remaining.\n",
            "Pruning with keep_ratio=1.0, Accuracy: 0.4312\n",
            "Pruning performed: 8 sub-models removed. 24 remaining.\n",
            "Pruning with keep_ratio=0.75, Accuracy: 0.4368\n",
            "Pruning performed: 16 sub-models removed. 16 remaining.\n",
            "Pruning with keep_ratio=0.5, Accuracy: 0.4231\n",
            "Pruning performed: 24 sub-models removed. 8 remaining.\n",
            "Pruning with keep_ratio=0.25, Accuracy: 0.4376\n",
            "Epoch 24, Test Loss: 0.0455, Accuracy: 0.4200\n"
          ]
        },
        {
          "output_type": "stream",
          "name": "stderr",
          "text": [
            "Epoch 25/35: 100%|██████████| 163/163 [00:01<00:00, 102.74it/s]\n"
          ]
        },
        {
          "output_type": "stream",
          "name": "stdout",
          "text": [
            "Epoch 25, Loss: 0.0466195741983384\n",
            "Pruning performed: 0 sub-models removed. 32 remaining.\n",
            "Pruning with keep_ratio=1.0, Accuracy: 0.4312\n",
            "Pruning performed: 8 sub-models removed. 24 remaining.\n",
            "Pruning with keep_ratio=0.75, Accuracy: 0.3542\n",
            "Pruning performed: 16 sub-models removed. 16 remaining.\n",
            "Pruning with keep_ratio=0.5, Accuracy: 0.4150\n",
            "Pruning performed: 24 sub-models removed. 8 remaining.\n",
            "Pruning with keep_ratio=0.25, Accuracy: 0.3841\n",
            "Epoch 25, Test Loss: 0.0455, Accuracy: 0.4200\n"
          ]
        },
        {
          "output_type": "stream",
          "name": "stderr",
          "text": [
            "Epoch 26/35: 100%|██████████| 163/163 [00:01<00:00, 102.63it/s]\n"
          ]
        },
        {
          "output_type": "stream",
          "name": "stdout",
          "text": [
            "Epoch 26, Loss: 0.04645198575574571\n",
            "Pruning performed: 0 sub-models removed. 32 remaining.\n",
            "Pruning with keep_ratio=1.0, Accuracy: 0.4312\n",
            "Pruning performed: 8 sub-models removed. 24 remaining.\n",
            "Pruning with keep_ratio=0.75, Accuracy: 0.4322\n",
            "Pruning performed: 16 sub-models removed. 16 remaining.\n",
            "Pruning with keep_ratio=0.5, Accuracy: 0.4147\n",
            "Pruning performed: 24 sub-models removed. 8 remaining.\n",
            "Pruning with keep_ratio=0.25, Accuracy: 0.4447\n",
            "Epoch 26, Test Loss: 0.0455, Accuracy: 0.4200\n"
          ]
        },
        {
          "output_type": "stream",
          "name": "stderr",
          "text": [
            "Epoch 27/35: 100%|██████████| 163/163 [00:02<00:00, 69.79it/s]\n"
          ]
        },
        {
          "output_type": "stream",
          "name": "stdout",
          "text": [
            "Epoch 27, Loss: 0.046220716018045505\n",
            "Pruning performed: 0 sub-models removed. 32 remaining.\n",
            "Pruning with keep_ratio=1.0, Accuracy: 0.4312\n",
            "Pruning performed: 8 sub-models removed. 24 remaining.\n",
            "Pruning with keep_ratio=0.75, Accuracy: 0.3995\n",
            "Pruning performed: 16 sub-models removed. 16 remaining.\n",
            "Pruning with keep_ratio=0.5, Accuracy: 0.4299\n",
            "Pruning performed: 24 sub-models removed. 8 remaining.\n",
            "Pruning with keep_ratio=0.25, Accuracy: 0.4314\n",
            "Epoch 27, Test Loss: 0.0455, Accuracy: 0.4200\n"
          ]
        },
        {
          "output_type": "stream",
          "name": "stderr",
          "text": [
            "Epoch 28/35: 100%|██████████| 163/163 [00:01<00:00, 104.22it/s]\n"
          ]
        },
        {
          "output_type": "stream",
          "name": "stdout",
          "text": [
            "Epoch 28, Loss: 0.04636640706520161\n",
            "Pruning performed: 0 sub-models removed. 32 remaining.\n",
            "Pruning with keep_ratio=1.0, Accuracy: 0.4312\n",
            "Pruning performed: 8 sub-models removed. 24 remaining.\n",
            "Pruning with keep_ratio=0.75, Accuracy: 0.4356\n",
            "Pruning performed: 16 sub-models removed. 16 remaining.\n",
            "Pruning with keep_ratio=0.5, Accuracy: 0.4385\n",
            "Pruning performed: 24 sub-models removed. 8 remaining.\n",
            "Pruning with keep_ratio=0.25, Accuracy: 0.2242\n",
            "Epoch 28, Test Loss: 0.0455, Accuracy: 0.4200\n"
          ]
        },
        {
          "output_type": "stream",
          "name": "stderr",
          "text": [
            "Epoch 29/35: 100%|██████████| 163/163 [00:01<00:00, 103.09it/s]\n"
          ]
        },
        {
          "output_type": "stream",
          "name": "stdout",
          "text": [
            "Epoch 29, Loss: 0.04648722488879699\n",
            "Pruning performed: 0 sub-models removed. 32 remaining.\n",
            "Pruning with keep_ratio=1.0, Accuracy: 0.4312\n",
            "Pruning performed: 8 sub-models removed. 24 remaining.\n",
            "Pruning with keep_ratio=0.75, Accuracy: 0.4387\n",
            "Pruning performed: 16 sub-models removed. 16 remaining.\n",
            "Pruning with keep_ratio=0.5, Accuracy: 0.4418\n",
            "Pruning performed: 24 sub-models removed. 8 remaining.\n",
            "Pruning with keep_ratio=0.25, Accuracy: 0.3059\n",
            "Epoch 29, Test Loss: 0.0455, Accuracy: 0.4200\n"
          ]
        },
        {
          "output_type": "stream",
          "name": "stderr",
          "text": [
            "Epoch 30/35: 100%|██████████| 163/163 [00:01<00:00, 105.55it/s]\n"
          ]
        },
        {
          "output_type": "stream",
          "name": "stdout",
          "text": [
            "Epoch 30, Loss: 0.046859358374100366\n",
            "Pruning performed: 0 sub-models removed. 32 remaining.\n",
            "Pruning with keep_ratio=1.0, Accuracy: 0.4312\n",
            "Pruning performed: 8 sub-models removed. 24 remaining.\n",
            "Pruning with keep_ratio=0.75, Accuracy: 0.4312\n",
            "Pruning performed: 16 sub-models removed. 16 remaining.\n",
            "Pruning with keep_ratio=0.5, Accuracy: 0.4385\n",
            "Pruning performed: 24 sub-models removed. 8 remaining.\n",
            "Pruning with keep_ratio=0.25, Accuracy: 0.2979\n",
            "Epoch 30, Test Loss: 0.0455, Accuracy: 0.4200\n"
          ]
        },
        {
          "output_type": "stream",
          "name": "stderr",
          "text": [
            "Epoch 31/35: 100%|██████████| 163/163 [00:01<00:00, 84.45it/s]\n"
          ]
        },
        {
          "output_type": "stream",
          "name": "stdout",
          "text": [
            "Epoch 31, Loss: 0.046074645987652534\n",
            "Pruning performed: 0 sub-models removed. 32 remaining.\n",
            "Pruning with keep_ratio=1.0, Accuracy: 0.4312\n",
            "Pruning performed: 8 sub-models removed. 24 remaining.\n",
            "Pruning with keep_ratio=0.75, Accuracy: 0.4201\n",
            "Pruning performed: 16 sub-models removed. 16 remaining.\n",
            "Pruning with keep_ratio=0.5, Accuracy: 0.3223\n",
            "Pruning performed: 24 sub-models removed. 8 remaining.\n",
            "Pruning with keep_ratio=0.25, Accuracy: 0.4341\n",
            "Epoch 31, Test Loss: 0.0455, Accuracy: 0.4200\n"
          ]
        },
        {
          "output_type": "stream",
          "name": "stderr",
          "text": [
            "Epoch 32/35: 100%|██████████| 163/163 [00:01<00:00, 97.75it/s] \n"
          ]
        },
        {
          "output_type": "stream",
          "name": "stdout",
          "text": [
            "Epoch 32, Loss: 0.04677314195858646\n",
            "Pruning performed: 0 sub-models removed. 32 remaining.\n",
            "Pruning with keep_ratio=1.0, Accuracy: 0.4312\n",
            "Pruning performed: 8 sub-models removed. 24 remaining.\n",
            "Pruning with keep_ratio=0.75, Accuracy: 0.4285\n",
            "Pruning performed: 16 sub-models removed. 16 remaining.\n",
            "Pruning with keep_ratio=0.5, Accuracy: 0.4354\n",
            "Pruning performed: 24 sub-models removed. 8 remaining.\n",
            "Pruning with keep_ratio=0.25, Accuracy: 0.4426\n",
            "Epoch 32, Test Loss: 0.0455, Accuracy: 0.4200\n"
          ]
        },
        {
          "output_type": "stream",
          "name": "stderr",
          "text": [
            "Epoch 33/35: 100%|██████████| 163/163 [00:01<00:00, 104.40it/s]\n"
          ]
        },
        {
          "output_type": "stream",
          "name": "stdout",
          "text": [
            "Epoch 33, Loss: 0.04661756436228867\n",
            "Pruning performed: 0 sub-models removed. 32 remaining.\n",
            "Pruning with keep_ratio=1.0, Accuracy: 0.4312\n",
            "Pruning performed: 8 sub-models removed. 24 remaining.\n",
            "Pruning with keep_ratio=0.75, Accuracy: 0.4289\n",
            "Pruning performed: 16 sub-models removed. 16 remaining.\n",
            "Pruning with keep_ratio=0.5, Accuracy: 0.4172\n",
            "Pruning performed: 24 sub-models removed. 8 remaining.\n",
            "Pruning with keep_ratio=0.25, Accuracy: 0.3298\n",
            "Epoch 33, Test Loss: 0.0455, Accuracy: 0.4200\n"
          ]
        },
        {
          "output_type": "stream",
          "name": "stderr",
          "text": [
            "Epoch 34/35: 100%|██████████| 163/163 [00:01<00:00, 101.31it/s]\n"
          ]
        },
        {
          "output_type": "stream",
          "name": "stdout",
          "text": [
            "Epoch 34, Loss: 0.04629575522651988\n",
            "Pruning performed: 0 sub-models removed. 32 remaining.\n",
            "Pruning with keep_ratio=1.0, Accuracy: 0.4312\n",
            "Pruning performed: 8 sub-models removed. 24 remaining.\n",
            "Pruning with keep_ratio=0.75, Accuracy: 0.4531\n",
            "Pruning performed: 16 sub-models removed. 16 remaining.\n",
            "Pruning with keep_ratio=0.5, Accuracy: 0.4335\n",
            "Pruning performed: 24 sub-models removed. 8 remaining.\n",
            "Pruning with keep_ratio=0.25, Accuracy: 0.4158\n",
            "Epoch 34, Test Loss: 0.0455, Accuracy: 0.4200\n"
          ]
        },
        {
          "output_type": "stream",
          "name": "stderr",
          "text": [
            "Epoch 35/35: 100%|██████████| 163/163 [00:01<00:00, 101.49it/s]\n"
          ]
        },
        {
          "output_type": "stream",
          "name": "stdout",
          "text": [
            "Epoch 35, Loss: 0.046603936678358104\n",
            "Pruning performed: 0 sub-models removed. 32 remaining.\n",
            "Pruning with keep_ratio=1.0, Accuracy: 0.4312\n",
            "Pruning performed: 8 sub-models removed. 24 remaining.\n",
            "Pruning with keep_ratio=0.75, Accuracy: 0.4356\n",
            "Pruning performed: 16 sub-models removed. 16 remaining.\n",
            "Pruning with keep_ratio=0.5, Accuracy: 0.4241\n",
            "Pruning performed: 24 sub-models removed. 8 remaining.\n",
            "Pruning with keep_ratio=0.25, Accuracy: 0.4456\n",
            "Epoch 35, Test Loss: 0.0455, Accuracy: 0.4200\n"
          ]
        },
        {
          "output_type": "stream",
          "name": "stderr",
          "text": [
            "/usr/local/lib/python3.11/dist-packages/sklearn/metrics/_classification.py:1565: UndefinedMetricWarning: Precision is ill-defined and being set to 0.0 in labels with no predicted samples. Use `zero_division` parameter to control this behavior.\n",
            "  _warn_prf(average, modifier, f\"{metric.capitalize()} is\", len(result))\n"
          ]
        },
        {
          "output_type": "display_data",
          "data": {
            "text/plain": [
              "<Figure size 1200x500 with 2 Axes>"
            ],
            "image/png": "[encoded data removed]"
          },
          "metadata": {}
        },
        {
          "output_type": "stream",
          "name": "stdout",
          "text": [
            "Best configuration of the model {'k': 32}\n"
          ]
        },
        {
          "output_type": "display_data",
          "data": {
            "text/plain": [
              "{'accuracy': 0.42,\n",
              " 'loss': 0.04551545473245474,\n",
              " 'f1_score': 0.14721476210793313,\n",
              " 'precision': 0.14994041929533303,\n",
              " 'recall': 0.1576178584968082,\n",
              " 'auc_score': None,\n",
              " 'rmse': None,\n",
              " 'r2': None,\n",
              " 'execution_time': 112.75495839118958}"
            ]
          },
          "metadata": {}
        },
        {
          "output_type": "stream",
          "name": "stdout",
          "text": [
            "Model and configuration saved to wine_quality_best_model.pth\n",
            "Model loaded from wine_quality_best_model.pth\n",
            "Loading the model ...\n",
            "Test Loss: 0.0455, Accuracy: 0.4200\n"
          ]
        },
        {
          "output_type": "stream",
          "name": "stderr",
          "text": [
            "<ipython-input-3-bc070156fd1c>:671: FutureWarning: You are using `torch.load` with `weights_only=False` (the current default value), which uses the default pickle module implicitly. It is possible to construct malicious pickle data which will execute arbitrary code during unpickling (See https://github.com/pytorch/pytorch/blob/main/SECURITY.md#untrusted-models for more details). In a future release, the default value for `weights_only` will be flipped to `True`. This limits the functions that could be executed during unpickling. Arbitrary objects will no longer be allowed to be loaded via this mode unless they are explicitly allowlisted by the user via `torch.serialization.add_safe_globals`. We recommend you start setting `weights_only=True` for any use case where you don't have full control of the loaded file. Please open an issue on GitHub for any issues related to this experimental feature.\n",
            "  checkpoint = torch.load(filepath)\n"
          ]
        }
      ]
    },
    {
      "cell_type": "code",
      "source": [],
      "metadata": {
        "id": "Dc8QQwn99uMq"
      },
      "execution_count": null,
      "outputs": []
    }
  ]
}