{
  "nbformat": 4,
  "nbformat_minor": 0,
  "metadata": {
    "colab": {
      "provenance": [],
      "gpuType": "T4"
    },
    "kernelspec": {
      "name": "python3",
      "display_name": "Python 3"
    },
    "language_info": {
      "name": "python"
    },
    "accelerator": "GPU"
  },
  "cells": [
    {
      "cell_type": "code",
      "source": [
        "pip install ucimlrepo"
      ],
      "metadata": {
        "colab": {
          "base_uri": "https://localhost:8080/"
        },
        "id": "VaCnHhn935PU",
        "outputId": "006b2248-a35d-4822-bd33-969ca8ff0a7a"
      },
      "execution_count": null,
      "outputs": [
        {
          "output_type": "stream",
          "name": "stdout",
          "text": [
            "Collecting ucimlrepo\n",
            "  Downloading ucimlrepo-0.0.7-py3-none-any.whl.metadata (5.5 kB)\n",
            "Requirement already satisfied: pandas>=1.0.0 in /usr/local/lib/python3.11/dist-packages (from ucimlrepo) (2.2.2)\n",
            "Requirement already satisfied: certifi>=2020.12.5 in /usr/local/lib/python3.11/dist-packages (from ucimlrepo) (2025.1.31)\n",
            "Requirement already satisfied: numpy>=1.23.2 in /usr/local/lib/python3.11/dist-packages (from pandas>=1.0.0->ucimlrepo) (1.26.4)\n",
            "Requirement already satisfied: python-dateutil>=2.8.2 in /usr/local/lib/python3.11/dist-packages (from pandas>=1.0.0->ucimlrepo) (2.8.2)\n",
            "Requirement already satisfied: pytz>=2020.1 in /usr/local/lib/python3.11/dist-packages (from pandas>=1.0.0->ucimlrepo) (2025.1)\n",
            "Requirement already satisfied: tzdata>=2022.7 in /usr/local/lib/python3.11/dist-packages (from pandas>=1.0.0->ucimlrepo) (2025.1)\n",
            "Requirement already satisfied: six>=1.5 in /usr/local/lib/python3.11/dist-packages (from python-dateutil>=2.8.2->pandas>=1.0.0->ucimlrepo) (1.17.0)\n",
            "Downloading ucimlrepo-0.0.7-py3-none-any.whl (8.0 kB)\n",
            "Installing collected packages: ucimlrepo\n",
            "Successfully installed ucimlrepo-0.0.7\n"
          ]
        }
      ]
    },
    {
      "cell_type": "code",
      "execution_count": null,
      "metadata": {
        "colab": {
          "base_uri": "https://localhost:8080/",
          "height": 1000
        },
        "id": "Mi2Mi5IR-5CR",
        "outputId": "c82b515b-ad07-40dd-9b73-a6fd07de9e3f"
      },
      "outputs": [
        {
          "output_type": "stream",
          "name": "stdout",
          "text": [
            "Using device: cuda\n",
            "\n",
            "\n",
            " *** Processing breast_cancer dataset...\n",
            "Training TabM with Attention...\n"
          ]
        },
        {
          "output_type": "stream",
          "name": "stderr",
          "text": [
            "Epoch 1/26: 100%|██████████| 15/15 [00:00<00:00, 133.33batch/s]\n"
          ]
        },
        {
          "output_type": "stream",
          "name": "stdout",
          "text": [
            "Epoch 1/26, Loss: 0.6070, Accuracy: 0.7033\n",
            "Test Loss: 0.4687, Test Accuracy: 0.8070\n"
          ]
        },
        {
          "output_type": "stream",
          "name": "stderr",
          "text": [
            "Epoch 2/26: 100%|██████████| 15/15 [00:00<00:00, 130.94batch/s]\n"
          ]
        },
        {
          "output_type": "stream",
          "name": "stdout",
          "text": [
            "Epoch 2/26, Loss: 0.4963, Accuracy: 0.7670\n",
            "Test Loss: 0.3664, Test Accuracy: 0.8684\n"
          ]
        },
        {
          "output_type": "stream",
          "name": "stderr",
          "text": [
            "Epoch 3/26: 100%|██████████| 15/15 [00:00<00:00, 122.80batch/s]\n"
          ]
        },
        {
          "output_type": "stream",
          "name": "stdout",
          "text": [
            "Epoch 3/26, Loss: 0.3930, Accuracy: 0.8176\n",
            "Test Loss: 0.3040, Test Accuracy: 0.8947\n"
          ]
        },
        {
          "output_type": "stream",
          "name": "stderr",
          "text": [
            "Epoch 4/26: 100%|██████████| 15/15 [00:00<00:00, 134.61batch/s]\n"
          ]
        },
        {
          "output_type": "stream",
          "name": "stdout",
          "text": [
            "Epoch 4/26, Loss: 0.3680, Accuracy: 0.8505\n",
            "Test Loss: 0.2603, Test Accuracy: 0.9123\n"
          ]
        },
        {
          "output_type": "stream",
          "name": "stderr",
          "text": [
            "Epoch 5/26: 100%|██████████| 15/15 [00:00<00:00, 133.97batch/s]\n"
          ]
        },
        {
          "output_type": "stream",
          "name": "stdout",
          "text": [
            "Epoch 5/26, Loss: 0.3131, Accuracy: 0.8571\n",
            "Test Loss: 0.2264, Test Accuracy: 0.9211\n"
          ]
        },
        {
          "output_type": "stream",
          "name": "stderr",
          "text": [
            "Epoch 6/26: 100%|██████████| 15/15 [00:00<00:00, 136.19batch/s]\n"
          ]
        },
        {
          "output_type": "stream",
          "name": "stdout",
          "text": [
            "Epoch 6/26, Loss: 0.2833, Accuracy: 0.8923\n",
            "Test Loss: 0.2001, Test Accuracy: 0.9298\n"
          ]
        },
        {
          "output_type": "stream",
          "name": "stderr",
          "text": [
            "Epoch 7/26: 100%|██████████| 15/15 [00:00<00:00, 139.63batch/s]\n"
          ]
        },
        {
          "output_type": "stream",
          "name": "stdout",
          "text": [
            "Epoch 7/26, Loss: 0.2706, Accuracy: 0.8813\n",
            "Test Loss: 0.1825, Test Accuracy: 0.9386\n"
          ]
        },
        {
          "output_type": "stream",
          "name": "stderr",
          "text": [
            "Epoch 8/26: 100%|██████████| 15/15 [00:00<00:00, 117.61batch/s]\n"
          ]
        },
        {
          "output_type": "stream",
          "name": "stdout",
          "text": [
            "Epoch 8/26, Loss: 0.2502, Accuracy: 0.9077\n",
            "Test Loss: 0.1687, Test Accuracy: 0.9386\n"
          ]
        },
        {
          "output_type": "stream",
          "name": "stderr",
          "text": [
            "Epoch 9/26: 100%|██████████| 15/15 [00:00<00:00, 135.77batch/s]\n"
          ]
        },
        {
          "output_type": "stream",
          "name": "stdout",
          "text": [
            "Epoch 9/26, Loss: 0.2470, Accuracy: 0.9099\n",
            "Test Loss: 0.1576, Test Accuracy: 0.9474\n"
          ]
        },
        {
          "output_type": "stream",
          "name": "stderr",
          "text": [
            "Epoch 10/26: 100%|██████████| 15/15 [00:00<00:00, 138.45batch/s]\n"
          ]
        },
        {
          "output_type": "stream",
          "name": "stdout",
          "text": [
            "Epoch 10/26, Loss: 0.2282, Accuracy: 0.9143\n",
            "Test Loss: 0.1503, Test Accuracy: 0.9561\n"
          ]
        },
        {
          "output_type": "stream",
          "name": "stderr",
          "text": [
            "Epoch 11/26: 100%|██████████| 15/15 [00:00<00:00, 131.51batch/s]\n"
          ]
        },
        {
          "output_type": "stream",
          "name": "stdout",
          "text": [
            "Epoch 11/26, Loss: 0.1817, Accuracy: 0.9253\n",
            "Test Loss: 0.1430, Test Accuracy: 0.9561\n"
          ]
        },
        {
          "output_type": "stream",
          "name": "stderr",
          "text": [
            "Epoch 12/26: 100%|██████████| 15/15 [00:00<00:00, 142.27batch/s]\n"
          ]
        },
        {
          "output_type": "stream",
          "name": "stdout",
          "text": [
            "Epoch 12/26, Loss: 0.1989, Accuracy: 0.9209\n",
            "Test Loss: 0.1373, Test Accuracy: 0.9561\n"
          ]
        },
        {
          "output_type": "stream",
          "name": "stderr",
          "text": [
            "Epoch 13/26: 100%|██████████| 15/15 [00:00<00:00, 135.17batch/s]\n"
          ]
        },
        {
          "output_type": "stream",
          "name": "stdout",
          "text": [
            "Epoch 13/26, Loss: 0.1807, Accuracy: 0.9209\n",
            "Test Loss: 0.1320, Test Accuracy: 0.9561\n"
          ]
        },
        {
          "output_type": "stream",
          "name": "stderr",
          "text": [
            "Epoch 14/26: 100%|██████████| 15/15 [00:00<00:00, 124.09batch/s]\n"
          ]
        },
        {
          "output_type": "stream",
          "name": "stdout",
          "text": [
            "Epoch 14/26, Loss: 0.1812, Accuracy: 0.9407\n",
            "Test Loss: 0.1270, Test Accuracy: 0.9561\n"
          ]
        },
        {
          "output_type": "stream",
          "name": "stderr",
          "text": [
            "Epoch 15/26: 100%|██████████| 15/15 [00:00<00:00, 135.45batch/s]\n"
          ]
        },
        {
          "output_type": "stream",
          "name": "stdout",
          "text": [
            "Epoch 15/26, Loss: 0.1587, Accuracy: 0.9516\n",
            "Test Loss: 0.1224, Test Accuracy: 0.9649\n"
          ]
        },
        {
          "output_type": "stream",
          "name": "stderr",
          "text": [
            "Epoch 16/26: 100%|██████████| 15/15 [00:00<00:00, 116.02batch/s]\n"
          ]
        },
        {
          "output_type": "stream",
          "name": "stdout",
          "text": [
            "Epoch 16/26, Loss: 0.1433, Accuracy: 0.9516\n",
            "Test Loss: 0.1193, Test Accuracy: 0.9649\n"
          ]
        },
        {
          "output_type": "stream",
          "name": "stderr",
          "text": [
            "Epoch 17/26: 100%|██████████| 15/15 [00:00<00:00, 138.93batch/s]\n"
          ]
        },
        {
          "output_type": "stream",
          "name": "stdout",
          "text": [
            "Epoch 17/26, Loss: 0.1523, Accuracy: 0.9473\n",
            "Test Loss: 0.1159, Test Accuracy: 0.9649\n"
          ]
        },
        {
          "output_type": "stream",
          "name": "stderr",
          "text": [
            "Epoch 18/26: 100%|██████████| 15/15 [00:00<00:00, 123.81batch/s]\n"
          ]
        },
        {
          "output_type": "stream",
          "name": "stdout",
          "text": [
            "Epoch 18/26, Loss: 0.1208, Accuracy: 0.9495\n",
            "Test Loss: 0.1128, Test Accuracy: 0.9649\n"
          ]
        },
        {
          "output_type": "stream",
          "name": "stderr",
          "text": [
            "Epoch 19/26: 100%|██████████| 15/15 [00:00<00:00, 138.04batch/s]\n"
          ]
        },
        {
          "output_type": "stream",
          "name": "stdout",
          "text": [
            "Epoch 19/26, Loss: 0.1251, Accuracy: 0.9560\n",
            "Test Loss: 0.1101, Test Accuracy: 0.9649\n"
          ]
        },
        {
          "output_type": "stream",
          "name": "stderr",
          "text": [
            "Epoch 20/26: 100%|██████████| 15/15 [00:00<00:00, 136.21batch/s]\n"
          ]
        },
        {
          "output_type": "stream",
          "name": "stdout",
          "text": [
            "Epoch 20/26, Loss: 0.1338, Accuracy: 0.9429\n",
            "Test Loss: 0.1078, Test Accuracy: 0.9649\n"
          ]
        },
        {
          "output_type": "stream",
          "name": "stderr",
          "text": [
            "Epoch 21/26: 100%|██████████| 15/15 [00:00<00:00, 141.21batch/s]\n"
          ]
        },
        {
          "output_type": "stream",
          "name": "stdout",
          "text": [
            "Epoch 21/26, Loss: 0.1154, Accuracy: 0.9648\n",
            "Test Loss: 0.1053, Test Accuracy: 0.9649\n"
          ]
        },
        {
          "output_type": "stream",
          "name": "stderr",
          "text": [
            "Epoch 22/26: 100%|██████████| 15/15 [00:00<00:00, 132.06batch/s]\n"
          ]
        },
        {
          "output_type": "stream",
          "name": "stdout",
          "text": [
            "Epoch 22/26, Loss: 0.1252, Accuracy: 0.9582\n",
            "Test Loss: 0.1027, Test Accuracy: 0.9649\n"
          ]
        },
        {
          "output_type": "stream",
          "name": "stderr",
          "text": [
            "Epoch 23/26: 100%|██████████| 15/15 [00:00<00:00, 121.06batch/s]\n"
          ]
        },
        {
          "output_type": "stream",
          "name": "stdout",
          "text": [
            "Epoch 23/26, Loss: 0.1218, Accuracy: 0.9582\n",
            "Test Loss: 0.1019, Test Accuracy: 0.9649\n"
          ]
        },
        {
          "output_type": "stream",
          "name": "stderr",
          "text": [
            "Epoch 24/26: 100%|██████████| 15/15 [00:00<00:00, 136.98batch/s]\n"
          ]
        },
        {
          "output_type": "stream",
          "name": "stdout",
          "text": [
            "Epoch 24/26, Loss: 0.1124, Accuracy: 0.9604\n",
            "Test Loss: 0.0997, Test Accuracy: 0.9649\n"
          ]
        },
        {
          "output_type": "stream",
          "name": "stderr",
          "text": [
            "Epoch 25/26: 100%|██████████| 15/15 [00:00<00:00, 138.62batch/s]\n"
          ]
        },
        {
          "output_type": "stream",
          "name": "stdout",
          "text": [
            "Epoch 25/26, Loss: 0.0943, Accuracy: 0.9670\n",
            "Test Loss: 0.1000, Test Accuracy: 0.9649\n"
          ]
        },
        {
          "output_type": "stream",
          "name": "stderr",
          "text": [
            "Epoch 26/26: 100%|██████████| 15/15 [00:00<00:00, 117.23batch/s]\n"
          ]
        },
        {
          "output_type": "stream",
          "name": "stdout",
          "text": [
            "Epoch 26/26, Loss: 0.1095, Accuracy: 0.9560\n",
            "Test Loss: 0.0998, Test Accuracy: 0.9649\n",
            "Training Baseline MLP...\n"
          ]
        },
        {
          "output_type": "stream",
          "name": "stderr",
          "text": [
            "Epoch 1/26: 100%|██████████| 15/15 [00:00<00:00, 323.13batch/s]\n"
          ]
        },
        {
          "output_type": "stream",
          "name": "stdout",
          "text": [
            "Epoch 1/26, Loss: 0.7865, Accuracy: 0.3714\n",
            "Test Loss: 0.7749, Test Accuracy: 0.3772\n"
          ]
        },
        {
          "output_type": "stream",
          "name": "stderr",
          "text": [
            "Epoch 2/26: 100%|██████████| 15/15 [00:00<00:00, 312.07batch/s]\n"
          ]
        },
        {
          "output_type": "stream",
          "name": "stdout",
          "text": [
            "Epoch 2/26, Loss: 0.7825, Accuracy: 0.3714\n",
            "Test Loss: 0.7745, Test Accuracy: 0.3772\n"
          ]
        },
        {
          "output_type": "stream",
          "name": "stderr",
          "text": [
            "Epoch 3/26: 100%|██████████| 15/15 [00:00<00:00, 329.34batch/s]\n"
          ]
        },
        {
          "output_type": "stream",
          "name": "stdout",
          "text": [
            "Epoch 3/26, Loss: 0.7893, Accuracy: 0.3714\n",
            "Test Loss: 0.7742, Test Accuracy: 0.3772\n"
          ]
        },
        {
          "output_type": "stream",
          "name": "stderr",
          "text": [
            "Epoch 4/26: 100%|██████████| 15/15 [00:00<00:00, 311.16batch/s]\n"
          ]
        },
        {
          "output_type": "stream",
          "name": "stdout",
          "text": [
            "Epoch 4/26, Loss: 0.7854, Accuracy: 0.3714\n",
            "Test Loss: 0.7739, Test Accuracy: 0.3772\n"
          ]
        },
        {
          "output_type": "stream",
          "name": "stderr",
          "text": [
            "Epoch 5/26: 100%|██████████| 15/15 [00:00<00:00, 374.21batch/s]\n"
          ]
        },
        {
          "output_type": "stream",
          "name": "stdout",
          "text": [
            "Epoch 5/26, Loss: 0.7815, Accuracy: 0.3714\n",
            "Test Loss: 0.7736, Test Accuracy: 0.3772\n"
          ]
        },
        {
          "output_type": "stream",
          "name": "stderr",
          "text": [
            "Epoch 6/26: 100%|██████████| 15/15 [00:00<00:00, 366.53batch/s]\n"
          ]
        },
        {
          "output_type": "stream",
          "name": "stdout",
          "text": [
            "Epoch 6/26, Loss: 0.7847, Accuracy: 0.3714\n",
            "Test Loss: 0.7732, Test Accuracy: 0.3772\n"
          ]
        },
        {
          "output_type": "stream",
          "name": "stderr",
          "text": [
            "Epoch 7/26: 100%|██████████| 15/15 [00:00<00:00, 357.69batch/s]\n"
          ]
        },
        {
          "output_type": "stream",
          "name": "stdout",
          "text": [
            "Epoch 7/26, Loss: 0.7773, Accuracy: 0.3714\n",
            "Test Loss: 0.7729, Test Accuracy: 0.3772\n"
          ]
        },
        {
          "output_type": "stream",
          "name": "stderr",
          "text": [
            "Epoch 8/26: 100%|██████████| 15/15 [00:00<00:00, 372.90batch/s]\n"
          ]
        },
        {
          "output_type": "stream",
          "name": "stdout",
          "text": [
            "Epoch 8/26, Loss: 0.7875, Accuracy: 0.3714\n",
            "Test Loss: 0.7726, Test Accuracy: 0.3772\n"
          ]
        },
        {
          "output_type": "stream",
          "name": "stderr",
          "text": [
            "Epoch 9/26: 100%|██████████| 15/15 [00:00<00:00, 365.11batch/s]\n"
          ]
        },
        {
          "output_type": "stream",
          "name": "stdout",
          "text": [
            "Epoch 9/26, Loss: 0.7906, Accuracy: 0.3714\n",
            "Test Loss: 0.7723, Test Accuracy: 0.3772\n"
          ]
        },
        {
          "output_type": "stream",
          "name": "stderr",
          "text": [
            "Epoch 10/26: 100%|██████████| 15/15 [00:00<00:00, 305.82batch/s]\n"
          ]
        },
        {
          "output_type": "stream",
          "name": "stdout",
          "text": [
            "Epoch 10/26, Loss: 0.7693, Accuracy: 0.3714\n",
            "Test Loss: 0.7719, Test Accuracy: 0.3772\n"
          ]
        },
        {
          "output_type": "stream",
          "name": "stderr",
          "text": [
            "Epoch 11/26: 100%|██████████| 15/15 [00:00<00:00, 306.80batch/s]\n"
          ]
        },
        {
          "output_type": "stream",
          "name": "stdout",
          "text": [
            "Epoch 11/26, Loss: 0.7829, Accuracy: 0.3714\n",
            "Test Loss: 0.7717, Test Accuracy: 0.3772\n"
          ]
        },
        {
          "output_type": "stream",
          "name": "stderr",
          "text": [
            "Epoch 12/26: 100%|██████████| 15/15 [00:00<00:00, 327.37batch/s]\n"
          ]
        },
        {
          "output_type": "stream",
          "name": "stdout",
          "text": [
            "Epoch 12/26, Loss: 0.7791, Accuracy: 0.3714\n",
            "Test Loss: 0.7714, Test Accuracy: 0.3772\n"
          ]
        },
        {
          "output_type": "stream",
          "name": "stderr",
          "text": [
            "Epoch 13/26: 100%|██████████| 15/15 [00:00<00:00, 344.75batch/s]\n"
          ]
        },
        {
          "output_type": "stream",
          "name": "stdout",
          "text": [
            "Epoch 13/26, Loss: 0.7788, Accuracy: 0.3714\n",
            "Test Loss: 0.7710, Test Accuracy: 0.3772\n"
          ]
        },
        {
          "output_type": "stream",
          "name": "stderr",
          "text": [
            "Epoch 14/26: 100%|██████████| 15/15 [00:00<00:00, 302.37batch/s]\n"
          ]
        },
        {
          "output_type": "stream",
          "name": "stdout",
          "text": [
            "Epoch 14/26, Loss: 0.7785, Accuracy: 0.3714\n",
            "Test Loss: 0.7707, Test Accuracy: 0.3772\n"
          ]
        },
        {
          "output_type": "stream",
          "name": "stderr",
          "text": [
            "Epoch 15/26: 100%|██████████| 15/15 [00:00<00:00, 318.19batch/s]\n"
          ]
        },
        {
          "output_type": "stream",
          "name": "stdout",
          "text": [
            "Epoch 15/26, Loss: 0.7781, Accuracy: 0.3714\n",
            "Test Loss: 0.7704, Test Accuracy: 0.3772\n"
          ]
        },
        {
          "output_type": "stream",
          "name": "stderr",
          "text": [
            "Epoch 16/26: 100%|██████████| 15/15 [00:00<00:00, 334.06batch/s]\n"
          ]
        },
        {
          "output_type": "stream",
          "name": "stdout",
          "text": [
            "Epoch 16/26, Loss: 0.7812, Accuracy: 0.3714\n",
            "Test Loss: 0.7701, Test Accuracy: 0.3772\n"
          ]
        },
        {
          "output_type": "stream",
          "name": "stderr",
          "text": [
            "Epoch 17/26: 100%|██████████| 15/15 [00:00<00:00, 359.75batch/s]\n"
          ]
        },
        {
          "output_type": "stream",
          "name": "stdout",
          "text": [
            "Epoch 17/26, Loss: 0.7843, Accuracy: 0.3714\n",
            "Test Loss: 0.7698, Test Accuracy: 0.3772\n"
          ]
        },
        {
          "output_type": "stream",
          "name": "stderr",
          "text": [
            "Epoch 18/26: 100%|██████████| 15/15 [00:00<00:00, 383.20batch/s]\n"
          ]
        },
        {
          "output_type": "stream",
          "name": "stdout",
          "text": [
            "Epoch 18/26, Loss: 0.7771, Accuracy: 0.3714\n",
            "Test Loss: 0.7695, Test Accuracy: 0.3772\n"
          ]
        },
        {
          "output_type": "stream",
          "name": "stderr",
          "text": [
            "Epoch 19/26: 100%|██████████| 15/15 [00:00<00:00, 385.38batch/s]\n"
          ]
        },
        {
          "output_type": "stream",
          "name": "stdout",
          "text": [
            "Epoch 19/26, Loss: 0.7836, Accuracy: 0.3714\n",
            "Test Loss: 0.7692, Test Accuracy: 0.3772\n"
          ]
        },
        {
          "output_type": "stream",
          "name": "stderr",
          "text": [
            "Epoch 20/26: 100%|██████████| 15/15 [00:00<00:00, 363.45batch/s]\n"
          ]
        },
        {
          "output_type": "stream",
          "name": "stdout",
          "text": [
            "Epoch 20/26, Loss: 0.7731, Accuracy: 0.3714\n",
            "Test Loss: 0.7689, Test Accuracy: 0.3772\n"
          ]
        },
        {
          "output_type": "stream",
          "name": "stderr",
          "text": [
            "Epoch 21/26: 100%|██████████| 15/15 [00:00<00:00, 367.97batch/s]\n"
          ]
        },
        {
          "output_type": "stream",
          "name": "stdout",
          "text": [
            "Epoch 21/26, Loss: 0.7728, Accuracy: 0.3714\n",
            "Test Loss: 0.7686, Test Accuracy: 0.3772\n"
          ]
        },
        {
          "output_type": "stream",
          "name": "stderr",
          "text": [
            "Epoch 22/26: 100%|██████████| 15/15 [00:00<00:00, 383.44batch/s]\n"
          ]
        },
        {
          "output_type": "stream",
          "name": "stdout",
          "text": [
            "Epoch 22/26, Loss: 0.7724, Accuracy: 0.3714\n",
            "Test Loss: 0.7683, Test Accuracy: 0.3772\n"
          ]
        },
        {
          "output_type": "stream",
          "name": "stderr",
          "text": [
            "Epoch 23/26: 100%|██████████| 15/15 [00:00<00:00, 378.41batch/s]\n"
          ]
        },
        {
          "output_type": "stream",
          "name": "stdout",
          "text": [
            "Epoch 23/26, Loss: 0.7755, Accuracy: 0.3714\n",
            "Test Loss: 0.7680, Test Accuracy: 0.3772\n"
          ]
        },
        {
          "output_type": "stream",
          "name": "stderr",
          "text": [
            "Epoch 24/26: 100%|██████████| 15/15 [00:00<00:00, 366.07batch/s]\n"
          ]
        },
        {
          "output_type": "stream",
          "name": "stdout",
          "text": [
            "Epoch 24/26, Loss: 0.7718, Accuracy: 0.3714\n",
            "Test Loss: 0.7677, Test Accuracy: 0.3772\n"
          ]
        },
        {
          "output_type": "stream",
          "name": "stderr",
          "text": [
            "Epoch 25/26: 100%|██████████| 15/15 [00:00<00:00, 328.14batch/s]\n"
          ]
        },
        {
          "output_type": "stream",
          "name": "stdout",
          "text": [
            "Epoch 25/26, Loss: 0.7782, Accuracy: 0.3714\n",
            "Test Loss: 0.7674, Test Accuracy: 0.3772\n"
          ]
        },
        {
          "output_type": "stream",
          "name": "stderr",
          "text": [
            "Epoch 26/26: 100%|██████████| 15/15 [00:00<00:00, 303.95batch/s]\n"
          ]
        },
        {
          "output_type": "stream",
          "name": "stdout",
          "text": [
            "Epoch 26/26, Loss: 0.7712, Accuracy: 0.3714\n",
            "Test Loss: 0.7671, Test Accuracy: 0.3772\n"
          ]
        },
        {
          "output_type": "display_data",
          "data": {
            "text/plain": [
              "<Figure size 1500x600 with 2 Axes>"
            ],
            "image/png": "[encoded data removed]"
          },
          "metadata": {}
        },
        {
          "output_type": "stream",
          "name": "stdout",
          "text": [
            "\n",
            "\n",
            " *** Processing california_housing dataset...\n",
            "Training TabM with Attention...\n"
          ]
        },
        {
          "output_type": "stream",
          "name": "stderr",
          "text": [
            "Epoch 1/12:   0%|          | 0/516 [00:00<?, ?batch/s]/usr/local/lib/python3.11/dist-packages/torch/nn/modules/loss.py:608: UserWarning: Using a target size (torch.Size([32])) that is different to the input size (torch.Size([32, 1])). This will likely lead to incorrect results due to broadcasting. Please ensure they have the same size.\n",
            "  return F.mse_loss(input, target, reduction=self.reduction)\n",
            "Epoch 1/12: 100%|██████████| 516/516 [00:03<00:00, 133.39batch/s]\n"
          ]
        },
        {
          "output_type": "stream",
          "name": "stdout",
          "text": [
            "Epoch 1/12, Loss: 4.1708, Accuracy: 0.0000\n",
            "Test Loss: 1.4911, Test Accuracy: 0.0000\n"
          ]
        },
        {
          "output_type": "stream",
          "name": "stderr",
          "text": [
            "Epoch 2/12: 100%|██████████| 516/516 [00:03<00:00, 138.40batch/s]\n"
          ]
        },
        {
          "output_type": "stream",
          "name": "stdout",
          "text": [
            "Epoch 2/12, Loss: 1.5846, Accuracy: 0.0000\n",
            "Test Loss: 1.4056, Test Accuracy: 0.0000\n"
          ]
        },
        {
          "output_type": "stream",
          "name": "stderr",
          "text": [
            "Epoch 3/12: 100%|██████████| 516/516 [00:04<00:00, 118.04batch/s]\n"
          ]
        },
        {
          "output_type": "stream",
          "name": "stdout",
          "text": [
            "Epoch 3/12, Loss: 1.4988, Accuracy: 0.0000\n",
            "Test Loss: 1.3430, Test Accuracy: 0.0000\n"
          ]
        },
        {
          "output_type": "stream",
          "name": "stderr",
          "text": [
            "Epoch 4/12: 100%|██████████| 516/516 [00:03<00:00, 133.18batch/s]\n"
          ]
        },
        {
          "output_type": "stream",
          "name": "stdout",
          "text": [
            "Epoch 4/12, Loss: 1.4649, Accuracy: 0.0000\n",
            "Test Loss: 1.3451, Test Accuracy: 0.0000\n"
          ]
        },
        {
          "output_type": "stream",
          "name": "stderr",
          "text": [
            "Epoch 5/12: 100%|██████████| 516/516 [00:03<00:00, 138.81batch/s]\n"
          ]
        },
        {
          "output_type": "stream",
          "name": "stdout",
          "text": [
            "Epoch 5/12, Loss: 1.4428, Accuracy: 0.0000\n",
            "Test Loss: 1.3256, Test Accuracy: 0.0000\n"
          ]
        },
        {
          "output_type": "stream",
          "name": "stderr",
          "text": [
            "Epoch 6/12: 100%|██████████| 516/516 [00:04<00:00, 120.16batch/s]\n"
          ]
        },
        {
          "output_type": "stream",
          "name": "stdout",
          "text": [
            "Epoch 6/12, Loss: 1.4267, Accuracy: 0.0000\n",
            "Test Loss: 1.3219, Test Accuracy: 0.0000\n"
          ]
        },
        {
          "output_type": "stream",
          "name": "stderr",
          "text": [
            "Epoch 7/12: 100%|██████████| 516/516 [00:03<00:00, 140.36batch/s]\n"
          ]
        },
        {
          "output_type": "stream",
          "name": "stdout",
          "text": [
            "Epoch 7/12, Loss: 1.4148, Accuracy: 0.0000\n",
            "Test Loss: 1.3188, Test Accuracy: 0.0000\n"
          ]
        },
        {
          "output_type": "stream",
          "name": "stderr",
          "text": [
            "Epoch 8/12: 100%|██████████| 516/516 [00:03<00:00, 131.76batch/s]\n"
          ]
        },
        {
          "output_type": "stream",
          "name": "stdout",
          "text": [
            "Epoch 8/12, Loss: 1.4020, Accuracy: 0.0000\n",
            "Test Loss: 1.3212, Test Accuracy: 0.0000\n"
          ]
        },
        {
          "output_type": "stream",
          "name": "stderr",
          "text": [
            "Epoch 9/12: 100%|██████████| 516/516 [00:05<00:00, 98.85batch/s] \n"
          ]
        },
        {
          "output_type": "stream",
          "name": "stdout",
          "text": [
            "Epoch 9/12, Loss: 1.3954, Accuracy: 0.0000\n",
            "Test Loss: 1.3286, Test Accuracy: 0.0000\n"
          ]
        },
        {
          "output_type": "stream",
          "name": "stderr",
          "text": [
            "Epoch 10/12: 100%|██████████| 516/516 [00:03<00:00, 137.12batch/s]\n"
          ]
        },
        {
          "output_type": "stream",
          "name": "stdout",
          "text": [
            "Epoch 10/12, Loss: 1.3892, Accuracy: 0.0000\n",
            "Test Loss: 1.3165, Test Accuracy: 0.0000\n"
          ]
        },
        {
          "output_type": "stream",
          "name": "stderr",
          "text": [
            "Epoch 11/12: 100%|██████████| 516/516 [00:03<00:00, 137.91batch/s]\n"
          ]
        },
        {
          "output_type": "stream",
          "name": "stdout",
          "text": [
            "Epoch 11/12, Loss: 1.3830, Accuracy: 0.0000\n",
            "Test Loss: 1.3178, Test Accuracy: 0.0000\n"
          ]
        },
        {
          "output_type": "stream",
          "name": "stderr",
          "text": [
            "Epoch 12/12: 100%|██████████| 516/516 [00:04<00:00, 114.64batch/s]\n"
          ]
        },
        {
          "output_type": "stream",
          "name": "stdout",
          "text": [
            "Epoch 12/12, Loss: 1.3774, Accuracy: 0.0000\n",
            "Test Loss: 1.3214, Test Accuracy: 0.0000\n",
            "Training Baseline MLP...\n"
          ]
        },
        {
          "output_type": "stream",
          "name": "stderr",
          "text": [
            "Epoch 1/12: 100%|██████████| 516/516 [00:01<00:00, 478.73batch/s]\n"
          ]
        },
        {
          "output_type": "stream",
          "name": "stdout",
          "text": [
            "Epoch 1/12, Loss: 7.0975, Accuracy: 0.0000\n",
            "Test Loss: 6.8687, Test Accuracy: 0.0000\n"
          ]
        },
        {
          "output_type": "stream",
          "name": "stderr",
          "text": [
            "Epoch 2/12: 100%|██████████| 516/516 [00:01<00:00, 477.38batch/s]\n"
          ]
        },
        {
          "output_type": "stream",
          "name": "stdout",
          "text": [
            "Epoch 2/12, Loss: 6.8558, Accuracy: 0.0000\n",
            "Test Loss: 6.6322, Test Accuracy: 0.0000\n"
          ]
        },
        {
          "output_type": "stream",
          "name": "stderr",
          "text": [
            "Epoch 3/12: 100%|██████████| 516/516 [00:01<00:00, 470.30batch/s]\n"
          ]
        },
        {
          "output_type": "stream",
          "name": "stdout",
          "text": [
            "Epoch 3/12, Loss: 6.6208, Accuracy: 0.0000\n",
            "Test Loss: 6.4023, Test Accuracy: 0.0000\n"
          ]
        },
        {
          "output_type": "stream",
          "name": "stderr",
          "text": [
            "Epoch 4/12: 100%|██████████| 516/516 [00:01<00:00, 479.83batch/s]\n"
          ]
        },
        {
          "output_type": "stream",
          "name": "stdout",
          "text": [
            "Epoch 4/12, Loss: 6.3925, Accuracy: 0.0000\n",
            "Test Loss: 6.1789, Test Accuracy: 0.0000\n"
          ]
        },
        {
          "output_type": "stream",
          "name": "stderr",
          "text": [
            "Epoch 5/12: 100%|██████████| 516/516 [00:01<00:00, 479.10batch/s]\n"
          ]
        },
        {
          "output_type": "stream",
          "name": "stdout",
          "text": [
            "Epoch 5/12, Loss: 6.1706, Accuracy: 0.0000\n",
            "Test Loss: 5.9618, Test Accuracy: 0.0000\n"
          ]
        },
        {
          "output_type": "stream",
          "name": "stderr",
          "text": [
            "Epoch 6/12: 100%|██████████| 516/516 [00:01<00:00, 473.91batch/s]\n"
          ]
        },
        {
          "output_type": "stream",
          "name": "stdout",
          "text": [
            "Epoch 6/12, Loss: 5.9549, Accuracy: 0.0000\n",
            "Test Loss: 5.7508, Test Accuracy: 0.0000\n"
          ]
        },
        {
          "output_type": "stream",
          "name": "stderr",
          "text": [
            "Epoch 7/12: 100%|██████████| 516/516 [00:01<00:00, 481.28batch/s]\n"
          ]
        },
        {
          "output_type": "stream",
          "name": "stdout",
          "text": [
            "Epoch 7/12, Loss: 5.7450, Accuracy: 0.0000\n",
            "Test Loss: 5.5451, Test Accuracy: 0.0000\n"
          ]
        },
        {
          "output_type": "stream",
          "name": "stderr",
          "text": [
            "Epoch 8/12: 100%|██████████| 516/516 [00:01<00:00, 449.88batch/s]\n"
          ]
        },
        {
          "output_type": "stream",
          "name": "stdout",
          "text": [
            "Epoch 8/12, Loss: 5.5404, Accuracy: 0.0000\n",
            "Test Loss: 5.3450, Test Accuracy: 0.0000\n"
          ]
        },
        {
          "output_type": "stream",
          "name": "stderr",
          "text": [
            "Epoch 9/12: 100%|██████████| 516/516 [00:01<00:00, 380.68batch/s]\n"
          ]
        },
        {
          "output_type": "stream",
          "name": "stdout",
          "text": [
            "Epoch 9/12, Loss: 5.3412, Accuracy: 0.0000\n",
            "Test Loss: 5.1502, Test Accuracy: 0.0000\n"
          ]
        },
        {
          "output_type": "stream",
          "name": "stderr",
          "text": [
            "Epoch 10/12: 100%|██████████| 516/516 [00:01<00:00, 393.96batch/s]\n"
          ]
        },
        {
          "output_type": "stream",
          "name": "stdout",
          "text": [
            "Epoch 10/12, Loss: 5.1473, Accuracy: 0.0000\n",
            "Test Loss: 4.9603, Test Accuracy: 0.0000\n"
          ]
        },
        {
          "output_type": "stream",
          "name": "stderr",
          "text": [
            "Epoch 11/12: 100%|██████████| 516/516 [00:01<00:00, 472.42batch/s]\n"
          ]
        },
        {
          "output_type": "stream",
          "name": "stdout",
          "text": [
            "Epoch 11/12, Loss: 4.9585, Accuracy: 0.0000\n",
            "Test Loss: 4.7760, Test Accuracy: 0.0000\n"
          ]
        },
        {
          "output_type": "stream",
          "name": "stderr",
          "text": [
            "Epoch 12/12: 100%|██████████| 516/516 [00:01<00:00, 479.17batch/s]\n"
          ]
        },
        {
          "output_type": "stream",
          "name": "stdout",
          "text": [
            "Epoch 12/12, Loss: 4.7749, Accuracy: 0.0000\n",
            "Test Loss: 4.5965, Test Accuracy: 0.0000\n"
          ]
        },
        {
          "output_type": "display_data",
          "data": {
            "text/plain": [
              "<Figure size 1500x600 with 2 Axes>"
            ],
            "image/png": "[encoded data removed]"
          },
          "metadata": {}
        },
        {
          "output_type": "stream",
          "name": "stdout",
          "text": [
            "\n",
            "\n",
            " *** Processing iris dataset...\n",
            "Training TabM with Attention...\n"
          ]
        },
        {
          "output_type": "stream",
          "name": "stderr",
          "text": [
            "Epoch 1/85: 100%|██████████| 4/4 [00:00<00:00, 94.49batch/s]\n"
          ]
        },
        {
          "output_type": "stream",
          "name": "stdout",
          "text": [
            "Epoch 1/85, Loss: 8.2924, Accuracy: 0.3167\n",
            "Test Loss: 5.3223, Test Accuracy: 0.1000\n"
          ]
        },
        {
          "output_type": "stream",
          "name": "stderr",
          "text": [
            "Epoch 2/85: 100%|██████████| 4/4 [00:00<00:00, 91.07batch/s]\n"
          ]
        },
        {
          "output_type": "stream",
          "name": "stdout",
          "text": [
            "Epoch 2/85, Loss: 7.6164, Accuracy: 0.3167\n",
            "Test Loss: 4.3516, Test Accuracy: 0.0333\n"
          ]
        },
        {
          "output_type": "stream",
          "name": "stderr",
          "text": [
            "Epoch 3/85: 100%|██████████| 4/4 [00:00<00:00, 99.48batch/s]\n"
          ]
        },
        {
          "output_type": "stream",
          "name": "stdout",
          "text": [
            "Epoch 3/85, Loss: 6.6741, Accuracy: 0.3250\n",
            "Test Loss: 3.5540, Test Accuracy: 0.0667\n"
          ]
        },
        {
          "output_type": "stream",
          "name": "stderr",
          "text": [
            "Epoch 4/85: 100%|██████████| 4/4 [00:00<00:00, 85.34batch/s]\n"
          ]
        },
        {
          "output_type": "stream",
          "name": "stdout",
          "text": [
            "Epoch 4/85, Loss: 6.4545, Accuracy: 0.3167\n",
            "Test Loss: 2.9376, Test Accuracy: 0.1333\n"
          ]
        },
        {
          "output_type": "stream",
          "name": "stderr",
          "text": [
            "Epoch 5/85: 100%|██████████| 4/4 [00:00<00:00, 76.95batch/s]\n"
          ]
        },
        {
          "output_type": "stream",
          "name": "stdout",
          "text": [
            "Epoch 5/85, Loss: 5.4265, Accuracy: 0.2917\n",
            "Test Loss: 2.4722, Test Accuracy: 0.1667\n"
          ]
        },
        {
          "output_type": "stream",
          "name": "stderr",
          "text": [
            "Epoch 6/85: 100%|██████████| 4/4 [00:00<00:00, 94.35batch/s]\n"
          ]
        },
        {
          "output_type": "stream",
          "name": "stdout",
          "text": [
            "Epoch 6/85, Loss: 5.7859, Accuracy: 0.2833\n",
            "Test Loss: 2.2183, Test Accuracy: 0.4000\n"
          ]
        },
        {
          "output_type": "stream",
          "name": "stderr",
          "text": [
            "Epoch 7/85: 100%|██████████| 4/4 [00:00<00:00, 91.79batch/s]\n"
          ]
        },
        {
          "output_type": "stream",
          "name": "stdout",
          "text": [
            "Epoch 7/85, Loss: 5.0021, Accuracy: 0.2583\n",
            "Test Loss: 2.0997, Test Accuracy: 0.4667\n"
          ]
        },
        {
          "output_type": "stream",
          "name": "stderr",
          "text": [
            "Epoch 8/85: 100%|██████████| 4/4 [00:00<00:00, 89.59batch/s]\n"
          ]
        },
        {
          "output_type": "stream",
          "name": "stdout",
          "text": [
            "Epoch 8/85, Loss: 4.1918, Accuracy: 0.3333\n",
            "Test Loss: 2.1275, Test Accuracy: 0.5667\n"
          ]
        },
        {
          "output_type": "stream",
          "name": "stderr",
          "text": [
            "Epoch 9/85: 100%|██████████| 4/4 [00:00<00:00, 91.59batch/s]\n"
          ]
        },
        {
          "output_type": "stream",
          "name": "stdout",
          "text": [
            "Epoch 9/85, Loss: 4.2680, Accuracy: 0.3167\n",
            "Test Loss: 2.1898, Test Accuracy: 0.6333\n"
          ]
        },
        {
          "output_type": "stream",
          "name": "stderr",
          "text": [
            "Epoch 10/85: 100%|██████████| 4/4 [00:00<00:00, 89.89batch/s]\n"
          ]
        },
        {
          "output_type": "stream",
          "name": "stdout",
          "text": [
            "Epoch 10/85, Loss: 3.7407, Accuracy: 0.2917\n",
            "Test Loss: 2.2656, Test Accuracy: 0.6000\n"
          ]
        },
        {
          "output_type": "stream",
          "name": "stderr",
          "text": [
            "Epoch 11/85: 100%|██████████| 4/4 [00:00<00:00, 92.14batch/s]\n"
          ]
        },
        {
          "output_type": "stream",
          "name": "stdout",
          "text": [
            "Epoch 11/85, Loss: 3.2289, Accuracy: 0.2583\n",
            "Test Loss: 2.3032, Test Accuracy: 0.6000\n"
          ]
        },
        {
          "output_type": "stream",
          "name": "stderr",
          "text": [
            "Epoch 12/85: 100%|██████████| 4/4 [00:00<00:00, 76.73batch/s]\n"
          ]
        },
        {
          "output_type": "stream",
          "name": "stdout",
          "text": [
            "Epoch 12/85, Loss: 3.0726, Accuracy: 0.3083\n",
            "Test Loss: 2.3171, Test Accuracy: 0.6000\n"
          ]
        },
        {
          "output_type": "stream",
          "name": "stderr",
          "text": [
            "Epoch 13/85: 100%|██████████| 4/4 [00:00<00:00, 91.96batch/s]\n"
          ]
        },
        {
          "output_type": "stream",
          "name": "stdout",
          "text": [
            "Epoch 13/85, Loss: 2.6367, Accuracy: 0.3333\n",
            "Test Loss: 2.2993, Test Accuracy: 0.6333\n"
          ]
        },
        {
          "output_type": "stream",
          "name": "stderr",
          "text": [
            "Epoch 14/85: 100%|██████████| 4/4 [00:00<00:00, 96.01batch/s]\n"
          ]
        },
        {
          "output_type": "stream",
          "name": "stdout",
          "text": [
            "Epoch 14/85, Loss: 3.1374, Accuracy: 0.3667\n",
            "Test Loss: 2.2783, Test Accuracy: 0.6333\n"
          ]
        },
        {
          "output_type": "stream",
          "name": "stderr",
          "text": [
            "Epoch 15/85: 100%|██████████| 4/4 [00:00<00:00, 87.01batch/s]\n"
          ]
        },
        {
          "output_type": "stream",
          "name": "stdout",
          "text": [
            "Epoch 15/85, Loss: 2.8620, Accuracy: 0.2917\n",
            "Test Loss: 2.2442, Test Accuracy: 0.6333\n"
          ]
        },
        {
          "output_type": "stream",
          "name": "stderr",
          "text": [
            "Epoch 16/85: 100%|██████████| 4/4 [00:00<00:00, 92.32batch/s]\n"
          ]
        },
        {
          "output_type": "stream",
          "name": "stdout",
          "text": [
            "Epoch 16/85, Loss: 2.5878, Accuracy: 0.3417\n",
            "Test Loss: 2.1779, Test Accuracy: 0.6333\n"
          ]
        },
        {
          "output_type": "stream",
          "name": "stderr",
          "text": [
            "Epoch 17/85: 100%|██████████| 4/4 [00:00<00:00, 96.23batch/s]\n"
          ]
        },
        {
          "output_type": "stream",
          "name": "stdout",
          "text": [
            "Epoch 17/85, Loss: 2.4639, Accuracy: 0.4000\n",
            "Test Loss: 2.0538, Test Accuracy: 0.6333\n"
          ]
        },
        {
          "output_type": "stream",
          "name": "stderr",
          "text": [
            "Epoch 18/85: 100%|██████████| 4/4 [00:00<00:00, 93.75batch/s]\n"
          ]
        },
        {
          "output_type": "stream",
          "name": "stdout",
          "text": [
            "Epoch 18/85, Loss: 2.3439, Accuracy: 0.3667\n",
            "Test Loss: 1.9187, Test Accuracy: 0.6667\n"
          ]
        },
        {
          "output_type": "stream",
          "name": "stderr",
          "text": [
            "Epoch 19/85: 100%|██████████| 4/4 [00:00<00:00, 93.82batch/s]\n"
          ]
        },
        {
          "output_type": "stream",
          "name": "stdout",
          "text": [
            "Epoch 19/85, Loss: 1.9536, Accuracy: 0.4167\n",
            "Test Loss: 1.8309, Test Accuracy: 0.6667\n"
          ]
        },
        {
          "output_type": "stream",
          "name": "stderr",
          "text": [
            "Epoch 20/85: 100%|██████████| 4/4 [00:00<00:00, 94.07batch/s]\n"
          ]
        },
        {
          "output_type": "stream",
          "name": "stdout",
          "text": [
            "Epoch 20/85, Loss: 2.1333, Accuracy: 0.3583\n",
            "Test Loss: 1.7270, Test Accuracy: 0.6667\n"
          ]
        },
        {
          "output_type": "stream",
          "name": "stderr",
          "text": [
            "Epoch 21/85: 100%|██████████| 4/4 [00:00<00:00, 92.01batch/s]\n"
          ]
        },
        {
          "output_type": "stream",
          "name": "stdout",
          "text": [
            "Epoch 21/85, Loss: 2.0576, Accuracy: 0.4667\n",
            "Test Loss: 1.6545, Test Accuracy: 0.6667\n"
          ]
        },
        {
          "output_type": "stream",
          "name": "stderr",
          "text": [
            "Epoch 22/85: 100%|██████████| 4/4 [00:00<00:00, 69.90batch/s]\n"
          ]
        },
        {
          "output_type": "stream",
          "name": "stdout",
          "text": [
            "Epoch 22/85, Loss: 2.1797, Accuracy: 0.4333\n",
            "Test Loss: 1.5826, Test Accuracy: 0.6667\n"
          ]
        },
        {
          "output_type": "stream",
          "name": "stderr",
          "text": [
            "Epoch 23/85: 100%|██████████| 4/4 [00:00<00:00, 69.36batch/s]\n"
          ]
        },
        {
          "output_type": "stream",
          "name": "stdout",
          "text": [
            "Epoch 23/85, Loss: 1.8017, Accuracy: 0.4333\n",
            "Test Loss: 1.4990, Test Accuracy: 0.6667\n"
          ]
        },
        {
          "output_type": "stream",
          "name": "stderr",
          "text": [
            "Epoch 24/85: 100%|██████████| 4/4 [00:00<00:00, 87.86batch/s]\n"
          ]
        },
        {
          "output_type": "stream",
          "name": "stdout",
          "text": [
            "Epoch 24/85, Loss: 1.6997, Accuracy: 0.4667\n",
            "Test Loss: 1.4293, Test Accuracy: 0.6667\n"
          ]
        },
        {
          "output_type": "stream",
          "name": "stderr",
          "text": [
            "Epoch 25/85: 100%|██████████| 4/4 [00:00<00:00, 95.85batch/s]\n"
          ]
        },
        {
          "output_type": "stream",
          "name": "stdout",
          "text": [
            "Epoch 25/85, Loss: 2.0209, Accuracy: 0.4417\n",
            "Test Loss: 1.3319, Test Accuracy: 0.6667\n"
          ]
        },
        {
          "output_type": "stream",
          "name": "stderr",
          "text": [
            "Epoch 26/85: 100%|██████████| 4/4 [00:00<00:00, 96.16batch/s]\n"
          ]
        },
        {
          "output_type": "stream",
          "name": "stdout",
          "text": [
            "Epoch 26/85, Loss: 1.5373, Accuracy: 0.4250\n",
            "Test Loss: 1.2429, Test Accuracy: 0.6667\n"
          ]
        },
        {
          "output_type": "stream",
          "name": "stderr",
          "text": [
            "Epoch 27/85: 100%|██████████| 4/4 [00:00<00:00, 89.99batch/s]\n"
          ]
        },
        {
          "output_type": "stream",
          "name": "stdout",
          "text": [
            "Epoch 27/85, Loss: 1.7758, Accuracy: 0.4500\n",
            "Test Loss: 1.1679, Test Accuracy: 0.6667\n"
          ]
        },
        {
          "output_type": "stream",
          "name": "stderr",
          "text": [
            "Epoch 28/85: 100%|██████████| 4/4 [00:00<00:00, 88.21batch/s]\n"
          ]
        },
        {
          "output_type": "stream",
          "name": "stdout",
          "text": [
            "Epoch 28/85, Loss: 1.7804, Accuracy: 0.4333\n",
            "Test Loss: 1.0881, Test Accuracy: 0.7000\n"
          ]
        },
        {
          "output_type": "stream",
          "name": "stderr",
          "text": [
            "Epoch 29/85: 100%|██████████| 4/4 [00:00<00:00, 90.06batch/s]\n"
          ]
        },
        {
          "output_type": "stream",
          "name": "stdout",
          "text": [
            "Epoch 29/85, Loss: 1.5467, Accuracy: 0.4417\n",
            "Test Loss: 1.0045, Test Accuracy: 0.7000\n"
          ]
        },
        {
          "output_type": "stream",
          "name": "stderr",
          "text": [
            "Epoch 30/85: 100%|██████████| 4/4 [00:00<00:00, 76.57batch/s]\n"
          ]
        },
        {
          "output_type": "stream",
          "name": "stdout",
          "text": [
            "Epoch 30/85, Loss: 1.7238, Accuracy: 0.4583\n",
            "Test Loss: 0.9389, Test Accuracy: 0.7000\n"
          ]
        },
        {
          "output_type": "stream",
          "name": "stderr",
          "text": [
            "Epoch 31/85: 100%|██████████| 4/4 [00:00<00:00, 86.77batch/s]\n"
          ]
        },
        {
          "output_type": "stream",
          "name": "stdout",
          "text": [
            "Epoch 31/85, Loss: 1.4361, Accuracy: 0.4333\n",
            "Test Loss: 0.8862, Test Accuracy: 0.7000\n"
          ]
        },
        {
          "output_type": "stream",
          "name": "stderr",
          "text": [
            "Epoch 32/85: 100%|██████████| 4/4 [00:00<00:00, 95.78batch/s]\n"
          ]
        },
        {
          "output_type": "stream",
          "name": "stdout",
          "text": [
            "Epoch 32/85, Loss: 1.4593, Accuracy: 0.4750\n",
            "Test Loss: 0.8270, Test Accuracy: 0.7000\n"
          ]
        },
        {
          "output_type": "stream",
          "name": "stderr",
          "text": [
            "Epoch 33/85: 100%|██████████| 4/4 [00:00<00:00, 88.89batch/s]\n"
          ]
        },
        {
          "output_type": "stream",
          "name": "stdout",
          "text": [
            "Epoch 33/85, Loss: 1.1765, Accuracy: 0.6167\n",
            "Test Loss: 0.7850, Test Accuracy: 0.7000\n"
          ]
        },
        {
          "output_type": "stream",
          "name": "stderr",
          "text": [
            "Epoch 34/85: 100%|██████████| 4/4 [00:00<00:00, 94.28batch/s]\n"
          ]
        },
        {
          "output_type": "stream",
          "name": "stdout",
          "text": [
            "Epoch 34/85, Loss: 1.6128, Accuracy: 0.4917\n",
            "Test Loss: 0.7615, Test Accuracy: 0.7000\n"
          ]
        },
        {
          "output_type": "stream",
          "name": "stderr",
          "text": [
            "Epoch 35/85: 100%|██████████| 4/4 [00:00<00:00, 92.36batch/s]\n"
          ]
        },
        {
          "output_type": "stream",
          "name": "stdout",
          "text": [
            "Epoch 35/85, Loss: 1.4735, Accuracy: 0.5333\n",
            "Test Loss: 0.7375, Test Accuracy: 0.7000\n"
          ]
        },
        {
          "output_type": "stream",
          "name": "stderr",
          "text": [
            "Epoch 36/85: 100%|██████████| 4/4 [00:00<00:00, 94.15batch/s]\n"
          ]
        },
        {
          "output_type": "stream",
          "name": "stdout",
          "text": [
            "Epoch 36/85, Loss: 1.2490, Accuracy: 0.5833\n",
            "Test Loss: 0.7308, Test Accuracy: 0.7000\n"
          ]
        },
        {
          "output_type": "stream",
          "name": "stderr",
          "text": [
            "Epoch 37/85: 100%|██████████| 4/4 [00:00<00:00, 95.56batch/s]\n"
          ]
        },
        {
          "output_type": "stream",
          "name": "stdout",
          "text": [
            "Epoch 37/85, Loss: 1.1552, Accuracy: 0.5500\n",
            "Test Loss: 0.7177, Test Accuracy: 0.7000\n"
          ]
        },
        {
          "output_type": "stream",
          "name": "stderr",
          "text": [
            "Epoch 38/85: 100%|██████████| 4/4 [00:00<00:00, 77.42batch/s]\n"
          ]
        },
        {
          "output_type": "stream",
          "name": "stdout",
          "text": [
            "Epoch 38/85, Loss: 1.1777, Accuracy: 0.5333\n",
            "Test Loss: 0.6921, Test Accuracy: 0.7333\n"
          ]
        },
        {
          "output_type": "stream",
          "name": "stderr",
          "text": [
            "Epoch 39/85: 100%|██████████| 4/4 [00:00<00:00, 70.27batch/s]\n"
          ]
        },
        {
          "output_type": "stream",
          "name": "stdout",
          "text": [
            "Epoch 39/85, Loss: 1.1389, Accuracy: 0.5417\n",
            "Test Loss: 0.6763, Test Accuracy: 0.7333\n"
          ]
        },
        {
          "output_type": "stream",
          "name": "stderr",
          "text": [
            "Epoch 40/85: 100%|██████████| 4/4 [00:00<00:00, 80.58batch/s]\n"
          ]
        },
        {
          "output_type": "stream",
          "name": "stdout",
          "text": [
            "Epoch 40/85, Loss: 1.2854, Accuracy: 0.5333\n",
            "Test Loss: 0.6629, Test Accuracy: 0.7333\n"
          ]
        },
        {
          "output_type": "stream",
          "name": "stderr",
          "text": [
            "Epoch 41/85: 100%|██████████| 4/4 [00:00<00:00, 96.61batch/s]\n"
          ]
        },
        {
          "output_type": "stream",
          "name": "stdout",
          "text": [
            "Epoch 41/85, Loss: 1.4229, Accuracy: 0.5417\n",
            "Test Loss: 0.6624, Test Accuracy: 0.7333\n"
          ]
        },
        {
          "output_type": "stream",
          "name": "stderr",
          "text": [
            "Epoch 42/85: 100%|██████████| 4/4 [00:00<00:00, 91.94batch/s]\n"
          ]
        },
        {
          "output_type": "stream",
          "name": "stdout",
          "text": [
            "Epoch 42/85, Loss: 0.9101, Accuracy: 0.6417\n",
            "Test Loss: 0.6818, Test Accuracy: 0.7000\n"
          ]
        },
        {
          "output_type": "stream",
          "name": "stderr",
          "text": [
            "Epoch 43/85: 100%|██████████| 4/4 [00:00<00:00, 85.23batch/s]\n"
          ]
        },
        {
          "output_type": "stream",
          "name": "stdout",
          "text": [
            "Epoch 43/85, Loss: 0.8971, Accuracy: 0.7000\n",
            "Test Loss: 0.7003, Test Accuracy: 0.7000\n"
          ]
        },
        {
          "output_type": "stream",
          "name": "stderr",
          "text": [
            "Epoch 44/85: 100%|██████████| 4/4 [00:00<00:00, 86.35batch/s]\n"
          ]
        },
        {
          "output_type": "stream",
          "name": "stdout",
          "text": [
            "Epoch 44/85, Loss: 1.0083, Accuracy: 0.6167\n",
            "Test Loss: 0.7037, Test Accuracy: 0.7000\n"
          ]
        },
        {
          "output_type": "stream",
          "name": "stderr",
          "text": [
            "Epoch 45/85: 100%|██████████| 4/4 [00:00<00:00, 84.84batch/s]\n"
          ]
        },
        {
          "output_type": "stream",
          "name": "stdout",
          "text": [
            "Epoch 45/85, Loss: 0.9790, Accuracy: 0.5833\n",
            "Test Loss: 0.7046, Test Accuracy: 0.7000\n"
          ]
        },
        {
          "output_type": "stream",
          "name": "stderr",
          "text": [
            "Epoch 46/85: 100%|██████████| 4/4 [00:00<00:00, 91.20batch/s]\n"
          ]
        },
        {
          "output_type": "stream",
          "name": "stdout",
          "text": [
            "Epoch 46/85, Loss: 0.7754, Accuracy: 0.6583\n",
            "Test Loss: 0.6972, Test Accuracy: 0.7000\n"
          ]
        },
        {
          "output_type": "stream",
          "name": "stderr",
          "text": [
            "Epoch 47/85: 100%|██████████| 4/4 [00:00<00:00, 75.17batch/s]\n"
          ]
        },
        {
          "output_type": "stream",
          "name": "stdout",
          "text": [
            "Epoch 47/85, Loss: 0.6662, Accuracy: 0.7417\n",
            "Test Loss: 0.6816, Test Accuracy: 0.7000\n"
          ]
        },
        {
          "output_type": "stream",
          "name": "stderr",
          "text": [
            "Epoch 48/85: 100%|██████████| 4/4 [00:00<00:00, 88.08batch/s]\n"
          ]
        },
        {
          "output_type": "stream",
          "name": "stdout",
          "text": [
            "Epoch 48/85, Loss: 0.8821, Accuracy: 0.6417\n",
            "Test Loss: 0.6613, Test Accuracy: 0.7000\n"
          ]
        },
        {
          "output_type": "stream",
          "name": "stderr",
          "text": [
            "Epoch 49/85: 100%|██████████| 4/4 [00:00<00:00, 92.63batch/s]\n"
          ]
        },
        {
          "output_type": "stream",
          "name": "stdout",
          "text": [
            "Epoch 49/85, Loss: 0.7419, Accuracy: 0.7083\n",
            "Test Loss: 0.6399, Test Accuracy: 0.7000\n"
          ]
        },
        {
          "output_type": "stream",
          "name": "stderr",
          "text": [
            "Epoch 50/85: 100%|██████████| 4/4 [00:00<00:00, 92.53batch/s]\n"
          ]
        },
        {
          "output_type": "stream",
          "name": "stdout",
          "text": [
            "Epoch 50/85, Loss: 0.7709, Accuracy: 0.7417\n",
            "Test Loss: 0.6139, Test Accuracy: 0.7667\n"
          ]
        },
        {
          "output_type": "stream",
          "name": "stderr",
          "text": [
            "Epoch 51/85: 100%|██████████| 4/4 [00:00<00:00, 94.44batch/s]\n"
          ]
        },
        {
          "output_type": "stream",
          "name": "stdout",
          "text": [
            "Epoch 51/85, Loss: 0.8424, Accuracy: 0.6667\n",
            "Test Loss: 0.5828, Test Accuracy: 0.7667\n"
          ]
        },
        {
          "output_type": "stream",
          "name": "stderr",
          "text": [
            "Epoch 52/85: 100%|██████████| 4/4 [00:00<00:00, 91.53batch/s]\n"
          ]
        },
        {
          "output_type": "stream",
          "name": "stdout",
          "text": [
            "Epoch 52/85, Loss: 0.8602, Accuracy: 0.6417\n",
            "Test Loss: 0.5416, Test Accuracy: 0.8000\n"
          ]
        },
        {
          "output_type": "stream",
          "name": "stderr",
          "text": [
            "Epoch 53/85: 100%|██████████| 4/4 [00:00<00:00, 90.07batch/s]\n"
          ]
        },
        {
          "output_type": "stream",
          "name": "stdout",
          "text": [
            "Epoch 53/85, Loss: 0.8177, Accuracy: 0.6833\n",
            "Test Loss: 0.5074, Test Accuracy: 0.8333\n"
          ]
        },
        {
          "output_type": "stream",
          "name": "stderr",
          "text": [
            "Epoch 54/85: 100%|██████████| 4/4 [00:00<00:00, 91.29batch/s]\n"
          ]
        },
        {
          "output_type": "stream",
          "name": "stdout",
          "text": [
            "Epoch 54/85, Loss: 0.7234, Accuracy: 0.7083\n",
            "Test Loss: 0.4880, Test Accuracy: 0.8333\n"
          ]
        },
        {
          "output_type": "stream",
          "name": "stderr",
          "text": [
            "Epoch 55/85: 100%|██████████| 4/4 [00:00<00:00, 67.96batch/s]\n"
          ]
        },
        {
          "output_type": "stream",
          "name": "stdout",
          "text": [
            "Epoch 55/85, Loss: 0.8202, Accuracy: 0.7000\n",
            "Test Loss: 0.4862, Test Accuracy: 0.8333\n"
          ]
        },
        {
          "output_type": "stream",
          "name": "stderr",
          "text": [
            "Epoch 56/85: 100%|██████████| 4/4 [00:00<00:00, 70.57batch/s]\n"
          ]
        },
        {
          "output_type": "stream",
          "name": "stdout",
          "text": [
            "Epoch 56/85, Loss: 0.5310, Accuracy: 0.8083\n",
            "Test Loss: 0.4948, Test Accuracy: 0.8333\n"
          ]
        },
        {
          "output_type": "stream",
          "name": "stderr",
          "text": [
            "Epoch 57/85: 100%|██████████| 4/4 [00:00<00:00, 81.47batch/s]\n"
          ]
        },
        {
          "output_type": "stream",
          "name": "stdout",
          "text": [
            "Epoch 57/85, Loss: 0.6389, Accuracy: 0.7833\n",
            "Test Loss: 0.4937, Test Accuracy: 0.8333\n"
          ]
        },
        {
          "output_type": "stream",
          "name": "stderr",
          "text": [
            "Epoch 58/85: 100%|██████████| 4/4 [00:00<00:00, 94.59batch/s]\n"
          ]
        },
        {
          "output_type": "stream",
          "name": "stdout",
          "text": [
            "Epoch 58/85, Loss: 0.7467, Accuracy: 0.7667\n",
            "Test Loss: 0.4906, Test Accuracy: 0.8333\n"
          ]
        },
        {
          "output_type": "stream",
          "name": "stderr",
          "text": [
            "Epoch 59/85: 100%|██████████| 4/4 [00:00<00:00, 94.20batch/s]\n"
          ]
        },
        {
          "output_type": "stream",
          "name": "stdout",
          "text": [
            "Epoch 59/85, Loss: 0.7502, Accuracy: 0.7417\n",
            "Test Loss: 0.4938, Test Accuracy: 0.8333\n"
          ]
        },
        {
          "output_type": "stream",
          "name": "stderr",
          "text": [
            "Epoch 60/85: 100%|██████████| 4/4 [00:00<00:00, 91.36batch/s]\n"
          ]
        },
        {
          "output_type": "stream",
          "name": "stdout",
          "text": [
            "Epoch 60/85, Loss: 0.8536, Accuracy: 0.6333\n",
            "Test Loss: 0.4746, Test Accuracy: 0.8333\n"
          ]
        },
        {
          "output_type": "stream",
          "name": "stderr",
          "text": [
            "Epoch 61/85: 100%|██████████| 4/4 [00:00<00:00, 57.81batch/s]\n"
          ]
        },
        {
          "output_type": "stream",
          "name": "stdout",
          "text": [
            "Epoch 61/85, Loss: 0.5453, Accuracy: 0.8333\n",
            "Test Loss: 0.4657, Test Accuracy: 0.8333\n"
          ]
        },
        {
          "output_type": "stream",
          "name": "stderr",
          "text": [
            "Epoch 62/85: 100%|██████████| 4/4 [00:00<00:00, 88.87batch/s]\n"
          ]
        },
        {
          "output_type": "stream",
          "name": "stdout",
          "text": [
            "Epoch 62/85, Loss: 0.6709, Accuracy: 0.7583\n",
            "Test Loss: 0.4638, Test Accuracy: 0.8333\n"
          ]
        },
        {
          "output_type": "stream",
          "name": "stderr",
          "text": [
            "Epoch 63/85: 100%|██████████| 4/4 [00:00<00:00, 89.07batch/s]\n"
          ]
        },
        {
          "output_type": "stream",
          "name": "stdout",
          "text": [
            "Epoch 63/85, Loss: 0.8461, Accuracy: 0.7667\n",
            "Test Loss: 0.4508, Test Accuracy: 0.8333\n"
          ]
        },
        {
          "output_type": "stream",
          "name": "stderr",
          "text": [
            "Epoch 64/85: 100%|██████████| 4/4 [00:00<00:00, 82.13batch/s]\n"
          ]
        },
        {
          "output_type": "stream",
          "name": "stdout",
          "text": [
            "Epoch 64/85, Loss: 0.7803, Accuracy: 0.7917\n",
            "Test Loss: 0.4511, Test Accuracy: 0.8667\n"
          ]
        },
        {
          "output_type": "stream",
          "name": "stderr",
          "text": [
            "Epoch 65/85: 100%|██████████| 4/4 [00:00<00:00, 88.05batch/s]\n"
          ]
        },
        {
          "output_type": "stream",
          "name": "stdout",
          "text": [
            "Epoch 65/85, Loss: 0.6207, Accuracy: 0.8000\n",
            "Test Loss: 0.4403, Test Accuracy: 0.8667\n"
          ]
        },
        {
          "output_type": "stream",
          "name": "stderr",
          "text": [
            "Epoch 66/85: 100%|██████████| 4/4 [00:00<00:00, 95.98batch/s]\n"
          ]
        },
        {
          "output_type": "stream",
          "name": "stdout",
          "text": [
            "Epoch 66/85, Loss: 0.6067, Accuracy: 0.7333\n",
            "Test Loss: 0.4347, Test Accuracy: 0.8667\n"
          ]
        },
        {
          "output_type": "stream",
          "name": "stderr",
          "text": [
            "Epoch 67/85: 100%|██████████| 4/4 [00:00<00:00, 96.20batch/s]\n"
          ]
        },
        {
          "output_type": "stream",
          "name": "stdout",
          "text": [
            "Epoch 67/85, Loss: 0.6775, Accuracy: 0.8000\n",
            "Test Loss: 0.4302, Test Accuracy: 0.8667\n"
          ]
        },
        {
          "output_type": "stream",
          "name": "stderr",
          "text": [
            "Epoch 68/85: 100%|██████████| 4/4 [00:00<00:00, 95.23batch/s]\n"
          ]
        },
        {
          "output_type": "stream",
          "name": "stdout",
          "text": [
            "Epoch 68/85, Loss: 0.5190, Accuracy: 0.8417\n",
            "Test Loss: 0.4346, Test Accuracy: 0.8333\n"
          ]
        },
        {
          "output_type": "stream",
          "name": "stderr",
          "text": [
            "Epoch 69/85: 100%|██████████| 4/4 [00:00<00:00, 89.42batch/s]\n"
          ]
        },
        {
          "output_type": "stream",
          "name": "stdout",
          "text": [
            "Epoch 69/85, Loss: 0.6761, Accuracy: 0.7917\n",
            "Test Loss: 0.4157, Test Accuracy: 0.8667\n"
          ]
        },
        {
          "output_type": "stream",
          "name": "stderr",
          "text": [
            "Epoch 70/85: 100%|██████████| 4/4 [00:00<00:00, 96.86batch/s]\n"
          ]
        },
        {
          "output_type": "stream",
          "name": "stdout",
          "text": [
            "Epoch 70/85, Loss: 0.8500, Accuracy: 0.7333\n",
            "Test Loss: 0.4031, Test Accuracy: 0.8667\n"
          ]
        },
        {
          "output_type": "stream",
          "name": "stderr",
          "text": [
            "Epoch 71/85: 100%|██████████| 4/4 [00:00<00:00, 76.82batch/s]\n"
          ]
        },
        {
          "output_type": "stream",
          "name": "stdout",
          "text": [
            "Epoch 71/85, Loss: 0.5315, Accuracy: 0.8083\n",
            "Test Loss: 0.3919, Test Accuracy: 0.8667\n"
          ]
        },
        {
          "output_type": "stream",
          "name": "stderr",
          "text": [
            "Epoch 72/85: 100%|██████████| 4/4 [00:00<00:00, 68.64batch/s]\n"
          ]
        },
        {
          "output_type": "stream",
          "name": "stdout",
          "text": [
            "Epoch 72/85, Loss: 0.6693, Accuracy: 0.7500\n",
            "Test Loss: 0.3885, Test Accuracy: 0.8667\n"
          ]
        },
        {
          "output_type": "stream",
          "name": "stderr",
          "text": [
            "Epoch 73/85: 100%|██████████| 4/4 [00:00<00:00, 77.86batch/s]\n"
          ]
        },
        {
          "output_type": "stream",
          "name": "stdout",
          "text": [
            "Epoch 73/85, Loss: 0.4854, Accuracy: 0.8250\n",
            "Test Loss: 0.3946, Test Accuracy: 0.8667\n"
          ]
        },
        {
          "output_type": "stream",
          "name": "stderr",
          "text": [
            "Epoch 74/85: 100%|██████████| 4/4 [00:00<00:00, 95.84batch/s]\n"
          ]
        },
        {
          "output_type": "stream",
          "name": "stdout",
          "text": [
            "Epoch 74/85, Loss: 0.4482, Accuracy: 0.8333\n",
            "Test Loss: 0.4081, Test Accuracy: 0.8333\n"
          ]
        },
        {
          "output_type": "stream",
          "name": "stderr",
          "text": [
            "Epoch 75/85: 100%|██████████| 4/4 [00:00<00:00, 94.33batch/s]\n"
          ]
        },
        {
          "output_type": "stream",
          "name": "stdout",
          "text": [
            "Epoch 75/85, Loss: 0.6521, Accuracy: 0.7750\n",
            "Test Loss: 0.4070, Test Accuracy: 0.8333\n"
          ]
        },
        {
          "output_type": "stream",
          "name": "stderr",
          "text": [
            "Epoch 76/85: 100%|██████████| 4/4 [00:00<00:00, 94.90batch/s]\n"
          ]
        },
        {
          "output_type": "stream",
          "name": "stdout",
          "text": [
            "Epoch 76/85, Loss: 0.6935, Accuracy: 0.7583\n",
            "Test Loss: 0.3994, Test Accuracy: 0.8333\n"
          ]
        },
        {
          "output_type": "stream",
          "name": "stderr",
          "text": [
            "Epoch 77/85: 100%|██████████| 4/4 [00:00<00:00, 91.00batch/s]\n"
          ]
        },
        {
          "output_type": "stream",
          "name": "stdout",
          "text": [
            "Epoch 77/85, Loss: 0.4650, Accuracy: 0.8167\n",
            "Test Loss: 0.3859, Test Accuracy: 0.8667\n"
          ]
        },
        {
          "output_type": "stream",
          "name": "stderr",
          "text": [
            "Epoch 78/85: 100%|██████████| 4/4 [00:00<00:00, 91.33batch/s]\n"
          ]
        },
        {
          "output_type": "stream",
          "name": "stdout",
          "text": [
            "Epoch 78/85, Loss: 0.5402, Accuracy: 0.8250\n",
            "Test Loss: 0.3715, Test Accuracy: 0.8667\n"
          ]
        },
        {
          "output_type": "stream",
          "name": "stderr",
          "text": [
            "Epoch 79/85: 100%|██████████| 4/4 [00:00<00:00, 99.01batch/s]\n"
          ]
        },
        {
          "output_type": "stream",
          "name": "stdout",
          "text": [
            "Epoch 79/85, Loss: 0.6139, Accuracy: 0.8000\n",
            "Test Loss: 0.3512, Test Accuracy: 0.8667\n"
          ]
        },
        {
          "output_type": "stream",
          "name": "stderr",
          "text": [
            "Epoch 80/85: 100%|██████████| 4/4 [00:00<00:00, 89.13batch/s]\n"
          ]
        },
        {
          "output_type": "stream",
          "name": "stdout",
          "text": [
            "Epoch 80/85, Loss: 0.6253, Accuracy: 0.8250\n",
            "Test Loss: 0.3324, Test Accuracy: 0.8667\n"
          ]
        },
        {
          "output_type": "stream",
          "name": "stderr",
          "text": [
            "Epoch 81/85: 100%|██████████| 4/4 [00:00<00:00, 73.44batch/s]\n"
          ]
        },
        {
          "output_type": "stream",
          "name": "stdout",
          "text": [
            "Epoch 81/85, Loss: 0.5631, Accuracy: 0.7917\n",
            "Test Loss: 0.3196, Test Accuracy: 0.8667\n"
          ]
        },
        {
          "output_type": "stream",
          "name": "stderr",
          "text": [
            "Epoch 82/85: 100%|██████████| 4/4 [00:00<00:00, 91.71batch/s]\n"
          ]
        },
        {
          "output_type": "stream",
          "name": "stdout",
          "text": [
            "Epoch 82/85, Loss: 0.5202, Accuracy: 0.7833\n",
            "Test Loss: 0.3062, Test Accuracy: 0.8667\n"
          ]
        },
        {
          "output_type": "stream",
          "name": "stderr",
          "text": [
            "Epoch 83/85: 100%|██████████| 4/4 [00:00<00:00, 92.16batch/s]\n"
          ]
        },
        {
          "output_type": "stream",
          "name": "stdout",
          "text": [
            "Epoch 83/85, Loss: 0.6417, Accuracy: 0.7750\n",
            "Test Loss: 0.2864, Test Accuracy: 0.8667\n"
          ]
        },
        {
          "output_type": "stream",
          "name": "stderr",
          "text": [
            "Epoch 84/85: 100%|██████████| 4/4 [00:00<00:00, 96.35batch/s]\n"
          ]
        },
        {
          "output_type": "stream",
          "name": "stdout",
          "text": [
            "Epoch 84/85, Loss: 0.5717, Accuracy: 0.8417\n",
            "Test Loss: 0.2769, Test Accuracy: 0.8667\n"
          ]
        },
        {
          "output_type": "stream",
          "name": "stderr",
          "text": [
            "Epoch 85/85: 100%|██████████| 4/4 [00:00<00:00, 98.82batch/s]\n"
          ]
        },
        {
          "output_type": "stream",
          "name": "stdout",
          "text": [
            "Epoch 85/85, Loss: 0.6997, Accuracy: 0.7667\n",
            "Test Loss: 0.2763, Test Accuracy: 0.9000\n",
            "Training Baseline MLP...\n"
          ]
        },
        {
          "output_type": "stream",
          "name": "stderr",
          "text": [
            "Epoch 1/85: 100%|██████████| 4/4 [00:00<00:00, 309.14batch/s]\n"
          ]
        },
        {
          "output_type": "stream",
          "name": "stdout",
          "text": [
            "Epoch 1/85, Loss: 1.1044, Accuracy: 0.3417\n",
            "Test Loss: 1.1129, Test Accuracy: 0.3000\n"
          ]
        },
        {
          "output_type": "stream",
          "name": "stderr",
          "text": [
            "Epoch 2/85: 100%|██████████| 4/4 [00:00<00:00, 323.29batch/s]\n"
          ]
        },
        {
          "output_type": "stream",
          "name": "stdout",
          "text": [
            "Epoch 2/85, Loss: 1.1046, Accuracy: 0.3417\n",
            "Test Loss: 1.1128, Test Accuracy: 0.3000\n"
          ]
        },
        {
          "output_type": "stream",
          "name": "stderr",
          "text": [
            "Epoch 3/85: 100%|██████████| 4/4 [00:00<00:00, 321.03batch/s]\n"
          ]
        },
        {
          "output_type": "stream",
          "name": "stdout",
          "text": [
            "Epoch 3/85, Loss: 1.1044, Accuracy: 0.3417\n",
            "Test Loss: 1.1126, Test Accuracy: 0.3000\n"
          ]
        },
        {
          "output_type": "stream",
          "name": "stderr",
          "text": [
            "Epoch 4/85: 100%|██████████| 4/4 [00:00<00:00, 309.23batch/s]\n"
          ]
        },
        {
          "output_type": "stream",
          "name": "stdout",
          "text": [
            "Epoch 4/85, Loss: 1.1051, Accuracy: 0.3417\n",
            "Test Loss: 1.1123, Test Accuracy: 0.3000\n"
          ]
        },
        {
          "output_type": "stream",
          "name": "stderr",
          "text": [
            "Epoch 5/85: 100%|██████████| 4/4 [00:00<00:00, 293.63batch/s]\n"
          ]
        },
        {
          "output_type": "stream",
          "name": "stdout",
          "text": [
            "Epoch 5/85, Loss: 1.1055, Accuracy: 0.3417\n",
            "Test Loss: 1.1119, Test Accuracy: 0.3000\n"
          ]
        },
        {
          "output_type": "stream",
          "name": "stderr",
          "text": [
            "Epoch 6/85: 100%|██████████| 4/4 [00:00<00:00, 239.79batch/s]\n"
          ]
        },
        {
          "output_type": "stream",
          "name": "stdout",
          "text": [
            "Epoch 6/85, Loss: 1.1033, Accuracy: 0.3417\n",
            "Test Loss: 1.1114, Test Accuracy: 0.3000\n"
          ]
        },
        {
          "output_type": "stream",
          "name": "stderr",
          "text": [
            "Epoch 7/85: 100%|██████████| 4/4 [00:00<00:00, 257.87batch/s]\n"
          ]
        },
        {
          "output_type": "stream",
          "name": "stdout",
          "text": [
            "Epoch 7/85, Loss: 1.1039, Accuracy: 0.3417\n",
            "Test Loss: 1.1107, Test Accuracy: 0.3000\n"
          ]
        },
        {
          "output_type": "stream",
          "name": "stderr",
          "text": [
            "Epoch 8/85: 100%|██████████| 4/4 [00:00<00:00, 283.57batch/s]\n"
          ]
        },
        {
          "output_type": "stream",
          "name": "stdout",
          "text": [
            "Epoch 8/85, Loss: 1.1029, Accuracy: 0.3417\n",
            "Test Loss: 1.1097, Test Accuracy: 0.3000\n"
          ]
        },
        {
          "output_type": "stream",
          "name": "stderr",
          "text": [
            "Epoch 9/85: 100%|██████████| 4/4 [00:00<00:00, 272.83batch/s]\n"
          ]
        },
        {
          "output_type": "stream",
          "name": "stdout",
          "text": [
            "Epoch 9/85, Loss: 1.1041, Accuracy: 0.3417\n",
            "Test Loss: 1.1086, Test Accuracy: 0.3000\n"
          ]
        },
        {
          "output_type": "stream",
          "name": "stderr",
          "text": [
            "Epoch 10/85: 100%|██████████| 4/4 [00:00<00:00, 254.84batch/s]\n"
          ]
        },
        {
          "output_type": "stream",
          "name": "stdout",
          "text": [
            "Epoch 10/85, Loss: 1.1035, Accuracy: 0.3417\n",
            "Test Loss: 1.1075, Test Accuracy: 0.3000\n"
          ]
        },
        {
          "output_type": "stream",
          "name": "stderr",
          "text": [
            "Epoch 11/85: 100%|██████████| 4/4 [00:00<00:00, 266.27batch/s]\n"
          ]
        },
        {
          "output_type": "stream",
          "name": "stdout",
          "text": [
            "Epoch 11/85, Loss: 1.0974, Accuracy: 0.3417\n",
            "Test Loss: 1.1064, Test Accuracy: 0.3000\n"
          ]
        },
        {
          "output_type": "stream",
          "name": "stderr",
          "text": [
            "Epoch 12/85: 100%|██████████| 4/4 [00:00<00:00, 236.49batch/s]\n"
          ]
        },
        {
          "output_type": "stream",
          "name": "stdout",
          "text": [
            "Epoch 12/85, Loss: 1.1005, Accuracy: 0.3417\n",
            "Test Loss: 1.1053, Test Accuracy: 0.3000\n"
          ]
        },
        {
          "output_type": "stream",
          "name": "stderr",
          "text": [
            "Epoch 13/85: 100%|██████████| 4/4 [00:00<00:00, 220.20batch/s]\n"
          ]
        },
        {
          "output_type": "stream",
          "name": "stdout",
          "text": [
            "Epoch 13/85, Loss: 1.1020, Accuracy: 0.3417\n",
            "Test Loss: 1.1042, Test Accuracy: 0.3000\n"
          ]
        },
        {
          "output_type": "stream",
          "name": "stderr",
          "text": [
            "Epoch 14/85: 100%|██████████| 4/4 [00:00<00:00, 236.89batch/s]\n"
          ]
        },
        {
          "output_type": "stream",
          "name": "stdout",
          "text": [
            "Epoch 14/85, Loss: 1.0973, Accuracy: 0.3417\n",
            "Test Loss: 1.1031, Test Accuracy: 0.3000\n"
          ]
        },
        {
          "output_type": "stream",
          "name": "stderr",
          "text": [
            "Epoch 15/85: 100%|██████████| 4/4 [00:00<00:00, 252.86batch/s]\n"
          ]
        },
        {
          "output_type": "stream",
          "name": "stdout",
          "text": [
            "Epoch 15/85, Loss: 1.0946, Accuracy: 0.3417\n",
            "Test Loss: 1.1020, Test Accuracy: 0.3000\n"
          ]
        },
        {
          "output_type": "stream",
          "name": "stderr",
          "text": [
            "Epoch 16/85: 100%|██████████| 4/4 [00:00<00:00, 193.62batch/s]\n"
          ]
        },
        {
          "output_type": "stream",
          "name": "stdout",
          "text": [
            "Epoch 16/85, Loss: 1.0954, Accuracy: 0.3417\n",
            "Test Loss: 1.1009, Test Accuracy: 0.3000\n"
          ]
        },
        {
          "output_type": "stream",
          "name": "stderr",
          "text": [
            "Epoch 17/85: 100%|██████████| 4/4 [00:00<00:00, 253.95batch/s]\n"
          ]
        },
        {
          "output_type": "stream",
          "name": "stdout",
          "text": [
            "Epoch 17/85, Loss: 1.0943, Accuracy: 0.3417\n",
            "Test Loss: 1.0997, Test Accuracy: 0.3000\n"
          ]
        },
        {
          "output_type": "stream",
          "name": "stderr",
          "text": [
            "Epoch 18/85: 100%|██████████| 4/4 [00:00<00:00, 309.55batch/s]\n"
          ]
        },
        {
          "output_type": "stream",
          "name": "stdout",
          "text": [
            "Epoch 18/85, Loss: 1.0950, Accuracy: 0.3417\n",
            "Test Loss: 1.0984, Test Accuracy: 0.3000\n"
          ]
        },
        {
          "output_type": "stream",
          "name": "stderr",
          "text": [
            "Epoch 19/85: 100%|██████████| 4/4 [00:00<00:00, 310.99batch/s]\n"
          ]
        },
        {
          "output_type": "stream",
          "name": "stdout",
          "text": [
            "Epoch 19/85, Loss: 1.0944, Accuracy: 0.3417\n",
            "Test Loss: 1.0970, Test Accuracy: 0.3000\n"
          ]
        },
        {
          "output_type": "stream",
          "name": "stderr",
          "text": [
            "Epoch 20/85: 100%|██████████| 4/4 [00:00<00:00, 303.02batch/s]\n"
          ]
        },
        {
          "output_type": "stream",
          "name": "stdout",
          "text": [
            "Epoch 20/85, Loss: 1.0938, Accuracy: 0.3417\n",
            "Test Loss: 1.0956, Test Accuracy: 0.3000\n"
          ]
        },
        {
          "output_type": "stream",
          "name": "stderr",
          "text": [
            "Epoch 21/85: 100%|██████████| 4/4 [00:00<00:00, 286.27batch/s]\n"
          ]
        },
        {
          "output_type": "stream",
          "name": "stdout",
          "text": [
            "Epoch 21/85, Loss: 1.0887, Accuracy: 0.3417\n",
            "Test Loss: 1.0942, Test Accuracy: 0.3000\n"
          ]
        },
        {
          "output_type": "stream",
          "name": "stderr",
          "text": [
            "Epoch 22/85: 100%|██████████| 4/4 [00:00<00:00, 329.15batch/s]\n"
          ]
        },
        {
          "output_type": "stream",
          "name": "stdout",
          "text": [
            "Epoch 22/85, Loss: 1.0912, Accuracy: 0.3417\n",
            "Test Loss: 1.0926, Test Accuracy: 0.3000\n"
          ]
        },
        {
          "output_type": "stream",
          "name": "stderr",
          "text": [
            "Epoch 23/85: 100%|██████████| 4/4 [00:00<00:00, 313.62batch/s]\n"
          ]
        },
        {
          "output_type": "stream",
          "name": "stdout",
          "text": [
            "Epoch 23/85, Loss: 1.0872, Accuracy: 0.3417\n",
            "Test Loss: 1.0911, Test Accuracy: 0.3000\n"
          ]
        },
        {
          "output_type": "stream",
          "name": "stderr",
          "text": [
            "Epoch 24/85: 100%|██████████| 4/4 [00:00<00:00, 264.91batch/s]\n"
          ]
        },
        {
          "output_type": "stream",
          "name": "stdout",
          "text": [
            "Epoch 24/85, Loss: 1.0854, Accuracy: 0.3417\n",
            "Test Loss: 1.0895, Test Accuracy: 0.3000\n"
          ]
        },
        {
          "output_type": "stream",
          "name": "stderr",
          "text": [
            "Epoch 25/85: 100%|██████████| 4/4 [00:00<00:00, 286.97batch/s]\n"
          ]
        },
        {
          "output_type": "stream",
          "name": "stdout",
          "text": [
            "Epoch 25/85, Loss: 1.0853, Accuracy: 0.3417\n",
            "Test Loss: 1.0878, Test Accuracy: 0.3000\n"
          ]
        },
        {
          "output_type": "stream",
          "name": "stderr",
          "text": [
            "Epoch 26/85: 100%|██████████| 4/4 [00:00<00:00, 269.93batch/s]\n"
          ]
        },
        {
          "output_type": "stream",
          "name": "stdout",
          "text": [
            "Epoch 26/85, Loss: 1.0872, Accuracy: 0.3417\n",
            "Test Loss: 1.0862, Test Accuracy: 0.3000\n"
          ]
        },
        {
          "output_type": "stream",
          "name": "stderr",
          "text": [
            "Epoch 27/85: 100%|██████████| 4/4 [00:00<00:00, 342.31batch/s]\n"
          ]
        },
        {
          "output_type": "stream",
          "name": "stdout",
          "text": [
            "Epoch 27/85, Loss: 1.0816, Accuracy: 0.3417\n",
            "Test Loss: 1.0845, Test Accuracy: 0.3000\n"
          ]
        },
        {
          "output_type": "stream",
          "name": "stderr",
          "text": [
            "Epoch 28/85: 100%|██████████| 4/4 [00:00<00:00, 278.73batch/s]\n"
          ]
        },
        {
          "output_type": "stream",
          "name": "stdout",
          "text": [
            "Epoch 28/85, Loss: 1.0803, Accuracy: 0.3417\n",
            "Test Loss: 1.0828, Test Accuracy: 0.3000\n"
          ]
        },
        {
          "output_type": "stream",
          "name": "stderr",
          "text": [
            "Epoch 29/85: 100%|██████████| 4/4 [00:00<00:00, 309.63batch/s]\n"
          ]
        },
        {
          "output_type": "stream",
          "name": "stdout",
          "text": [
            "Epoch 29/85, Loss: 1.0770, Accuracy: 0.3417\n",
            "Test Loss: 1.0811, Test Accuracy: 0.3000\n"
          ]
        },
        {
          "output_type": "stream",
          "name": "stderr",
          "text": [
            "Epoch 30/85: 100%|██████████| 4/4 [00:00<00:00, 266.25batch/s]\n"
          ]
        },
        {
          "output_type": "stream",
          "name": "stdout",
          "text": [
            "Epoch 30/85, Loss: 1.0815, Accuracy: 0.3417\n",
            "Test Loss: 1.0794, Test Accuracy: 0.3000\n"
          ]
        },
        {
          "output_type": "stream",
          "name": "stderr",
          "text": [
            "Epoch 31/85: 100%|██████████| 4/4 [00:00<00:00, 337.57batch/s]\n"
          ]
        },
        {
          "output_type": "stream",
          "name": "stdout",
          "text": [
            "Epoch 31/85, Loss: 1.0769, Accuracy: 0.3417\n",
            "Test Loss: 1.0776, Test Accuracy: 0.3000\n"
          ]
        },
        {
          "output_type": "stream",
          "name": "stderr",
          "text": [
            "Epoch 32/85: 100%|██████████| 4/4 [00:00<00:00, 257.56batch/s]\n"
          ]
        },
        {
          "output_type": "stream",
          "name": "stdout",
          "text": [
            "Epoch 32/85, Loss: 1.0746, Accuracy: 0.3417\n",
            "Test Loss: 1.0758, Test Accuracy: 0.3000\n"
          ]
        },
        {
          "output_type": "stream",
          "name": "stderr",
          "text": [
            "Epoch 33/85: 100%|██████████| 4/4 [00:00<00:00, 259.16batch/s]\n"
          ]
        },
        {
          "output_type": "stream",
          "name": "stdout",
          "text": [
            "Epoch 33/85, Loss: 1.0718, Accuracy: 0.3417\n",
            "Test Loss: 1.0740, Test Accuracy: 0.3000\n"
          ]
        },
        {
          "output_type": "stream",
          "name": "stderr",
          "text": [
            "Epoch 34/85: 100%|██████████| 4/4 [00:00<00:00, 329.34batch/s]\n"
          ]
        },
        {
          "output_type": "stream",
          "name": "stdout",
          "text": [
            "Epoch 34/85, Loss: 1.0740, Accuracy: 0.3417\n",
            "Test Loss: 1.0722, Test Accuracy: 0.3333\n"
          ]
        },
        {
          "output_type": "stream",
          "name": "stderr",
          "text": [
            "Epoch 35/85: 100%|██████████| 4/4 [00:00<00:00, 316.80batch/s]\n"
          ]
        },
        {
          "output_type": "stream",
          "name": "stdout",
          "text": [
            "Epoch 35/85, Loss: 1.0683, Accuracy: 0.3417\n",
            "Test Loss: 1.0704, Test Accuracy: 0.3333\n"
          ]
        },
        {
          "output_type": "stream",
          "name": "stderr",
          "text": [
            "Epoch 36/85: 100%|██████████| 4/4 [00:00<00:00, 318.23batch/s]\n"
          ]
        },
        {
          "output_type": "stream",
          "name": "stdout",
          "text": [
            "Epoch 36/85, Loss: 1.0685, Accuracy: 0.3417\n",
            "Test Loss: 1.0685, Test Accuracy: 0.3333\n"
          ]
        },
        {
          "output_type": "stream",
          "name": "stderr",
          "text": [
            "Epoch 37/85: 100%|██████████| 4/4 [00:00<00:00, 312.03batch/s]\n"
          ]
        },
        {
          "output_type": "stream",
          "name": "stdout",
          "text": [
            "Epoch 37/85, Loss: 1.0653, Accuracy: 0.3583\n",
            "Test Loss: 1.0666, Test Accuracy: 0.3333\n"
          ]
        },
        {
          "output_type": "stream",
          "name": "stderr",
          "text": [
            "Epoch 38/85: 100%|██████████| 4/4 [00:00<00:00, 307.68batch/s]\n"
          ]
        },
        {
          "output_type": "stream",
          "name": "stdout",
          "text": [
            "Epoch 38/85, Loss: 1.0635, Accuracy: 0.3667\n",
            "Test Loss: 1.0646, Test Accuracy: 0.3333\n"
          ]
        },
        {
          "output_type": "stream",
          "name": "stderr",
          "text": [
            "Epoch 39/85: 100%|██████████| 4/4 [00:00<00:00, 330.18batch/s]\n"
          ]
        },
        {
          "output_type": "stream",
          "name": "stdout",
          "text": [
            "Epoch 39/85, Loss: 1.0633, Accuracy: 0.3667\n",
            "Test Loss: 1.0626, Test Accuracy: 0.3333\n"
          ]
        },
        {
          "output_type": "stream",
          "name": "stderr",
          "text": [
            "Epoch 40/85: 100%|██████████| 4/4 [00:00<00:00, 284.58batch/s]\n"
          ]
        },
        {
          "output_type": "stream",
          "name": "stdout",
          "text": [
            "Epoch 40/85, Loss: 1.0627, Accuracy: 0.3833\n",
            "Test Loss: 1.0605, Test Accuracy: 0.3667\n"
          ]
        },
        {
          "output_type": "stream",
          "name": "stderr",
          "text": [
            "Epoch 41/85: 100%|██████████| 4/4 [00:00<00:00, 288.55batch/s]\n"
          ]
        },
        {
          "output_type": "stream",
          "name": "stdout",
          "text": [
            "Epoch 41/85, Loss: 1.0609, Accuracy: 0.4167\n",
            "Test Loss: 1.0584, Test Accuracy: 0.3667\n"
          ]
        },
        {
          "output_type": "stream",
          "name": "stderr",
          "text": [
            "Epoch 42/85: 100%|██████████| 4/4 [00:00<00:00, 256.93batch/s]\n"
          ]
        },
        {
          "output_type": "stream",
          "name": "stdout",
          "text": [
            "Epoch 42/85, Loss: 1.0608, Accuracy: 0.4250\n",
            "Test Loss: 1.0561, Test Accuracy: 0.4000\n"
          ]
        },
        {
          "output_type": "stream",
          "name": "stderr",
          "text": [
            "Epoch 43/85: 100%|██████████| 4/4 [00:00<00:00, 305.90batch/s]\n"
          ]
        },
        {
          "output_type": "stream",
          "name": "stdout",
          "text": [
            "Epoch 43/85, Loss: 1.0576, Accuracy: 0.4917\n",
            "Test Loss: 1.0538, Test Accuracy: 0.5667\n"
          ]
        },
        {
          "output_type": "stream",
          "name": "stderr",
          "text": [
            "Epoch 44/85: 100%|██████████| 4/4 [00:00<00:00, 324.77batch/s]\n"
          ]
        },
        {
          "output_type": "stream",
          "name": "stdout",
          "text": [
            "Epoch 44/85, Loss: 1.0588, Accuracy: 0.5000\n",
            "Test Loss: 1.0515, Test Accuracy: 0.5667\n"
          ]
        },
        {
          "output_type": "stream",
          "name": "stderr",
          "text": [
            "Epoch 45/85: 100%|██████████| 4/4 [00:00<00:00, 326.21batch/s]\n"
          ]
        },
        {
          "output_type": "stream",
          "name": "stdout",
          "text": [
            "Epoch 45/85, Loss: 1.0578, Accuracy: 0.5167\n",
            "Test Loss: 1.0491, Test Accuracy: 0.5667\n"
          ]
        },
        {
          "output_type": "stream",
          "name": "stderr",
          "text": [
            "Epoch 46/85: 100%|██████████| 4/4 [00:00<00:00, 333.97batch/s]\n"
          ]
        },
        {
          "output_type": "stream",
          "name": "stdout",
          "text": [
            "Epoch 46/85, Loss: 1.0524, Accuracy: 0.5500\n",
            "Test Loss: 1.0469, Test Accuracy: 0.5667\n"
          ]
        },
        {
          "output_type": "stream",
          "name": "stderr",
          "text": [
            "Epoch 47/85: 100%|██████████| 4/4 [00:00<00:00, 309.11batch/s]\n"
          ]
        },
        {
          "output_type": "stream",
          "name": "stdout",
          "text": [
            "Epoch 47/85, Loss: 1.0521, Accuracy: 0.5667\n",
            "Test Loss: 1.0445, Test Accuracy: 0.5333\n"
          ]
        },
        {
          "output_type": "stream",
          "name": "stderr",
          "text": [
            "Epoch 48/85: 100%|██████████| 4/4 [00:00<00:00, 284.84batch/s]\n"
          ]
        },
        {
          "output_type": "stream",
          "name": "stdout",
          "text": [
            "Epoch 48/85, Loss: 1.0486, Accuracy: 0.5667\n",
            "Test Loss: 1.0422, Test Accuracy: 0.5667\n"
          ]
        },
        {
          "output_type": "stream",
          "name": "stderr",
          "text": [
            "Epoch 49/85: 100%|██████████| 4/4 [00:00<00:00, 269.57batch/s]\n"
          ]
        },
        {
          "output_type": "stream",
          "name": "stdout",
          "text": [
            "Epoch 49/85, Loss: 1.0454, Accuracy: 0.5750\n",
            "Test Loss: 1.0398, Test Accuracy: 0.5667\n"
          ]
        },
        {
          "output_type": "stream",
          "name": "stderr",
          "text": [
            "Epoch 50/85: 100%|██████████| 4/4 [00:00<00:00, 259.80batch/s]\n"
          ]
        },
        {
          "output_type": "stream",
          "name": "stdout",
          "text": [
            "Epoch 50/85, Loss: 1.0430, Accuracy: 0.5750\n",
            "Test Loss: 1.0374, Test Accuracy: 0.5667\n"
          ]
        },
        {
          "output_type": "stream",
          "name": "stderr",
          "text": [
            "Epoch 51/85: 100%|██████████| 4/4 [00:00<00:00, 256.75batch/s]\n"
          ]
        },
        {
          "output_type": "stream",
          "name": "stdout",
          "text": [
            "Epoch 51/85, Loss: 1.0410, Accuracy: 0.5667\n",
            "Test Loss: 1.0350, Test Accuracy: 0.5667\n"
          ]
        },
        {
          "output_type": "stream",
          "name": "stderr",
          "text": [
            "Epoch 52/85: 100%|██████████| 4/4 [00:00<00:00, 268.08batch/s]\n"
          ]
        },
        {
          "output_type": "stream",
          "name": "stdout",
          "text": [
            "Epoch 52/85, Loss: 1.0389, Accuracy: 0.5583\n",
            "Test Loss: 1.0326, Test Accuracy: 0.6000\n"
          ]
        },
        {
          "output_type": "stream",
          "name": "stderr",
          "text": [
            "Epoch 53/85: 100%|██████████| 4/4 [00:00<00:00, 250.04batch/s]\n"
          ]
        },
        {
          "output_type": "stream",
          "name": "stdout",
          "text": [
            "Epoch 53/85, Loss: 1.0404, Accuracy: 0.5417\n",
            "Test Loss: 1.0302, Test Accuracy: 0.5667\n"
          ]
        },
        {
          "output_type": "stream",
          "name": "stderr",
          "text": [
            "Epoch 54/85: 100%|██████████| 4/4 [00:00<00:00, 244.64batch/s]\n"
          ]
        },
        {
          "output_type": "stream",
          "name": "stdout",
          "text": [
            "Epoch 54/85, Loss: 1.0370, Accuracy: 0.5250\n",
            "Test Loss: 1.0277, Test Accuracy: 0.5667\n"
          ]
        },
        {
          "output_type": "stream",
          "name": "stderr",
          "text": [
            "Epoch 55/85: 100%|██████████| 4/4 [00:00<00:00, 288.94batch/s]\n"
          ]
        },
        {
          "output_type": "stream",
          "name": "stdout",
          "text": [
            "Epoch 55/85, Loss: 1.0371, Accuracy: 0.4917\n",
            "Test Loss: 1.0252, Test Accuracy: 0.5333\n"
          ]
        },
        {
          "output_type": "stream",
          "name": "stderr",
          "text": [
            "Epoch 56/85: 100%|██████████| 4/4 [00:00<00:00, 245.44batch/s]\n"
          ]
        },
        {
          "output_type": "stream",
          "name": "stdout",
          "text": [
            "Epoch 56/85, Loss: 1.0323, Accuracy: 0.4917\n",
            "Test Loss: 1.0227, Test Accuracy: 0.5000\n"
          ]
        },
        {
          "output_type": "stream",
          "name": "stderr",
          "text": [
            "Epoch 57/85: 100%|██████████| 4/4 [00:00<00:00, 210.82batch/s]\n"
          ]
        },
        {
          "output_type": "stream",
          "name": "stdout",
          "text": [
            "Epoch 57/85, Loss: 1.0279, Accuracy: 0.4750\n",
            "Test Loss: 1.0202, Test Accuracy: 0.4333\n"
          ]
        },
        {
          "output_type": "stream",
          "name": "stderr",
          "text": [
            "Epoch 58/85: 100%|██████████| 4/4 [00:00<00:00, 260.38batch/s]\n"
          ]
        },
        {
          "output_type": "stream",
          "name": "stdout",
          "text": [
            "Epoch 58/85, Loss: 1.0295, Accuracy: 0.4417\n",
            "Test Loss: 1.0177, Test Accuracy: 0.4333\n"
          ]
        },
        {
          "output_type": "stream",
          "name": "stderr",
          "text": [
            "Epoch 59/85: 100%|██████████| 4/4 [00:00<00:00, 228.88batch/s]\n"
          ]
        },
        {
          "output_type": "stream",
          "name": "stdout",
          "text": [
            "Epoch 59/85, Loss: 1.0231, Accuracy: 0.4333\n",
            "Test Loss: 1.0151, Test Accuracy: 0.4000\n"
          ]
        },
        {
          "output_type": "stream",
          "name": "stderr",
          "text": [
            "Epoch 60/85: 100%|██████████| 4/4 [00:00<00:00, 269.56batch/s]"
          ]
        },
        {
          "output_type": "stream",
          "name": "stdout",
          "text": [
            "Epoch 60/85, Loss: 1.0220, Accuracy: 0.4167"
          ]
        },
        {
          "output_type": "stream",
          "name": "stderr",
          "text": [
            "\n"
          ]
        },
        {
          "output_type": "stream",
          "name": "stdout",
          "text": [
            "\n",
            "Test Loss: 1.0126, Test Accuracy: 0.4000\n"
          ]
        },
        {
          "output_type": "stream",
          "name": "stderr",
          "text": [
            "Epoch 61/85: 100%|██████████| 4/4 [00:00<00:00, 234.69batch/s]\n"
          ]
        },
        {
          "output_type": "stream",
          "name": "stdout",
          "text": [
            "Epoch 61/85, Loss: 1.0251, Accuracy: 0.4167\n",
            "Test Loss: 1.0099, Test Accuracy: 0.4000\n"
          ]
        },
        {
          "output_type": "stream",
          "name": "stderr",
          "text": [
            "Epoch 62/85: 100%|██████████| 4/4 [00:00<00:00, 210.03batch/s]\n"
          ]
        },
        {
          "output_type": "stream",
          "name": "stdout",
          "text": [
            "Epoch 62/85, Loss: 1.0223, Accuracy: 0.4083\n",
            "Test Loss: 1.0072, Test Accuracy: 0.4000\n"
          ]
        },
        {
          "output_type": "stream",
          "name": "stderr",
          "text": [
            "Epoch 63/85: 100%|██████████| 4/4 [00:00<00:00, 195.55batch/s]\n"
          ]
        },
        {
          "output_type": "stream",
          "name": "stdout",
          "text": [
            "Epoch 63/85, Loss: 1.0152, Accuracy: 0.3917\n",
            "Test Loss: 1.0045, Test Accuracy: 0.4000\n"
          ]
        },
        {
          "output_type": "stream",
          "name": "stderr",
          "text": [
            "Epoch 64/85: 100%|██████████| 4/4 [00:00<00:00, 268.27batch/s]\n"
          ]
        },
        {
          "output_type": "stream",
          "name": "stdout",
          "text": [
            "Epoch 64/85, Loss: 1.0163, Accuracy: 0.3667\n",
            "Test Loss: 1.0018, Test Accuracy: 0.4000\n"
          ]
        },
        {
          "output_type": "stream",
          "name": "stderr",
          "text": [
            "Epoch 65/85: 100%|██████████| 4/4 [00:00<00:00, 180.40batch/s]\n"
          ]
        },
        {
          "output_type": "stream",
          "name": "stdout",
          "text": [
            "Epoch 65/85, Loss: 1.0133, Accuracy: 0.3583\n",
            "Test Loss: 0.9991, Test Accuracy: 0.4000\n"
          ]
        },
        {
          "output_type": "stream",
          "name": "stderr",
          "text": [
            "Epoch 66/85: 100%|██████████| 4/4 [00:00<00:00, 193.89batch/s]\n"
          ]
        },
        {
          "output_type": "stream",
          "name": "stdout",
          "text": [
            "Epoch 66/85, Loss: 1.0109, Accuracy: 0.3583\n",
            "Test Loss: 0.9965, Test Accuracy: 0.4000\n"
          ]
        },
        {
          "output_type": "stream",
          "name": "stderr",
          "text": [
            "Epoch 67/85: 100%|██████████| 4/4 [00:00<00:00, 223.11batch/s]\n"
          ]
        },
        {
          "output_type": "stream",
          "name": "stdout",
          "text": [
            "Epoch 67/85, Loss: 1.0106, Accuracy: 0.3583\n",
            "Test Loss: 0.9937, Test Accuracy: 0.4000\n"
          ]
        },
        {
          "output_type": "stream",
          "name": "stderr",
          "text": [
            "Epoch 68/85: 100%|██████████| 4/4 [00:00<00:00, 217.03batch/s]\n"
          ]
        },
        {
          "output_type": "stream",
          "name": "stdout",
          "text": [
            "Epoch 68/85, Loss: 1.0018, Accuracy: 0.3500\n",
            "Test Loss: 0.9909, Test Accuracy: 0.4000\n"
          ]
        },
        {
          "output_type": "stream",
          "name": "stderr",
          "text": [
            "Epoch 69/85: 100%|██████████| 4/4 [00:00<00:00, 202.45batch/s]\n"
          ]
        },
        {
          "output_type": "stream",
          "name": "stdout",
          "text": [
            "Epoch 69/85, Loss: 1.0021, Accuracy: 0.3500\n",
            "Test Loss: 0.9881, Test Accuracy: 0.4000\n"
          ]
        },
        {
          "output_type": "stream",
          "name": "stderr",
          "text": [
            "Epoch 70/85: 100%|██████████| 4/4 [00:00<00:00, 247.01batch/s]\n"
          ]
        },
        {
          "output_type": "stream",
          "name": "stdout",
          "text": [
            "Epoch 70/85, Loss: 1.0009, Accuracy: 0.3417\n",
            "Test Loss: 0.9853, Test Accuracy: 0.4000\n"
          ]
        },
        {
          "output_type": "stream",
          "name": "stderr",
          "text": [
            "Epoch 71/85: 100%|██████████| 4/4 [00:00<00:00, 259.80batch/s]\n"
          ]
        },
        {
          "output_type": "stream",
          "name": "stdout",
          "text": [
            "Epoch 71/85, Loss: 0.9975, Accuracy: 0.3333\n",
            "Test Loss: 0.9825, Test Accuracy: 0.4000\n"
          ]
        },
        {
          "output_type": "stream",
          "name": "stderr",
          "text": [
            "Epoch 72/85: 100%|██████████| 4/4 [00:00<00:00, 247.32batch/s]\n"
          ]
        },
        {
          "output_type": "stream",
          "name": "stdout",
          "text": [
            "Epoch 72/85, Loss: 0.9959, Accuracy: 0.3333\n",
            "Test Loss: 0.9796, Test Accuracy: 0.4000\n"
          ]
        },
        {
          "output_type": "stream",
          "name": "stderr",
          "text": [
            "Epoch 73/85: 100%|██████████| 4/4 [00:00<00:00, 286.84batch/s]\n"
          ]
        },
        {
          "output_type": "stream",
          "name": "stdout",
          "text": [
            "Epoch 73/85, Loss: 0.9936, Accuracy: 0.3333\n",
            "Test Loss: 0.9768, Test Accuracy: 0.4000\n"
          ]
        },
        {
          "output_type": "stream",
          "name": "stderr",
          "text": [
            "Epoch 74/85: 100%|██████████| 4/4 [00:00<00:00, 250.07batch/s]\n"
          ]
        },
        {
          "output_type": "stream",
          "name": "stdout",
          "text": [
            "Epoch 74/85, Loss: 0.9929, Accuracy: 0.3333\n",
            "Test Loss: 0.9740, Test Accuracy: 0.3667\n"
          ]
        },
        {
          "output_type": "stream",
          "name": "stderr",
          "text": [
            "Epoch 75/85: 100%|██████████| 4/4 [00:00<00:00, 182.55batch/s]\n"
          ]
        },
        {
          "output_type": "stream",
          "name": "stdout",
          "text": [
            "Epoch 75/85, Loss: 0.9910, Accuracy: 0.3333\n",
            "Test Loss: 0.9711, Test Accuracy: 0.3667\n"
          ]
        },
        {
          "output_type": "stream",
          "name": "stderr",
          "text": [
            "Epoch 76/85: 100%|██████████| 4/4 [00:00<00:00, 240.55batch/s]\n"
          ]
        },
        {
          "output_type": "stream",
          "name": "stdout",
          "text": [
            "Epoch 76/85, Loss: 0.9899, Accuracy: 0.3250\n",
            "Test Loss: 0.9682, Test Accuracy: 0.3667\n"
          ]
        },
        {
          "output_type": "stream",
          "name": "stderr",
          "text": [
            "Epoch 77/85: 100%|██████████| 4/4 [00:00<00:00, 243.16batch/s]\n"
          ]
        },
        {
          "output_type": "stream",
          "name": "stdout",
          "text": [
            "Epoch 77/85, Loss: 0.9872, Accuracy: 0.3250\n",
            "Test Loss: 0.9653, Test Accuracy: 0.3667\n"
          ]
        },
        {
          "output_type": "stream",
          "name": "stderr",
          "text": [
            "Epoch 78/85: 100%|██████████| 4/4 [00:00<00:00, 250.29batch/s]\n"
          ]
        },
        {
          "output_type": "stream",
          "name": "stdout",
          "text": [
            "Epoch 78/85, Loss: 0.9858, Accuracy: 0.3250\n",
            "Test Loss: 0.9623, Test Accuracy: 0.3667\n"
          ]
        },
        {
          "output_type": "stream",
          "name": "stderr",
          "text": [
            "Epoch 79/85: 100%|██████████| 4/4 [00:00<00:00, 239.56batch/s]\n"
          ]
        },
        {
          "output_type": "stream",
          "name": "stdout",
          "text": [
            "Epoch 79/85, Loss: 0.9810, Accuracy: 0.3250\n",
            "Test Loss: 0.9594, Test Accuracy: 0.3667\n"
          ]
        },
        {
          "output_type": "stream",
          "name": "stderr",
          "text": [
            "Epoch 80/85: 100%|██████████| 4/4 [00:00<00:00, 285.23batch/s]\n"
          ]
        },
        {
          "output_type": "stream",
          "name": "stdout",
          "text": [
            "Epoch 80/85, Loss: 0.9768, Accuracy: 0.3250\n",
            "Test Loss: 0.9565, Test Accuracy: 0.3667\n"
          ]
        },
        {
          "output_type": "stream",
          "name": "stderr",
          "text": [
            "Epoch 81/85: 100%|██████████| 4/4 [00:00<00:00, 242.40batch/s]\n"
          ]
        },
        {
          "output_type": "stream",
          "name": "stdout",
          "text": [
            "Epoch 81/85, Loss: 0.9774, Accuracy: 0.3250\n",
            "Test Loss: 0.9536, Test Accuracy: 0.3667\n"
          ]
        },
        {
          "output_type": "stream",
          "name": "stderr",
          "text": [
            "Epoch 82/85: 100%|██████████| 4/4 [00:00<00:00, 221.42batch/s]\n"
          ]
        },
        {
          "output_type": "stream",
          "name": "stdout",
          "text": [
            "Epoch 82/85, Loss: 0.9719, Accuracy: 0.3250\n",
            "Test Loss: 0.9508, Test Accuracy: 0.3667\n"
          ]
        },
        {
          "output_type": "stream",
          "name": "stderr",
          "text": [
            "Epoch 83/85: 100%|██████████| 4/4 [00:00<00:00, 217.15batch/s]\n"
          ]
        },
        {
          "output_type": "stream",
          "name": "stdout",
          "text": [
            "Epoch 83/85, Loss: 0.9729, Accuracy: 0.3250\n",
            "Test Loss: 0.9478, Test Accuracy: 0.3667\n"
          ]
        },
        {
          "output_type": "stream",
          "name": "stderr",
          "text": [
            "Epoch 84/85: 100%|██████████| 4/4 [00:00<00:00, 253.31batch/s]\n"
          ]
        },
        {
          "output_type": "stream",
          "name": "stdout",
          "text": [
            "Epoch 84/85, Loss: 0.9643, Accuracy: 0.3250\n",
            "Test Loss: 0.9449, Test Accuracy: 0.3667\n"
          ]
        },
        {
          "output_type": "stream",
          "name": "stderr",
          "text": [
            "Epoch 85/85: 100%|██████████| 4/4 [00:00<00:00, 246.17batch/s]\n"
          ]
        },
        {
          "output_type": "stream",
          "name": "stdout",
          "text": [
            "Epoch 85/85, Loss: 0.9651, Accuracy: 0.3250\n",
            "Test Loss: 0.9420, Test Accuracy: 0.3667\n"
          ]
        },
        {
          "output_type": "display_data",
          "data": {
            "text/plain": [
              "<Figure size 1500x600 with 2 Axes>"
            ],
            "image/png": "[encoded data removed]"
          },
          "metadata": {}
        },
        {
          "output_type": "stream",
          "name": "stdout",
          "text": [
            "\n",
            "\n",
            " *** Processing wine_quality dataset...\n",
            "Training TabM with Attention...\n"
          ]
        },
        {
          "output_type": "stream",
          "name": "stderr",
          "text": [
            "Epoch 1/45: 100%|██████████| 163/163 [00:01<00:00, 96.43batch/s]\n"
          ]
        },
        {
          "output_type": "stream",
          "name": "stdout",
          "text": [
            "Epoch 1/45, Loss: 4.4106, Accuracy: 0.2888\n",
            "Test Loss: 2.3354, Test Accuracy: 0.3438\n"
          ]
        },
        {
          "output_type": "stream",
          "name": "stderr",
          "text": [
            "Epoch 2/45: 100%|██████████| 163/163 [00:01<00:00, 98.37batch/s]\n"
          ]
        },
        {
          "output_type": "stream",
          "name": "stdout",
          "text": [
            "Epoch 2/45, Loss: 1.8869, Accuracy: 0.3997\n",
            "Test Loss: 1.6930, Test Accuracy: 0.3485\n"
          ]
        },
        {
          "output_type": "stream",
          "name": "stderr",
          "text": [
            "Epoch 3/45: 100%|██████████| 163/163 [00:01<00:00, 99.42batch/s]\n"
          ]
        },
        {
          "output_type": "stream",
          "name": "stdout",
          "text": [
            "Epoch 3/45, Loss: 1.6021, Accuracy: 0.4239\n",
            "Test Loss: 1.5422, Test Accuracy: 0.4508\n"
          ]
        },
        {
          "output_type": "stream",
          "name": "stderr",
          "text": [
            "Epoch 4/45: 100%|██████████| 163/163 [00:01<00:00, 99.21batch/s] \n"
          ]
        },
        {
          "output_type": "stream",
          "name": "stdout",
          "text": [
            "Epoch 4/45, Loss: 1.4789, Accuracy: 0.4383\n",
            "Test Loss: 1.4284, Test Accuracy: 0.4585\n"
          ]
        },
        {
          "output_type": "stream",
          "name": "stderr",
          "text": [
            "Epoch 5/45: 100%|██████████| 163/163 [00:01<00:00, 98.42batch/s]\n"
          ]
        },
        {
          "output_type": "stream",
          "name": "stdout",
          "text": [
            "Epoch 5/45, Loss: 1.4157, Accuracy: 0.4560\n",
            "Test Loss: 1.3378, Test Accuracy: 0.4992\n"
          ]
        },
        {
          "output_type": "stream",
          "name": "stderr",
          "text": [
            "Epoch 6/45: 100%|██████████| 163/163 [00:02<00:00, 76.81batch/s]\n"
          ]
        },
        {
          "output_type": "stream",
          "name": "stdout",
          "text": [
            "Epoch 6/45, Loss: 1.3553, Accuracy: 0.4633\n",
            "Test Loss: 1.3745, Test Accuracy: 0.4654\n"
          ]
        },
        {
          "output_type": "stream",
          "name": "stderr",
          "text": [
            "Epoch 7/45: 100%|██████████| 163/163 [00:01<00:00, 86.47batch/s]\n"
          ]
        },
        {
          "output_type": "stream",
          "name": "stdout",
          "text": [
            "Epoch 7/45, Loss: 1.3116, Accuracy: 0.4837\n",
            "Test Loss: 1.4247, Test Accuracy: 0.4446\n"
          ]
        },
        {
          "output_type": "stream",
          "name": "stderr",
          "text": [
            "Epoch 8/45: 100%|██████████| 163/163 [00:01<00:00, 98.40batch/s]\n"
          ]
        },
        {
          "output_type": "stream",
          "name": "stdout",
          "text": [
            "Epoch 8/45, Loss: 1.3063, Accuracy: 0.4787\n",
            "Test Loss: 1.3761, Test Accuracy: 0.4685\n"
          ]
        },
        {
          "output_type": "stream",
          "name": "stderr",
          "text": [
            "Epoch 9/45: 100%|██████████| 163/163 [00:01<00:00, 98.68batch/s]\n"
          ]
        },
        {
          "output_type": "stream",
          "name": "stdout",
          "text": [
            "Epoch 9/45, Loss: 1.2637, Accuracy: 0.4955\n",
            "Test Loss: 1.2778, Test Accuracy: 0.4669\n"
          ]
        },
        {
          "output_type": "stream",
          "name": "stderr",
          "text": [
            "Epoch 10/45: 100%|██████████| 163/163 [00:01<00:00, 98.73batch/s]\n"
          ]
        },
        {
          "output_type": "stream",
          "name": "stdout",
          "text": [
            "Epoch 10/45, Loss: 1.2619, Accuracy: 0.4853\n",
            "Test Loss: 1.2841, Test Accuracy: 0.4831\n"
          ]
        },
        {
          "output_type": "stream",
          "name": "stderr",
          "text": [
            "Epoch 11/45: 100%|██████████| 163/163 [00:01<00:00, 99.08batch/s] \n"
          ]
        },
        {
          "output_type": "stream",
          "name": "stdout",
          "text": [
            "Epoch 11/45, Loss: 1.2420, Accuracy: 0.4899\n",
            "Test Loss: 1.3120, Test Accuracy: 0.4162\n"
          ]
        },
        {
          "output_type": "stream",
          "name": "stderr",
          "text": [
            "Epoch 12/45: 100%|██████████| 163/163 [00:01<00:00, 95.54batch/s]\n"
          ]
        },
        {
          "output_type": "stream",
          "name": "stdout",
          "text": [
            "Epoch 12/45, Loss: 1.2289, Accuracy: 0.4980\n",
            "Test Loss: 1.2686, Test Accuracy: 0.4177\n"
          ]
        },
        {
          "output_type": "stream",
          "name": "stderr",
          "text": [
            "Epoch 13/45: 100%|██████████| 163/163 [00:02<00:00, 70.41batch/s]\n"
          ]
        },
        {
          "output_type": "stream",
          "name": "stdout",
          "text": [
            "Epoch 13/45, Loss: 1.2225, Accuracy: 0.5003\n",
            "Test Loss: 1.2517, Test Accuracy: 0.4346\n"
          ]
        },
        {
          "output_type": "stream",
          "name": "stderr",
          "text": [
            "Epoch 14/45: 100%|██████████| 163/163 [00:01<00:00, 99.13batch/s]\n"
          ]
        },
        {
          "output_type": "stream",
          "name": "stdout",
          "text": [
            "Epoch 14/45, Loss: 1.2048, Accuracy: 0.5003\n",
            "Test Loss: 1.2472, Test Accuracy: 0.4900\n"
          ]
        },
        {
          "output_type": "stream",
          "name": "stderr",
          "text": [
            "Epoch 15/45: 100%|██████████| 163/163 [00:01<00:00, 98.78batch/s]\n"
          ]
        },
        {
          "output_type": "stream",
          "name": "stdout",
          "text": [
            "Epoch 15/45, Loss: 1.1905, Accuracy: 0.5066\n",
            "Test Loss: 1.2453, Test Accuracy: 0.4423\n"
          ]
        },
        {
          "output_type": "stream",
          "name": "stderr",
          "text": [
            "Epoch 16/45: 100%|██████████| 163/163 [00:01<00:00, 97.30batch/s]\n"
          ]
        },
        {
          "output_type": "stream",
          "name": "stdout",
          "text": [
            "Epoch 16/45, Loss: 1.1778, Accuracy: 0.5113\n",
            "Test Loss: 1.2015, Test Accuracy: 0.4954\n"
          ]
        },
        {
          "output_type": "stream",
          "name": "stderr",
          "text": [
            "Epoch 17/45: 100%|██████████| 163/163 [00:01<00:00, 97.17batch/s]\n"
          ]
        },
        {
          "output_type": "stream",
          "name": "stdout",
          "text": [
            "Epoch 17/45, Loss: 1.1831, Accuracy: 0.5101\n",
            "Test Loss: 1.2206, Test Accuracy: 0.4469\n"
          ]
        },
        {
          "output_type": "stream",
          "name": "stderr",
          "text": [
            "Epoch 18/45: 100%|██████████| 163/163 [00:01<00:00, 99.54batch/s] \n"
          ]
        },
        {
          "output_type": "stream",
          "name": "stdout",
          "text": [
            "Epoch 18/45, Loss: 1.1790, Accuracy: 0.5186\n",
            "Test Loss: 1.1983, Test Accuracy: 0.4546\n"
          ]
        },
        {
          "output_type": "stream",
          "name": "stderr",
          "text": [
            "Epoch 19/45: 100%|██████████| 163/163 [00:01<00:00, 85.19batch/s]\n"
          ]
        },
        {
          "output_type": "stream",
          "name": "stdout",
          "text": [
            "Epoch 19/45, Loss: 1.1599, Accuracy: 0.5120\n",
            "Test Loss: 1.1879, Test Accuracy: 0.4546\n"
          ]
        },
        {
          "output_type": "stream",
          "name": "stderr",
          "text": [
            "Epoch 20/45: 100%|██████████| 163/163 [00:02<00:00, 76.27batch/s]\n"
          ]
        },
        {
          "output_type": "stream",
          "name": "stdout",
          "text": [
            "Epoch 20/45, Loss: 1.1663, Accuracy: 0.5140\n",
            "Test Loss: 1.1842, Test Accuracy: 0.4885\n"
          ]
        },
        {
          "output_type": "stream",
          "name": "stderr",
          "text": [
            "Epoch 21/45: 100%|██████████| 163/163 [00:01<00:00, 97.37batch/s]\n"
          ]
        },
        {
          "output_type": "stream",
          "name": "stdout",
          "text": [
            "Epoch 21/45, Loss: 1.1559, Accuracy: 0.5136\n",
            "Test Loss: 1.1616, Test Accuracy: 0.5023\n"
          ]
        },
        {
          "output_type": "stream",
          "name": "stderr",
          "text": [
            "Epoch 22/45: 100%|██████████| 163/163 [00:01<00:00, 99.36batch/s] \n"
          ]
        },
        {
          "output_type": "stream",
          "name": "stdout",
          "text": [
            "Epoch 22/45, Loss: 1.1398, Accuracy: 0.5136\n",
            "Test Loss: 1.1979, Test Accuracy: 0.4623\n"
          ]
        },
        {
          "output_type": "stream",
          "name": "stderr",
          "text": [
            "Epoch 23/45: 100%|██████████| 163/163 [00:01<00:00, 99.76batch/s]\n"
          ]
        },
        {
          "output_type": "stream",
          "name": "stdout",
          "text": [
            "Epoch 23/45, Loss: 1.1330, Accuracy: 0.5176\n",
            "Test Loss: 1.1998, Test Accuracy: 0.4577\n"
          ]
        },
        {
          "output_type": "stream",
          "name": "stderr",
          "text": [
            "Epoch 24/45: 100%|██████████| 163/163 [00:01<00:00, 99.46batch/s] \n"
          ]
        },
        {
          "output_type": "stream",
          "name": "stdout",
          "text": [
            "Epoch 24/45, Loss: 1.1464, Accuracy: 0.5141\n",
            "Test Loss: 1.1383, Test Accuracy: 0.5131\n"
          ]
        },
        {
          "output_type": "stream",
          "name": "stderr",
          "text": [
            "Epoch 25/45: 100%|██████████| 163/163 [00:01<00:00, 99.13batch/s]\n"
          ]
        },
        {
          "output_type": "stream",
          "name": "stdout",
          "text": [
            "Epoch 25/45, Loss: 1.1259, Accuracy: 0.5230\n",
            "Test Loss: 1.1754, Test Accuracy: 0.4685\n"
          ]
        },
        {
          "output_type": "stream",
          "name": "stderr",
          "text": [
            "Epoch 26/45: 100%|██████████| 163/163 [00:02<00:00, 74.42batch/s]\n"
          ]
        },
        {
          "output_type": "stream",
          "name": "stdout",
          "text": [
            "Epoch 26/45, Loss: 1.1185, Accuracy: 0.5288\n",
            "Test Loss: 1.1405, Test Accuracy: 0.4992\n"
          ]
        },
        {
          "output_type": "stream",
          "name": "stderr",
          "text": [
            "Epoch 27/45: 100%|██████████| 163/163 [00:01<00:00, 86.57batch/s]\n"
          ]
        },
        {
          "output_type": "stream",
          "name": "stdout",
          "text": [
            "Epoch 27/45, Loss: 1.1210, Accuracy: 0.5259\n",
            "Test Loss: 1.1582, Test Accuracy: 0.5054\n"
          ]
        },
        {
          "output_type": "stream",
          "name": "stderr",
          "text": [
            "Epoch 28/45: 100%|██████████| 163/163 [00:01<00:00, 95.57batch/s]\n"
          ]
        },
        {
          "output_type": "stream",
          "name": "stdout",
          "text": [
            "Epoch 28/45, Loss: 1.1205, Accuracy: 0.5270\n",
            "Test Loss: 1.1888, Test Accuracy: 0.4746\n"
          ]
        },
        {
          "output_type": "stream",
          "name": "stderr",
          "text": [
            "Epoch 29/45: 100%|██████████| 163/163 [00:01<00:00, 95.36batch/s]\n"
          ]
        },
        {
          "output_type": "stream",
          "name": "stdout",
          "text": [
            "Epoch 29/45, Loss: 1.1086, Accuracy: 0.5368\n",
            "Test Loss: 1.1741, Test Accuracy: 0.4515\n"
          ]
        },
        {
          "output_type": "stream",
          "name": "stderr",
          "text": [
            "Epoch 30/45: 100%|██████████| 163/163 [00:01<00:00, 98.16batch/s] \n"
          ]
        },
        {
          "output_type": "stream",
          "name": "stdout",
          "text": [
            "Epoch 30/45, Loss: 1.1114, Accuracy: 0.5278\n",
            "Test Loss: 1.1134, Test Accuracy: 0.5300\n"
          ]
        },
        {
          "output_type": "stream",
          "name": "stderr",
          "text": [
            "Epoch 31/45: 100%|██████████| 163/163 [00:01<00:00, 98.77batch/s]\n"
          ]
        },
        {
          "output_type": "stream",
          "name": "stdout",
          "text": [
            "Epoch 31/45, Loss: 1.0905, Accuracy: 0.5424\n",
            "Test Loss: 1.1508, Test Accuracy: 0.5038\n"
          ]
        },
        {
          "output_type": "stream",
          "name": "stderr",
          "text": [
            "Epoch 32/45: 100%|██████████| 163/163 [00:01<00:00, 92.36batch/s]\n"
          ]
        },
        {
          "output_type": "stream",
          "name": "stdout",
          "text": [
            "Epoch 32/45, Loss: 1.1008, Accuracy: 0.5397\n",
            "Test Loss: 1.1794, Test Accuracy: 0.4877\n"
          ]
        },
        {
          "output_type": "stream",
          "name": "stderr",
          "text": [
            "Epoch 33/45: 100%|██████████| 163/163 [00:02<00:00, 66.28batch/s]\n"
          ]
        },
        {
          "output_type": "stream",
          "name": "stdout",
          "text": [
            "Epoch 33/45, Loss: 1.0991, Accuracy: 0.5417\n",
            "Test Loss: 1.1472, Test Accuracy: 0.4962\n"
          ]
        },
        {
          "output_type": "stream",
          "name": "stderr",
          "text": [
            "Epoch 34/45: 100%|██████████| 163/163 [00:02<00:00, 70.85batch/s]\n"
          ]
        },
        {
          "output_type": "stream",
          "name": "stdout",
          "text": [
            "Epoch 34/45, Loss: 1.0844, Accuracy: 0.5336\n",
            "Test Loss: 1.1261, Test Accuracy: 0.5138\n"
          ]
        },
        {
          "output_type": "stream",
          "name": "stderr",
          "text": [
            "Epoch 35/45: 100%|██████████| 163/163 [00:01<00:00, 98.22batch/s]\n"
          ]
        },
        {
          "output_type": "stream",
          "name": "stdout",
          "text": [
            "Epoch 35/45, Loss: 1.0716, Accuracy: 0.5428\n",
            "Test Loss: 1.1302, Test Accuracy: 0.5023\n"
          ]
        },
        {
          "output_type": "stream",
          "name": "stderr",
          "text": [
            "Epoch 36/45: 100%|██████████| 163/163 [00:01<00:00, 98.34batch/s]\n"
          ]
        },
        {
          "output_type": "stream",
          "name": "stdout",
          "text": [
            "Epoch 36/45, Loss: 1.0716, Accuracy: 0.5417\n",
            "Test Loss: 1.1484, Test Accuracy: 0.4900\n"
          ]
        },
        {
          "output_type": "stream",
          "name": "stderr",
          "text": [
            "Epoch 37/45: 100%|██████████| 163/163 [00:01<00:00, 100.11batch/s]\n"
          ]
        },
        {
          "output_type": "stream",
          "name": "stdout",
          "text": [
            "Epoch 37/45, Loss: 1.0803, Accuracy: 0.5449\n",
            "Test Loss: 1.1751, Test Accuracy: 0.4608\n"
          ]
        },
        {
          "output_type": "stream",
          "name": "stderr",
          "text": [
            "Epoch 38/45: 100%|██████████| 163/163 [00:01<00:00, 97.56batch/s]\n"
          ]
        },
        {
          "output_type": "stream",
          "name": "stdout",
          "text": [
            "Epoch 38/45, Loss: 1.0671, Accuracy: 0.5453\n",
            "Test Loss: 1.1193, Test Accuracy: 0.5246\n"
          ]
        },
        {
          "output_type": "stream",
          "name": "stderr",
          "text": [
            "Epoch 39/45: 100%|██████████| 163/163 [00:02<00:00, 72.79batch/s]\n"
          ]
        },
        {
          "output_type": "stream",
          "name": "stdout",
          "text": [
            "Epoch 39/45, Loss: 1.0669, Accuracy: 0.5451\n",
            "Test Loss: 1.1160, Test Accuracy: 0.5208\n"
          ]
        },
        {
          "output_type": "stream",
          "name": "stderr",
          "text": [
            "Epoch 40/45: 100%|██████████| 163/163 [00:01<00:00, 87.99batch/s]\n"
          ]
        },
        {
          "output_type": "stream",
          "name": "stdout",
          "text": [
            "Epoch 40/45, Loss: 1.0715, Accuracy: 0.5440\n",
            "Test Loss: 1.1365, Test Accuracy: 0.4800\n"
          ]
        },
        {
          "output_type": "stream",
          "name": "stderr",
          "text": [
            "Epoch 41/45: 100%|██████████| 163/163 [00:01<00:00, 98.66batch/s]\n"
          ]
        },
        {
          "output_type": "stream",
          "name": "stdout",
          "text": [
            "Epoch 41/45, Loss: 1.0646, Accuracy: 0.5482\n",
            "Test Loss: 1.1146, Test Accuracy: 0.5085\n"
          ]
        },
        {
          "output_type": "stream",
          "name": "stderr",
          "text": [
            "Epoch 42/45: 100%|██████████| 163/163 [00:01<00:00, 98.54batch/s]\n"
          ]
        },
        {
          "output_type": "stream",
          "name": "stdout",
          "text": [
            "Epoch 42/45, Loss: 1.0607, Accuracy: 0.5411\n",
            "Test Loss: 1.1461, Test Accuracy: 0.4854\n"
          ]
        },
        {
          "output_type": "stream",
          "name": "stderr",
          "text": [
            "Epoch 43/45: 100%|██████████| 163/163 [00:01<00:00, 98.39batch/s]\n"
          ]
        },
        {
          "output_type": "stream",
          "name": "stdout",
          "text": [
            "Epoch 43/45, Loss: 1.0575, Accuracy: 0.5422\n",
            "Test Loss: 1.1104, Test Accuracy: 0.5185\n"
          ]
        },
        {
          "output_type": "stream",
          "name": "stderr",
          "text": [
            "Epoch 44/45: 100%|██████████| 163/163 [00:01<00:00, 98.63batch/s]\n"
          ]
        },
        {
          "output_type": "stream",
          "name": "stdout",
          "text": [
            "Epoch 44/45, Loss: 1.0567, Accuracy: 0.5419\n",
            "Test Loss: 1.1241, Test Accuracy: 0.5077\n"
          ]
        },
        {
          "output_type": "stream",
          "name": "stderr",
          "text": [
            "Epoch 45/45: 100%|██████████| 163/163 [00:01<00:00, 89.43batch/s]\n"
          ]
        },
        {
          "output_type": "stream",
          "name": "stdout",
          "text": [
            "Epoch 45/45, Loss: 1.0431, Accuracy: 0.5563\n",
            "Test Loss: 1.0993, Test Accuracy: 0.5162\n",
            "Training Baseline MLP...\n"
          ]
        },
        {
          "output_type": "stream",
          "name": "stderr",
          "text": [
            "Epoch 1/45: 100%|██████████| 163/163 [00:00<00:00, 337.04batch/s]\n"
          ]
        },
        {
          "output_type": "stream",
          "name": "stdout",
          "text": [
            "Epoch 1/45, Loss: 1.7986, Accuracy: 0.1970\n",
            "Test Loss: 1.7861, Test Accuracy: 0.2823\n"
          ]
        },
        {
          "output_type": "stream",
          "name": "stderr",
          "text": [
            "Epoch 2/45: 100%|██████████| 163/163 [00:00<00:00, 304.98batch/s]\n"
          ]
        },
        {
          "output_type": "stream",
          "name": "stdout",
          "text": [
            "Epoch 2/45, Loss: 1.7688, Accuracy: 0.3544\n",
            "Test Loss: 1.7481, Test Accuracy: 0.3423\n"
          ]
        },
        {
          "output_type": "stream",
          "name": "stderr",
          "text": [
            "Epoch 3/45: 100%|██████████| 163/163 [00:00<00:00, 305.57batch/s]\n"
          ]
        },
        {
          "output_type": "stream",
          "name": "stdout",
          "text": [
            "Epoch 3/45, Loss: 1.7058, Accuracy: 0.3304\n",
            "Test Loss: 1.6522, Test Accuracy: 0.3292\n"
          ]
        },
        {
          "output_type": "stream",
          "name": "stderr",
          "text": [
            "Epoch 4/45: 100%|██████████| 163/163 [00:00<00:00, 318.82batch/s]\n"
          ]
        },
        {
          "output_type": "stream",
          "name": "stdout",
          "text": [
            "Epoch 4/45, Loss: 1.5765, Accuracy: 0.3298\n",
            "Test Loss: 1.5085, Test Accuracy: 0.3377\n"
          ]
        },
        {
          "output_type": "stream",
          "name": "stderr",
          "text": [
            "Epoch 5/45: 100%|██████████| 163/163 [00:00<00:00, 312.83batch/s]\n"
          ]
        },
        {
          "output_type": "stream",
          "name": "stdout",
          "text": [
            "Epoch 5/45, Loss: 1.4320, Accuracy: 0.4022\n",
            "Test Loss: 1.3762, Test Accuracy: 0.4638\n"
          ]
        },
        {
          "output_type": "stream",
          "name": "stderr",
          "text": [
            "Epoch 6/45: 100%|██████████| 163/163 [00:00<00:00, 420.91batch/s]\n"
          ]
        },
        {
          "output_type": "stream",
          "name": "stdout",
          "text": [
            "Epoch 6/45, Loss: 1.3205, Accuracy: 0.4909\n",
            "Test Loss: 1.2808, Test Accuracy: 0.5154\n"
          ]
        },
        {
          "output_type": "stream",
          "name": "stderr",
          "text": [
            "Epoch 7/45: 100%|██████████| 163/163 [00:00<00:00, 416.67batch/s]\n"
          ]
        },
        {
          "output_type": "stream",
          "name": "stdout",
          "text": [
            "Epoch 7/45, Loss: 1.2341, Accuracy: 0.5253\n",
            "Test Loss: 1.2203, Test Accuracy: 0.5362\n"
          ]
        },
        {
          "output_type": "stream",
          "name": "stderr",
          "text": [
            "Epoch 8/45: 100%|██████████| 163/163 [00:00<00:00, 415.88batch/s]\n"
          ]
        },
        {
          "output_type": "stream",
          "name": "stdout",
          "text": [
            "Epoch 8/45, Loss: 1.1877, Accuracy: 0.5370\n",
            "Test Loss: 1.1930, Test Accuracy: 0.5277\n"
          ]
        },
        {
          "output_type": "stream",
          "name": "stderr",
          "text": [
            "Epoch 9/45: 100%|██████████| 163/163 [00:00<00:00, 410.24batch/s]\n"
          ]
        },
        {
          "output_type": "stream",
          "name": "stdout",
          "text": [
            "Epoch 9/45, Loss: 1.1647, Accuracy: 0.5436\n",
            "Test Loss: 1.1785, Test Accuracy: 0.5269\n"
          ]
        },
        {
          "output_type": "stream",
          "name": "stderr",
          "text": [
            "Epoch 10/45: 100%|██████████| 163/163 [00:00<00:00, 419.88batch/s]\n"
          ]
        },
        {
          "output_type": "stream",
          "name": "stdout",
          "text": [
            "Epoch 10/45, Loss: 1.1526, Accuracy: 0.5457\n",
            "Test Loss: 1.1687, Test Accuracy: 0.5354\n"
          ]
        },
        {
          "output_type": "stream",
          "name": "stderr",
          "text": [
            "Epoch 11/45: 100%|██████████| 163/163 [00:00<00:00, 409.11batch/s]\n"
          ]
        },
        {
          "output_type": "stream",
          "name": "stdout",
          "text": [
            "Epoch 11/45, Loss: 1.1427, Accuracy: 0.5499\n",
            "Test Loss: 1.1621, Test Accuracy: 0.5323\n"
          ]
        },
        {
          "output_type": "stream",
          "name": "stderr",
          "text": [
            "Epoch 12/45: 100%|██████████| 163/163 [00:00<00:00, 413.00batch/s]\n"
          ]
        },
        {
          "output_type": "stream",
          "name": "stdout",
          "text": [
            "Epoch 12/45, Loss: 1.1346, Accuracy: 0.5540\n",
            "Test Loss: 1.1549, Test Accuracy: 0.5415\n"
          ]
        },
        {
          "output_type": "stream",
          "name": "stderr",
          "text": [
            "Epoch 13/45: 100%|██████████| 163/163 [00:00<00:00, 419.55batch/s]\n"
          ]
        },
        {
          "output_type": "stream",
          "name": "stdout",
          "text": [
            "Epoch 13/45, Loss: 1.1285, Accuracy: 0.5494\n",
            "Test Loss: 1.1507, Test Accuracy: 0.5277\n"
          ]
        },
        {
          "output_type": "stream",
          "name": "stderr",
          "text": [
            "Epoch 14/45: 100%|██████████| 163/163 [00:00<00:00, 401.16batch/s]\n"
          ]
        },
        {
          "output_type": "stream",
          "name": "stdout",
          "text": [
            "Epoch 14/45, Loss: 1.1222, Accuracy: 0.5515\n",
            "Test Loss: 1.1456, Test Accuracy: 0.5369\n"
          ]
        },
        {
          "output_type": "stream",
          "name": "stderr",
          "text": [
            "Epoch 15/45: 100%|██████████| 163/163 [00:00<00:00, 417.88batch/s]\n"
          ]
        },
        {
          "output_type": "stream",
          "name": "stdout",
          "text": [
            "Epoch 15/45, Loss: 1.1203, Accuracy: 0.5524\n",
            "Test Loss: 1.1402, Test Accuracy: 0.5346\n"
          ]
        },
        {
          "output_type": "stream",
          "name": "stderr",
          "text": [
            "Epoch 16/45: 100%|██████████| 163/163 [00:00<00:00, 409.97batch/s]\n"
          ]
        },
        {
          "output_type": "stream",
          "name": "stdout",
          "text": [
            "Epoch 16/45, Loss: 1.1139, Accuracy: 0.5520\n",
            "Test Loss: 1.1364, Test Accuracy: 0.5354\n"
          ]
        },
        {
          "output_type": "stream",
          "name": "stderr",
          "text": [
            "Epoch 17/45: 100%|██████████| 163/163 [00:00<00:00, 406.40batch/s]\n"
          ]
        },
        {
          "output_type": "stream",
          "name": "stdout",
          "text": [
            "Epoch 17/45, Loss: 1.1096, Accuracy: 0.5549\n",
            "Test Loss: 1.1370, Test Accuracy: 0.5315\n"
          ]
        },
        {
          "output_type": "stream",
          "name": "stderr",
          "text": [
            "Epoch 18/45: 100%|██████████| 163/163 [00:00<00:00, 411.64batch/s]\n"
          ]
        },
        {
          "output_type": "stream",
          "name": "stdout",
          "text": [
            "Epoch 18/45, Loss: 1.1050, Accuracy: 0.5542\n",
            "Test Loss: 1.1296, Test Accuracy: 0.5400\n"
          ]
        },
        {
          "output_type": "stream",
          "name": "stderr",
          "text": [
            "Epoch 19/45: 100%|██████████| 163/163 [00:00<00:00, 409.00batch/s]\n"
          ]
        },
        {
          "output_type": "stream",
          "name": "stdout",
          "text": [
            "Epoch 19/45, Loss: 1.1028, Accuracy: 0.5584\n",
            "Test Loss: 1.1270, Test Accuracy: 0.5385\n"
          ]
        },
        {
          "output_type": "stream",
          "name": "stderr",
          "text": [
            "Epoch 20/45: 100%|██████████| 163/163 [00:00<00:00, 403.87batch/s]\n"
          ]
        },
        {
          "output_type": "stream",
          "name": "stdout",
          "text": [
            "Epoch 20/45, Loss: 1.1014, Accuracy: 0.5567\n",
            "Test Loss: 1.1249, Test Accuracy: 0.5369\n"
          ]
        },
        {
          "output_type": "stream",
          "name": "stderr",
          "text": [
            "Epoch 21/45: 100%|██████████| 163/163 [00:00<00:00, 390.47batch/s]\n"
          ]
        },
        {
          "output_type": "stream",
          "name": "stdout",
          "text": [
            "Epoch 21/45, Loss: 1.0963, Accuracy: 0.5565\n",
            "Test Loss: 1.1210, Test Accuracy: 0.5423\n"
          ]
        },
        {
          "output_type": "stream",
          "name": "stderr",
          "text": [
            "Epoch 22/45: 100%|██████████| 163/163 [00:00<00:00, 422.39batch/s]\n"
          ]
        },
        {
          "output_type": "stream",
          "name": "stdout",
          "text": [
            "Epoch 22/45, Loss: 1.0959, Accuracy: 0.5557\n",
            "Test Loss: 1.1186, Test Accuracy: 0.5400\n"
          ]
        },
        {
          "output_type": "stream",
          "name": "stderr",
          "text": [
            "Epoch 23/45: 100%|██████████| 163/163 [00:00<00:00, 409.19batch/s]\n"
          ]
        },
        {
          "output_type": "stream",
          "name": "stdout",
          "text": [
            "Epoch 23/45, Loss: 1.0908, Accuracy: 0.5584\n",
            "Test Loss: 1.1163, Test Accuracy: 0.5377\n"
          ]
        },
        {
          "output_type": "stream",
          "name": "stderr",
          "text": [
            "Epoch 24/45: 100%|██████████| 163/163 [00:00<00:00, 414.12batch/s]\n"
          ]
        },
        {
          "output_type": "stream",
          "name": "stdout",
          "text": [
            "Epoch 24/45, Loss: 1.0911, Accuracy: 0.5601\n",
            "Test Loss: 1.1138, Test Accuracy: 0.5446\n"
          ]
        },
        {
          "output_type": "stream",
          "name": "stderr",
          "text": [
            "Epoch 25/45: 100%|██████████| 163/163 [00:00<00:00, 404.28batch/s]\n"
          ]
        },
        {
          "output_type": "stream",
          "name": "stdout",
          "text": [
            "Epoch 25/45, Loss: 1.0866, Accuracy: 0.5619\n",
            "Test Loss: 1.1114, Test Accuracy: 0.5485\n"
          ]
        },
        {
          "output_type": "stream",
          "name": "stderr",
          "text": [
            "Epoch 26/45: 100%|██████████| 163/163 [00:00<00:00, 406.71batch/s]\n"
          ]
        },
        {
          "output_type": "stream",
          "name": "stdout",
          "text": [
            "Epoch 26/45, Loss: 1.0874, Accuracy: 0.5626\n",
            "Test Loss: 1.1098, Test Accuracy: 0.5446\n"
          ]
        },
        {
          "output_type": "stream",
          "name": "stderr",
          "text": [
            "Epoch 27/45: 100%|██████████| 163/163 [00:00<00:00, 407.27batch/s]\n"
          ]
        },
        {
          "output_type": "stream",
          "name": "stdout",
          "text": [
            "Epoch 27/45, Loss: 1.0806, Accuracy: 0.5661\n",
            "Test Loss: 1.1084, Test Accuracy: 0.5431\n"
          ]
        },
        {
          "output_type": "stream",
          "name": "stderr",
          "text": [
            "Epoch 28/45: 100%|██████████| 163/163 [00:00<00:00, 321.23batch/s]\n"
          ]
        },
        {
          "output_type": "stream",
          "name": "stdout",
          "text": [
            "Epoch 28/45, Loss: 1.0800, Accuracy: 0.5647\n",
            "Test Loss: 1.1078, Test Accuracy: 0.5377\n"
          ]
        },
        {
          "output_type": "stream",
          "name": "stderr",
          "text": [
            "Epoch 29/45: 100%|██████████| 163/163 [00:00<00:00, 330.66batch/s]\n"
          ]
        },
        {
          "output_type": "stream",
          "name": "stdout",
          "text": [
            "Epoch 29/45, Loss: 1.0771, Accuracy: 0.5642\n",
            "Test Loss: 1.1039, Test Accuracy: 0.5462\n"
          ]
        },
        {
          "output_type": "stream",
          "name": "stderr",
          "text": [
            "Epoch 30/45: 100%|██████████| 163/163 [00:00<00:00, 323.28batch/s]\n"
          ]
        },
        {
          "output_type": "stream",
          "name": "stdout",
          "text": [
            "Epoch 30/45, Loss: 1.0741, Accuracy: 0.5644\n",
            "Test Loss: 1.1012, Test Accuracy: 0.5492\n"
          ]
        },
        {
          "output_type": "stream",
          "name": "stderr",
          "text": [
            "Epoch 31/45: 100%|██████████| 163/163 [00:00<00:00, 295.90batch/s]\n"
          ]
        },
        {
          "output_type": "stream",
          "name": "stdout",
          "text": [
            "Epoch 31/45, Loss: 1.0744, Accuracy: 0.5640\n",
            "Test Loss: 1.1000, Test Accuracy: 0.5469\n"
          ]
        },
        {
          "output_type": "stream",
          "name": "stderr",
          "text": [
            "Epoch 32/45: 100%|██████████| 163/163 [00:00<00:00, 316.89batch/s]\n"
          ]
        },
        {
          "output_type": "stream",
          "name": "stdout",
          "text": [
            "Epoch 32/45, Loss: 1.0714, Accuracy: 0.5634\n",
            "Test Loss: 1.0977, Test Accuracy: 0.5515\n"
          ]
        },
        {
          "output_type": "stream",
          "name": "stderr",
          "text": [
            "Epoch 33/45: 100%|██████████| 163/163 [00:00<00:00, 320.77batch/s]\n"
          ]
        },
        {
          "output_type": "stream",
          "name": "stdout",
          "text": [
            "Epoch 33/45, Loss: 1.0684, Accuracy: 0.5642\n",
            "Test Loss: 1.0962, Test Accuracy: 0.5531\n"
          ]
        },
        {
          "output_type": "stream",
          "name": "stderr",
          "text": [
            "Epoch 34/45: 100%|██████████| 163/163 [00:00<00:00, 415.56batch/s]\n"
          ]
        },
        {
          "output_type": "stream",
          "name": "stdout",
          "text": [
            "Epoch 34/45, Loss: 1.0672, Accuracy: 0.5655\n",
            "Test Loss: 1.0959, Test Accuracy: 0.5485\n"
          ]
        },
        {
          "output_type": "stream",
          "name": "stderr",
          "text": [
            "Epoch 35/45: 100%|██████████| 163/163 [00:00<00:00, 410.09batch/s]\n"
          ]
        },
        {
          "output_type": "stream",
          "name": "stdout",
          "text": [
            "Epoch 35/45, Loss: 1.0658, Accuracy: 0.5667\n",
            "Test Loss: 1.0935, Test Accuracy: 0.5508\n"
          ]
        },
        {
          "output_type": "stream",
          "name": "stderr",
          "text": [
            "Epoch 36/45: 100%|██████████| 163/163 [00:00<00:00, 428.69batch/s]\n"
          ]
        },
        {
          "output_type": "stream",
          "name": "stdout",
          "text": [
            "Epoch 36/45, Loss: 1.0633, Accuracy: 0.5669\n",
            "Test Loss: 1.0931, Test Accuracy: 0.5500\n"
          ]
        },
        {
          "output_type": "stream",
          "name": "stderr",
          "text": [
            "Epoch 37/45: 100%|██████████| 163/163 [00:00<00:00, 424.74batch/s]\n"
          ]
        },
        {
          "output_type": "stream",
          "name": "stdout",
          "text": [
            "Epoch 37/45, Loss: 1.0624, Accuracy: 0.5647\n",
            "Test Loss: 1.0908, Test Accuracy: 0.5508\n"
          ]
        },
        {
          "output_type": "stream",
          "name": "stderr",
          "text": [
            "Epoch 38/45: 100%|██████████| 163/163 [00:00<00:00, 428.42batch/s]\n"
          ]
        },
        {
          "output_type": "stream",
          "name": "stdout",
          "text": [
            "Epoch 38/45, Loss: 1.0615, Accuracy: 0.5642\n",
            "Test Loss: 1.0889, Test Accuracy: 0.5485\n"
          ]
        },
        {
          "output_type": "stream",
          "name": "stderr",
          "text": [
            "Epoch 39/45: 100%|██████████| 163/163 [00:00<00:00, 427.04batch/s]\n"
          ]
        },
        {
          "output_type": "stream",
          "name": "stdout",
          "text": [
            "Epoch 39/45, Loss: 1.0592, Accuracy: 0.5655\n",
            "Test Loss: 1.0880, Test Accuracy: 0.5562\n"
          ]
        },
        {
          "output_type": "stream",
          "name": "stderr",
          "text": [
            "Epoch 40/45: 100%|██████████| 163/163 [00:00<00:00, 423.16batch/s]\n"
          ]
        },
        {
          "output_type": "stream",
          "name": "stdout",
          "text": [
            "Epoch 40/45, Loss: 1.0581, Accuracy: 0.5669\n",
            "Test Loss: 1.0861, Test Accuracy: 0.5523\n"
          ]
        },
        {
          "output_type": "stream",
          "name": "stderr",
          "text": [
            "Epoch 41/45: 100%|██████████| 163/163 [00:00<00:00, 425.97batch/s]\n"
          ]
        },
        {
          "output_type": "stream",
          "name": "stdout",
          "text": [
            "Epoch 41/45, Loss: 1.0574, Accuracy: 0.5653\n",
            "Test Loss: 1.0851, Test Accuracy: 0.5508\n"
          ]
        },
        {
          "output_type": "stream",
          "name": "stderr",
          "text": [
            "Epoch 42/45: 100%|██████████| 163/163 [00:00<00:00, 413.43batch/s]\n"
          ]
        },
        {
          "output_type": "stream",
          "name": "stdout",
          "text": [
            "Epoch 42/45, Loss: 1.0547, Accuracy: 0.5661\n",
            "Test Loss: 1.0847, Test Accuracy: 0.5546\n"
          ]
        },
        {
          "output_type": "stream",
          "name": "stderr",
          "text": [
            "Epoch 43/45: 100%|██████████| 163/163 [00:00<00:00, 421.78batch/s]\n"
          ]
        },
        {
          "output_type": "stream",
          "name": "stdout",
          "text": [
            "Epoch 43/45, Loss: 1.0535, Accuracy: 0.5684\n",
            "Test Loss: 1.0828, Test Accuracy: 0.5546\n"
          ]
        },
        {
          "output_type": "stream",
          "name": "stderr",
          "text": [
            "Epoch 44/45: 100%|██████████| 163/163 [00:00<00:00, 414.66batch/s]\n"
          ]
        },
        {
          "output_type": "stream",
          "name": "stdout",
          "text": [
            "Epoch 44/45, Loss: 1.0533, Accuracy: 0.5682\n",
            "Test Loss: 1.0821, Test Accuracy: 0.5538\n"
          ]
        },
        {
          "output_type": "stream",
          "name": "stderr",
          "text": [
            "Epoch 45/45: 100%|██████████| 163/163 [00:00<00:00, 415.08batch/s]\n"
          ]
        },
        {
          "output_type": "stream",
          "name": "stdout",
          "text": [
            "Epoch 45/45, Loss: 1.0513, Accuracy: 0.5698\n",
            "Test Loss: 1.0820, Test Accuracy: 0.5538\n"
          ]
        },
        {
          "output_type": "display_data",
          "data": {
            "text/plain": [
              "<Figure size 1500x600 with 2 Axes>"
            ],
            "image/png": "[encoded data removed]"
          },
          "metadata": {}
        }
      ],
      "source": [
        "import torch\n",
        "import torch.nn as nn\n",
        "from torch.utils.data import DataLoader, TensorDataset\n",
        "from torch.utils.tensorboard import SummaryWriter\n",
        "from tqdm import tqdm\n",
        "from sklearn.datasets import load_breast_cancer, fetch_openml, fetch_california_housing, load_iris\n",
        "from ucimlrepo import fetch_ucirepo\n",
        "from sklearn.model_selection import train_test_split\n",
        "from sklearn.preprocessing import StandardScaler, LabelEncoder\n",
        "import pandas as pd\n",
        "import numpy as np\n",
        "import matplotlib.pyplot as plt\n",
        "from IPython import display\n",
        "\n",
        "#***************************************************** MODELS ***************************************************************#\n",
        "# ===== LAYERS =====\n",
        "\n",
        "class linear_BE(nn.Module):\n",
        "    def __init__(self, in_features: int, out_features: int, k=32, dropout_rate=0.1, initialize_to_1=False):\n",
        "        super().__init__()\n",
        "        self.in_features = in_features\n",
        "        self.out_features = out_features\n",
        "        self.k = k\n",
        "\n",
        "        if initialize_to_1:  # For TabM\n",
        "            self.R = nn.Parameter(torch.ones(k, in_features))\n",
        "            self.S = nn.Parameter(torch.ones(k, out_features))\n",
        "        else:\n",
        "            # Paper generates randomly with +-1\n",
        "            self.R = nn.Parameter(torch.zeros((k, in_features)))\n",
        "            nn.init.uniform_(self.R, -1, 1)\n",
        "            self.S = nn.Parameter(torch.zeros((k, out_features)))\n",
        "            nn.init.uniform_(self.S, -1, 1)\n",
        "\n",
        "        self.W = nn.Parameter(torch.zeros((in_features, out_features)))\n",
        "        nn.init.uniform_(self.W, -1, 1)\n",
        "        self.B = nn.Parameter(torch.zeros((k, out_features)))\n",
        "        nn.init.uniform_(self.B, -1, 1)\n",
        "\n",
        "        self.relu = nn.ReLU()\n",
        "        self.dropout = nn.Dropout(dropout_rate)\n",
        "\n",
        "    def forward(self, X: torch.Tensor):\n",
        "        \"\"\"\n",
        "        Shapes:\n",
        "\n",
        "        X: (batch_size, k, in_features)\n",
        "        R: (k, in_features)\n",
        "        W: (in_features, out_features)\n",
        "        S: (k, out_features)\n",
        "        B: (k, out_features)\n",
        "        output: (batch_size, k, out_features)\n",
        "\n",
        "        Formula:\n",
        "        output = ( (X * R) W) * S + B\n",
        "        \"\"\"\n",
        "        output = X * self.R\n",
        "\n",
        "        output = torch.einsum(\"bki,io->bko\", output, self.W)\n",
        "        output = output * self.S + self.B\n",
        "        output = self.relu(output)\n",
        "        output = self.dropout(output)\n",
        "\n",
        "        return output\n",
        "\n",
        "    def extra_repr(self):\n",
        "        \"\"\"\n",
        "        Adds information about the layer to its string representation (useful when printing the model)\n",
        "        \"\"\"\n",
        "        return f\"in_features={self.in_features}, out_features={self.out_features}\"\n",
        "\n",
        "\n",
        "class MLP_layer(nn.Module):\n",
        "    def __init__(self, in_features: int, out_features: int, dropout_rate=0.1):\n",
        "        super().__init__()\n",
        "        self.in_features = in_features\n",
        "        self.out_features = out_features\n",
        "\n",
        "        self.linear = nn.Linear(in_features, out_features)\n",
        "        self.relu = nn.ReLU()\n",
        "        self.dropout = nn.Dropout(dropout_rate)\n",
        "\n",
        "    def forward(self, X: torch.Tensor):\n",
        "        output = self.linear(X)\n",
        "        output = self.relu(output)\n",
        "        output = self.dropout(output)\n",
        "\n",
        "        return output\n",
        "\n",
        "    def extra_repr(self):\n",
        "        return f\"in_features={self.in_features}, out_features={self.out_features}\"\n",
        "\n",
        "\n",
        "class MLPk_layer(nn.Module):\n",
        "    def __init__(self, in_features: int, out_features: int, k=32, dropout_rate=0.1):\n",
        "        super().__init__()\n",
        "        self.in_features = in_features\n",
        "        self.out_features = out_features\n",
        "\n",
        "        self.W = nn.Parameter(torch.zeros((k, in_features, out_features)))\n",
        "        nn.init.uniform_(self.W, -1, 1)\n",
        "        self.B = nn.Parameter(torch.zeros((k, out_features)))\n",
        "        nn.init.uniform_(self.B, -1, 1)\n",
        "\n",
        "        self.relu = nn.ReLU()\n",
        "        self.dropout = nn.Dropout(dropout_rate)\n",
        "\n",
        "    def forward(self, X: torch.Tensor):\n",
        "        \"\"\"\n",
        "        Shapes:\n",
        "\n",
        "        X: (batch_size, k, in_features)\n",
        "        W: (k, in_features, out_features)\n",
        "        B: (k, out_features)\n",
        "        output: (batch_size, k, out_features)\n",
        "\n",
        "        Formula:\n",
        "        output = X @ W + B\n",
        "        \"\"\"\n",
        "        output = torch.einsum(\"bki,kio->bko\", X, self.W)\n",
        "        output = output + self.B\n",
        "\n",
        "        output = self.relu(output)\n",
        "        output = self.dropout(output)\n",
        "\n",
        "        return output\n",
        "\n",
        "    def extra_repr(self):\n",
        "        return f\"in_features={self.in_features}, out_features={self.out_features}\"\n",
        "\n",
        "\n",
        "# ===== BACKBONES =====\n",
        "\n",
        "\n",
        "class TabM_naive(nn.Module):\n",
        "    def __init__(self, in_features: int, hidden_sizes: int, k=32, dropout_rate=0.1):\n",
        "        super().__init__()\n",
        "\n",
        "        self.in_features = in_features\n",
        "        self.hidden_sizes = hidden_sizes\n",
        "        self.k = k\n",
        "\n",
        "        layer_sizes = [in_features] + hidden_sizes\n",
        "\n",
        "        layers = [linear_BE(layer_sizes[i], layer_sizes[i+1], k, dropout_rate) for i in range(len(layer_sizes)-1)]\n",
        "\n",
        "        self.layers = nn.Sequential(*layers)\n",
        "\n",
        "    def forward(self, X: torch.Tensor):\n",
        "        return self.layers(X)\n",
        "\n",
        "\n",
        "class TabM_mini(nn.Module):\n",
        "    def __init__(self, in_features: int, hidden_sizes: int, k=32, dropout_rate=0.1):\n",
        "        super().__init__()\n",
        "\n",
        "        self.k = k\n",
        "\n",
        "        self.R = nn.Parameter(torch.randn(k, in_features))\n",
        "\n",
        "        layer_sizes = [in_features] + hidden_sizes\n",
        "\n",
        "        layers = [MLP_layer(layer_sizes[i], layer_sizes[i+1], dropout_rate) for i in range(len(layer_sizes)-1)]\n",
        "\n",
        "        self.layers = nn.Sequential(*layers)\n",
        "\n",
        "    def forward(self, X: torch.Tensor):\n",
        "        output = X * self.R\n",
        "        return self.layers(output)\n",
        "\n",
        "\n",
        "class TabM(nn.Module):\n",
        "    def __init__(self, in_features: int, hidden_sizes: int, k=32, dropout_rate=0.1):\n",
        "        super().__init__()\n",
        "\n",
        "        self.k = k\n",
        "\n",
        "        layer_sizes = [in_features] + hidden_sizes\n",
        "\n",
        "        layers = [linear_BE(layer_sizes[i], layer_sizes[i+1], k, dropout_rate, initialize_to_1=True) for i in range(len(layer_sizes)-1)]\n",
        "\n",
        "        self.layers = nn.Sequential(*layers)\n",
        "\n",
        "    def forward(self, X: torch.Tensor):\n",
        "        return self.layers(X)\n",
        "\n",
        "\n",
        "class MLPk(nn.Module):\n",
        "    def __init__(self, in_features: int, hidden_sizes: int, k=32, dropout_rate=0.1):\n",
        "        super().__init__()\n",
        "\n",
        "        layer_sizes = [in_features] + hidden_sizes\n",
        "\n",
        "        layers = [MLPk_layer(layer_sizes[i], layer_sizes[i+1], k, dropout_rate) for i in range(len(layer_sizes)-1)]\n",
        "\n",
        "        self.layers = nn.Sequential(*layers)\n",
        "\n",
        "    def forward(self, X: torch.Tensor):\n",
        "        return self.layers(X)\n",
        "\n",
        "# ===== MODELS =====\n",
        "\n",
        "\n",
        "class MLP(nn.Module):\n",
        "    \"\"\"\n",
        "    Simple MLP model\n",
        "    \"\"\"\n",
        "\n",
        "    def __init__(self, in_features: int, hidden_sizes: int, out_features: int, dropout_rate=0.1):\n",
        "        super().__init__()\n",
        "\n",
        "        self.in_features = in_features\n",
        "        self.out_features = out_features\n",
        "\n",
        "        layer_sizes = [in_features] + hidden_sizes + [out_features]\n",
        "\n",
        "        layers = [*[MLP_layer(layer_sizes[i], layer_sizes[i+1], dropout_rate) for i in range(len(layer_sizes)-1)],\n",
        "                  nn.Linear(layer_sizes[-1], out_features)\n",
        "                  ]\n",
        "\n",
        "        self.layers = nn.Sequential(*layers)\n",
        "\n",
        "    def forward(self, X: torch.Tensor):\n",
        "        return self.layers(X)\n",
        "\n",
        "\n",
        "class EnsembleModel(nn.Module):\n",
        "    \"\"\"\n",
        "    Global ensemble model that :\n",
        "    - takes batched input (batch, in_features)\n",
        "    - clones it k times (batch, k, in_features)\n",
        "    - passes it through a backbone (which model you want e.g TabM, MLPk, etc.) (batch, k, hidden_sizes[-1])\n",
        "    - passes the output through k prediction heads, mean over heads (batch, out_features)\n",
        "    \"\"\"\n",
        "\n",
        "    def __init__(self, backbone: nn.Module, in_features: int, hidden_sizes: int, out_features: int, k=32, dropout_rate=0.1, mean_over_heads=True):\n",
        "        super().__init__()\n",
        "\n",
        "        self.backbone = backbone(in_features, hidden_sizes, k, dropout_rate)\n",
        "        self.in_features = in_features\n",
        "        self.k = k\n",
        "\n",
        "        self.mean_over_heads = mean_over_heads\n",
        "\n",
        "        self.pred_heads = nn.ModuleList([nn.Linear(hidden_sizes[-1], out_features) for _ in range(k)])\n",
        "\n",
        "    def forward(self, X: torch.Tensor):\n",
        "        # clone X to shape (batch, k, dim)\n",
        "        X = X.unsqueeze(1).repeat(1, self.k, 1)\n",
        "\n",
        "        # pass through backbone\n",
        "        X = self.backbone(X)\n",
        "\n",
        "        # pass through prediction heads\n",
        "        preds = [head(X[:, i]) for i, head in enumerate(self.pred_heads)]\n",
        "\n",
        "        # concatenate head predictions\n",
        "        preds = torch.stack(preds, dim=1)\n",
        "\n",
        "        if self.mean_over_heads:\n",
        "            preds = preds.mean(dim=1)\n",
        "\n",
        "        return preds\n",
        "\n",
        "\n",
        "#============= ATTENTION MODEL ===============#\n",
        "class AttentionBlock(nn.Module):\n",
        "    def __init__(self, embed_dim, num_heads, dropout_rate=0.1):\n",
        "        \"\"\"\n",
        "        Initialize the AttentionBlock.\n",
        "\n",
        "        Args:\n",
        "            embed_dim (int): Dimensionality of the embedding space.\n",
        "            num_heads (int): Number of attention heads.\n",
        "            dropout_rate (float): Dropout rate for regularization.\n",
        "        \"\"\"\n",
        "        super().__init__()\n",
        "        self.self_attn = nn.MultiheadAttention(embed_dim, num_heads, dropout=dropout_rate)\n",
        "        self.norm1 = nn.LayerNorm(embed_dim)\n",
        "        self.dropout1 = nn.Dropout(dropout_rate)\n",
        "        self.ffn = nn.Sequential(\n",
        "            nn.Linear(embed_dim, embed_dim * 4),\n",
        "            nn.ReLU(),\n",
        "            nn.Linear(embed_dim * 4, embed_dim)\n",
        "        )\n",
        "        self.norm2 = nn.LayerNorm(embed_dim)\n",
        "        self.dropout2 = nn.Dropout(dropout_rate)\n",
        "\n",
        "    def forward(self, X):\n",
        "        \"\"\"\n",
        "        Forward pass for the AttentionBlock.\n",
        "\n",
        "        Args:\n",
        "            X (torch.Tensor): Input tensor of shape (seq_len, batch_size, embed_dim).\n",
        "\n",
        "        Returns:\n",
        "            torch.Tensor: Output tensor of shape (seq_len, batch_size, embed_dim).\n",
        "        \"\"\"\n",
        "        attn_output, _ = self.self_attn(X, X, X)\n",
        "        X = X + self.dropout1(attn_output)  # Add residual connections\n",
        "        X = self.norm1(X)\n",
        "\n",
        "        ffn_output = self.ffn(X)\n",
        "        X = X + self.dropout2(ffn_output)  # Add residual connections\n",
        "        X = self.norm2(X)\n",
        "        return X\n",
        "\n",
        "\n",
        "\n",
        "# Define the TabM model with Attention\n",
        "class TabMWithAttention(nn.Module):\n",
        "    def __init__(self, in_features, hidden_sizes, embed_dim, feature_names, output_dim=1, num_heads=4, k=32, dropout_rate=0.1, visualize=False):\n",
        "        \"\"\"\n",
        "        Initialize the TabMWithAttention model.\n",
        "\n",
        "        Args:\n",
        "            in_features (int): Number of input features.\n",
        "            hidden_sizes (list of int): Sizes of the hidden layers.\n",
        "            embed_dim (int): Dimensionality of the embedding space.\n",
        "            output_dim (int): Dimensionality of the output space. Default is 1.\n",
        "            num_heads (int): Number of attention heads. Default is 4.\n",
        "            k (int): Number of ensemble components for BatchEnsemble layers. Default is 32.\n",
        "            dropout_rate (float): Dropout rate for regularization. Default is 0.1.\n",
        "        \"\"\"\n",
        "        super().__init__()\n",
        "        self.k = k\n",
        "        self.feature_embedding = nn.Linear(in_features, embed_dim)\n",
        "        self.feature_names = feature_names\n",
        "        self.attention_weights = []\n",
        "\n",
        "        # Attention Blocks\n",
        "        self.attention_layers = nn.ModuleList([\n",
        "            self.make_attention_block(embed_dim, num_heads, dropout_rate)\n",
        "            for _ in range(len(hidden_sizes))\n",
        "        ])\n",
        "\n",
        "        # BatchEnsemble Layers\n",
        "        layer_sizes = [embed_dim] + hidden_sizes\n",
        "        self.tabm_layers = nn.Sequential(\n",
        "            *[linear_BE(layer_sizes[i], layer_sizes[i + 1], k, dropout_rate, initialize_to_1=True) for i in range(len(layer_sizes) - 1)]\n",
        "        )\n",
        "\n",
        "        self.output_layer = nn.Linear(hidden_sizes[-1], output_dim)  # Aggregate predictions for k outputs\n",
        "\n",
        "    def forward(self, X):\n",
        "        \"\"\"\n",
        "        Forward pass for the TabMWithAttention model.\n",
        "\n",
        "        Args:\n",
        "            X (torch.Tensor): Input tensor of shape (batch_size, num_features).\n",
        "\n",
        "        Returns:\n",
        "            torch.Tensor: Output tensor of shape (batch_size, 1).\n",
        "        \"\"\"\n",
        "        X = self.feature_embedding(X)  # in: (batch_size, num_features), out: (batch_size, embed_dim)\n",
        "        X = X.unsqueeze(1).transpose(0, 1)  # out: (seq_len, batch_size, embed_dim), assuming seq_len = 1 for each instance\n",
        "\n",
        "        # Attention Layers\n",
        "        for layer in self.attention_layers:\n",
        "            X = layer(X)  # Apply each layer in the ModuleList\n",
        "            # out: (seq_len, batch_size, embed_dim)\n",
        "\n",
        "        X = X.transpose(0, 1).mean(dim=1)  # Average over seq_len: (batch_size, embed_dim)\n",
        "        X = X.unsqueeze(1).repeat(1, self.k, 1)  # Reshape for TabM layers, out: (batch_size, k, embed_dim)\n",
        "\n",
        "        # TabM layers\n",
        "        X = self.tabm_layers(X)  # out: (batch_size, k, hidden_size[-1])\n",
        "        X = self.output_layer(X)  # out: (batch_size, k, 1)\n",
        "        X = X.mean(dim=1)  # Aggregate k outputs, out: (batch_size, 1)\n",
        "\n",
        "        return X\n",
        "\n",
        "\n",
        "    def make_attention_block(self, embed_dim, num_heads, dropout_rate):\n",
        "        \"\"\"Create an attention block with weight saving\"\"\"\n",
        "        block = AttentionBlock(embed_dim, num_heads, dropout_rate)\n",
        "        block.self_attn.register_forward_hook(\n",
        "            lambda module, input, output: self.attention_weights.append(output[1].detach())\n",
        "        )\n",
        "        return block\n",
        "\n",
        "    def get_feature_importance(self):\n",
        "        \"\"\"Compute feature importance from attention weights\"\"\"\n",
        "        if not self.attention_weights:\n",
        "            return None\n",
        "\n",
        "        # Check if all tensors have the same shape\n",
        "        first_shape = self.attention_weights[0].shape\n",
        "        if not all(t.shape == first_shape for t in self.attention_weights):\n",
        "            # If not, filter out tensors with different shapes\n",
        "            self.attention_weights = [t for t in self.attention_weights if t.shape == first_shape]\n",
        "\n",
        "            if not self.attention_weights:  # If all tensors were filtered out\n",
        "                return None\n",
        "\n",
        "        # Aggregate weights for same-sized tensors\n",
        "        aggregated_weights = torch.stack(self.attention_weights).mean(dim=0)\n",
        "\n",
        "        # Clip the indices to be within the bounds of feature_names\n",
        "        importance_scores = aggregated_weights.mean(dim=1).squeeze()\n",
        "\n",
        "        return importance_scores[:len(self.feature_names)] # added this line to clip\n",
        "\n",
        "\n",
        "class AttentionVisualizer:\n",
        "    def __init__(self, feature_names):\n",
        "        self.feature_names = feature_names\n",
        "        self.fig, self.ax = plt.subplots(figsize=(10, 6))\n",
        "\n",
        "    def update(self, model, epoch):\n",
        "        \"\"\"Update the visualization\"\"\"\n",
        "        self.ax.clear()\n",
        "\n",
        "        # Retrieve attention weights\n",
        "        attn_weights = model.get_feature_importance()\n",
        "\n",
        "        if attn_weights is not None:\n",
        "            # Sort features by importance\n",
        "            indices = attn_weights.argsort(descending=True).cpu().numpy()\n",
        "            values = attn_weights[indices].cpu().numpy()\n",
        "            names = [self.feature_names[i] for i in indices]\n",
        "\n",
        "            self.ax.barh(range(len(values)), values, tick_label=names)\n",
        "            self.ax.set_title(f\"Feature Importance (Epoch {epoch})\")\n",
        "            self.ax.set_xlabel(\"Attention Weight\")\n",
        "\n",
        "        display.clear_output(wait=True)\n",
        "        display.display(self.fig)\n",
        "        plt.close(self.fig)\n",
        "\n",
        "\n",
        "def compare_models(models, feature_names_dict):\n",
        "    fig, axs = plt.subplots(1, len(models), figsize=(15, 6))\n",
        "\n",
        "    for idx, (name, model) in enumerate(models.items()):\n",
        "\n",
        "        feature_names = feature_names_dict[name]\n",
        "\n",
        "        if hasattr(model, 'get_feature_importance'):\n",
        "            weights = model.get_feature_importance().cpu().numpy()\n",
        "        else:\n",
        "            # For models without attention mechanism, we use the weights of the first linear layer\n",
        "            weights = model.layers[0].linear.weight.abs().mean(dim=0).detach().cpu().numpy()\n",
        "\n",
        "        indices = weights.argsort()[::-1]\n",
        "\n",
        "        # Ensure indices are within the bounds of feature_names\n",
        "        num_features_to_display = min(len(feature_names), 50)  # Limit to 50 features or less\n",
        "        indices = indices[:num_features_to_display]\n",
        "\n",
        "        axs[idx].barh(range(num_features_to_display), weights[indices], tick_label=feature_names[indices])\n",
        "        axs[idx].set_title(name)\n",
        "\n",
        "    plt.tight_layout()\n",
        "    plt.show()\n",
        "\n",
        "\n",
        "\n",
        "#***************************************************** TRAINING ***************************************************************#\n",
        "def train_model_with_visualization(model, train_loader, test_loader, device, task_type, feature_names, num_epochs=25, visualize=False):\n",
        "    \"\"\"\n",
        "    Trains the model with visualization of attention weights if enabled.\n",
        "\n",
        "    Args:\n",
        "        model: PyTorch model to train.\n",
        "        train_loader: DataLoader for training.\n",
        "        test_loader: DataLoader for testing.\n",
        "        device: Device (CPU or GPU) for execution.\n",
        "        task_type: Type of task (\"binary\", \"multiclass\").\n",
        "        feature_names: Names of features for visualization.\n",
        "        num_epochs: Number of training epochs.\n",
        "        visualize: Boolean to enable or disable attention weights visualization.\n",
        "    \"\"\"\n",
        "    # Initialize the loss criterion\n",
        "    if task_type == \"binary\":\n",
        "        criterion = nn.BCEWithLogitsLoss()\n",
        "    elif task_type == \"multiclass\":\n",
        "        criterion = nn.CrossEntropyLoss()\n",
        "    elif task_type == \"regression\":\n",
        "        criterion = nn.MSELoss()\n",
        "\n",
        "    optimizer = torch.optim.Adam(model.parameters(), lr=1e-4)\n",
        "\n",
        "    # Initialize the visualizer if necessary\n",
        "    visualizer = None\n",
        "    if visualize and hasattr(model, 'get_feature_importance'):\n",
        "        visualizer = AttentionVisualizer(feature_names)\n",
        "\n",
        "    for epoch in range(num_epochs):\n",
        "        model.train()\n",
        "        running_loss = 0.0\n",
        "        correct = 0\n",
        "        total = 0\n",
        "\n",
        "        # Training phase\n",
        "        for inputs, labels in tqdm(train_loader, desc=f\"Epoch {epoch+1}/{num_epochs}\", unit=\"batch\"):\n",
        "            inputs, labels = inputs.to(device), labels.to(device)\n",
        "\n",
        "            if task_type == \"binary\":\n",
        "                labels = labels.float().unsqueeze(1)\n",
        "\n",
        "            optimizer.zero_grad()\n",
        "            outputs = model(inputs)\n",
        "            loss = criterion(outputs, labels)\n",
        "            loss.backward()\n",
        "            optimizer.step()\n",
        "\n",
        "            running_loss += loss.item()\n",
        "\n",
        "            # Calculate accuracy for classification tasks\n",
        "            if task_type == \"binary\":\n",
        "                preds = (torch.sigmoid(outputs) > 0.5).float()\n",
        "                correct += (preds == labels).sum().item()\n",
        "            elif task_type == \"multiclass\":\n",
        "                preds = torch.argmax(outputs, dim=1)\n",
        "                correct += (preds == labels).sum().item()\n",
        "            total += labels.size(0)\n",
        "\n",
        "        # Display training metrics\n",
        "        avg_loss = running_loss / len(train_loader)\n",
        "        accuracy = correct / total\n",
        "        print(f\"Epoch {epoch+1}/{num_epochs}, Loss: {avg_loss:.4f}, Accuracy: {accuracy:.4f}\")\n",
        "\n",
        "        # Visualization of attention weights (if enabled and supported by the model)\n",
        "        if visualizer and epoch % 5 == 0:\n",
        "            visualizer.update(model, epoch)\n",
        "\n",
        "        # Eval\n",
        "        model.eval()\n",
        "        test_loss = 0.0\n",
        "        test_correct = 0\n",
        "        test_total = 0\n",
        "\n",
        "        with torch.no_grad():\n",
        "            for inputs, labels in test_loader:\n",
        "                inputs, labels = inputs.to(device), labels.to(device)\n",
        "\n",
        "                if task_type == \"binary\":\n",
        "                    labels = labels.float().unsqueeze(1)\n",
        "\n",
        "                outputs = model(inputs)\n",
        "                loss = criterion(outputs, labels)\n",
        "                test_loss += loss.item()\n",
        "\n",
        "                if task_type == \"binary\":\n",
        "                    preds = (torch.sigmoid(outputs) > 0.5).float()\n",
        "                    test_correct += (preds == labels).sum().item()\n",
        "                elif task_type == \"multiclass\":\n",
        "                    preds = torch.argmax(outputs, dim=1)\n",
        "                    test_correct += (preds == labels).sum().item()\n",
        "                test_total += labels.size(0)\n",
        "\n",
        "        avg_test_loss = test_loss / len(test_loader)\n",
        "        test_accuracy = test_correct / test_total\n",
        "        print(f\"Test Loss: {avg_test_loss:.4f}, Test Accuracy: {test_accuracy:.4f}\")\n",
        "\n",
        "    return model\n",
        "\n",
        "def initialize_device():\n",
        "    \"\"\"\n",
        "    Initialize the device (CPU, GPU, or MPS)\n",
        "    \"\"\"\n",
        "    if torch.cuda.is_available():\n",
        "        device = torch.device(\"cuda\")\n",
        "    elif torch.backends.mps.is_available():\n",
        "        device = torch.device(\"mps\")\n",
        "    else:\n",
        "        device = torch.device(\"cpu\")\n",
        "\n",
        "    print(f\"Using device: {device}\")\n",
        "    return device\n",
        "\n",
        "\n",
        "#========== Dataset functions ==========#\n",
        "def get_breast_cancer_data(split=0.2, batch_size=32, seed=42):\n",
        "    \"\"\"\n",
        "    Loads the Breast Cancer dataset into dataloaders.\n",
        "    \"\"\"\n",
        "    data = load_breast_cancer()\n",
        "    X = data.data\n",
        "    y = data.target\n",
        "    feature_names = data.feature_names\n",
        "    scaler = StandardScaler()\n",
        "    X = scaler.fit_transform(X)\n",
        "    X_train, X_test, y_train, y_test = train_test_split(X, y, test_size=split, random_state=seed)\n",
        "    train_loader = DataLoader(TensorDataset(torch.tensor(X_train).float(), torch.tensor(y_train).long()), batch_size=batch_size, shuffle=True)\n",
        "    test_loader = DataLoader(TensorDataset(torch.tensor(X_test).float(), torch.tensor(y_test).long()), batch_size=batch_size, shuffle=False)\n",
        "    shape_x = X_train.shape[1]\n",
        "    shape_y = len(set(y))\n",
        "    return train_loader, test_loader, shape_x, shape_y, feature_names\n",
        "\n",
        "def get_adult_income_data(split=0.2, batch_size=32, seed=42):\n",
        "    \"\"\"\n",
        "    Loads the Adult Income dataset into dataloaders.\n",
        "    \"\"\"\n",
        "    data = pd.read_csv(\"adult.csv\")\n",
        "    X = data.drop(columns='income')\n",
        "    y = data['income']\n",
        "    X = pd.get_dummies(X)\n",
        "    feature_names= data.columns.tolist(); feature_names = np.array(feature_names)\n",
        "    le = LabelEncoder()\n",
        "    y = le.fit_transform(y)\n",
        "    scaler = StandardScaler()\n",
        "    X = scaler.fit_transform(X)\n",
        "    X_train, X_test, y_train, y_test = train_test_split(X, y, test_size=split, random_state=seed)\n",
        "    train_loader = DataLoader(TensorDataset(torch.tensor(X_train).float(), torch.tensor(y_train).long()), batch_size=batch_size, shuffle=True)\n",
        "    test_loader = DataLoader(TensorDataset(torch.tensor(X_test).float(), torch.tensor(y_test).long()), batch_size=batch_size, shuffle=False)\n",
        "    shape_x = X_train.shape[1]\n",
        "    shape_y = len(set(y))\n",
        "\n",
        "    return train_loader, test_loader, shape_x, shape_y, feature_names\n",
        "\n",
        "def get_california_housing_data(split=0.2, batch_size=32, seed=42):\n",
        "    \"\"\"\n",
        "    Loads the California Housing dataset into dataloaders.\n",
        "    \"\"\"\n",
        "    data = fetch_california_housing()\n",
        "    X = data.data\n",
        "    y = data.target\n",
        "    feature_names = data.feature_names ; feature_names = np.array(feature_names)\n",
        "    scaler = StandardScaler()\n",
        "    X = scaler.fit_transform(X)\n",
        "    X_train, X_test, y_train, y_test = train_test_split(X, y, test_size=split, random_state=seed)\n",
        "    train_loader = DataLoader(TensorDataset(torch.tensor(X_train).float(), torch.tensor(y_train).float()), batch_size=batch_size, shuffle=True)\n",
        "    test_loader = DataLoader(TensorDataset(torch.tensor(X_test).float(), torch.tensor(y_test).float()), batch_size=batch_size, shuffle=False)\n",
        "    shape_x = X_train.shape[1]\n",
        "    shape_y = 1  # Regression problem\n",
        "    return train_loader, test_loader, shape_x, shape_y, feature_names\n",
        "\n",
        "def get_iris_data(split=0.2, batch_size=32, seed=42):\n",
        "    \"\"\"\n",
        "    Loads the Iris dataset into dataloaders.\n",
        "    \"\"\"\n",
        "    data = load_iris()\n",
        "    X = data.data\n",
        "    y = data.target\n",
        "    feature_names = data.feature_names; feature_names = np.array(feature_names)\n",
        "    scaler = StandardScaler()\n",
        "    X = scaler.fit_transform(X)\n",
        "    X_train, X_test, y_train, y_test = train_test_split(X, y, test_size=split, random_state=seed)\n",
        "    train_loader = DataLoader(TensorDataset(torch.tensor(X_train).float(), torch.tensor(y_train).long()), batch_size=batch_size, shuffle=True)\n",
        "    test_loader = DataLoader(TensorDataset(torch.tensor(X_test).float(), torch.tensor(y_test).long()), batch_size=batch_size, shuffle=False)\n",
        "    shape_x = X_train.shape[1]\n",
        "    shape_y = len(set(y))\n",
        "    return train_loader, test_loader, shape_x, shape_y, feature_names\n",
        "\n",
        "\n",
        "def get_quality_wine_data(split=.2, batch_size=32, seed=42):\n",
        "    \"\"\"\n",
        "    Loads the Wine Quality dataset into dataloaders.\n",
        "    \"\"\"\n",
        "\n",
        "    wine_quality = fetch_ucirepo(id=186)\n",
        "\n",
        "    X = wine_quality.data.features\n",
        "    y = wine_quality.data.targets\n",
        "    feature_names = X.columns.tolist(); feature_names = np.array(feature_names)\n",
        "\n",
        "    # Normalize\n",
        "    X = (X - X.mean(axis=0)) / X.std(axis=0)\n",
        "\n",
        "    X_train, X_test, y_train, y_test = train_test_split(X, y, test_size=split, random_state=seed, stratify=y)\n",
        "\n",
        "    # Remap the labels to be in the range [0, num_classes - 1]\n",
        "    unique_labels = np.unique(y)\n",
        "    label_mapping = {label: i for i, label in enumerate(unique_labels)}\n",
        "\n",
        "    # Convert y_train and y_test to Series if they are DataFrames\n",
        "    if isinstance(y_train, pd.DataFrame):\n",
        "        y_train = y_train.squeeze()\n",
        "    if isinstance(y_test, pd.DataFrame):\n",
        "        y_test = y_test.squeeze()\n",
        "\n",
        "    y_train = y_train.map(label_mapping)\n",
        "    y_test = y_test.map(label_mapping)\n",
        "\n",
        "    # Dataloaders\n",
        "    train_loader = torch.utils.data.DataLoader(\n",
        "        torch.utils.data.TensorDataset(torch.tensor(X_train.to_numpy()).float(), torch.tensor(y_train.to_numpy()).long().squeeze()),\n",
        "        batch_size=batch_size, shuffle=True\n",
        "    )\n",
        "    test_loader = torch.utils.data.DataLoader(\n",
        "        torch.utils.data.TensorDataset(torch.tensor(X_test.to_numpy()).float(), torch.tensor(y_test.to_numpy()).long().squeeze()),\n",
        "        batch_size=batch_size, shuffle=False\n",
        "    )\n",
        "\n",
        "    shape_x = X_train.shape[1]\n",
        "    shape_y = len(np.unique(y))  # Number of classes\n",
        "\n",
        "    return train_loader, test_loader, shape_x, shape_y, feature_names\n",
        "\n",
        "\n",
        "\n",
        "#========== Main function ==========#\n",
        "\n",
        "if __name__ == \"__main__\":\n",
        "  BATCH_SIZE = 32\n",
        "  device = initialize_device()\n",
        "\n",
        "  # Load datasets and perform pruning and training for each\n",
        "  datasets = [\n",
        "        # format : dataset_name, loader_func, task_type, lr, nb_epochs,embed_dim, num_heads\n",
        "        (\"breast_cancer\", get_breast_cancer_data, \"binary\", 1e-4, 26, 24, 4),\n",
        "        # (\"adult_income\", get_adult_income_data, \"binary\", 1e-4, 20, 48, 6),\n",
        "        (\"california_housing\", get_california_housing_data, \"regression\", 1e-7, 12, 10, 1),\n",
        "        (\"iris\", get_iris_data, \"multiclass\", 1e-4, 85, 24, 4),\n",
        "        (\"wine_quality\", get_quality_wine_data, \"multiclass\", 1e-2, 45, 192, 16)\n",
        "    ]\n",
        "\n",
        "  for dataset_name, loader_func, task_type, lr, nb_epochs, embed_dim, num_heads in datasets:\n",
        "\n",
        "      print(f\"\\n\\n *** Processing {dataset_name} dataset...\")\n",
        "      train_loader, test_loader, shape_x, shape_y, feature_names = loader_func(split=0.2, batch_size=BATCH_SIZE, seed=42)\n",
        "\n",
        "      # Set hidden layers based on task type (multiclass, binary, regression)\n",
        "      if task_type == \"multiclass\":\n",
        "          layers = [64, 32, 16]\n",
        "          criterion = nn.CrossEntropyLoss()\n",
        "          out_features = shape_y\n",
        "      elif task_type == \"binary\":\n",
        "          layers = [64, 32]\n",
        "          criterion = nn.BCEWithLogitsLoss()\n",
        "          out_features = 1\n",
        "      else:\n",
        "          layers = [64, 32]\n",
        "          criterion = nn.MSELoss()\n",
        "          out_features = 1\n",
        "\n",
        "      # Compare models\n",
        "      input_dim = shape_x\n",
        "      hidden_sizes = layers\n",
        "      output_dim = out_features\n",
        "\n",
        "      # Define models\n",
        "      embed_dim = embed_dim\n",
        "      tabM_attention = TabMWithAttention(input_dim, hidden_sizes, embed_dim, feature_names, output_dim=output_dim, num_heads=num_heads, k=32, dropout_rate=0.3).to(device)\n",
        "      baseline_model = MLP(input_dim, hidden_sizes, output_dim, dropout_rate=0).to(device)\n",
        "\n",
        "      # Training\n",
        "      print(\"Training TabM with Attention...\")\n",
        "      trained_tabM_attention = train_model_with_visualization(tabM_attention, train_loader, test_loader, device, task_type, feature_names, num_epochs=nb_epochs, visualize=False) # set visualize=True if you want to visualize the progression of feature importance by epoch\n",
        "\n",
        "      print(\"Training Baseline MLP...\")\n",
        "      trained_baseline = train_model_with_visualization(baseline_model, train_loader, test_loader, device, task_type, feature_names, num_epochs=nb_epochs, visualize=False)\n",
        "\n",
        "\n",
        "      # Comparaison des modèles\n",
        "      models = {\n",
        "          \"TabM with Attention\": trained_tabM_attention,\n",
        "          \"Baseline MLP\": trained_baseline\n",
        "      }\n",
        "      feature_names_dict = {\n",
        "          \"TabM with Attention\": feature_names,\n",
        "          \"Baseline MLP\": feature_names\n",
        "      }\n",
        "      compare_models(models, feature_names_dict)\n",
        "\n"
      ]
    },
    {
      "cell_type": "code",
      "source": [],
      "metadata": {
        "id": "uly0CD9gQMjR"
      },
      "execution_count": null,
      "outputs": []
    }
  ]
}